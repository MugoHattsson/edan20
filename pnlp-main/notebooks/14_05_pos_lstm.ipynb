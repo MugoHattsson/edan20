{
 "cells": [
  {
   "cell_type": "markdown",
   "metadata": {},
   "source": [
    "# Chapter 14: Part-of-Speech and Sequence Annotation\n",
    "## Part-of-Speech Tagging using Recurrent Neural Networks (RNN and LSTM)\n",
    "\n",
    "A part-of-speech tagger using recurrent networks and GloVe embeddings and trained on a corpus following the Universal Dependencies format. Here we use the English Web Treebank:\n",
    "https://github.com/UniversalDependencies/UD_English-EWT/tree/master."
   ]
  },
  {
   "cell_type": "markdown",
   "metadata": {},
   "source": [
    "Programs from the book: [_Python for Natural Language Processing_](https://link.springer.com/book/9783031575488)\n",
    "\n",
    "__Author__: Pierre Nugues"
   ]
  },
  {
   "cell_type": "markdown",
   "metadata": {},
   "source": [
    "## Python Headers"
   ]
  },
  {
   "cell_type": "markdown",
   "metadata": {},
   "source": [
    "### The Modules"
   ]
  },
  {
   "cell_type": "code",
   "execution_count": 1,
   "metadata": {},
   "outputs": [],
   "source": [
    "import matplotlib.pyplot as plt\n",
    "from tqdm import tqdm\n",
    "import random\n",
    "\n",
    "import torch\n",
    "import torch.nn as nn\n",
    "import torch.nn.functional as F\n",
    "from torch.nn.utils.rnn import pad_sequence\n",
    "from torch.utils.data import TensorDataset, DataLoader\n",
    "\n",
    "import ud_datasets\n",
    "from conll_dictorizer import CoNLLDictorizer"
   ]
  },
  {
   "cell_type": "markdown",
   "metadata": {},
   "source": [
    "### Some Parameters"
   ]
  },
  {
   "cell_type": "code",
   "execution_count": 2,
   "metadata": {},
   "outputs": [],
   "source": [
    "BATCH_SIZE = 128\n",
    "EPOCHS = 3  # 10\n",
    "MINI_CORPUS = False\n",
    "LSTM_HIDDEN_DIM = 128\n",
    "LSTM_LAYERS = 2\n",
    "DROPOUT = 0.2\n",
    "EMB_LARGE = True  # GloVe 50 or 100\n",
    "FREEZE_EMBS = False\n",
    "LARGE_MEM = False\n",
    "LR = 0.005\n",
    "LOWERCASE = True"
   ]
  },
  {
   "cell_type": "code",
   "execution_count": 3,
   "metadata": {},
   "outputs": [],
   "source": [
    "config = {'EPOCHS': EPOCHS,\n",
    "          'LSTM_HIDDEN_DIM': LSTM_HIDDEN_DIM,\n",
    "          'LSTM_LAYERS': LSTM_LAYERS,\n",
    "          'DROPOUT': DROPOUT,\n",
    "          'EMB_LARGE': EMB_LARGE,\n",
    "          'FREEZE_EMBS': FREEZE_EMBS}"
   ]
  },
  {
   "cell_type": "code",
   "execution_count": 4,
   "metadata": {},
   "outputs": [
    {
     "data": {
      "text/plain": [
       "<torch._C.Generator at 0x11f66f910>"
      ]
     },
     "execution_count": 4,
     "metadata": {},
     "output_type": "execute_result"
    }
   ],
   "source": [
    "random.seed(1234)\n",
    "torch.manual_seed(1234)"
   ]
  },
  {
   "cell_type": "markdown",
   "metadata": {},
   "source": [
    "## Preprocessing"
   ]
  },
  {
   "cell_type": "markdown",
   "metadata": {},
   "source": [
    "### Loading the Embeddings"
   ]
  },
  {
   "cell_type": "code",
   "execution_count": 5,
   "metadata": {},
   "outputs": [],
   "source": [
    "PATH = '../datasets/embeddings/'"
   ]
  },
  {
   "cell_type": "markdown",
   "metadata": {},
   "source": [
    "### GloVe"
   ]
  },
  {
   "cell_type": "code",
   "execution_count": 6,
   "metadata": {},
   "outputs": [],
   "source": [
    "if EMB_LARGE:\n",
    "    embedding_file = PATH + 'glove.6B.100d.txt'\n",
    "    EMBEDDING_DIM = 100\n",
    "else:\n",
    "    embedding_file = PATH + 'glove.6B.50d.txt'\n",
    "    EMBEDDING_DIM = 50"
   ]
  },
  {
   "cell_type": "code",
   "execution_count": 7,
   "metadata": {},
   "outputs": [],
   "source": [
    "def read_embeddings(file: str) -> dict[str, torch.FloatTensor]:\n",
    "    \"\"\"\n",
    "    Return the embeddings in the from of a dictionary\n",
    "    :param file:\n",
    "    :return:\n",
    "    \"\"\"\n",
    "    embeddings = {}\n",
    "    with open(file) as glove:\n",
    "        for line in glove:\n",
    "            values = line.strip().split()\n",
    "            word = values[0]\n",
    "            vector = torch.FloatTensor(\n",
    "                list(map(float, values[1:])))\n",
    "            embeddings[word] = vector\n",
    "    return embeddings"
   ]
  },
  {
   "cell_type": "code",
   "execution_count": 8,
   "metadata": {},
   "outputs": [],
   "source": [
    "embeddings_dict = read_embeddings(embedding_file)"
   ]
  },
  {
   "cell_type": "code",
   "execution_count": 9,
   "metadata": {},
   "outputs": [
    {
     "data": {
      "text/plain": [
       "tensor([-0.6145,  0.8969,  0.5677,  0.3910, -0.2244,  0.4904,  0.1087,  0.2741,\n",
       "        -0.2383, -0.5215,  0.7355, -0.3265,  0.5130,  0.3241, -0.4671,  0.6805,\n",
       "        -0.2550, -0.0405, -0.5442, -1.0548, -0.4669,  0.2356,  0.3123, -0.3454,\n",
       "         0.1479, -0.5375, -0.4322, -0.4872, -0.5102, -0.9051, -0.1792, -0.0184,\n",
       "         0.0972, -0.3162,  0.7512,  0.9224, -0.4997,  0.1404, -0.2830, -0.9744,\n",
       "        -0.0094, -0.6294,  0.1471, -0.9438,  0.0075,  0.1857, -0.9917,  0.0728,\n",
       "        -0.1847, -0.5290,  0.3900, -0.4568, -0.2193,  1.3723, -0.2964, -2.2342,\n",
       "        -0.3667,  0.0499,  0.6342,  0.5328, -0.5396,  0.3140, -0.4470, -0.3839,\n",
       "         0.0667, -0.0217,  0.2056,  0.5946, -0.2489, -0.5279, -0.3761,  0.0771,\n",
       "         0.7522, -0.2647, -0.0587,  0.6754, -0.1656, -0.4928, -0.2633, -0.2121,\n",
       "         0.2432,  0.1701, -0.2926, -0.5009, -0.5664, -0.4038, -0.4845, -0.3254,\n",
       "         0.7529,  0.0050, -0.3212,  0.2890, -0.0424,  0.6386, -0.2033, -0.4678,\n",
       "        -0.1566,  0.2179,  1.4143,  0.4003])"
      ]
     },
     "execution_count": 9,
     "metadata": {},
     "output_type": "execute_result"
    }
   ],
   "source": [
    "embeddings_dict['table']"
   ]
  },
  {
   "cell_type": "markdown",
   "metadata": {},
   "source": [
    "### Loading the Corpus"
   ]
  },
  {
   "cell_type": "code",
   "execution_count": 10,
   "metadata": {},
   "outputs": [],
   "source": [
    "CORPUS = 'EWT'"
   ]
  },
  {
   "cell_type": "code",
   "execution_count": 11,
   "metadata": {},
   "outputs": [],
   "source": [
    "if CORPUS == 'EWT':\n",
    "    train_sentences, val_sentences, test_sentences, column_names = ud_datasets.load_ud_en_ewt()\n",
    "elif CORPUS == 'Talbanken':\n",
    "    train_sentences, val_sentences, test_sentences, column_names = ud_datasets.load_ud_sv_talbanken()\n",
    "elif CORPUS == 'GSD':\n",
    "    train_sentences, val_sentences, test_sentences, column_names = ud_datasets.load_ud_fr_gsd()"
   ]
  },
  {
   "cell_type": "code",
   "execution_count": 12,
   "metadata": {},
   "outputs": [
    {
     "data": {
      "text/plain": [
       "'# newdoc id = weblog-juancole.com_juancole_20051126063000_ENG_20051126_063000\\n# sent_id = weblog-jua'"
      ]
     },
     "execution_count": 12,
     "metadata": {},
     "output_type": "execute_result"
    }
   ],
   "source": [
    "train_sentences[:100]"
   ]
  },
  {
   "cell_type": "markdown",
   "metadata": {},
   "source": [
    "### Converting the Corpus in a Dictionary\n",
    "We follow the fit-transform pattern of sklearn"
   ]
  },
  {
   "cell_type": "code",
   "execution_count": 13,
   "metadata": {},
   "outputs": [],
   "source": [
    "conll_dict = CoNLLDictorizer(column_names)"
   ]
  },
  {
   "cell_type": "code",
   "execution_count": 14,
   "metadata": {},
   "outputs": [],
   "source": [
    "train_dict = conll_dict.transform(train_sentences)\n",
    "val_dict = conll_dict.transform(val_sentences)\n",
    "test_dict = conll_dict.transform(test_sentences)"
   ]
  },
  {
   "cell_type": "code",
   "execution_count": 15,
   "metadata": {},
   "outputs": [
    {
     "name": "stdout",
     "output_type": "stream",
     "text": [
      "First sentence, train: [{'ID': '1', 'FORM': 'Al', 'LEMMA': 'Al', 'UPOS': 'PROPN', 'XPOS': 'NNP', 'FEATS': 'Number=Sing', 'HEAD': '0:root', 'DEPREL': 'root', 'DEPS': 'SpaceAfter=No'}, {'ID': '2', 'FORM': '-', 'LEMMA': '-', 'UPOS': 'PUNCT', 'XPOS': 'HYPH', 'FEATS': '_', 'HEAD': '3:punct', 'DEPREL': 'punct', 'DEPS': 'SpaceAfter=No'}, {'ID': '3', 'FORM': 'Zaman', 'LEMMA': 'Zaman', 'UPOS': 'PROPN', 'XPOS': 'NNP', 'FEATS': 'Number=Sing', 'HEAD': '1:flat', 'DEPREL': 'flat', 'DEPS': '_'}, {'ID': '4', 'FORM': ':', 'LEMMA': ':', 'UPOS': 'PUNCT', 'XPOS': ':', 'FEATS': '_', 'HEAD': '7:punct', 'DEPREL': 'punct', 'DEPS': '_'}, {'ID': '5', 'FORM': 'American', 'LEMMA': 'American', 'UPOS': 'ADJ', 'XPOS': 'JJ', 'FEATS': 'Degree=Pos', 'HEAD': '6:amod', 'DEPREL': 'amod', 'DEPS': '_'}, {'ID': '6', 'FORM': 'forces', 'LEMMA': 'force', 'UPOS': 'NOUN', 'XPOS': 'NNS', 'FEATS': 'Number=Plur', 'HEAD': '7:nsubj', 'DEPREL': 'nsubj', 'DEPS': '_'}, {'ID': '7', 'FORM': 'killed', 'LEMMA': 'kill', 'UPOS': 'VERB', 'XPOS': 'VBD', 'FEATS': 'Mood=Ind|Number=Plur|Person=3|Tense=Past|VerbForm=Fin', 'HEAD': '1:parataxis', 'DEPREL': 'parataxis', 'DEPS': '_'}, {'ID': '8', 'FORM': 'Shaikh', 'LEMMA': 'Shaikh', 'UPOS': 'PROPN', 'XPOS': 'NNP', 'FEATS': 'Number=Sing', 'HEAD': '7:obj', 'DEPREL': 'obj', 'DEPS': '_'}, {'ID': '9', 'FORM': 'Abdullah', 'LEMMA': 'Abdullah', 'UPOS': 'PROPN', 'XPOS': 'NNP', 'FEATS': 'Number=Sing', 'HEAD': '8:flat', 'DEPREL': 'flat', 'DEPS': '_'}, {'ID': '10', 'FORM': 'al', 'LEMMA': 'al', 'UPOS': 'PROPN', 'XPOS': 'NNP', 'FEATS': 'Number=Sing', 'HEAD': '8:flat', 'DEPREL': 'flat', 'DEPS': 'SpaceAfter=No'}, {'ID': '11', 'FORM': '-', 'LEMMA': '-', 'UPOS': 'PUNCT', 'XPOS': 'HYPH', 'FEATS': '_', 'HEAD': '12:punct', 'DEPREL': 'punct', 'DEPS': 'SpaceAfter=No'}, {'ID': '12', 'FORM': 'Ani', 'LEMMA': 'Ani', 'UPOS': 'PROPN', 'XPOS': 'NNP', 'FEATS': 'Number=Sing', 'HEAD': '8:flat', 'DEPREL': 'flat', 'DEPS': 'SpaceAfter=No'}, {'ID': '13', 'FORM': ',', 'LEMMA': ',', 'UPOS': 'PUNCT', 'XPOS': ',', 'FEATS': '_', 'HEAD': '15:punct', 'DEPREL': 'punct', 'DEPS': '_'}, {'ID': '14', 'FORM': 'the', 'LEMMA': 'the', 'UPOS': 'DET', 'XPOS': 'DT', 'FEATS': 'Definite=Def|PronType=Art', 'HEAD': '15:det', 'DEPREL': 'det', 'DEPS': '_'}, {'ID': '15', 'FORM': 'preacher', 'LEMMA': 'preacher', 'UPOS': 'NOUN', 'XPOS': 'NN', 'FEATS': 'Number=Sing', 'HEAD': '8:appos', 'DEPREL': 'appos', 'DEPS': '_'}, {'ID': '16', 'FORM': 'at', 'LEMMA': 'at', 'UPOS': 'ADP', 'XPOS': 'IN', 'FEATS': '_', 'HEAD': '18:case', 'DEPREL': 'case', 'DEPS': '_'}, {'ID': '17', 'FORM': 'the', 'LEMMA': 'the', 'UPOS': 'DET', 'XPOS': 'DT', 'FEATS': 'Definite=Def|PronType=Art', 'HEAD': '18:det', 'DEPREL': 'det', 'DEPS': '_'}, {'ID': '18', 'FORM': 'mosque', 'LEMMA': 'mosque', 'UPOS': 'NOUN', 'XPOS': 'NN', 'FEATS': 'Number=Sing', 'HEAD': '15:nmod:at', 'DEPREL': 'nmod', 'DEPS': '_'}, {'ID': '19', 'FORM': 'in', 'LEMMA': 'in', 'UPOS': 'ADP', 'XPOS': 'IN', 'FEATS': '_', 'HEAD': '21:case', 'DEPREL': 'case', 'DEPS': '_'}, {'ID': '20', 'FORM': 'the', 'LEMMA': 'the', 'UPOS': 'DET', 'XPOS': 'DT', 'FEATS': 'Definite=Def|PronType=Art', 'HEAD': '21:det', 'DEPREL': 'det', 'DEPS': '_'}, {'ID': '21', 'FORM': 'town', 'LEMMA': 'town', 'UPOS': 'NOUN', 'XPOS': 'NN', 'FEATS': 'Number=Sing', 'HEAD': '18:nmod:in', 'DEPREL': 'nmod', 'DEPS': '_'}, {'ID': '22', 'FORM': 'of', 'LEMMA': 'of', 'UPOS': 'ADP', 'XPOS': 'IN', 'FEATS': '_', 'HEAD': '23:case', 'DEPREL': 'case', 'DEPS': '_'}, {'ID': '23', 'FORM': 'Qaim', 'LEMMA': 'Qaim', 'UPOS': 'PROPN', 'XPOS': 'NNP', 'FEATS': 'Number=Sing', 'HEAD': '21:nmod:of', 'DEPREL': 'nmod', 'DEPS': 'SpaceAfter=No'}, {'ID': '24', 'FORM': ',', 'LEMMA': ',', 'UPOS': 'PUNCT', 'XPOS': ',', 'FEATS': '_', 'HEAD': '28:punct', 'DEPREL': 'punct', 'DEPS': '_'}, {'ID': '25', 'FORM': 'near', 'LEMMA': 'near', 'UPOS': 'ADP', 'XPOS': 'IN', 'FEATS': '_', 'HEAD': '28:case', 'DEPREL': 'case', 'DEPS': '_'}, {'ID': '26', 'FORM': 'the', 'LEMMA': 'the', 'UPOS': 'DET', 'XPOS': 'DT', 'FEATS': 'Definite=Def|PronType=Art', 'HEAD': '28:det', 'DEPREL': 'det', 'DEPS': '_'}, {'ID': '27', 'FORM': 'Syrian', 'LEMMA': 'Syrian', 'UPOS': 'ADJ', 'XPOS': 'JJ', 'FEATS': 'Degree=Pos', 'HEAD': '28:amod', 'DEPREL': 'amod', 'DEPS': '_'}, {'ID': '28', 'FORM': 'border', 'LEMMA': 'border', 'UPOS': 'NOUN', 'XPOS': 'NN', 'FEATS': 'Number=Sing', 'HEAD': '21:nmod:near', 'DEPREL': 'nmod', 'DEPS': 'SpaceAfter=No'}, {'ID': '29', 'FORM': '.', 'LEMMA': '.', 'UPOS': 'PUNCT', 'XPOS': '.', 'FEATS': '_', 'HEAD': '1:punct', 'DEPREL': 'punct', 'DEPS': '_'}]\n"
     ]
    }
   ],
   "source": [
    "if MINI_CORPUS:\n",
    "    train_dict = train_dict[:len(train_dict) // 5]\n",
    "print('First sentence, train:', train_dict[0])"
   ]
  },
  {
   "cell_type": "markdown",
   "metadata": {},
   "source": [
    "### Function to build the two-way sequences\n",
    "Two vectors: $\\mathbf{x}$ and $\\mathbf{y}$"
   ]
  },
  {
   "cell_type": "code",
   "execution_count": 16,
   "metadata": {},
   "outputs": [],
   "source": [
    "def extract_cols(sent_dict, x='FORM', y='UPOS'):\n",
    "    (input, target) = ([], [])\n",
    "    for word in sent_dict:\n",
    "        input += [word[x]]\n",
    "        target += [word.get(y, None)]\n",
    "    return input, target"
   ]
  },
  {
   "cell_type": "code",
   "execution_count": 17,
   "metadata": {},
   "outputs": [],
   "source": [
    "train_cols = [extract_cols(sent_dict)\n",
    "              for sent_dict in train_dict]\n",
    "val_cols = [extract_cols(sent_dict)\n",
    "            for sent_dict in val_dict]\n",
    "test_cols = [extract_cols(sent_dict)\n",
    "             for sent_dict in test_dict]"
   ]
  },
  {
   "cell_type": "code",
   "execution_count": 18,
   "metadata": {},
   "outputs": [],
   "source": [
    "train_sent_words, train_sent_pos = zip(*train_cols)\n",
    "val_sent_words, val_sent_pos = zip(*val_cols)\n",
    "test_sent_words, test_sent_pos = zip(*test_cols)"
   ]
  },
  {
   "cell_type": "markdown",
   "metadata": {},
   "source": [
    "We set the words in lowercase"
   ]
  },
  {
   "cell_type": "code",
   "execution_count": 19,
   "metadata": {},
   "outputs": [],
   "source": [
    "if LOWERCASE:\n",
    "    train_sent_words = [list(map(str.lower, sent_words))\n",
    "                        for sent_words in train_sent_words]\n",
    "    val_sent_words = [list(map(str.lower, sent_words))\n",
    "                      for sent_words in val_sent_words]\n",
    "    test_sent_words = [list(map(str.lower, sent_words))\n",
    "                       for sent_words in test_sent_words]"
   ]
  },
  {
   "cell_type": "code",
   "execution_count": 20,
   "metadata": {},
   "outputs": [
    {
     "data": {
      "text/plain": [
       "['or', 'you', 'can', 'visit', 'temples', 'or', 'shrines', 'in', 'okinawa', '.']"
      ]
     },
     "execution_count": 20,
     "metadata": {},
     "output_type": "execute_result"
    }
   ],
   "source": [
    "train_sent_words[8131]"
   ]
  },
  {
   "cell_type": "code",
   "execution_count": 21,
   "metadata": {},
   "outputs": [
    {
     "data": {
      "text/plain": [
       "['CCONJ',\n",
       " 'PRON',\n",
       " 'AUX',\n",
       " 'VERB',\n",
       " 'NOUN',\n",
       " 'CCONJ',\n",
       " 'NOUN',\n",
       " 'ADP',\n",
       " 'PROPN',\n",
       " 'PUNCT']"
      ]
     },
     "execution_count": 21,
     "metadata": {},
     "output_type": "execute_result"
    }
   ],
   "source": [
    "train_sent_pos[8131]"
   ]
  },
  {
   "cell_type": "markdown",
   "metadata": {},
   "source": [
    "### Extracting the Unique Words and Parts of Speech"
   ]
  },
  {
   "cell_type": "code",
   "execution_count": 22,
   "metadata": {},
   "outputs": [],
   "source": [
    "corpus_words = sorted(set([word\n",
    "                           for sentence in train_sent_words\n",
    "                           for word in sentence]))"
   ]
  },
  {
   "cell_type": "code",
   "execution_count": 23,
   "metadata": {},
   "outputs": [],
   "source": [
    "pos_list = sorted(set([pos\n",
    "                  for sentence in train_sent_pos\n",
    "                  for pos in sentence]))"
   ]
  },
  {
   "cell_type": "code",
   "execution_count": 24,
   "metadata": {},
   "outputs": [
    {
     "data": {
      "text/plain": [
       "['ADJ',\n",
       " 'ADP',\n",
       " 'ADV',\n",
       " 'AUX',\n",
       " 'CCONJ',\n",
       " 'DET',\n",
       " 'INTJ',\n",
       " 'NOUN',\n",
       " 'NUM',\n",
       " 'PART',\n",
       " 'PRON',\n",
       " 'PROPN',\n",
       " 'PUNCT',\n",
       " 'SCONJ',\n",
       " 'SYM',\n",
       " 'VERB',\n",
       " 'X',\n",
       " '_']"
      ]
     },
     "execution_count": 24,
     "metadata": {},
     "output_type": "execute_result"
    }
   ],
   "source": [
    "pos_list"
   ]
  },
  {
   "cell_type": "code",
   "execution_count": 25,
   "metadata": {},
   "outputs": [],
   "source": [
    "NB_CLASSES = len(pos_list)"
   ]
  },
  {
   "cell_type": "markdown",
   "metadata": {},
   "source": [
    "### We create the dictionary\n",
    "We add two words for the padding symbol and unknown words"
   ]
  },
  {
   "cell_type": "code",
   "execution_count": 26,
   "metadata": {},
   "outputs": [
    {
     "name": "stdout",
     "output_type": "stream",
     "text": [
      "Words in GloVe: 400000\n",
      "# unique words in the vocabulary: embeddings and corpus: 402011\n"
     ]
    }
   ],
   "source": [
    "embeddings_words = embeddings_dict.keys()\n",
    "print('Words in GloVe:',  len(embeddings_dict.keys()))\n",
    "vocabulary = sorted(list(set(corpus_words +\n",
    "                             list(embeddings_words))))\n",
    "cnt_uniq = len(vocabulary) + 2\n",
    "print('# unique words in the vocabulary: embeddings and corpus:',\n",
    "      cnt_uniq)"
   ]
  },
  {
   "cell_type": "markdown",
   "metadata": {},
   "source": [
    "### Function to convert the words or parts of speech to indices"
   ]
  },
  {
   "cell_type": "code",
   "execution_count": 27,
   "metadata": {},
   "outputs": [
    {
     "name": "stdout",
     "output_type": "stream",
     "text": [
      "word index: [('!', 2), ('!!', 3), ('!!!', 4), ('!!!!', 5), ('!!!!!', 6), ('!!!!!!', 7), ('!!!!!!!', 8), ('!!!!!!!!!!', 9), ('!!!!!!!!!!!', 10), ('!!!!!!!!!!!!', 11)]\n",
      "POS index: [('ADJ', 1), ('ADP', 2), ('ADV', 3), ('AUX', 4), ('CCONJ', 5), ('DET', 6), ('INTJ', 7), ('NOUN', 8), ('NUM', 9), ('PART', 10)]\n"
     ]
    }
   ],
   "source": [
    "# We start at one to make provision for the padding symbol 0\n",
    "# in RNN and LSTMs and 1 for the unknown words\n",
    "idx2word = dict(enumerate(vocabulary, start=2))\n",
    "idx2pos = dict(enumerate(pos_list, start=1))\n",
    "word2idx = {v: k for k, v in idx2word.items()}\n",
    "pos2idx = {v: k for k, v in idx2pos.items()}\n",
    "print('word index:', list(word2idx.items())[:10])\n",
    "print('POS index:', list(pos2idx.items())[:10])"
   ]
  },
  {
   "cell_type": "code",
   "execution_count": 28,
   "metadata": {},
   "outputs": [],
   "source": [
    "def to_index(X: list[list[str]],\n",
    "             word2idx: dict[str, int],\n",
    "             unk: int = 1) -> torch.LongTensor:\n",
    "    \"\"\"\n",
    "    Convert the word lists (or POS lists) to indexes\n",
    "    :param X: List of word (or POS) lists\n",
    "    :param idx: word to idx dictionary\n",
    "    :return:\n",
    "    \"\"\"\n",
    "    X_idx = []\n",
    "    for x in X:\n",
    "        # We map the unknown words to one\n",
    "        x_idx = torch.LongTensor(\n",
    "            list(map(lambda x:\n",
    "                     word2idx.get(x, unk), x)))\n",
    "        X_idx += [x_idx]\n",
    "    return X_idx"
   ]
  },
  {
   "cell_type": "markdown",
   "metadata": {},
   "source": [
    "### We create the indexes"
   ]
  },
  {
   "cell_type": "code",
   "execution_count": 29,
   "metadata": {},
   "outputs": [
    {
     "name": "stdout",
     "output_type": "stream",
     "text": [
      "First sentences, word indices [tensor([ 50470,    655, 397776,  43353,  54057, 152357, 208703, 328596,  44671,\n",
      "         50470,    655,  56044,    491, 359087, 292648,  62657, 359087, 251779,\n",
      "        189667, 359087, 364968, 269520, 298021,    491, 259601, 359087, 352115,\n",
      "         81542,    925]), tensor([ 43477, 359991, 208726, 269520,  43521, 308149, 103362, 389638,  71696,\n",
      "         94742, 375911, 367780, 152285, 395327, 362757, 106352,    925,  43479]), tensor([129560,  43353, 193786,  64120,  56459, 359030, 359635, 171707,  88398,\n",
      "        375205,  22156, 358190,  95699, 272102, 189667,  66894,    925])]\n",
      "First sentences, POS indices [tensor([12, 13, 12, 13,  1,  8, 16, 12, 12, 12, 13, 12, 13,  6,  8,  2,  6,  8,\n",
      "         2,  6,  8,  2, 12, 13,  2,  6,  1,  8, 13]), tensor([13,  6,  8,  2,  6,  1,  8,  4,  4, 16, 11,  8,  2,  8, 10, 16, 13, 13]), tensor([12, 13,  1,  8, 16, 14, 11,  4, 16,  2,  9,  1,  8, 16,  2, 12, 13])]\n"
     ]
    }
   ],
   "source": [
    "# We create the parallel sequences of indexes\n",
    "X_train_idx = to_index(train_sent_words, word2idx)\n",
    "Y_train_idx = to_index(train_sent_pos, pos2idx)\n",
    "\n",
    "X_val_idx = to_index(val_sent_words, word2idx)\n",
    "Y_val_idx = to_index(val_sent_pos, pos2idx)\n",
    "\n",
    "X_test_idx = to_index(test_sent_words, word2idx)\n",
    "Y_test_idx = to_index(test_sent_pos, pos2idx)\n",
    "\n",
    "print('First sentences, word indices', X_train_idx[:3])\n",
    "print('First sentences, POS indices', Y_train_idx[:3])"
   ]
  },
  {
   "cell_type": "markdown",
   "metadata": {},
   "source": [
    "### We pad the sentences\n",
    "We keep the traditional order to avoid changing the dataloader"
   ]
  },
  {
   "cell_type": "code",
   "execution_count": 30,
   "metadata": {},
   "outputs": [],
   "source": [
    "X_train = pad_sequence(X_train_idx, batch_first=True)\n",
    "Y_train = pad_sequence(Y_train_idx, batch_first=True)\n",
    "\n",
    "X_val = pad_sequence(X_val_idx, batch_first=True)\n",
    "Y_val = pad_sequence(Y_val_idx, batch_first=True)\n",
    "\n",
    "X_test = pad_sequence(X_test_idx, batch_first=True)\n",
    "Y_test = pad_sequence(Y_test_idx, batch_first=True)"
   ]
  },
  {
   "cell_type": "code",
   "execution_count": 31,
   "metadata": {},
   "outputs": [
    {
     "data": {
      "text/plain": [
       "tensor([[12, 13, 12,  ...,  0,  0,  0],\n",
       "        [13,  6,  8,  ...,  0,  0,  0],\n",
       "        [12, 13,  1,  ...,  0,  0,  0],\n",
       "        ...,\n",
       "        [ 3, 11,  4,  ...,  0,  0,  0],\n",
       "        [ 6,  8,  2,  ...,  0,  0,  0],\n",
       "        [11,  4,  3,  ...,  0,  0,  0]])"
      ]
     },
     "execution_count": 31,
     "metadata": {},
     "output_type": "execute_result"
    }
   ],
   "source": [
    "Y_train"
   ]
  },
  {
   "cell_type": "code",
   "execution_count": 32,
   "metadata": {},
   "outputs": [
    {
     "data": {
      "text/plain": [
       "[tensor([272459, 396470,  91221, 381705, 357368, 272459, 331885, 189667, 270325,\n",
       "            925]),\n",
       " tensor([387146, 149841, 396470,  91221, 368115, 340721, 196974,    925]),\n",
       " tensor([164208, 362757,  43521, 349110, 364861,    925])]"
      ]
     },
     "execution_count": 32,
     "metadata": {},
     "output_type": "execute_result"
    }
   ],
   "source": [
    "X_train_idx[8131:8134]"
   ]
  },
  {
   "cell_type": "code",
   "execution_count": 33,
   "metadata": {},
   "outputs": [
    {
     "data": {
      "text/plain": [
       "tensor([[272459, 396470,  91221, 381705, 357368, 272459, 331885, 189667, 270325,\n",
       "            925],\n",
       "        [387146, 149841, 396470,  91221, 368115, 340721, 196974,    925,      0,\n",
       "              0],\n",
       "        [164208, 362757,  43521, 349110, 364861,    925,      0,      0,      0,\n",
       "              0]])"
      ]
     },
     "execution_count": 33,
     "metadata": {},
     "output_type": "execute_result"
    }
   ],
   "source": [
    "pad_sequence(X_train_idx[8131:8134], batch_first=True)"
   ]
  },
  {
   "cell_type": "code",
   "execution_count": 34,
   "metadata": {},
   "outputs": [
    {
     "data": {
      "text/plain": [
       "tensor([[272459, 387146, 164208],\n",
       "        [396470, 149841, 362757],\n",
       "        [ 91221, 396470,  43521],\n",
       "        [381705,  91221, 349110],\n",
       "        [357368, 368115, 364861],\n",
       "        [272459, 340721,    925],\n",
       "        [331885, 196974,      0],\n",
       "        [189667,    925,      0],\n",
       "        [270325,      0,      0],\n",
       "        [   925,      0,      0]])"
      ]
     },
     "execution_count": 34,
     "metadata": {},
     "output_type": "execute_result"
    }
   ],
   "source": [
    "pad_sequence(X_train_idx[8131:8134])"
   ]
  },
  {
   "cell_type": "markdown",
   "metadata": {},
   "source": [
    "### We create an embedding matrix\n",
    "0 is the padding symbol and index one is a unknown word"
   ]
  },
  {
   "cell_type": "code",
   "execution_count": 35,
   "metadata": {},
   "outputs": [],
   "source": [
    "embedding_table = torch.randn(\n",
    "    (len(vocabulary) + 2, EMBEDDING_DIM))/10"
   ]
  },
  {
   "cell_type": "code",
   "execution_count": 36,
   "metadata": {},
   "outputs": [],
   "source": [
    "for word in vocabulary:\n",
    "    if word in embeddings_dict:\n",
    "        # If the words are in the embeddings, we fill them with a value\n",
    "        embedding_table[word2idx[word]] = embeddings_dict[word]"
   ]
  },
  {
   "cell_type": "code",
   "execution_count": 37,
   "metadata": {},
   "outputs": [
    {
     "data": {
      "text/plain": [
       "torch.Size([402011, 100])"
      ]
     },
     "execution_count": 37,
     "metadata": {},
     "output_type": "execute_result"
    }
   ],
   "source": [
    "embedding_table.size()"
   ]
  },
  {
   "cell_type": "markdown",
   "metadata": {},
   "source": [
    "Embedding of table"
   ]
  },
  {
   "cell_type": "code",
   "execution_count": 38,
   "metadata": {},
   "outputs": [
    {
     "data": {
      "text/plain": [
       "tensor([-0.6145,  0.8969,  0.5677,  0.3910, -0.2244,  0.4904,  0.1087,  0.2741,\n",
       "        -0.2383, -0.5215,  0.7355, -0.3265,  0.5130,  0.3241, -0.4671,  0.6805,\n",
       "        -0.2550, -0.0405, -0.5442, -1.0548, -0.4669,  0.2356,  0.3123, -0.3454,\n",
       "         0.1479, -0.5375, -0.4322, -0.4872, -0.5102, -0.9051, -0.1792, -0.0184,\n",
       "         0.0972, -0.3162,  0.7512,  0.9224, -0.4997,  0.1404, -0.2830, -0.9744,\n",
       "        -0.0094, -0.6294,  0.1471, -0.9438,  0.0075,  0.1857, -0.9917,  0.0728,\n",
       "        -0.1847, -0.5290,  0.3900, -0.4568, -0.2193,  1.3723, -0.2964, -2.2342,\n",
       "        -0.3667,  0.0499,  0.6342,  0.5328, -0.5396,  0.3140, -0.4470, -0.3839,\n",
       "         0.0667, -0.0217,  0.2056,  0.5946, -0.2489, -0.5279, -0.3761,  0.0771,\n",
       "         0.7522, -0.2647, -0.0587,  0.6754, -0.1656, -0.4928, -0.2633, -0.2121,\n",
       "         0.2432,  0.1701, -0.2926, -0.5009, -0.5664, -0.4038, -0.4845, -0.3254,\n",
       "         0.7529,  0.0050, -0.3212,  0.2890, -0.0424,  0.6386, -0.2033, -0.4678,\n",
       "        -0.1566,  0.2179,  1.4143,  0.4003])"
      ]
     },
     "execution_count": 38,
     "metadata": {},
     "output_type": "execute_result"
    }
   ],
   "source": [
    "embedding_table[word2idx['table']]"
   ]
  },
  {
   "cell_type": "markdown",
   "metadata": {},
   "source": [
    "Embedding of the padding symbol, idx 0, random numbers"
   ]
  },
  {
   "cell_type": "code",
   "execution_count": 39,
   "metadata": {},
   "outputs": [
    {
     "data": {
      "text/plain": [
       "tensor([-0.0112, -0.0497,  0.0163, -0.0882,  0.0054,  0.0668, -0.0060, -0.0467,\n",
       "        -0.0215,  0.0884, -0.0758, -0.0369, -0.0342, -0.1402,  0.0321, -0.1022,\n",
       "         0.0799, -0.0092, -0.0705, -0.1602,  0.0289,  0.0490, -0.0385, -0.0712,\n",
       "        -0.0171, -0.1459,  0.0221,  0.0246, -0.1325,  0.0697, -0.0663,  0.1216,\n",
       "        -0.1495,  0.0881, -0.1179, -0.0934, -0.0568, -0.0277, -0.2183,  0.0367,\n",
       "         0.0938,  0.0008, -0.0314, -0.1157,  0.1841, -0.1017,  0.1219,  0.0160,\n",
       "         0.1598, -0.0047, -0.1527, -0.2014, -0.1517,  0.0388, -0.1185,  0.0690,\n",
       "         0.1323,  0.1817,  0.0681,  0.0724,  0.0032, -0.1659, -0.1877,  0.0737,\n",
       "         0.0926,  0.0925,  0.0183, -0.0074,  0.0315, -0.1037,  0.0210,  0.0614,\n",
       "         0.0063, -0.0330, -0.1797,  0.0873,  0.0767, -0.0114, -0.0943,  0.0754,\n",
       "         0.0141, -0.0694, -0.0616, -0.0730,  0.0431,  0.0286, -0.0248,  0.0204,\n",
       "         0.0852, -0.1410, -0.0107, -0.0802,  0.0277,  0.2560, -0.1695,  0.0189,\n",
       "         0.0739,  0.1590, -0.0195, -0.0241])"
      ]
     },
     "execution_count": 39,
     "metadata": {},
     "output_type": "execute_result"
    }
   ],
   "source": [
    "embedding_table[0]"
   ]
  },
  {
   "cell_type": "markdown",
   "metadata": {},
   "source": [
    "## The Network"
   ]
  },
  {
   "cell_type": "code",
   "execution_count": 40,
   "metadata": {},
   "outputs": [],
   "source": [
    "class Model(nn.Module):\n",
    "\n",
    "    def __init__(self, embedding_table, hidden_size,\n",
    "                 nbr_classes, freeze_embs=True,\n",
    "                 num_layers=1, bidirectional=False):\n",
    "        super().__init__()\n",
    "        embedding_dim = embedding_table.size(dim=-1)\n",
    "        self.embeddings = nn.Embedding.from_pretrained(\n",
    "            embedding_table,\n",
    "            freeze=freeze_embs,\n",
    "            padding_idx=0)\n",
    "        # self.dropout = nn.Dropout(DROPOUT)\n",
    "        self.recurrent = nn.LSTM(embedding_dim,\n",
    "                                 hidden_size,\n",
    "                                 batch_first=True,\n",
    "                                 num_layers=num_layers,\n",
    "                                 dropout=DROPOUT,\n",
    "                                 bidirectional=bidirectional)\n",
    "        if not bidirectional:\n",
    "            self.fc = nn.Linear(hidden_size, nbr_classes)\n",
    "        else:\n",
    "            # twice the units if bidirectional\n",
    "            self.fc = nn.Linear(2*hidden_size, nbr_classes)\n",
    "\n",
    "    def forward(self, sentence):\n",
    "        embeds = self.embeddings(sentence)\n",
    "        # embeds = self.dropout(embeds)\n",
    "        rec_out, _ = self.recurrent(embeds)\n",
    "        # rec_out = F.relu(rec_out)\n",
    "        # rec_out = self.dropout(rec_out)\n",
    "        logits = self.fc(rec_out)\n",
    "        return logits"
   ]
  },
  {
   "cell_type": "code",
   "execution_count": 41,
   "metadata": {},
   "outputs": [],
   "source": [
    "model = Model(embedding_table,\n",
    "              LSTM_HIDDEN_DIM,\n",
    "              NB_CLASSES + 1,\n",
    "              freeze_embs=FREEZE_EMBS,\n",
    "              num_layers=LSTM_LAYERS,\n",
    "              bidirectional=True)"
   ]
  },
  {
   "cell_type": "code",
   "execution_count": 42,
   "metadata": {},
   "outputs": [
    {
     "data": {
      "text/plain": [
       "Model(\n",
       "  (embeddings): Embedding(402011, 100, padding_idx=0)\n",
       "  (recurrent): LSTM(100, 128, num_layers=2, batch_first=True, dropout=0.2, bidirectional=True)\n",
       "  (fc): Linear(in_features=256, out_features=19, bias=True)\n",
       ")"
      ]
     },
     "execution_count": 42,
     "metadata": {},
     "output_type": "execute_result"
    }
   ],
   "source": [
    "model"
   ]
  },
  {
   "cell_type": "code",
   "execution_count": 43,
   "metadata": {},
   "outputs": [],
   "source": [
    "loss_fn = nn.CrossEntropyLoss(ignore_index=0)    # cross entropy loss\n",
    "optimizer = torch.optim.NAdam(model.parameters(), lr=LR)"
   ]
  },
  {
   "cell_type": "markdown",
   "metadata": {},
   "source": [
    "## Data Loaders"
   ]
  },
  {
   "cell_type": "code",
   "execution_count": 44,
   "metadata": {},
   "outputs": [],
   "source": [
    "train_dataset = TensorDataset(X_train, Y_train)\n",
    "train_dataloader = DataLoader(\n",
    "    train_dataset, batch_size=BATCH_SIZE, shuffle=True)\n",
    "\n",
    "val_dataset = TensorDataset(X_val, Y_val)\n",
    "val_dataloader = DataLoader(\n",
    "    val_dataset, batch_size=2048, shuffle=False)\n",
    "\n",
    "test_dataset = TensorDataset(X_test, Y_test)\n",
    "test_dataloader = DataLoader(\n",
    "    test_dataset, batch_size=2048, shuffle=False)"
   ]
  },
  {
   "cell_type": "code",
   "execution_count": 45,
   "metadata": {},
   "outputs": [],
   "source": [
    "def batch_inference(model, dataloader):\n",
    "    with torch.no_grad():\n",
    "        y_pred = []\n",
    "        for X_batch, _ in dataloader:\n",
    "            y_pred += [model(X_batch)]\n",
    "    return torch.vstack(y_pred)"
   ]
  },
  {
   "cell_type": "code",
   "execution_count": 46,
   "metadata": {},
   "outputs": [],
   "source": [
    "def evaluate(model,\n",
    "             loss_fn,\n",
    "             dataloader) -> tuple[float, float]:\n",
    "    model.eval()\n",
    "    with torch.no_grad():\n",
    "        loss = 0\n",
    "        accuracy = 0\n",
    "        t_words = 0\n",
    "        for X_batch, Y_batch in dataloader:\n",
    "            Y_batch_pred = model(X_batch)\n",
    "            loss = loss_fn(\n",
    "                Y_batch_pred.reshape(\n",
    "                    -1,\n",
    "                    Y_batch_pred.size(dim=-1)),\n",
    "                Y_batch.reshape(-1))\n",
    "\n",
    "            n_words = torch.sum(Y_batch > 0).item()\n",
    "            t_words += n_words\n",
    "            loss += n_words * loss.item()\n",
    "            accuracy += torch.mul(\n",
    "                torch.argmax(Y_batch_pred, dim=-1) == Y_batch,\n",
    "                Y_batch > 0).sum().item()\n",
    "        return loss/t_words, accuracy/t_words"
   ]
  },
  {
   "cell_type": "markdown",
   "metadata": {},
   "source": [
    "## Fitting the Model"
   ]
  },
  {
   "cell_type": "code",
   "execution_count": 47,
   "metadata": {},
   "outputs": [],
   "source": [
    "history = {}\n",
    "history['accuracy'] = []\n",
    "history['loss'] = []\n",
    "history['val_accuracy'] = []\n",
    "history['val_loss'] = []"
   ]
  },
  {
   "cell_type": "code",
   "execution_count": 48,
   "metadata": {},
   "outputs": [
    {
     "name": "stderr",
     "output_type": "stream",
     "text": [
      "100%|██████████| 98/98 [00:50<00:00,  1.94it/s]\n",
      "100%|██████████| 98/98 [00:48<00:00,  2.04it/s]\n",
      "100%|██████████| 98/98 [00:48<00:00,  2.03it/s]\n"
     ]
    }
   ],
   "source": [
    "for epoch in range(EPOCHS):\n",
    "    train_loss = 0\n",
    "    train_accuracy = 0\n",
    "    t_words = 0\n",
    "    model.train()\n",
    "    for X_batch, Y_batch in tqdm(train_dataloader):\n",
    "        Y_batch_pred = model(X_batch)\n",
    "        loss = loss_fn(\n",
    "            Y_batch_pred.reshape(\n",
    "                -1,\n",
    "                Y_batch_pred.size(dim=-1)),\n",
    "            Y_batch.reshape(-1))\n",
    "        optimizer.zero_grad()\n",
    "        loss.backward()\n",
    "        optimizer.step()\n",
    "        with torch.no_grad():\n",
    "            n_words = torch.sum(Y_batch > 0).item()\n",
    "            t_words += n_words\n",
    "            train_loss += n_words * loss.item()\n",
    "            train_accuracy += torch.mul(\n",
    "                torch.argmax(\n",
    "                    Y_batch_pred, dim=-1) == Y_batch,\n",
    "                Y_batch > 0).sum().item()\n",
    "\n",
    "    model.eval()\n",
    "    with torch.no_grad():\n",
    "        history['accuracy'] += [\n",
    "            train_accuracy/t_words]\n",
    "        history['loss'] += [train_loss/t_words]\n",
    "        val_loss, val_acc = evaluate(model,\n",
    "                                     loss_fn,\n",
    "                                     val_dataloader)\n",
    "        history['val_loss'] += [val_loss]\n",
    "        history['val_accuracy'] += [val_acc]"
   ]
  },
  {
   "cell_type": "code",
   "execution_count": 49,
   "metadata": {},
   "outputs": [
    {
     "data": {
      "text/plain": [
       "[0.9270931326434619, 0.9360301034807149, 0.9399106302916275]"
      ]
     },
     "execution_count": 49,
     "metadata": {},
     "output_type": "execute_result"
    }
   ],
   "source": [
    "history['val_accuracy']"
   ]
  },
  {
   "cell_type": "code",
   "execution_count": 50,
   "metadata": {},
   "outputs": [
    {
     "data": {
      "image/png": "[encoded data removed]",
      "text/plain": [
       "<Figure size 640x480 with 1 Axes>"
      ]
     },
     "metadata": {},
     "output_type": "display_data"
    },
    {
     "data": {
      "image/png": "[encoded data removed]",
      "text/plain": [
       "<Figure size 640x480 with 1 Axes>"
      ]
     },
     "metadata": {},
     "output_type": "display_data"
    }
   ],
   "source": [
    "acc = history['accuracy']\n",
    "loss = history['loss']\n",
    "val_acc = history['val_accuracy']\n",
    "val_loss = history['val_loss']\n",
    "\n",
    "epochs = range(1, len(acc) + 1)\n",
    "plt.plot(epochs, acc, 'bo', label='Training accuracy')\n",
    "plt.plot(epochs, val_acc, 'b', label='Validation accuracy')\n",
    "plt.title('Training and validation accuracies')\n",
    "plt.legend()\n",
    "\n",
    "plt.figure()\n",
    "plt.plot(epochs, loss, 'bo', label='Training loss')\n",
    "plt.plot(epochs, val_loss, 'b', label='Validation loss')\n",
    "plt.title('Training and validation losses')\n",
    "plt.legend()\n",
    "\n",
    "plt.show()"
   ]
  },
  {
   "cell_type": "markdown",
   "metadata": {},
   "source": [
    "## Evaluation"
   ]
  },
  {
   "cell_type": "markdown",
   "metadata": {},
   "source": [
    "### Evaluation"
   ]
  },
  {
   "cell_type": "code",
   "execution_count": 51,
   "metadata": {},
   "outputs": [
    {
     "data": {
      "text/plain": [
       "Model(\n",
       "  (embeddings): Embedding(402011, 100, padding_idx=0)\n",
       "  (recurrent): LSTM(100, 128, num_layers=2, batch_first=True, dropout=0.2, bidirectional=True)\n",
       "  (fc): Linear(in_features=256, out_features=19, bias=True)\n",
       ")"
      ]
     },
     "execution_count": 51,
     "metadata": {},
     "output_type": "execute_result"
    }
   ],
   "source": [
    "model.eval()"
   ]
  },
  {
   "cell_type": "code",
   "execution_count": 52,
   "metadata": {},
   "outputs": [
    {
     "data": {
      "text/plain": [
       "(tensor(0.0034), 0.9429076620825148)"
      ]
     },
     "execution_count": 52,
     "metadata": {},
     "output_type": "execute_result"
    }
   ],
   "source": [
    "test_loss, test_acc = evaluate(model, loss_fn, test_dataloader)\n",
    "test_loss, test_acc"
   ]
  },
  {
   "cell_type": "markdown",
   "metadata": {},
   "source": [
    "We reach 93.67 for two bidirectional RNN with no dropout, and 93.47  with 20% dropout, both 2 epochs\n",
    "\n",
    "We reach 94.26 with bidirectional LSTMs 3 epochs"
   ]
  },
  {
   "cell_type": "markdown",
   "metadata": {},
   "source": [
    "### We evaluate on all the test corpus"
   ]
  },
  {
   "cell_type": "markdown",
   "metadata": {},
   "source": [
    "X_test"
   ]
  },
  {
   "cell_type": "code",
   "execution_count": 53,
   "metadata": {},
   "outputs": [
    {
     "data": {
      "text/plain": [
       "tensor([[388238, 187828, 165435,  ...,      0,      0,      0],\n",
       "        [388238, 187828, 165435,  ...,      0,      0,      0],\n",
       "        [ 43477, 380110, 244715,  ...,      0,      0,      0],\n",
       "        ...,\n",
       "        [119925, 362375, 237460,  ...,      0,      0,      0],\n",
       "        [327638, 295628, 119925,  ...,      0,      0,      0],\n",
       "        [176206, 224974,  55274,  ...,      0,      0,      0]])"
      ]
     },
     "execution_count": 53,
     "metadata": {},
     "output_type": "execute_result"
    }
   ],
   "source": [
    "X_test"
   ]
  },
  {
   "cell_type": "code",
   "execution_count": 54,
   "metadata": {},
   "outputs": [],
   "source": [
    "Y_test_probs = model(X_test)"
   ]
  },
  {
   "cell_type": "markdown",
   "metadata": {},
   "source": [
    "Y_test_probs"
   ]
  },
  {
   "cell_type": "code",
   "execution_count": 55,
   "metadata": {},
   "outputs": [
    {
     "data": {
      "text/plain": [
       "tensor([[[-3.3959e+00, -9.3545e-01, -7.3251e-01,  ..., -1.4152e+00,\n",
       "          -5.6355e+00, -1.7583e+00],\n",
       "         [-2.9747e+00, -4.0513e+00,  2.8643e+00,  ..., -1.8824e+00,\n",
       "          -3.6050e+00, -1.7863e+00],\n",
       "         [-4.0745e+00, -2.4476e+00, -2.8007e+00,  ...,  2.6205e+00,\n",
       "          -1.3245e+00, -5.7903e-01],\n",
       "         ...,\n",
       "         [-2.5360e-01, -4.9747e-01, -4.9790e-02,  ..., -1.7845e+00,\n",
       "           4.3864e+00, -2.4462e+00],\n",
       "         [ 4.4871e-02, -3.7371e-01, -1.8699e-01,  ..., -1.4303e+00,\n",
       "           3.6382e+00, -1.4923e+00],\n",
       "         [ 2.0661e-01, -2.7766e-01, -2.1805e-01,  ..., -8.3089e-01,\n",
       "           2.7788e+00, -7.2862e-01]],\n",
       "\n",
       "        [[-3.3392e+00, -8.6249e-01, -6.8256e-01,  ..., -1.3250e+00,\n",
       "          -5.6426e+00, -1.5558e+00],\n",
       "         [-2.9259e+00, -3.8934e+00,  3.2946e+00,  ..., -1.6379e+00,\n",
       "          -3.4845e+00, -1.4163e+00],\n",
       "         [-4.0681e+00, -2.5418e+00, -3.3746e+00,  ...,  1.6110e+00,\n",
       "          -1.6988e+00,  2.4709e-01],\n",
       "         ...,\n",
       "         [-2.5959e-01, -4.9068e-01, -4.3929e-02,  ..., -1.7914e+00,\n",
       "           4.3669e+00, -2.4529e+00],\n",
       "         [ 3.9233e-02, -3.6774e-01, -1.8149e-01,  ..., -1.4366e+00,\n",
       "           3.6208e+00, -1.4982e+00],\n",
       "         [ 2.0131e-01, -2.7228e-01, -2.1298e-01,  ..., -8.3594e-01,\n",
       "           2.7636e+00, -7.3355e-01]],\n",
       "\n",
       "        [[-3.2464e+00, -3.4370e+00, -1.1176e-02,  ..., -4.8200e+00,\n",
       "           7.9175e-01, -3.6915e+00],\n",
       "         [-3.4944e+00,  2.3577e-01,  7.5301e+00,  ...,  1.2279e+00,\n",
       "          -3.1308e-01, -4.7900e+00],\n",
       "         [-3.8065e+00, -1.7545e+00, -2.1029e+00,  ...,  1.8743e-01,\n",
       "          -3.7543e-01, -1.8144e+00],\n",
       "         ...,\n",
       "         [-2.5425e-01, -4.9671e-01, -4.9084e-02,  ..., -1.7852e+00,\n",
       "           4.3842e+00, -2.4469e+00],\n",
       "         [ 4.4247e-02, -3.7304e-01, -1.8632e-01,  ..., -1.4310e+00,\n",
       "           3.6363e+00, -1.4930e+00],\n",
       "         [ 2.0601e-01, -2.7704e-01, -2.1744e-01,  ..., -8.3146e-01,\n",
       "           2.7771e+00, -7.2916e-01]],\n",
       "\n",
       "        ...,\n",
       "\n",
       "        [[-3.7189e+00,  7.0794e+00, -4.3701e-01,  ...,  1.1759e+00,\n",
       "          -1.2620e+00, -1.9374e+00],\n",
       "         [-5.1037e+00,  2.0759e+00,  2.1207e-01,  ...,  3.5651e+00,\n",
       "           3.1911e-01, -2.6109e+00],\n",
       "         [-5.4092e+00, -8.9355e-01, -2.4020e+00,  ...,  3.4608e+00,\n",
       "           3.0884e-01, -6.8758e-01],\n",
       "         ...,\n",
       "         [-2.5509e-01, -4.9568e-01, -4.8230e-02,  ..., -1.7862e+00,\n",
       "           4.3814e+00, -2.4478e+00],\n",
       "         [ 4.3459e-02, -3.7212e-01, -1.8552e-01,  ..., -1.4319e+00,\n",
       "           3.6337e+00, -1.4938e+00],\n",
       "         [ 2.0527e-01, -2.7621e-01, -2.1670e-01,  ..., -8.3213e-01,\n",
       "           2.7749e+00, -7.2982e-01]],\n",
       "\n",
       "        [[-3.4993e+00, -2.0991e+00, -2.3913e+00,  ...,  9.7140e-01,\n",
       "          -1.2431e+00, -1.9258e+00],\n",
       "         [-4.5403e+00,  6.6880e-01, -3.7970e-01,  ...,  1.1213e+01,\n",
       "           4.0804e-01, -3.6873e+00],\n",
       "         [-4.6070e+00,  7.5763e+00,  1.1750e+00,  ...,  1.2027e+00,\n",
       "          -1.4434e+00, -3.0953e+00],\n",
       "         ...,\n",
       "         [-2.6479e-01, -4.8511e-01, -3.9429e-02,  ..., -1.7969e+00,\n",
       "           4.3509e+00, -2.4584e+00],\n",
       "         [ 3.4416e-02, -3.6287e-01, -1.7730e-01,  ..., -1.4416e+00,\n",
       "           3.6067e+00, -1.5030e+00],\n",
       "         [ 1.9685e-01, -2.6796e-01, -2.0911e-01,  ..., -8.4004e-01,\n",
       "           2.7512e+00, -7.3759e-01]],\n",
       "\n",
       "        [[-3.9911e+00, -2.1758e+00, -2.5468e+00,  ..., -5.0995e-01,\n",
       "          -4.6958e+00, -3.1410e+00],\n",
       "         [-4.3892e+00,  2.3228e+00,  8.3988e-02,  ...,  9.0872e+00,\n",
       "          -3.5028e-01, -1.5437e+00],\n",
       "         [-4.5106e+00, -4.2783e+00,  2.2367e+00,  ..., -3.5169e+00,\n",
       "           4.4318e-01, -5.0513e+00],\n",
       "         ...,\n",
       "         [-2.5844e-01, -4.9182e-01, -4.4983e-02,  ..., -1.7900e+00,\n",
       "           4.3704e+00, -2.4515e+00],\n",
       "         [ 4.0309e-02, -3.6873e-01, -1.8248e-01,  ..., -1.4353e+00,\n",
       "           3.6239e+00, -1.4970e+00],\n",
       "         [ 2.0232e-01, -2.7316e-01, -2.1390e-01,  ..., -8.3491e-01,\n",
       "           2.7662e+00, -7.3254e-01]]], grad_fn=<AddBackward0>)"
      ]
     },
     "execution_count": 55,
     "metadata": {},
     "output_type": "execute_result"
    }
   ],
   "source": [
    "Y_test_probs"
   ]
  },
  {
   "cell_type": "markdown",
   "metadata": {},
   "source": [
    "Y_test_hat"
   ]
  },
  {
   "cell_type": "code",
   "execution_count": 56,
   "metadata": {},
   "outputs": [
    {
     "data": {
      "text/plain": [
       "tensor([[11, 14, 12,  ..., 17, 17, 17],\n",
       "        [11, 14, 12,  ..., 17, 17, 17],\n",
       "        [13,  2, 12,  ..., 17, 17, 17],\n",
       "        ...,\n",
       "        [ 1,  8,  8,  ..., 17, 17, 17],\n",
       "        [12, 16,  1,  ..., 17, 17, 17],\n",
       "        [11, 16,  5,  ..., 17, 17, 17]])"
      ]
     },
     "execution_count": 56,
     "metadata": {},
     "output_type": "execute_result"
    }
   ],
   "source": [
    "Y_test_pred = torch.argmax(Y_test_probs, dim=-1)\n",
    "Y_test_pred"
   ]
  },
  {
   "cell_type": "code",
   "execution_count": 57,
   "metadata": {},
   "outputs": [
    {
     "data": {
      "text/plain": [
       "tensor([11, 11, 13,  ...,  1, 12, 11])"
      ]
     },
     "execution_count": 57,
     "metadata": {},
     "output_type": "execute_result"
    }
   ],
   "source": [
    "Y_test_pred[:, 0]"
   ]
  },
  {
   "cell_type": "code",
   "execution_count": 58,
   "metadata": {},
   "outputs": [
    {
     "data": {
      "text/plain": [
       "['PRON',\n",
       " 'SCONJ',\n",
       " 'PROPN',\n",
       " 'VERB',\n",
       " 'ADP',\n",
       " 'NOUN',\n",
       " 'PUNCT',\n",
       " 'NOUN',\n",
       " 'X',\n",
       " 'X',\n",
       " 'X',\n",
       " 'X',\n",
       " 'X',\n",
       " 'X',\n",
       " 'X',\n",
       " 'X',\n",
       " 'X',\n",
       " 'X',\n",
       " 'X',\n",
       " 'X',\n",
       " 'X',\n",
       " 'X',\n",
       " 'X',\n",
       " 'X',\n",
       " 'X',\n",
       " 'X',\n",
       " 'X',\n",
       " 'X',\n",
       " 'X',\n",
       " 'X',\n",
       " 'X',\n",
       " 'X',\n",
       " 'X',\n",
       " 'X',\n",
       " 'X',\n",
       " 'X',\n",
       " 'X',\n",
       " 'X',\n",
       " 'X',\n",
       " 'X',\n",
       " 'X',\n",
       " 'X',\n",
       " 'X',\n",
       " 'X',\n",
       " 'X',\n",
       " 'X',\n",
       " 'X',\n",
       " 'X',\n",
       " 'X',\n",
       " 'X',\n",
       " 'X',\n",
       " 'X',\n",
       " 'X',\n",
       " 'X',\n",
       " 'X',\n",
       " 'X',\n",
       " 'X',\n",
       " 'X',\n",
       " 'X',\n",
       " 'X',\n",
       " 'X',\n",
       " 'X',\n",
       " 'X',\n",
       " 'X',\n",
       " 'X',\n",
       " 'X',\n",
       " 'X',\n",
       " 'X',\n",
       " 'X',\n",
       " 'X',\n",
       " 'X',\n",
       " 'X',\n",
       " 'X',\n",
       " 'X',\n",
       " 'X',\n",
       " 'X',\n",
       " 'X',\n",
       " 'X',\n",
       " 'X',\n",
       " 'X',\n",
       " 'X',\n",
       " 'X',\n",
       " 'X',\n",
       " 'X']"
      ]
     },
     "execution_count": 58,
     "metadata": {},
     "output_type": "execute_result"
    }
   ],
   "source": [
    "list(map(lambda x: idx2pos.get(x.item()), Y_test_pred[0]))"
   ]
  },
  {
   "cell_type": "markdown",
   "metadata": {},
   "source": [
    "### Remove padding"
   ]
  },
  {
   "cell_type": "code",
   "execution_count": 59,
   "metadata": {},
   "outputs": [
    {
     "data": {
      "text/plain": [
       "tensor([[388238, 187828, 165435,  ...,      0,      0,      0],\n",
       "        [388238, 187828, 165435,  ...,      0,      0,      0],\n",
       "        [ 43477, 380110, 244715,  ...,      0,      0,      0],\n",
       "        ...,\n",
       "        [119925, 362375, 237460,  ...,      0,      0,      0],\n",
       "        [327638, 295628, 119925,  ...,      0,      0,      0],\n",
       "        [176206, 224974,  55274,  ...,      0,      0,      0]])"
      ]
     },
     "execution_count": 59,
     "metadata": {},
     "output_type": "execute_result"
    }
   ],
   "source": [
    "X_test"
   ]
  },
  {
   "cell_type": "code",
   "execution_count": 60,
   "metadata": {},
   "outputs": [
    {
     "name": "stdout",
     "output_type": "stream",
     "text": [
      "[[11, 14, 12, 16, 2, 8, 13], [11, 14, 12, 16, 2, 11, 8, 13, 8, 13, 5, 3, 8, 13, 8, 2, 6, 1, 13, 1, 8, 8, 13], [13, 2, 12, 16, 2, 12, 12, 12, 13]]\n"
     ]
    }
   ],
   "source": [
    "Y_test_pred_idx = []\n",
    "for sent_nbr, y_test_pred in enumerate(Y_test_pred):\n",
    "    Y_test_pred_idx += [y_test_pred.tolist()[:len(X_test_idx[sent_nbr])]]\n",
    "print(Y_test_pred_idx[:3])"
   ]
  },
  {
   "cell_type": "markdown",
   "metadata": {},
   "source": [
    "### Convert POS indices to symbols"
   ]
  },
  {
   "cell_type": "code",
   "execution_count": 61,
   "metadata": {},
   "outputs": [
    {
     "data": {
      "text/plain": [
       "[['PRON', 'SCONJ', 'PROPN', 'VERB', 'ADP', 'NOUN', 'PUNCT']]"
      ]
     },
     "execution_count": 61,
     "metadata": {},
     "output_type": "execute_result"
    }
   ],
   "source": [
    "Y_test_pred_pos = []\n",
    "for y_test_pred_idx in Y_test_pred_idx:\n",
    "    y_test_pred_pos = list(map(lambda x: idx2pos.get(x), y_test_pred_idx))\n",
    "    Y_test_pred_pos += [y_test_pred_pos]\n",
    "Y_test_pred_pos[:1]"
   ]
  },
  {
   "cell_type": "markdown",
   "metadata": {},
   "source": [
    "### Evaluate"
   ]
  },
  {
   "cell_type": "code",
   "execution_count": 62,
   "metadata": {},
   "outputs": [
    {
     "name": "stdout",
     "output_type": "stream",
     "text": [
      "total 25450, correct 23997, accuracy 0.942908\n",
      "total unknown 487, correct 297, accuracy 0.609856\n"
     ]
    }
   ],
   "source": [
    "total, correct, total_ukn, correct_ukn = 0, 0, 0, 0\n",
    "for id_s, x_test_cat in enumerate(test_sent_words):\n",
    "    for id_w, word in enumerate(x_test_cat):\n",
    "        total += 1\n",
    "        if Y_test_pred_pos[id_s][id_w] == test_sent_pos[id_s][id_w]:\n",
    "            correct += 1\n",
    "        # The word is not in the dictionary\n",
    "        if word not in word2idx:\n",
    "            total_ukn += 1\n",
    "            if Y_test_pred_pos[id_s][id_w] == test_sent_pos[id_s][id_w]:\n",
    "                correct_ukn += 1\n",
    "\n",
    "print('total %d, correct %d, accuracy %f' %\n",
    "      (total, correct, correct / total))\n",
    "if total_ukn != 0:\n",
    "    print('total unknown %d, correct %d, accuracy %f' %\n",
    "          (total_ukn, correct_ukn, correct_ukn / total_ukn))"
   ]
  },
  {
   "cell_type": "markdown",
   "metadata": {},
   "source": [
    "## Prediction of parts of speech"
   ]
  },
  {
   "cell_type": "code",
   "execution_count": 63,
   "metadata": {},
   "outputs": [],
   "source": [
    "def predict_sentence(sentence, model, word2idx, idx2pos, verbose=False):\n",
    "    # Predict one sentence\n",
    "    sentence = sentence.split()\n",
    "    word_idxs = to_index([sentence], word2idx)\n",
    "    pos_idx_pred = model(word_idxs[0])\n",
    "    pos_idxs = torch.argmax(pos_idx_pred, dim=-1)\n",
    "    pos = list(map(lambda x: idx2pos.get(x.item()), pos_idxs))\n",
    "    if verbose:\n",
    "        print('Sentence', sentence)\n",
    "        print('Sentence word indexes', word_idxs)\n",
    "        # print('Padded sentence', word_idx_padded)\n",
    "        print('POS predicted', pos_idx_pred[0])\n",
    "        print('POS shape', pos_idx_pred.size())\n",
    "    return pos"
   ]
  },
  {
   "cell_type": "code",
   "execution_count": 64,
   "metadata": {},
   "outputs": [
    {
     "name": "stdout",
     "output_type": "stream",
     "text": [
      "That round table might collapse .\n",
      "['DET', 'ADJ', 'NOUN', 'AUX', 'VERB', 'PUNCT']\n",
      "The man can learn well .\n",
      "['DET', 'NOUN', 'AUX', 'VERB', 'ADV', 'PUNCT']\n",
      "The man can swim .\n",
      "['DET', 'NOUN', 'AUX', 'VERB', 'PUNCT']\n",
      "The man can simwo .\n",
      "['DET', 'NOUN', 'AUX', 'VERB', 'PUNCT']\n"
     ]
    }
   ],
   "source": [
    "sentences = ['That round table might collapse .',\n",
    "             'The man can learn well .',\n",
    "             'The man can swim .',\n",
    "             'The man can simwo .']\n",
    "for sentence in sentences:\n",
    "    y_test_cat_hat = predict_sentence(sentence.lower(),\n",
    "                                      model, word2idx,\n",
    "                                      idx2pos)\n",
    "    print(sentence)\n",
    "    print(y_test_cat_hat)"
   ]
  }
 ],
 "metadata": {
  "kernelspec": {
   "display_name": "Python 3.9.13 ('base')",
   "language": "python",
   "name": "python3"
  },
  "language_info": {
   "codemirror_mode": {
    "name": "ipython",
    "version": 3
   },
   "file_extension": ".py",
   "mimetype": "text/x-python",
   "name": "python",
   "nbconvert_exporter": "python",
   "pygments_lexer": "ipython3",
   "version": "3.1.-1"
  },
  "vscode": {
   "interpreter": {
    "hash": "b97b11a820675205aae8f1d7f2a3f22bbd3a2c30189f44042310baf5b4cd1987"
   }
  }
 },
 "nbformat": 4,
 "nbformat_minor": 4
}
