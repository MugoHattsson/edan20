{
 "cells": [
  {
   "attachments": {},
   "cell_type": "markdown",
   "id": "aa3ccdd9-ace9-4c89-ad8e-0faebeec5c20",
   "metadata": {
    "tags": []
   },
   "source": [
    "# Chapter 15: Self-Attention and Transformers\n",
    "## The Attention mechanism and its implementation in PyTorch\n",
    "Computing self-attention of a sentence with GloVe embeddings and the `MultiheadAttention` class with PyTorch"
   ]
  },
  {
   "cell_type": "markdown",
   "id": "d3d90e41",
   "metadata": {},
   "source": [
    "Programs from the book: [_Python for Natural Language Processing_](https://link.springer.com/book/9783031575488)\n",
    "\n",
    "__Author__: Pierre Nugues"
   ]
  },
  {
   "attachments": {},
   "cell_type": "markdown",
   "id": "ba630853-00e0-4b64-ab86-01185c2deb0e",
   "metadata": {},
   "source": [
    "## Modules"
   ]
  },
  {
   "cell_type": "code",
   "execution_count": 1,
   "id": "0d21c1d0-b06a-4340-bf3d-419a6edaf327",
   "metadata": {},
   "outputs": [],
   "source": [
    "import torch\n",
    "import torch.nn as nn\n",
    "import torch.nn.functional as F\n",
    "import math"
   ]
  },
  {
   "cell_type": "code",
   "execution_count": 2,
   "id": "2b5940e4",
   "metadata": {},
   "outputs": [
    {
     "data": {
      "text/plain": [
       "<torch._C.Generator at 0x104d071d0>"
      ]
     },
     "execution_count": 2,
     "metadata": {},
     "output_type": "execute_result"
    }
   ],
   "source": [
    "torch.manual_seed(1234)"
   ]
  },
  {
   "attachments": {},
   "cell_type": "markdown",
   "id": "9119bcd1-e5af-4b3a-bd87-45276f71c7db",
   "metadata": {
    "tags": []
   },
   "source": [
    "## Noncontextual embeddings"
   ]
  },
  {
   "attachments": {},
   "cell_type": "markdown",
   "id": "5741d7ec-e588-4a6d-9cba-f8eae75f4fad",
   "metadata": {},
   "source": [
    "We load GloVe"
   ]
  },
  {
   "cell_type": "code",
   "execution_count": 3,
   "id": "f9d84fbb-b15e-45c0-bba8-6074ec0bb393",
   "metadata": {},
   "outputs": [],
   "source": [
    "def read_embeddings(file):\n",
    "    \"\"\"\n",
    "    Return the embeddings in the from of a dictionary\n",
    "    :param file:\n",
    "    :return:\n",
    "    \"\"\"\n",
    "    embeddings = {}\n",
    "    with open(file, encoding='utf8') as glove:\n",
    "        for line in glove:\n",
    "            values = line.strip().split()\n",
    "            word = values[0]\n",
    "            vector = [float(value) for value in values[1:]]\n",
    "            vector = torch.FloatTensor(vector)\n",
    "            embeddings[word] = vector\n",
    "    return embeddings"
   ]
  },
  {
   "cell_type": "code",
   "execution_count": 4,
   "id": "d7f855dc",
   "metadata": {},
   "outputs": [],
   "source": [
    "PATH = '../datasets/embeddings/'"
   ]
  },
  {
   "cell_type": "code",
   "execution_count": 5,
   "id": "14e0a3c6-6e89-4500-b555-fb40efb5bcc5",
   "metadata": {},
   "outputs": [],
   "source": [
    "embedding_file = PATH + 'glove.6B.50d.txt'\n",
    "embeddings_dict = read_embeddings(embedding_file)"
   ]
  },
  {
   "cell_type": "code",
   "execution_count": 6,
   "id": "d6ba6dc1-a704-4e08-b89b-fc5325ebcf14",
   "metadata": {},
   "outputs": [
    {
     "data": {
      "text/plain": [
       "tensor([ 1.5213,  0.1052,  0.3816, -0.5080,  0.0324, -0.1348, -1.2474,  0.7981,\n",
       "         0.8469, -1.1010,  0.8874,  1.3749,  0.4293,  0.6572, -0.2636, -0.4176,\n",
       "        -0.4885,  0.9106, -1.7158, -0.4380,  0.7839,  0.1964, -0.4066, -0.5397,\n",
       "         0.8244, -1.7434,  0.1428,  0.2804,  1.1688,  0.1690,  2.2271, -0.5827,\n",
       "        -0.4572,  0.6281,  0.5444,  0.2846,  0.4448, -0.5534, -0.3649, -0.0164,\n",
       "         0.4088, -0.8715,  1.5513, -0.8070, -0.1004, -0.2846, -0.3322, -0.5061,\n",
       "         0.4827, -0.6620])"
      ]
     },
     "execution_count": 6,
     "metadata": {},
     "output_type": "execute_result"
    }
   ],
   "source": [
    "embeddings_dict['ship']"
   ]
  },
  {
   "attachments": {},
   "cell_type": "markdown",
   "id": "a2b9f1dd-07e7-4995-abea-8c2fe202e16e",
   "metadata": {},
   "source": [
    "## Cosine similarity"
   ]
  },
  {
   "attachments": {},
   "cell_type": "markdown",
   "id": "f5c648e3-c5f9-4e70-82f3-1b138400c1af",
   "metadata": {},
   "source": [
    "Let us compute the cosine similarity of the words in a sentence:\n",
    "> I must go back to my ship and to my crew\n",
    "\n",
    "_Odyssey_, book I \n",
    "\n",
    "Remember that:\n",
    "$$\\cos(\\mathbf{u}, \\mathbf{v}) = \\frac{\\mathbf{u} \\cdot \\mathbf{v}}{||\\mathbf{u}|| \\cdot ||\\mathbf{v} ||}$$"
   ]
  },
  {
   "cell_type": "code",
   "execution_count": 7,
   "id": "02456cd9-bc86-4ccb-ad68-e4124cb16e35",
   "metadata": {},
   "outputs": [],
   "source": [
    "sentence_odyssey = 'I must go back to my ship and to my crew'\n",
    "sentence_amazon = 'We process and ship your order'\n",
    "# in the most cost-efficient way possible"
   ]
  },
  {
   "cell_type": "code",
   "execution_count": 8,
   "id": "b0851862-27f2-4fd9-98ed-e9aa64d2dcd0",
   "metadata": {},
   "outputs": [
    {
     "data": {
      "text/plain": [
       "['i', 'must', 'go', 'back', 'to', 'my', 'ship', 'and', 'to', 'my', 'crew']"
      ]
     },
     "execution_count": 8,
     "metadata": {},
     "output_type": "execute_result"
    }
   ],
   "source": [
    "words_a = sentence_amazon.lower().split()\n",
    "words_o = sentence_odyssey.lower().split()\n",
    "words_o"
   ]
  },
  {
   "attachments": {},
   "cell_type": "markdown",
   "id": "600768d3-408b-48cc-994d-710fdb0c45df",
   "metadata": {},
   "source": [
    "We build the embedding matrix"
   ]
  },
  {
   "cell_type": "code",
   "execution_count": 9,
   "id": "ef726a70-39fb-4bc9-826b-fa4efa6f889e",
   "metadata": {},
   "outputs": [],
   "source": [
    "def embedding_matrix(words, embeddings_dict):\n",
    "    embeddings_seq = [embeddings_dict[word] for word in words]\n",
    "    embeddings_seq = torch.stack(embeddings_seq)\n",
    "    return embeddings_seq"
   ]
  },
  {
   "cell_type": "code",
   "execution_count": 10,
   "id": "d4dbf6ec",
   "metadata": {},
   "outputs": [],
   "source": [
    "X_a = embedding_matrix(words_a, embeddings_dict)\n",
    "X_o = embedding_matrix(words_o, embeddings_dict)"
   ]
  },
  {
   "cell_type": "code",
   "execution_count": 11,
   "id": "f97d5907",
   "metadata": {},
   "outputs": [
    {
     "data": {
      "text/plain": [
       "torch.Size([11, 50])"
      ]
     },
     "execution_count": 11,
     "metadata": {},
     "output_type": "execute_result"
    }
   ],
   "source": [
    "X_o.size()"
   ]
  },
  {
   "cell_type": "code",
   "execution_count": 12,
   "id": "788b9eb2",
   "metadata": {},
   "outputs": [
    {
     "data": {
      "text/plain": [
       "torch.Size([6, 50])"
      ]
     },
     "execution_count": 12,
     "metadata": {},
     "output_type": "execute_result"
    }
   ],
   "source": [
    "X_a.size()"
   ]
  },
  {
   "cell_type": "code",
   "execution_count": 13,
   "id": "807f131d",
   "metadata": {},
   "outputs": [
    {
     "data": {
      "text/plain": [
       "tensor([ 1.1891e-01,  1.5255e-01, -8.2073e-02, -7.4144e-01,  7.5917e-01,\n",
       "        -4.8328e-01, -3.1009e-01,  5.1476e-01, -9.8708e-01,  6.1757e-04])"
      ]
     },
     "execution_count": 13,
     "metadata": {},
     "output_type": "execute_result"
    }
   ],
   "source": [
    "X_o[0][:10]"
   ]
  },
  {
   "attachments": {},
   "cell_type": "markdown",
   "id": "9049e121-9f7b-4392-a4db-e99e06f25bf4",
   "metadata": {},
   "source": [
    "We compute the attention weights as the pairwise cosines of the word embeddings"
   ]
  },
  {
   "cell_type": "code",
   "execution_count": 14,
   "id": "c68fa0d6",
   "metadata": {},
   "outputs": [],
   "source": [
    "def attn_cos_weights(embeddings_mat):\n",
    "    E_normed = F.normalize(embeddings_mat)\n",
    "    attn_weights_cos = E_normed @ E_normed.T\n",
    "    return attn_weights_cos"
   ]
  },
  {
   "cell_type": "code",
   "execution_count": 15,
   "id": "e6db4f3c-57c0-4e4d-a66e-5ecb94cf5697",
   "metadata": {},
   "outputs": [],
   "source": [
    "def print_cos_weights(words, embeddings_dict):\n",
    "    embeddings = embedding_matrix(words, embeddings_dict)\n",
    "    attn_weights_cos = attn_cos_weights(embeddings)\n",
    "    print('\\t', end='')\n",
    "    for i in range(len(words)):\n",
    "        print(words[i], end='\\t')\n",
    "    print()\n",
    "\n",
    "    for i in range(attn_weights_cos.shape[0]):\n",
    "        print(words[i], end='\\t')\n",
    "        for j in range(attn_weights_cos.shape[1]):\n",
    "            print(f\"{attn_weights_cos[i,j]:.2f}\", end='\\t')\n",
    "        print()"
   ]
  },
  {
   "cell_type": "code",
   "execution_count": 16,
   "id": "76984ad3",
   "metadata": {},
   "outputs": [
    {
     "name": "stdout",
     "output_type": "stream",
     "text": [
      "\ti\tmust\tgo\tback\tto\tmy\tship\tand\tto\tmy\tcrew\t\n",
      "i\t1.00\t0.75\t0.86\t0.76\t0.73\t0.90\t0.35\t0.65\t0.73\t0.90\t0.42\t\n",
      "must\t0.75\t1.00\t0.85\t0.68\t0.87\t0.69\t0.42\t0.69\t0.87\t0.69\t0.45\t\n",
      "go\t0.86\t0.85\t1.00\t0.84\t0.84\t0.81\t0.41\t0.68\t0.84\t0.81\t0.49\t\n",
      "back\t0.76\t0.68\t0.84\t1.00\t0.83\t0.76\t0.49\t0.77\t0.83\t0.76\t0.51\t\n",
      "to\t0.73\t0.87\t0.84\t0.83\t1.00\t0.68\t0.54\t0.86\t1.00\t0.68\t0.51\t\n",
      "my\t0.90\t0.69\t0.81\t0.76\t0.68\t1.00\t0.38\t0.63\t0.68\t1.00\t0.44\t\n",
      "ship\t0.35\t0.42\t0.41\t0.49\t0.54\t0.38\t1.00\t0.46\t0.54\t0.38\t0.78\t\n",
      "and\t0.65\t0.69\t0.68\t0.77\t0.86\t0.63\t0.46\t1.00\t0.86\t0.63\t0.49\t\n",
      "to\t0.73\t0.87\t0.84\t0.83\t1.00\t0.68\t0.54\t0.86\t1.00\t0.68\t0.51\t\n",
      "my\t0.90\t0.69\t0.81\t0.76\t0.68\t1.00\t0.38\t0.63\t0.68\t1.00\t0.44\t\n",
      "crew\t0.42\t0.45\t0.49\t0.51\t0.51\t0.44\t0.78\t0.49\t0.51\t0.44\t1.00\t\n"
     ]
    }
   ],
   "source": [
    "print_cos_weights(words_o, embeddings_dict)"
   ]
  },
  {
   "cell_type": "code",
   "execution_count": 17,
   "id": "1e35e7c8",
   "metadata": {},
   "outputs": [
    {
     "name": "stdout",
     "output_type": "stream",
     "text": [
      "\twe\tprocess\tand\tship\tyour\torder\t\n",
      "we\t1.00\t0.64\t0.70\t0.36\t0.75\t0.64\t\n",
      "process\t0.64\t1.00\t0.61\t0.29\t0.52\t0.67\t\n",
      "and\t0.70\t0.61\t1.00\t0.46\t0.58\t0.69\t\n",
      "ship\t0.36\t0.29\t0.46\t1.00\t0.37\t0.52\t\n",
      "your\t0.75\t0.52\t0.58\t0.37\t1.00\t0.63\t\n",
      "order\t0.64\t0.67\t0.69\t0.52\t0.63\t1.00\t\n"
     ]
    }
   ],
   "source": [
    "print_cos_weights(words_a, embeddings_dict)"
   ]
  },
  {
   "attachments": {},
   "cell_type": "markdown",
   "id": "591c498b-1650-403a-9ba1-780ba3ef4dd5",
   "metadata": {},
   "source": [
    "## Contextual embeddings"
   ]
  },
  {
   "attachments": {},
   "cell_type": "markdown",
   "id": "958548e0-5560-4c09-bb13-9731cccf72fa",
   "metadata": {},
   "source": [
    "We design a new vector representation for _ship_ so that it receives an influence from _crew_ and the other words of its context. This influence will depend on the embeddings from te context. Let us use the cosine similarities as attention weights"
   ]
  },
  {
   "cell_type": "code",
   "execution_count": 18,
   "id": "9cedf865",
   "metadata": {},
   "outputs": [
    {
     "data": {
      "text/plain": [
       "tensor([0.3466, 0.4178, 0.4068, 0.4853, 0.5401, 0.3791, 1.0000, 0.4586, 0.5401,\n",
       "        0.3791, 0.7848])"
      ]
     },
     "execution_count": 18,
     "metadata": {},
     "output_type": "execute_result"
    }
   ],
   "source": [
    "attn_cos_weights(X_o)[6]"
   ]
  },
  {
   "attachments": {},
   "cell_type": "markdown",
   "id": "dca41244-cf33-4d0c-9bd9-d1b705f45b1f",
   "metadata": {},
   "source": [
    "We compute the new embeddings as the sum of the noncontextual embeddings weighted by the cosine similarity. We have contextual embeddings."
   ]
  },
  {
   "cell_type": "code",
   "execution_count": 19,
   "id": "2a2700f2-3bbe-4911-9e73-bc32ad1cf082",
   "metadata": {},
   "outputs": [
    {
     "data": {
      "text/plain": [
       "tensor([  3.2289,   0.6422,   1.4712,  -2.3538,   2.2414,  -0.4237,  -4.1052,\n",
       "          2.6216,   0.1719,  -2.4324,   1.3882,   3.7241,  -1.9721,   1.1893,\n",
       "          2.2511,   0.9502,  -0.7646,   1.0289,  -3.0553,  -3.6306,   0.8305,\n",
       "          2.9299,   1.3221,  -0.7092,   2.9745, -10.5959,  -1.3168,   0.2059,\n",
       "          3.5457,  -2.7711,  18.2672,   2.4817,  -3.5887,   0.3297,   1.2718,\n",
       "          0.6539,   1.5873,   0.0195,   0.7724,  -1.4620,  -0.2067,  -1.2464,\n",
       "          2.1504,  -0.1811,  -0.5026,  -0.2888,  -0.5060,  -1.9676,  -0.0605,\n",
       "         -0.6725])"
      ]
     },
     "execution_count": 19,
     "metadata": {},
     "output_type": "execute_result"
    }
   ],
   "source": [
    "new_embeddings_ship = (0.35 * embeddings_dict['i'] +\n",
    "                       0.42 * embeddings_dict['must'] +\n",
    "                       0.41 * embeddings_dict['go'] +\n",
    "                       0.49 * embeddings_dict['back'] +\n",
    "                       0.54 * embeddings_dict['to'] +\n",
    "                       0.38 * embeddings_dict['my'] +\n",
    "                       1.00 * embeddings_dict['ship'] +\n",
    "                       0.46 * embeddings_dict['and'] +\n",
    "                       0.54 * embeddings_dict['to'] +\n",
    "                       0.38 * embeddings_dict['my'] +\n",
    "                       0.78 * embeddings_dict['crew'])\n",
    "new_embeddings_ship"
   ]
  },
  {
   "attachments": {},
   "cell_type": "markdown",
   "id": "135c0613-cac0-4fbc-abc0-30f0727a79a1",
   "metadata": {},
   "source": [
    "Exact computation with torch"
   ]
  },
  {
   "cell_type": "code",
   "execution_count": 20,
   "id": "82630b84",
   "metadata": {},
   "outputs": [
    {
     "data": {
      "text/plain": [
       "tensor([ 3.2319e+00,  6.4082e-01,  1.4718e+00, -2.3434e+00,  2.2358e+00,\n",
       "        -4.1877e-01, -4.1002e+00,  2.6211e+00,  1.8010e-01, -2.4360e+00,\n",
       "         1.3923e+00,  3.7188e+00, -1.9603e+00,  1.1980e+00,  2.2394e+00,\n",
       "         9.3763e-01, -7.7049e-01,  1.0349e+00, -3.0615e+00, -3.6259e+00,\n",
       "         8.3401e-01,  2.9281e+00,  1.3165e+00, -7.1303e-01,  2.9667e+00,\n",
       "        -1.0567e+01, -1.3099e+00,  2.0283e-01,  3.5362e+00, -2.7571e+00,\n",
       "         1.8220e+01,  2.4698e+00, -3.5804e+00,  3.2604e-01,  1.2760e+00,\n",
       "         6.5701e-01,  1.5889e+00,  1.1571e-02,  7.6620e-01, -1.4560e+00,\n",
       "        -2.0362e-01, -1.2484e+00,  2.1550e+00, -1.8767e-01, -5.0253e-01,\n",
       "        -2.9128e-01, -5.1006e-01, -1.9596e+00, -5.8853e-02, -6.7380e-01])"
      ]
     },
     "execution_count": 20,
     "metadata": {},
     "output_type": "execute_result"
    }
   ],
   "source": [
    "(attn_cos_weights(X_o) @ X_o)[6]"
   ]
  },
  {
   "attachments": {},
   "cell_type": "markdown",
   "id": "61f8b7cf-0ef8-46dd-96d2-e94601dcdf45",
   "metadata": {
    "tags": []
   },
   "source": [
    "## Self-attention"
   ]
  },
  {
   "attachments": {},
   "cell_type": "markdown",
   "id": "7fe38dcb-887e-4b92-871e-011918b76140",
   "metadata": {},
   "source": [
    "Vaswani et al. (2017) defined attention as:\n",
    "$$\n",
    "\\text{Attention}({Q}, {K}, {Q}) = \\text{softmax}(\\frac{{Q}  {K}^\\intercal}{\\sqrt{d_k}})  {V},\n",
    "$$\n",
    "where\n",
    "$$\n",
    "\\begin{array}{lcl}\n",
    "{Q} &=& {X} {W}^Q,   \\\\\n",
    "{K} &=& {X} {W}^K , \\\\\n",
    "{V} &=& {X} {W}^V.\\\\\n",
    "\\end{array}\n",
    "$$\n",
    "and ${X}$ represents complete input sequence (all the tokens).\n",
    "\n",
    "$d_k$ is the dimension of the input and $\\sqrt{d_k}$ a scaling factor. The $\\text{softmax}$ function is defined as:\n",
    "$$\n",
    "\\text{softmax}(x_1, x_2, ..., x_j, ..., x_n) = (\\frac{e^{x_1}}{\\sum_{i=1}^n e^{x_i}}, \\frac{e^{x_2}}{\\sum_{i=1}^n e^{x_i}}, ..., \\frac{e^{x_j}}{\\sum_{i=1}^n e^{x_i}}, ..., \\frac{e^{x_n}}{\\sum_{i=1}^n e^{x_i}})\n",
    "$$\n",
    "\n",
    "We omit the weight matrices and we use the same embeddings for ${Q}$, ${K}$, and ${Q}$: GloVe embeddings"
   ]
  },
  {
   "attachments": {},
   "cell_type": "markdown",
   "id": "77bac5b7-2636-405a-ad9d-5ce0aec3f541",
   "metadata": {},
   "source": [
    "For the matrix above, self attention, $\\text{softmax}(\\frac{{Q}  {K}^\\intercal}{\\sqrt{d_k}})$,  for _ship_ yields:"
   ]
  },
  {
   "cell_type": "code",
   "execution_count": 21,
   "id": "edc144c8",
   "metadata": {},
   "outputs": [
    {
     "data": {
      "text/plain": [
       "tensor(50)"
      ]
     },
     "execution_count": 21,
     "metadata": {},
     "output_type": "execute_result"
    }
   ],
   "source": [
    "dk = embeddings_dict['i'].size(dim=0)\n",
    "dk = torch.tensor(dk)\n",
    "dk"
   ]
  },
  {
   "cell_type": "code",
   "execution_count": 22,
   "id": "cd81a119-112f-4eb1-9f36-7fa0514ac14c",
   "metadata": {},
   "outputs": [
    {
     "data": {
      "text/plain": [
       "tensor([0.0303, 0.0302, 0.0276, 0.0407, 0.0459, 0.0343, 0.5530, 0.0297, 0.0459,\n",
       "        0.0343, 0.1281])"
      ]
     },
     "execution_count": 22,
     "metadata": {},
     "output_type": "execute_result"
    }
   ],
   "source": [
    "attn_weights_o = F.softmax(\n",
    "    X_o @ X_o.T/torch.sqrt(dk), dim=-1)\n",
    "attn_weights_o[6]"
   ]
  },
  {
   "attachments": {},
   "cell_type": "markdown",
   "id": "f9658c8f-2804-4f0b-8c6d-c0cd5e10e0c2",
   "metadata": {},
   "source": [
    "The scaled and normalized attention weights"
   ]
  },
  {
   "cell_type": "code",
   "execution_count": 23,
   "id": "cf831af2-f40f-4512-a661-e300c467b897",
   "metadata": {},
   "outputs": [],
   "source": [
    "def print_attn_weights(words, embeddings_dict):\n",
    "    embeddings = embedding_matrix(words, embeddings_dict)\n",
    "    sent_length, dk = embeddings.size()\n",
    "    attn_weights = F.softmax(embeddings @ embeddings.T /\n",
    "                             torch.sqrt(torch.tensor(dk)), dim=-1)\n",
    "    print('\\t', end='')\n",
    "    for i in range(sent_length):\n",
    "        print(words[i], end='\\t')\n",
    "    print()\n",
    "    for i in range(sent_length):\n",
    "        print(words[i], end='\\t')\n",
    "        for j in range(sent_length):\n",
    "            print(f\"{attn_weights[i,j]:.2f}\", end='\\t')\n",
    "        print()"
   ]
  },
  {
   "cell_type": "code",
   "execution_count": 24,
   "id": "5f977f85",
   "metadata": {},
   "outputs": [
    {
     "name": "stdout",
     "output_type": "stream",
     "text": [
      "\ti\tmust\tgo\tback\tto\tmy\tship\tand\tto\tmy\tcrew\t\n",
      "i\t0.36\t0.05\t0.07\t0.05\t0.04\t0.19\t0.01\t0.02\t0.04\t0.19\t0.01\t\n",
      "must\t0.14\t0.20\t0.10\t0.06\t0.11\t0.10\t0.03\t0.05\t0.11\t0.10\t0.02\t\n",
      "go\t0.18\t0.09\t0.14\t0.09\t0.08\t0.13\t0.02\t0.04\t0.08\t0.13\t0.02\t\n",
      "back\t0.14\t0.05\t0.09\t0.19\t0.08\t0.12\t0.03\t0.06\t0.08\t0.12\t0.03\t\n",
      "to\t0.11\t0.11\t0.09\t0.09\t0.15\t0.08\t0.04\t0.07\t0.15\t0.08\t0.03\t\n",
      "my\t0.19\t0.03\t0.05\t0.04\t0.03\t0.29\t0.01\t0.02\t0.03\t0.29\t0.01\t\n",
      "ship\t0.03\t0.03\t0.03\t0.04\t0.05\t0.03\t0.55\t0.03\t0.05\t0.03\t0.13\t\n",
      "and\t0.10\t0.08\t0.07\t0.10\t0.12\t0.09\t0.04\t0.15\t0.12\t0.09\t0.04\t\n",
      "to\t0.11\t0.11\t0.09\t0.09\t0.15\t0.08\t0.04\t0.07\t0.15\t0.08\t0.03\t\n",
      "my\t0.19\t0.03\t0.05\t0.04\t0.03\t0.29\t0.01\t0.02\t0.03\t0.29\t0.01\t\n",
      "crew\t0.06\t0.05\t0.05\t0.06\t0.05\t0.06\t0.21\t0.04\t0.05\t0.06\t0.31\t\n"
     ]
    }
   ],
   "source": [
    "print_attn_weights(words_o, embeddings_dict)"
   ]
  },
  {
   "attachments": {},
   "cell_type": "markdown",
   "id": "7894ff99-35da-460d-8121-b69492a26e21",
   "metadata": {},
   "source": [
    "For _ship:_"
   ]
  },
  {
   "cell_type": "code",
   "execution_count": 25,
   "id": "e556eebb-36bd-4046-90a2-bdc0df48523b",
   "metadata": {},
   "outputs": [
    {
     "data": {
      "text/plain": [
       "tensor([0.0303, 0.0302, 0.0276, 0.0407, 0.0459, 0.0343, 0.5530, 0.0297, 0.0459,\n",
       "        0.0343, 0.1281])"
      ]
     },
     "execution_count": 25,
     "metadata": {},
     "output_type": "execute_result"
    }
   ],
   "source": [
    "attn_weights_o[6]"
   ]
  },
  {
   "attachments": {},
   "cell_type": "markdown",
   "id": "8ecb44a4-ba75-400e-96da-da4f197b51c8",
   "metadata": {},
   "source": [
    "We have the weights of 55% for _ship_ and 13% for _crew_, the rest from the other words."
   ]
  },
  {
   "attachments": {},
   "cell_type": "markdown",
   "id": "5624ca6b-c824-4e1c-a23e-2e05222d3d26",
   "metadata": {},
   "source": [
    "And the new contextual embedding is for _ship_ is a linear combination:"
   ]
  },
  {
   "cell_type": "code",
   "execution_count": 26,
   "id": "eb9d28fa-a98a-4579-9ff6-4ceba203dcb1",
   "metadata": {},
   "outputs": [
    {
     "data": {
      "text/plain": [
       "tensor([ 1.0442,  0.0966,  0.3467, -0.4238,  0.2203, -0.0956, -0.9915,  0.6637,\n",
       "         0.4368, -0.7943,  0.5639,  0.9838,  0.0240,  0.5066,  0.0732, -0.1740,\n",
       "        -0.3322,  0.5614, -1.1613, -0.5717,  0.4356,  0.4120, -0.0659, -0.3336,\n",
       "         0.6579, -1.7421, -0.0344,  0.1440,  0.8547, -0.1430,  2.6614, -0.0553,\n",
       "        -0.5376,  0.3057,  0.4068,  0.2231,  0.3959, -0.2940, -0.1163, -0.1340,\n",
       "         0.1709, -0.5332,  0.9552, -0.4178, -0.1058, -0.1715, -0.2251, -0.3923,\n",
       "         0.2098, -0.3625])"
      ]
     },
     "execution_count": 26,
     "metadata": {},
     "output_type": "execute_result"
    }
   ],
   "source": [
    "self_attention_ship = (0.03 * embeddings_dict['i'] +\n",
    "                       0.03 * embeddings_dict['must'] +\n",
    "                       0.03 * embeddings_dict['go'] +\n",
    "                       0.04 * embeddings_dict['back'] +\n",
    "                       0.05 * embeddings_dict['to'] +\n",
    "                       0.03 * embeddings_dict['my'] +\n",
    "                       0.55 * embeddings_dict['ship'] +\n",
    "                       0.03 * embeddings_dict['and'] +\n",
    "                       0.05 * embeddings_dict['to'] +\n",
    "                       0.03 * embeddings_dict['my'] +\n",
    "                       0.13 * embeddings_dict['crew'])\n",
    "self_attention_ship"
   ]
  },
  {
   "attachments": {},
   "cell_type": "markdown",
   "id": "cc714db7-aa8d-41de-b844-0e2299ae829d",
   "metadata": {},
   "source": [
    "Exact and complete computation of the whole matrix with torch of \n",
    "$$\n",
    "\\text{softmax}(\\frac{{Q}  {K}^\\intercal}{\\sqrt{d_k}})  {V} :\n",
    "$$"
   ]
  },
  {
   "cell_type": "code",
   "execution_count": 27,
   "id": "6ea8976f-3ee2-406d-9318-2ca0eecb5616",
   "metadata": {
    "tags": []
   },
   "outputs": [],
   "source": [
    "self_attention_output_o = attn_weights_o @ X_o"
   ]
  },
  {
   "attachments": {},
   "cell_type": "markdown",
   "id": "1afaa573-f2bd-49d2-9cb5-dced32b4c5a3",
   "metadata": {},
   "source": [
    "The contextual embeddings for _ship:_"
   ]
  },
  {
   "cell_type": "code",
   "execution_count": 28,
   "id": "069655f9-bd3a-4b04-903a-c65ae881baec",
   "metadata": {},
   "outputs": [
    {
     "data": {
      "text/plain": [
       "tensor([ 1.0387,  0.1033,  0.3426, -0.4320,  0.2237, -0.0958, -0.9926,  0.6662,\n",
       "         0.4424, -0.7942,  0.5638,  0.9921,  0.0205,  0.5082,  0.0743, -0.1773,\n",
       "        -0.3408,  0.5675, -1.1545, -0.5718,  0.4288,  0.4191, -0.0658, -0.3339,\n",
       "         0.6682, -1.7473, -0.0485,  0.1531,  0.8642, -0.1447,  2.6571, -0.0545,\n",
       "        -0.5343,  0.3160,  0.4041,  0.2277,  0.3958, -0.2916, -0.1126, -0.1385,\n",
       "         0.1744, -0.5375,  0.9499, -0.4145, -0.1039, -0.1755, -0.2213, -0.3995,\n",
       "         0.2119, -0.3610])"
      ]
     },
     "execution_count": 28,
     "metadata": {},
     "output_type": "execute_result"
    }
   ],
   "source": [
    "self_attention_output_o[6]"
   ]
  },
  {
   "attachments": {},
   "cell_type": "markdown",
   "id": "3011b9ef",
   "metadata": {},
   "source": [
    "We can now write an `attention` function "
   ]
  },
  {
   "cell_type": "code",
   "execution_count": 29,
   "id": "3b4c43aa",
   "metadata": {},
   "outputs": [],
   "source": [
    "def attention(Q, K, V):\n",
    "    d_k = K.size(dim=-1)\n",
    "    attn_weights = F.softmax(Q @ K.T/math.sqrt(d_k), dim=-1)\n",
    "    attn_output = attn_weights @ V\n",
    "    return attn_output, attn_weights"
   ]
  },
  {
   "attachments": {},
   "cell_type": "markdown",
   "id": "9fc9eaba",
   "metadata": {},
   "source": [
    "The word _ship_ in another context: _We process and ship your order_"
   ]
  },
  {
   "cell_type": "code",
   "execution_count": 30,
   "id": "70859d60",
   "metadata": {},
   "outputs": [],
   "source": [
    "attention_output_a, attn_weights_a = attention(X_a, X_a, X_a)"
   ]
  },
  {
   "attachments": {},
   "cell_type": "markdown",
   "id": "4cbaaf4a",
   "metadata": {},
   "source": [
    "Attention weights for _ship:_"
   ]
  },
  {
   "cell_type": "code",
   "execution_count": 31,
   "id": "a8bfb2ca",
   "metadata": {},
   "outputs": [
    {
     "data": {
      "text/plain": [
       "tensor([0.0431, 0.0258, 0.0419, 0.7811, 0.0490, 0.0590])"
      ]
     },
     "execution_count": 31,
     "metadata": {},
     "output_type": "execute_result"
    }
   ],
   "source": [
    "attn_weights_a[3]"
   ]
  },
  {
   "cell_type": "code",
   "execution_count": 32,
   "id": "a45d66fc",
   "metadata": {},
   "outputs": [
    {
     "name": "stdout",
     "output_type": "stream",
     "text": [
      "\twe\tprocess\tand\tship\tyour\torder\t\n",
      "we\t0.61\t0.06\t0.06\t0.02\t0.20\t0.05\t\n",
      "process\t0.17\t0.50\t0.08\t0.03\t0.11\t0.11\t\n",
      "and\t0.22\t0.12\t0.30\t0.08\t0.15\t0.13\t\n",
      "ship\t0.04\t0.03\t0.04\t0.78\t0.05\t0.06\t\n",
      "your\t0.14\t0.03\t0.03\t0.02\t0.74\t0.04\t\n",
      "order\t0.16\t0.13\t0.10\t0.09\t0.18\t0.34\t\n"
     ]
    }
   ],
   "source": [
    "print_attn_weights(words_a, embeddings_dict)"
   ]
  },
  {
   "attachments": {},
   "cell_type": "markdown",
   "id": "1963dec4",
   "metadata": {},
   "source": [
    "The new contextual embeddings for _ship:_"
   ]
  },
  {
   "cell_type": "code",
   "execution_count": 33,
   "id": "37a2b793",
   "metadata": {},
   "outputs": [
    {
     "data": {
      "text/plain": [
       "tensor([ 1.2758,  0.1034,  0.2720, -0.4776,  0.1746, -0.1060, -0.9901,  0.6328,\n",
       "         0.6967, -0.8847,  0.7106,  1.2264,  0.2491,  0.5023, -0.1277, -0.2361,\n",
       "        -0.3709,  0.6545, -1.2587, -0.5332,  0.6681,  0.1687, -0.2567, -0.4218,\n",
       "         0.6960, -1.7077, -0.0052,  0.1572,  1.0763,  0.0410,  2.5467, -0.3418,\n",
       "        -0.5414,  0.4175,  0.4147,  0.2666,  0.3770, -0.4228, -0.2462, -0.0377,\n",
       "         0.3202, -0.7298,  1.2020, -0.5636, -0.0899, -0.1845, -0.2390, -0.4307,\n",
       "         0.3828, -0.4905])"
      ]
     },
     "execution_count": 33,
     "metadata": {},
     "output_type": "execute_result"
    }
   ],
   "source": [
    "attention_output_a[3]"
   ]
  },
  {
   "cell_type": "markdown",
   "id": "8cb065c0",
   "metadata": {},
   "source": [
    "### Adding a mask"
   ]
  },
  {
   "cell_type": "code",
   "execution_count": 34,
   "id": "0a0381d2",
   "metadata": {},
   "outputs": [
    {
     "data": {
      "text/plain": [
       "tensor([[0., -inf, -inf, -inf, -inf, -inf],\n",
       "        [0., 0., -inf, -inf, -inf, -inf],\n",
       "        [0., 0., 0., -inf, -inf, -inf],\n",
       "        [0., 0., 0., 0., -inf, -inf],\n",
       "        [0., 0., 0., 0., 0., -inf],\n",
       "        [0., 0., 0., 0., 0., 0.]])"
      ]
     },
     "execution_count": 34,
     "metadata": {},
     "output_type": "execute_result"
    }
   ],
   "source": [
    "def attn_mask(size):\n",
    "    U = torch.empty(size, size).fill_(float('-inf'))\n",
    "    return torch.triu(U, diagonal=1)\n",
    "\n",
    "\n",
    "attn_mask(6)"
   ]
  },
  {
   "cell_type": "code",
   "execution_count": 35,
   "id": "292e6b86",
   "metadata": {},
   "outputs": [],
   "source": [
    "def attention_masked(Q, K, V, U):\n",
    "    d_k = K.size(dim=-1)\n",
    "    attn_weights = F.softmax(Q @ K.T/math.sqrt(d_k)\n",
    "                             + U, dim=-1)\n",
    "    attn_output = attn_weights @ V\n",
    "    return attn_output, attn_weights"
   ]
  },
  {
   "cell_type": "code",
   "execution_count": 36,
   "id": "450038fb",
   "metadata": {},
   "outputs": [
    {
     "data": {
      "text/plain": [
       "tensor([[0., -inf, -inf, -inf, -inf, -inf, -inf, -inf, -inf, -inf, -inf],\n",
       "        [0., 0., -inf, -inf, -inf, -inf, -inf, -inf, -inf, -inf, -inf],\n",
       "        [0., 0., 0., -inf, -inf, -inf, -inf, -inf, -inf, -inf, -inf],\n",
       "        [0., 0., 0., 0., -inf, -inf, -inf, -inf, -inf, -inf, -inf],\n",
       "        [0., 0., 0., 0., 0., -inf, -inf, -inf, -inf, -inf, -inf],\n",
       "        [0., 0., 0., 0., 0., 0., -inf, -inf, -inf, -inf, -inf],\n",
       "        [0., 0., 0., 0., 0., 0., 0., -inf, -inf, -inf, -inf],\n",
       "        [0., 0., 0., 0., 0., 0., 0., 0., -inf, -inf, -inf],\n",
       "        [0., 0., 0., 0., 0., 0., 0., 0., 0., -inf, -inf],\n",
       "        [0., 0., 0., 0., 0., 0., 0., 0., 0., 0., -inf],\n",
       "        [0., 0., 0., 0., 0., 0., 0., 0., 0., 0., 0.]])"
      ]
     },
     "execution_count": 36,
     "metadata": {},
     "output_type": "execute_result"
    }
   ],
   "source": [
    "U = attn_mask(X_o.size(dim=0))\n",
    "U"
   ]
  },
  {
   "cell_type": "code",
   "execution_count": 37,
   "id": "f71dac44",
   "metadata": {},
   "outputs": [],
   "source": [
    "vectors_m, weights_m = attention_masked(X_o, X_o, X_o, U)"
   ]
  },
  {
   "cell_type": "code",
   "execution_count": 38,
   "id": "c64462b9",
   "metadata": {},
   "outputs": [
    {
     "data": {
      "text/plain": [
       "tensor([[1.00, 0.00, 0.00, 0.00, 0.00, 0.00, 0.00, 0.00, 0.00, 0.00, 0.00],\n",
       "        [0.42, 0.58, 0.00, 0.00, 0.00, 0.00, 0.00, 0.00, 0.00, 0.00, 0.00],\n",
       "        [0.44, 0.22, 0.35, 0.00, 0.00, 0.00, 0.00, 0.00, 0.00, 0.00, 0.00],\n",
       "        [0.29, 0.11, 0.19, 0.40, 0.00, 0.00, 0.00, 0.00, 0.00, 0.00, 0.00],\n",
       "        [0.20, 0.20, 0.16, 0.17, 0.27, 0.00, 0.00, 0.00, 0.00, 0.00, 0.00],\n",
       "        [0.30, 0.05, 0.08, 0.07, 0.04, 0.45, 0.00, 0.00, 0.00, 0.00, 0.00],\n",
       "        [0.04, 0.04, 0.04, 0.05, 0.06, 0.04, 0.73, 0.00, 0.00, 0.00, 0.00],\n",
       "        [0.14, 0.10, 0.09, 0.13, 0.16, 0.12, 0.05, 0.21, 0.00, 0.00, 0.00],\n",
       "        [0.12, 0.12, 0.10, 0.11, 0.16, 0.10, 0.04, 0.08, 0.16, 0.00, 0.00],\n",
       "        [0.20, 0.03, 0.05, 0.05, 0.03, 0.29, 0.01, 0.02, 0.03, 0.29, 0.00],\n",
       "        [0.06, 0.05, 0.05, 0.06, 0.05, 0.06, 0.21, 0.04, 0.05, 0.06, 0.31]])"
      ]
     },
     "execution_count": 38,
     "metadata": {},
     "output_type": "execute_result"
    }
   ],
   "source": [
    "torch.set_printoptions(precision=2)\n",
    "weights_m"
   ]
  },
  {
   "cell_type": "markdown",
   "id": "8a45958f",
   "metadata": {},
   "source": [
    "## Attention class"
   ]
  },
  {
   "cell_type": "code",
   "execution_count": 39,
   "id": "4388274f",
   "metadata": {},
   "outputs": [],
   "source": [
    "class Attention(nn.Module):\n",
    "    def __init__(self, d_model, d_k):\n",
    "        super().__init__()\n",
    "        self.WQ = nn.Linear(d_model, d_k)\n",
    "        self.WK = nn.Linear(d_model, d_k)\n",
    "        self.WV = nn.Linear(d_model, d_k)\n",
    "\n",
    "    def forward(self, X):\n",
    "        attn_output, attn_weights = attention(self.WQ(X),\n",
    "                                              self.WK(X),\n",
    "                                              self.WV(X))\n",
    "        return attn_output, attn_weights"
   ]
  },
  {
   "cell_type": "code",
   "execution_count": 40,
   "id": "6ed4bf39",
   "metadata": {},
   "outputs": [
    {
     "data": {
      "text/plain": [
       "(tensor([[-0.33, -0.09, -0.34,  0.49,  0.65, -0.36, -0.09,  0.51, -0.10, -0.64,\n",
       "          -0.54,  0.30,  0.91,  0.05,  0.02,  0.20, -0.51,  0.38,  0.27,  0.01,\n",
       "          -0.15,  0.24,  0.39, -0.14,  0.11,  0.03, -0.36, -0.09,  0.02,  0.42,\n",
       "           0.11,  0.02,  0.42, -0.38,  0.24, -0.53,  0.22,  0.08,  0.33, -0.61,\n",
       "           0.23, -0.10,  0.58,  0.27,  0.41, -0.27,  0.27, -0.43,  0.48,  0.04],\n",
       "         [-0.33, -0.08, -0.34,  0.46,  0.65, -0.32, -0.08,  0.48, -0.11, -0.63,\n",
       "          -0.56,  0.30,  0.88,  0.05,  0.02,  0.20, -0.50,  0.38,  0.26,  0.02,\n",
       "          -0.15,  0.23,  0.38, -0.18,  0.11,  0.02, -0.37, -0.07,  0.02,  0.43,\n",
       "           0.06,  0.03,  0.42, -0.39,  0.25, -0.48,  0.22,  0.09,  0.33, -0.62,\n",
       "           0.25, -0.10,  0.56,  0.25,  0.41, -0.28,  0.26, -0.43,  0.46,  0.03],\n",
       "         [-0.34, -0.09, -0.34,  0.48,  0.64, -0.33, -0.08,  0.48, -0.11, -0.65,\n",
       "          -0.55,  0.29,  0.89,  0.05, -0.00,  0.20, -0.50,  0.38,  0.27,  0.01,\n",
       "          -0.15,  0.24,  0.38, -0.17,  0.12,  0.03, -0.37, -0.08,  0.02,  0.42,\n",
       "           0.08,  0.02,  0.43, -0.39,  0.23, -0.51,  0.22,  0.09,  0.34, -0.61,\n",
       "           0.23, -0.10,  0.57,  0.25,  0.41, -0.26,  0.27, -0.43,  0.46,  0.02],\n",
       "         [-0.34, -0.08, -0.34,  0.46,  0.64, -0.30, -0.08,  0.46, -0.12, -0.64,\n",
       "          -0.57,  0.29,  0.87,  0.06, -0.01,  0.19, -0.50,  0.39,  0.27,  0.01,\n",
       "          -0.15,  0.23,  0.37, -0.19,  0.13,  0.03, -0.37, -0.07,  0.02,  0.43,\n",
       "           0.04,  0.03,  0.43, -0.39,  0.23, -0.48,  0.22,  0.09,  0.34, -0.62,\n",
       "           0.24, -0.09,  0.57,  0.24,  0.41, -0.27,  0.27, -0.42,  0.45,  0.02],\n",
       "         [-0.33, -0.08, -0.34,  0.45,  0.64, -0.30, -0.08,  0.46, -0.12, -0.63,\n",
       "          -0.57,  0.30,  0.87,  0.05,  0.01,  0.19, -0.50,  0.38,  0.26,  0.02,\n",
       "          -0.15,  0.23,  0.37, -0.19,  0.12,  0.03, -0.37, -0.06,  0.02,  0.43,\n",
       "           0.03,  0.03,  0.43, -0.39,  0.24, -0.46,  0.22,  0.09,  0.34, -0.62,\n",
       "           0.25, -0.10,  0.56,  0.24,  0.41, -0.28,  0.26, -0.43,  0.44,  0.02],\n",
       "         [-0.34, -0.08, -0.34,  0.48,  0.65, -0.33, -0.08,  0.48, -0.11, -0.65,\n",
       "          -0.56,  0.29,  0.89,  0.06, -0.00,  0.19, -0.51,  0.39,  0.28,  0.00,\n",
       "          -0.15,  0.24,  0.38, -0.17,  0.12,  0.03, -0.37, -0.08,  0.02,  0.42,\n",
       "           0.08,  0.02,  0.43, -0.39,  0.23, -0.51,  0.22,  0.09,  0.34, -0.61,\n",
       "           0.23, -0.10,  0.57,  0.25,  0.41, -0.27,  0.27, -0.42,  0.47,  0.02],\n",
       "         [-0.32, -0.08, -0.34,  0.44,  0.64, -0.28, -0.07,  0.44, -0.13, -0.62,\n",
       "          -0.57,  0.30,  0.85,  0.05,  0.01,  0.18, -0.49,  0.38,  0.25,  0.03,\n",
       "          -0.16,  0.22,  0.37, -0.22,  0.12,  0.03, -0.37, -0.05,  0.02,  0.44,\n",
       "           0.01,  0.04,  0.43, -0.39,  0.25, -0.44,  0.21,  0.09,  0.34, -0.62,\n",
       "           0.25, -0.09,  0.57,  0.22,  0.41, -0.29,  0.26, -0.43,  0.42,  0.02],\n",
       "         [-0.34, -0.08, -0.34,  0.45,  0.64, -0.29, -0.08,  0.45, -0.12, -0.64,\n",
       "          -0.57,  0.29,  0.86,  0.05, -0.01,  0.19, -0.49,  0.39,  0.26,  0.01,\n",
       "          -0.16,  0.23,  0.37, -0.20,  0.13,  0.03, -0.37, -0.06,  0.02,  0.43,\n",
       "           0.03,  0.03,  0.43, -0.40,  0.23, -0.47,  0.22,  0.09,  0.34, -0.62,\n",
       "           0.24, -0.09,  0.57,  0.24,  0.41, -0.27,  0.27, -0.42,  0.44,  0.01],\n",
       "         [-0.33, -0.08, -0.34,  0.45,  0.64, -0.30, -0.08,  0.46, -0.12, -0.63,\n",
       "          -0.57,  0.30,  0.87,  0.05,  0.01,  0.19, -0.50,  0.38,  0.26,  0.02,\n",
       "          -0.15,  0.23,  0.37, -0.19,  0.12,  0.03, -0.37, -0.06,  0.02,  0.43,\n",
       "           0.03,  0.03,  0.43, -0.39,  0.24, -0.46,  0.22,  0.09,  0.34, -0.62,\n",
       "           0.25, -0.10,  0.56,  0.24,  0.41, -0.28,  0.26, -0.43,  0.44,  0.02],\n",
       "         [-0.34, -0.08, -0.34,  0.48,  0.65, -0.33, -0.08,  0.48, -0.11, -0.65,\n",
       "          -0.56,  0.29,  0.89,  0.06, -0.00,  0.19, -0.51,  0.39,  0.28,  0.00,\n",
       "          -0.15,  0.24,  0.38, -0.17,  0.12,  0.03, -0.37, -0.08,  0.02,  0.42,\n",
       "           0.08,  0.02,  0.43, -0.39,  0.23, -0.51,  0.22,  0.09,  0.34, -0.61,\n",
       "           0.23, -0.10,  0.57,  0.25,  0.41, -0.27,  0.27, -0.42,  0.47,  0.02],\n",
       "         [-0.33, -0.09, -0.33,  0.44,  0.64, -0.28, -0.08,  0.43, -0.13, -0.63,\n",
       "          -0.58,  0.29,  0.86,  0.05, -0.01,  0.18, -0.49,  0.39,  0.26,  0.01,\n",
       "          -0.16,  0.22,  0.36, -0.21,  0.13,  0.03, -0.37, -0.06,  0.02,  0.44,\n",
       "           0.01,  0.03,  0.43, -0.40,  0.23, -0.46,  0.22,  0.09,  0.34, -0.62,\n",
       "           0.24, -0.09,  0.57,  0.22,  0.41, -0.27,  0.27, -0.43,  0.43,  0.01]],\n",
       "        grad_fn=<MmBackward0>),\n",
       " tensor([[0.13, 0.08, 0.09, 0.08, 0.07, 0.12, 0.06, 0.09, 0.07, 0.12, 0.08],\n",
       "         [0.13, 0.08, 0.09, 0.08, 0.08, 0.10, 0.08, 0.08, 0.08, 0.10, 0.10],\n",
       "         [0.12, 0.09, 0.09, 0.08, 0.08, 0.11, 0.07, 0.09, 0.08, 0.11, 0.09],\n",
       "         [0.11, 0.09, 0.10, 0.08, 0.08, 0.09, 0.08, 0.09, 0.08, 0.09, 0.10],\n",
       "         [0.11, 0.09, 0.09, 0.08, 0.08, 0.10, 0.09, 0.09, 0.08, 0.10, 0.11],\n",
       "         [0.13, 0.09, 0.09, 0.08, 0.08, 0.10, 0.07, 0.09, 0.08, 0.10, 0.09],\n",
       "         [0.09, 0.09, 0.10, 0.07, 0.08, 0.10, 0.10, 0.09, 0.08, 0.10, 0.12],\n",
       "         [0.11, 0.09, 0.10, 0.08, 0.09, 0.09, 0.09, 0.09, 0.09, 0.09, 0.10],\n",
       "         [0.11, 0.09, 0.09, 0.08, 0.08, 0.10, 0.09, 0.09, 0.08, 0.10, 0.11],\n",
       "         [0.13, 0.09, 0.09, 0.08, 0.08, 0.10, 0.07, 0.09, 0.08, 0.10, 0.09],\n",
       "         [0.09, 0.10, 0.11, 0.07, 0.08, 0.09, 0.09, 0.09, 0.08, 0.09, 0.11]],\n",
       "        grad_fn=<SoftmaxBackward0>))"
      ]
     },
     "execution_count": 40,
     "metadata": {},
     "output_type": "execute_result"
    }
   ],
   "source": [
    "attn = Attention(X_o.size(dim=1), X_o.size(dim=1))\n",
    "attn(X_o)"
   ]
  },
  {
   "attachments": {},
   "cell_type": "markdown",
   "id": "86dd9e67-74f1-4188-b5cc-8fee780a2a1d",
   "metadata": {},
   "source": [
    "## PyTorch implementation\n",
    " \n",
    "PyTorch has an implementation of self-attention encapsulated in the `MultiheadAttention` class. Before going to the attention module, the query, key value, goes through a linear layer. The output also goes through a linear layer. These three layers are initialized with Xavier's algorithm."
   ]
  },
  {
   "cell_type": "code",
   "execution_count": 41,
   "id": "69c3124e-0197-4713-a837-c880734509bd",
   "metadata": {},
   "outputs": [],
   "source": [
    "from torch.nn import MultiheadAttention\n",
    "\n",
    "att_layer = MultiheadAttention(50,\n",
    "                               1,\n",
    "                               bias=False,\n",
    "                               batch_first=True)"
   ]
  },
  {
   "cell_type": "code",
   "execution_count": 42,
   "id": "396c1d82-c5a2-4fee-be93-54229835eea1",
   "metadata": {},
   "outputs": [],
   "source": [
    "(attn_output, attn_weights) = att_layer(X_o, X_o, X_o)"
   ]
  },
  {
   "attachments": {},
   "cell_type": "markdown",
   "id": "50c42892-b9cb-4e06-a63f-b1b9f79506db",
   "metadata": {},
   "source": [
    "The attention weights for _ship:_"
   ]
  },
  {
   "cell_type": "code",
   "execution_count": 43,
   "id": "a6164627-82f0-4f9d-8c55-e48d05a6f155",
   "metadata": {},
   "outputs": [
    {
     "data": {
      "text/plain": [
       "tensor([0.11, 0.10, 0.11, 0.10, 0.09, 0.09, 0.08, 0.08, 0.09, 0.09, 0.07],\n",
       "       grad_fn=<SelectBackward0>)"
      ]
     },
     "execution_count": 43,
     "metadata": {},
     "output_type": "execute_result"
    }
   ],
   "source": [
    "attn_weights[6]"
   ]
  },
  {
   "cell_type": "code",
   "execution_count": 44,
   "id": "cf8e1e4b",
   "metadata": {},
   "outputs": [
    {
     "data": {
      "text/plain": [
       "tensor([-0.32,  0.09,  0.07,  0.39,  0.13, -0.03, -0.44, -0.18, -0.02, -0.03,\n",
       "        -0.04, -0.11, -0.06,  0.07,  0.40, -0.05, -0.53,  0.10,  0.24, -0.05,\n",
       "         0.20, -0.23, -0.02, -0.33,  0.01, -0.35,  0.20, -0.02, -0.28, -0.11,\n",
       "         0.37,  0.56,  0.23,  0.12,  0.05,  0.21, -0.01, -0.03,  0.46,  0.30,\n",
       "         0.10, -0.16,  0.36,  0.00, -0.05, -0.20,  0.34,  0.03, -0.14,  0.12],\n",
       "       grad_fn=<SelectBackward0>)"
      ]
     },
     "execution_count": 44,
     "metadata": {},
     "output_type": "execute_result"
    }
   ],
   "source": [
    "attn_output[6]"
   ]
  },
  {
   "attachments": {},
   "cell_type": "markdown",
   "id": "0c724425-8380-4eb3-8610-a8942e0cad6a",
   "metadata": {},
   "source": [
    "### The initial dense layers"
   ]
  },
  {
   "attachments": {},
   "cell_type": "markdown",
   "id": "223bbf4b-0deb-4337-843a-d5a35452fed4",
   "metadata": {},
   "source": [
    "The weight initial values with the 4 matrices"
   ]
  },
  {
   "cell_type": "code",
   "execution_count": 45,
   "id": "d6b39896",
   "metadata": {},
   "outputs": [
    {
     "data": {
      "text/plain": [
       "OrderedDict([('in_proj_weight',\n",
       "              tensor([[ 0.10, -0.09,  0.03,  ..., -0.00, -0.02,  0.07],\n",
       "                      [-0.14, -0.02,  0.15,  ..., -0.12,  0.05,  0.06],\n",
       "                      [-0.12,  0.02, -0.09,  ..., -0.03, -0.09, -0.01],\n",
       "                      ...,\n",
       "                      [ 0.13,  0.16,  0.03,  ..., -0.09,  0.16,  0.01],\n",
       "                      [-0.10,  0.12, -0.02,  ...,  0.09,  0.03, -0.17],\n",
       "                      [ 0.05, -0.01,  0.15,  ..., -0.03, -0.05, -0.15]])),\n",
       "             ('out_proj.weight',\n",
       "              tensor([[-0.08, -0.14,  0.00,  ...,  0.00, -0.08, -0.04],\n",
       "                      [ 0.12,  0.05,  0.08,  ..., -0.06,  0.11,  0.05],\n",
       "                      [ 0.07,  0.13, -0.14,  ..., -0.08,  0.09, -0.11],\n",
       "                      ...,\n",
       "                      [ 0.02, -0.04,  0.12,  ...,  0.03,  0.10, -0.04],\n",
       "                      [-0.05, -0.11, -0.10,  ..., -0.09, -0.02,  0.01],\n",
       "                      [ 0.07, -0.13,  0.07,  ...,  0.11, -0.06,  0.01]]))])"
      ]
     },
     "execution_count": 45,
     "metadata": {},
     "output_type": "execute_result"
    }
   ],
   "source": [
    "att_layer.state_dict()"
   ]
  },
  {
   "attachments": {},
   "cell_type": "markdown",
   "id": "6c3639ae",
   "metadata": {},
   "source": [
    "The three input matrices are concatenated"
   ]
  },
  {
   "cell_type": "code",
   "execution_count": 46,
   "id": "8435791e",
   "metadata": {},
   "outputs": [
    {
     "data": {
      "text/plain": [
       "torch.Size([150, 50])"
      ]
     },
     "execution_count": 46,
     "metadata": {},
     "output_type": "execute_result"
    }
   ],
   "source": [
    "att_layer.state_dict()['in_proj_weight'].size()"
   ]
  },
  {
   "attachments": {},
   "cell_type": "markdown",
   "id": "c71e7253",
   "metadata": {},
   "source": [
    "The output matrix"
   ]
  },
  {
   "cell_type": "code",
   "execution_count": 47,
   "id": "e8b77b71",
   "metadata": {},
   "outputs": [
    {
     "data": {
      "text/plain": [
       "torch.Size([50, 50])"
      ]
     },
     "execution_count": 47,
     "metadata": {},
     "output_type": "execute_result"
    }
   ],
   "source": [
    "att_layer.state_dict()['out_proj.weight'].size()"
   ]
  },
  {
   "attachments": {},
   "cell_type": "markdown",
   "id": "ce5b4492",
   "metadata": {},
   "source": [
    "### By-passing the dense layers"
   ]
  },
  {
   "attachments": {},
   "cell_type": "markdown",
   "id": "e8a3cb2d",
   "metadata": {},
   "source": [
    "We create identity matrices to pass through the dense layers and recover the attention output values and weights"
   ]
  },
  {
   "cell_type": "code",
   "execution_count": 48,
   "id": "64bd80d1",
   "metadata": {},
   "outputs": [
    {
     "data": {
      "text/plain": [
       "tensor([[1., 0., 0.,  ..., 0., 0., 0.],\n",
       "        [0., 1., 0.,  ..., 0., 0., 0.],\n",
       "        [0., 0., 1.,  ..., 0., 0., 0.],\n",
       "        ...,\n",
       "        [0., 0., 0.,  ..., 1., 0., 0.],\n",
       "        [0., 0., 0.,  ..., 0., 1., 0.],\n",
       "        [0., 0., 0.,  ..., 0., 0., 1.]])"
      ]
     },
     "execution_count": 48,
     "metadata": {},
     "output_type": "execute_result"
    }
   ],
   "source": [
    "i_50 = torch.eye(50)\n",
    "i_50"
   ]
  },
  {
   "cell_type": "code",
   "execution_count": 49,
   "id": "37832b84",
   "metadata": {},
   "outputs": [],
   "source": [
    "att_layer.state_dict()['out_proj.weight'][:] = i_50"
   ]
  },
  {
   "cell_type": "code",
   "execution_count": 50,
   "id": "169efcfa",
   "metadata": {},
   "outputs": [
    {
     "data": {
      "text/plain": [
       "torch.Size([150, 50])"
      ]
     },
     "execution_count": 50,
     "metadata": {},
     "output_type": "execute_result"
    }
   ],
   "source": [
    "att_layer.state_dict()['in_proj_weight'].size()"
   ]
  },
  {
   "cell_type": "code",
   "execution_count": 51,
   "id": "b863032a",
   "metadata": {},
   "outputs": [
    {
     "data": {
      "text/plain": [
       "torch.Size([150, 50])"
      ]
     },
     "execution_count": 51,
     "metadata": {},
     "output_type": "execute_result"
    }
   ],
   "source": [
    "i_3_50 = torch.vstack((i_50, i_50, i_50))\n",
    "i_3_50.size()"
   ]
  },
  {
   "cell_type": "code",
   "execution_count": 52,
   "id": "ea234af2",
   "metadata": {},
   "outputs": [],
   "source": [
    "att_layer.state_dict()['in_proj_weight'][:] = i_3_50"
   ]
  },
  {
   "cell_type": "code",
   "execution_count": 53,
   "id": "b879275e",
   "metadata": {},
   "outputs": [
    {
     "data": {
      "text/plain": [
       "OrderedDict([('in_proj_weight',\n",
       "              tensor([[1., 0., 0.,  ..., 0., 0., 0.],\n",
       "                      [0., 1., 0.,  ..., 0., 0., 0.],\n",
       "                      [0., 0., 1.,  ..., 0., 0., 0.],\n",
       "                      ...,\n",
       "                      [0., 0., 0.,  ..., 1., 0., 0.],\n",
       "                      [0., 0., 0.,  ..., 0., 1., 0.],\n",
       "                      [0., 0., 0.,  ..., 0., 0., 1.]])),\n",
       "             ('out_proj.weight',\n",
       "              tensor([[1., 0., 0.,  ..., 0., 0., 0.],\n",
       "                      [0., 1., 0.,  ..., 0., 0., 0.],\n",
       "                      [0., 0., 1.,  ..., 0., 0., 0.],\n",
       "                      ...,\n",
       "                      [0., 0., 0.,  ..., 1., 0., 0.],\n",
       "                      [0., 0., 0.,  ..., 0., 1., 0.],\n",
       "                      [0., 0., 0.,  ..., 0., 0., 1.]]))])"
      ]
     },
     "execution_count": 53,
     "metadata": {},
     "output_type": "execute_result"
    }
   ],
   "source": [
    "att_layer.state_dict()"
   ]
  },
  {
   "attachments": {},
   "cell_type": "markdown",
   "id": "a3f34906-38db-488d-b127-c76fc070e7b1",
   "metadata": {},
   "source": [
    "### Multihead attention without the dense layers"
   ]
  },
  {
   "attachments": {},
   "cell_type": "markdown",
   "id": "26b083c3-77b0-4115-a3aa-7041a9f8be15",
   "metadata": {},
   "source": [
    "We obtain now the same results as the `self_attention()` function for _ship:_"
   ]
  },
  {
   "attachments": {},
   "cell_type": "markdown",
   "id": "4de86e9c-c982-4eb0-a725-595ee7bd9782",
   "metadata": {},
   "source": [
    "The attention weights for _ship:_"
   ]
  },
  {
   "cell_type": "code",
   "execution_count": 54,
   "id": "9f5c93cd-f8dd-4611-bee7-98eec7e69438",
   "metadata": {},
   "outputs": [],
   "source": [
    "(attn_output, attn_weights) = att_layer(X_o, X_o, X_o)"
   ]
  },
  {
   "attachments": {},
   "cell_type": "markdown",
   "id": "e926183c-0734-49c7-9480-190f6c892adf",
   "metadata": {},
   "source": [
    "The attention vector for _ship:_"
   ]
  },
  {
   "cell_type": "code",
   "execution_count": 55,
   "id": "197dc6c5",
   "metadata": {},
   "outputs": [
    {
     "data": {
      "text/plain": [
       "tensor([0.03, 0.03, 0.03, 0.04, 0.05, 0.03, 0.55, 0.03, 0.05, 0.03, 0.13],\n",
       "       grad_fn=<SelectBackward0>)"
      ]
     },
     "execution_count": 55,
     "metadata": {},
     "output_type": "execute_result"
    }
   ],
   "source": [
    "attn_weights[6]"
   ]
  },
  {
   "attachments": {},
   "cell_type": "markdown",
   "id": "cb4e0315",
   "metadata": {},
   "source": [
    "The embedding vector for _ship_"
   ]
  },
  {
   "cell_type": "code",
   "execution_count": 56,
   "id": "1be2d12f-9e76-4f53-baea-8178dd5a7e4a",
   "metadata": {},
   "outputs": [
    {
     "data": {
      "text/plain": [
       "tensor([ 1.04,  0.10,  0.34, -0.43,  0.22, -0.10, -0.99,  0.67,  0.44, -0.79,\n",
       "         0.56,  0.99,  0.02,  0.51,  0.07, -0.18, -0.34,  0.57, -1.15, -0.57,\n",
       "         0.43,  0.42, -0.07, -0.33,  0.67, -1.75, -0.05,  0.15,  0.86, -0.14,\n",
       "         2.66, -0.05, -0.53,  0.32,  0.40,  0.23,  0.40, -0.29, -0.11, -0.14,\n",
       "         0.17, -0.54,  0.95, -0.41, -0.10, -0.18, -0.22, -0.40,  0.21, -0.36],\n",
       "       grad_fn=<SelectBackward0>)"
      ]
     },
     "execution_count": 56,
     "metadata": {},
     "output_type": "execute_result"
    }
   ],
   "source": [
    "attn_output[6]"
   ]
  },
  {
   "cell_type": "markdown",
   "id": "f6e05c3b",
   "metadata": {},
   "source": [
    "## Multihead"
   ]
  },
  {
   "cell_type": "code",
   "execution_count": 57,
   "id": "1e64fba1",
   "metadata": {},
   "outputs": [],
   "source": [
    "att_layer_5 = MultiheadAttention(50,\n",
    "                                 5,\n",
    "                                 bias=False,\n",
    "                                 batch_first=True)"
   ]
  },
  {
   "cell_type": "code",
   "execution_count": 58,
   "id": "b5d364e3",
   "metadata": {},
   "outputs": [],
   "source": [
    "attn_output, attn_weights = att_layer_5(X_o, X_o, X_o)"
   ]
  },
  {
   "cell_type": "code",
   "execution_count": 59,
   "id": "ef1b2875",
   "metadata": {},
   "outputs": [
    {
     "data": {
      "text/plain": [
       "torch.Size([11, 50])"
      ]
     },
     "execution_count": 59,
     "metadata": {},
     "output_type": "execute_result"
    }
   ],
   "source": [
    "attn_output.size()"
   ]
  },
  {
   "cell_type": "code",
   "execution_count": 60,
   "id": "0ca7e566",
   "metadata": {},
   "outputs": [
    {
     "data": {
      "text/plain": [
       "torch.Size([11, 11])"
      ]
     },
     "execution_count": 60,
     "metadata": {},
     "output_type": "execute_result"
    }
   ],
   "source": [
    "attn_weights.size()"
   ]
  },
  {
   "cell_type": "code",
   "execution_count": 61,
   "id": "464ec533",
   "metadata": {},
   "outputs": [
    {
     "data": {
      "text/plain": [
       "OrderedDict([('in_proj_weight',\n",
       "              tensor([[-0.13, -0.17, -0.09,  ..., -0.15,  0.07, -0.07],\n",
       "                      [ 0.11, -0.14,  0.12,  ...,  0.00, -0.12, -0.01],\n",
       "                      [ 0.03, -0.07,  0.02,  ..., -0.07,  0.08, -0.13],\n",
       "                      ...,\n",
       "                      [ 0.01,  0.00, -0.00,  ...,  0.05, -0.04,  0.11],\n",
       "                      [ 0.09,  0.13,  0.09,  ...,  0.12,  0.02, -0.08],\n",
       "                      [-0.15,  0.06,  0.09,  ..., -0.01,  0.13, -0.02]])),\n",
       "             ('out_proj.weight',\n",
       "              tensor([[ 0.08,  0.03,  0.10,  ...,  0.05,  0.04,  0.10],\n",
       "                      [-0.04,  0.04, -0.01,  ..., -0.13, -0.08,  0.10],\n",
       "                      [ 0.14, -0.05, -0.13,  ..., -0.03, -0.05,  0.02],\n",
       "                      ...,\n",
       "                      [-0.01,  0.12,  0.14,  ...,  0.09,  0.01,  0.13],\n",
       "                      [-0.13,  0.09, -0.06,  ...,  0.09,  0.11,  0.04],\n",
       "                      [-0.08, -0.03,  0.03,  ..., -0.02, -0.10, -0.02]]))])"
      ]
     },
     "execution_count": 61,
     "metadata": {},
     "output_type": "execute_result"
    }
   ],
   "source": [
    "att_layer_5.state_dict()"
   ]
  },
  {
   "cell_type": "code",
   "execution_count": 62,
   "id": "62cf8371",
   "metadata": {},
   "outputs": [
    {
     "data": {
      "text/plain": [
       "torch.Size([150, 50])"
      ]
     },
     "execution_count": 62,
     "metadata": {},
     "output_type": "execute_result"
    }
   ],
   "source": [
    "att_layer_5.state_dict()['in_proj_weight'].size()"
   ]
  },
  {
   "cell_type": "code",
   "execution_count": 63,
   "id": "49d1ab5b",
   "metadata": {},
   "outputs": [
    {
     "data": {
      "text/plain": [
       "torch.Size([50, 50])"
      ]
     },
     "execution_count": 63,
     "metadata": {},
     "output_type": "execute_result"
    }
   ],
   "source": [
    "att_layer_5.state_dict()['out_proj.weight'].size()"
   ]
  },
  {
   "attachments": {},
   "cell_type": "markdown",
   "id": "34ad8d94-0a2d-4e16-ad54-151f2e9facad",
   "metadata": {},
   "source": [
    "## Test with a simple matrix"
   ]
  },
  {
   "attachments": {},
   "cell_type": "markdown",
   "id": "25eda3f0-52b7-4c03-9167-7e331a018853",
   "metadata": {},
   "source": [
    "Three words, dimension of embeddings: 4"
   ]
  },
  {
   "cell_type": "code",
   "execution_count": 64,
   "id": "2663ebcb-8e4b-4720-9ed3-c88a950dc214",
   "metadata": {},
   "outputs": [],
   "source": [
    "X_test = torch.tensor([[1.0, 0.0, 0.0, 1.0],\n",
    "                       [0.0, 1.5, 1.0, 1.0],\n",
    "                       [0.0, 1.0, 1.0, 1.0]])"
   ]
  },
  {
   "cell_type": "code",
   "execution_count": 65,
   "id": "946d88eb-7522-476b-80d4-ceac7af6a2e4",
   "metadata": {},
   "outputs": [
    {
     "data": {
      "text/plain": [
       "torch.Size([3, 4])"
      ]
     },
     "execution_count": 65,
     "metadata": {},
     "output_type": "execute_result"
    }
   ],
   "source": [
    "X_test.size()"
   ]
  },
  {
   "attachments": {},
   "cell_type": "markdown",
   "id": "cab40159-3c6a-45b7-87c4-3fa6f52186a3",
   "metadata": {},
   "source": [
    "### Self-attention\n",
    "We use the function above"
   ]
  },
  {
   "cell_type": "code",
   "execution_count": 66,
   "id": "5bca6930-4deb-456b-8ac7-7bc92d77f51b",
   "metadata": {},
   "outputs": [
    {
     "data": {
      "text/plain": [
       "(tensor([[0.45, 0.69, 0.55, 1.00],\n",
       "         [0.10, 1.16, 0.90, 1.00],\n",
       "         [0.14, 1.10, 0.86, 1.00]]),\n",
       " tensor([[0.45, 0.27, 0.27],\n",
       "         [0.10, 0.53, 0.36],\n",
       "         [0.14, 0.48, 0.38]]))"
      ]
     },
     "execution_count": 66,
     "metadata": {},
     "output_type": "execute_result"
    }
   ],
   "source": [
    "attention(X_test, X_test, X_test)"
   ]
  },
  {
   "attachments": {},
   "cell_type": "markdown",
   "id": "e1cdbf2f-dc0a-4354-bf96-30b99cddee20",
   "metadata": {},
   "source": [
    "### Multihead attention from PyTorch"
   ]
  },
  {
   "cell_type": "code",
   "execution_count": 67,
   "id": "527fc0db-4fd9-413e-9634-a54469adb4ad",
   "metadata": {},
   "outputs": [],
   "source": [
    "att_layer = MultiheadAttention(4,\n",
    "                               1,\n",
    "                               bias=False)"
   ]
  },
  {
   "attachments": {},
   "cell_type": "markdown",
   "id": "0909144a-4c17-45de-82f1-3cb8547eb985",
   "metadata": {},
   "source": [
    "The multihead attention uses a Xavier initialization of the dense layers. The results will be different for those of `attention()`"
   ]
  },
  {
   "cell_type": "code",
   "execution_count": 68,
   "id": "ffd9a3b5-4645-4fa5-8d84-06cc6dd72822",
   "metadata": {},
   "outputs": [
    {
     "data": {
      "text/plain": [
       "(tensor([[-0.07,  0.04, -0.12,  0.15],\n",
       "         [-0.06,  0.03, -0.11,  0.14],\n",
       "         [-0.07,  0.03, -0.12,  0.14]], grad_fn=<SqueezeBackward1>),\n",
       " tensor([[0.37, 0.30, 0.33],\n",
       "         [0.42, 0.28, 0.30],\n",
       "         [0.40, 0.29, 0.31]], grad_fn=<SqueezeBackward1>))"
      ]
     },
     "execution_count": 68,
     "metadata": {},
     "output_type": "execute_result"
    }
   ],
   "source": [
    "att_layer(X_test,\n",
    "          X_test,\n",
    "          X_test)"
   ]
  },
  {
   "attachments": {},
   "cell_type": "markdown",
   "id": "901e889b-a828-40cc-b208-c6688be25c14",
   "metadata": {},
   "source": [
    "Weights of the dense layers"
   ]
  },
  {
   "cell_type": "code",
   "execution_count": 69,
   "id": "8b597eee-fee4-4a15-9aaf-d62e7e9c1b1e",
   "metadata": {},
   "outputs": [
    {
     "data": {
      "text/plain": [
       "OrderedDict([('in_proj_weight',\n",
       "              tensor([[ 0.35, -0.26,  0.12,  0.58],\n",
       "                      [-0.48, -0.61, -0.14,  0.39],\n",
       "                      [-0.43,  0.46, -0.50,  0.44],\n",
       "                      [-0.35, -0.14, -0.20, -0.16],\n",
       "                      [ 0.30, -0.45,  0.40,  0.51],\n",
       "                      [ 0.08,  0.32, -0.12,  0.43],\n",
       "                      [ 0.52, -0.05, -0.50, -0.61],\n",
       "                      [ 0.06, -0.15, -0.08,  0.41],\n",
       "                      [ 0.50, -0.49,  0.49, -0.45],\n",
       "                      [-0.58,  0.32,  0.01,  0.24],\n",
       "                      [ 0.18, -0.33,  0.50,  0.05],\n",
       "                      [ 0.15,  0.20, -0.02, -0.10]])),\n",
       "             ('out_proj.weight',\n",
       "              tensor([[-0.26, -0.40, -0.33,  0.07],\n",
       "                      [-0.13,  0.12, -0.38,  0.27],\n",
       "                      [ 0.16, -0.11, -0.31,  0.17],\n",
       "                      [ 0.09,  0.33,  0.39,  0.22]]))])"
      ]
     },
     "execution_count": 69,
     "metadata": {},
     "output_type": "execute_result"
    }
   ],
   "source": [
    "att_layer.state_dict()"
   ]
  },
  {
   "attachments": {},
   "cell_type": "markdown",
   "id": "ed433e0c-ebad-4319-926c-8d67af07af67",
   "metadata": {},
   "source": [
    "### By-passing the dense layers"
   ]
  },
  {
   "attachments": {},
   "cell_type": "markdown",
   "id": "83941332-2d50-431f-ad4a-3e5e9b0722e7",
   "metadata": {},
   "source": [
    "We use weights of identity matrices"
   ]
  },
  {
   "cell_type": "code",
   "execution_count": 70,
   "id": "ad812cee",
   "metadata": {},
   "outputs": [],
   "source": [
    "i_4 = torch.eye(4)"
   ]
  },
  {
   "cell_type": "code",
   "execution_count": 71,
   "id": "2ebcab2b-c158-41e9-9d5e-4aed62d74416",
   "metadata": {},
   "outputs": [],
   "source": [
    "att_layer.state_dict()['out_proj.weight'][:] = i_4"
   ]
  },
  {
   "cell_type": "code",
   "execution_count": 72,
   "id": "8bbcedb7",
   "metadata": {},
   "outputs": [
    {
     "data": {
      "text/plain": [
       "torch.Size([12, 4])"
      ]
     },
     "execution_count": 72,
     "metadata": {},
     "output_type": "execute_result"
    }
   ],
   "source": [
    "i_3_4 = torch.vstack((i_4, i_4, i_4))\n",
    "i_3_4.size()"
   ]
  },
  {
   "attachments": {},
   "cell_type": "markdown",
   "id": "efa12ec3-7044-4440-abdc-e6786dd078eb",
   "metadata": {},
   "source": [
    "We set these weights"
   ]
  },
  {
   "cell_type": "code",
   "execution_count": 73,
   "id": "42b0789a-e4c6-4198-ab99-b74fbbc3d39c",
   "metadata": {},
   "outputs": [],
   "source": [
    "att_layer.state_dict()['in_proj_weight'][:] = i_3_4"
   ]
  },
  {
   "cell_type": "code",
   "execution_count": 74,
   "id": "c8facb2d",
   "metadata": {},
   "outputs": [
    {
     "data": {
      "text/plain": [
       "OrderedDict([('in_proj_weight',\n",
       "              tensor([[1., 0., 0., 0.],\n",
       "                      [0., 1., 0., 0.],\n",
       "                      [0., 0., 1., 0.],\n",
       "                      [0., 0., 0., 1.],\n",
       "                      [1., 0., 0., 0.],\n",
       "                      [0., 1., 0., 0.],\n",
       "                      [0., 0., 1., 0.],\n",
       "                      [0., 0., 0., 1.],\n",
       "                      [1., 0., 0., 0.],\n",
       "                      [0., 1., 0., 0.],\n",
       "                      [0., 0., 1., 0.],\n",
       "                      [0., 0., 0., 1.]])),\n",
       "             ('out_proj.weight',\n",
       "              tensor([[1., 0., 0., 0.],\n",
       "                      [0., 1., 0., 0.],\n",
       "                      [0., 0., 1., 0.],\n",
       "                      [0., 0., 0., 1.]]))])"
      ]
     },
     "execution_count": 74,
     "metadata": {},
     "output_type": "execute_result"
    }
   ],
   "source": [
    "att_layer.state_dict()"
   ]
  },
  {
   "attachments": {},
   "cell_type": "markdown",
   "id": "d8892df4-4e1e-4c02-9d00-04be89fc41fd",
   "metadata": {},
   "source": [
    "Now we have the same results as with `attention()`"
   ]
  },
  {
   "cell_type": "code",
   "execution_count": 75,
   "id": "67d2d604-eb6e-43e4-b51a-2d645f5eb227",
   "metadata": {},
   "outputs": [
    {
     "data": {
      "text/plain": [
       "(tensor([[0.45, 0.69, 0.55, 1.00],\n",
       "         [0.10, 1.16, 0.90, 1.00],\n",
       "         [0.14, 1.10, 0.86, 1.00]], grad_fn=<SqueezeBackward1>),\n",
       " tensor([[0.45, 0.27, 0.27],\n",
       "         [0.10, 0.53, 0.36],\n",
       "         [0.14, 0.48, 0.38]], grad_fn=<SqueezeBackward1>))"
      ]
     },
     "execution_count": 75,
     "metadata": {},
     "output_type": "execute_result"
    }
   ],
   "source": [
    "att_layer(X_test,\n",
    "          X_test,\n",
    "          X_test)"
   ]
  }
 ],
 "metadata": {
  "kernelspec": {
   "display_name": "Python 3.9.13 ('base')",
   "language": "python",
   "name": "python3"
  },
  "language_info": {
   "codemirror_mode": {
    "name": "ipython",
    "version": 3
   },
   "file_extension": ".py",
   "mimetype": "text/x-python",
   "name": "python",
   "nbconvert_exporter": "python",
   "pygments_lexer": "ipython3",
   "version": "3.1.-1"
  },
  "vscode": {
   "interpreter": {
    "hash": "b97b11a820675205aae8f1d7f2a3f22bbd3a2c30189f44042310baf5b4cd1987"
   }
  }
 },
 "nbformat": 4,
 "nbformat_minor": 5
}
