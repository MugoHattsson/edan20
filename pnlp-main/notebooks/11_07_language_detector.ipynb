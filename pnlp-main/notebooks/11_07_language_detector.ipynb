{
 "cells": [
  {
   "cell_type": "markdown",
   "metadata": {},
   "source": [
    "# Chapter 11: Dense Vector Representations\n",
    "## A Language Detector\n",
    "This program is inspired by Google's CLD3: `https://github.com/google/cld3`"
   ]
  },
  {
   "cell_type": "markdown",
   "metadata": {},
   "source": [
    "Programs from the book: [_Python for Natural Language Processing_](https://link.springer.com/book/9783031575488)\n",
    "\n",
    "__Author__: Pierre Nugues"
   ]
  },
  {
   "cell_type": "markdown",
   "metadata": {},
   "source": [
    "## Collecting the Dataset"
   ]
  },
  {
   "cell_type": "markdown",
   "metadata": {},
   "source": [
    "Uncomment and run these lines once to download the corpus and move it in your dataset folder"
   ]
  },
  {
   "cell_type": "code",
   "execution_count": 1,
   "metadata": {},
   "outputs": [],
   "source": [
    "#!wget https://downloads.tatoeba.org/exports/sentences.tar.bz2\n",
    "#!tar -xvjf sentences.tar.bz2\n",
    "#!mkdir ../datasets/tatoeba\n",
    "#!mv sentences.csv ../datasets/tatoeba\n",
    "#!rm sentences.tar.bz2"
   ]
  },
  {
   "cell_type": "markdown",
   "metadata": {},
   "source": [
    "## Modules"
   ]
  },
  {
   "cell_type": "code",
   "execution_count": 2,
   "metadata": {},
   "outputs": [],
   "source": [
    "import matplotlib.pyplot as plt\n",
    "import pandas as pd\n",
    "import torch\n",
    "import torch.nn as nn\n",
    "import random\n",
    "from collections import Counter\n",
    "import pandas as pd\n",
    "import hashlib\n",
    "from tqdm import tqdm\n",
    "from sklearn.metrics import classification_report, confusion_matrix"
   ]
  },
  {
   "cell_type": "code",
   "execution_count": 3,
   "metadata": {},
   "outputs": [],
   "source": [
    "PATH = '../datasets/tatoeba/'\n",
    "TATOEBA_FILE = 'sentences.csv'"
   ]
  },
  {
   "cell_type": "code",
   "execution_count": 4,
   "metadata": {},
   "outputs": [],
   "source": [
    "SENT_PER_LANG = 20000\n",
    "TRAIN_PERCENT = 0.8\n",
    "VAL_PERCENT = 0.1\n",
    "TEST_PERCENT = 0.1\n",
    "N_MAX = 3\n",
    "EMBEDDING_DIM = 64"
   ]
  },
  {
   "cell_type": "code",
   "execution_count": 5,
   "metadata": {},
   "outputs": [],
   "source": [
    "MAX_CHARS = 2053\n",
    "MAX_BIGRAMS = 4099\n",
    "MAX_TRIGRAMS = 4099\n",
    "MODS = [MAX_CHARS, MAX_BIGRAMS, MAX_TRIGRAMS]"
   ]
  },
  {
   "cell_type": "code",
   "execution_count": 6,
   "metadata": {},
   "outputs": [
    {
     "data": {
      "text/plain": [
       "<torch._C.Generator at 0x17bfdd730>"
      ]
     },
     "execution_count": 6,
     "metadata": {},
     "output_type": "execute_result"
    }
   ],
   "source": [
    "random.seed(4321)\n",
    "torch.manual_seed(4321)"
   ]
  },
  {
   "cell_type": "markdown",
   "metadata": {},
   "source": [
    "## The Corpus"
   ]
  },
  {
   "cell_type": "code",
   "execution_count": 7,
   "metadata": {},
   "outputs": [],
   "source": [
    "def file_reader(file):\n",
    "    with open(file, encoding='utf8', errors='ignore') as f:\n",
    "        for line in f:\n",
    "            row = line.strip()\n",
    "            yield tuple(row.split('\\t'))"
   ]
  },
  {
   "cell_type": "code",
   "execution_count": 8,
   "metadata": {},
   "outputs": [],
   "source": [
    "line_generator = file_reader(PATH + TATOEBA_FILE)"
   ]
  },
  {
   "cell_type": "code",
   "execution_count": 9,
   "metadata": {},
   "outputs": [],
   "source": [
    "lang_freqs = Counter(map(lambda x: x[1], line_generator))"
   ]
  },
  {
   "cell_type": "code",
   "execution_count": 10,
   "metadata": {},
   "outputs": [
    {
     "data": {
      "text/plain": [
       "12053705"
      ]
     },
     "execution_count": 10,
     "metadata": {},
     "output_type": "execute_result"
    }
   ],
   "source": [
    "sum(lang_freqs.values())"
   ]
  },
  {
   "cell_type": "code",
   "execution_count": 11,
   "metadata": {},
   "outputs": [
    {
     "data": {
      "text/plain": [
       "[('eng', 1896014), ('rus', 1063819), ('ita', 876185)]"
      ]
     },
     "execution_count": 11,
     "metadata": {},
     "output_type": "execute_result"
    }
   ],
   "source": [
    "lang_freqs.most_common(3)"
   ]
  },
  {
   "cell_type": "code",
   "execution_count": 12,
   "metadata": {},
   "outputs": [],
   "source": [
    "selected_langs = {lang: freq for lang, freq\n",
    "                  in lang_freqs.items()\n",
    "                  if freq > SENT_PER_LANG}"
   ]
  },
  {
   "cell_type": "markdown",
   "metadata": {},
   "source": [
    "To ease training, we select `sent_per_lang` sentences (15,000 or 1000) of each language in `selected_languages`. For this, we first write a generator that will return the sentence if it is less than a random number. We use a uniform random generator between 0 and 1. If we want to select 10% of the sentences of a given language, we will return the sentence when the random number is less than 0.1, for 20%, it will be 0.2, etc.\n",
    "\n",
    "The percentage is given by `sent_per_lang` divided by the number of sentence in the language."
   ]
  },
  {
   "cell_type": "markdown",
   "metadata": {},
   "source": [
    "We first write a generator that will return the sentence if it is less than a random number. We use a uniform random generator between 0 and 1. If we want to select 10% of the sentences of a given language, we will return the sentence when the random number is less than 0.1, for 20%, it will be 0.2, etc."
   ]
  },
  {
   "cell_type": "code",
   "execution_count": 13,
   "metadata": {},
   "outputs": [],
   "source": [
    "lang_percentage = dict()\n",
    "for lang, freq in selected_langs.items():\n",
    "    lang_percentage[lang] = SENT_PER_LANG/freq"
   ]
  },
  {
   "cell_type": "code",
   "execution_count": 14,
   "metadata": {},
   "outputs": [
    {
     "data": {
      "text/plain": [
       "{'cmn': 0.26934575915102216,\n",
       " 'deu': 0.030328671816475142,\n",
       " 'rus': 0.01880019063393303,\n",
       " 'fra': 0.03311324066041047,\n",
       " 'eng': 0.010548445317386896,\n",
       " 'jpn': 0.08306993242260997,\n",
       " 'spa': 0.04912689230648303,\n",
       " 'ita': 0.022826229620456866,\n",
       " 'vie': 0.8047318231199453,\n",
       " 'nld': 0.10803802938634399,\n",
       " 'epo': 0.026469766893997847,\n",
       " 'por': 0.04637057508787224,\n",
       " 'tur': 0.027257500241910315,\n",
       " 'heb': 0.09941000164026503,\n",
       " 'hun': 0.049104698583083924,\n",
       " 'ell': 0.5115089514066496,\n",
       " 'ind': 0.8670770831526923,\n",
       " 'ara': 0.3119589462026797,\n",
       " 'fin': 0.1340329855177359,\n",
       " 'bul': 0.8010253123998718,\n",
       " 'swe': 0.35676061362825545,\n",
       " 'ukr': 0.10750260693821825,\n",
       " 'ces': 0.2526847757422615,\n",
       " 'pol': 0.15649942095214248,\n",
       " 'lat': 0.39124396017136487,\n",
       " 'ron': 0.5753077896674721,\n",
       " 'yid': 0.9783299907058651,\n",
       " 'srp': 0.3952881650723377,\n",
       " 'dan': 0.31865908258050124,\n",
       " 'pes': 0.6892273761113792,\n",
       " 'tgl': 0.26242930810512916,\n",
       " 'lit': 0.1870260059661296,\n",
       " 'mkd': 0.25573158412929786,\n",
       " 'tok': 0.34740919592141606,\n",
       " 'ina': 0.5782853838369235,\n",
       " 'tlh': 0.7462408119100034,\n",
       " 'kab': 0.02812678429287858,\n",
       " 'ber': 0.030593436178267954,\n",
       " 'mar': 0.27294066269992906,\n",
       " 'hau': 0.9166743056192135,\n",
       " 'lfn': 0.682640453273261,\n",
       " 'swc': 0.839595315058142}"
      ]
     },
     "execution_count": 14,
     "metadata": {},
     "output_type": "execute_result"
    }
   ],
   "source": [
    "lang_percentage"
   ]
  },
  {
   "cell_type": "code",
   "execution_count": 15,
   "metadata": {},
   "outputs": [
    {
     "data": {
      "text/plain": [
       "42"
      ]
     },
     "execution_count": 15,
     "metadata": {},
     "output_type": "execute_result"
    }
   ],
   "source": [
    "len(lang_percentage)"
   ]
  },
  {
   "cell_type": "code",
   "execution_count": 16,
   "metadata": {},
   "outputs": [],
   "source": [
    "line_generator = file_reader(PATH + TATOEBA_FILE)\n",
    "working_corpus = []\n",
    "for lang_tuple in line_generator:\n",
    "    lang = lang_tuple[1]\n",
    "    if (lang in lang_percentage and\n",
    "            random.random() < lang_percentage[lang]):\n",
    "        working_corpus += [lang_tuple]"
   ]
  },
  {
   "cell_type": "code",
   "execution_count": 17,
   "metadata": {},
   "outputs": [
    {
     "data": {
      "text/plain": [
       "840533"
      ]
     },
     "execution_count": 17,
     "metadata": {},
     "output_type": "execute_result"
    }
   ],
   "source": [
    "len(working_corpus)"
   ]
  },
  {
   "cell_type": "code",
   "execution_count": 18,
   "metadata": {},
   "outputs": [],
   "source": [
    "random.shuffle(working_corpus)"
   ]
  },
  {
   "cell_type": "code",
   "execution_count": 19,
   "metadata": {},
   "outputs": [],
   "source": [
    "dp = pd.DataFrame(working_corpus)"
   ]
  },
  {
   "cell_type": "code",
   "execution_count": 20,
   "metadata": {},
   "outputs": [
    {
     "data": {
      "text/html": [
       "<div>\n",
       "<style scoped>\n",
       "    .dataframe tbody tr th:only-of-type {\n",
       "        vertical-align: middle;\n",
       "    }\n",
       "\n",
       "    .dataframe tbody tr th {\n",
       "        vertical-align: top;\n",
       "    }\n",
       "\n",
       "    .dataframe thead th {\n",
       "        text-align: right;\n",
       "    }\n",
       "</style>\n",
       "<table border=\"1\" class=\"dataframe\">\n",
       "  <thead>\n",
       "    <tr style=\"text-align: right;\">\n",
       "      <th></th>\n",
       "      <th>0</th>\n",
       "      <th>1</th>\n",
       "      <th>2</th>\n",
       "    </tr>\n",
       "  </thead>\n",
       "  <tbody>\n",
       "    <tr>\n",
       "      <th>0</th>\n",
       "      <td>11003835</td>\n",
       "      <td>swc</td>\n",
       "      <td>Awataki kulinda haki yenu. Wanataka wa atcha.</td>\n",
       "    </tr>\n",
       "    <tr>\n",
       "      <th>1</th>\n",
       "      <td>10938219</td>\n",
       "      <td>fra</td>\n",
       "      <td>Merci mais je suis conscient de tout ce que vo...</td>\n",
       "    </tr>\n",
       "    <tr>\n",
       "      <th>2</th>\n",
       "      <td>10324498</td>\n",
       "      <td>fra</td>\n",
       "      <td>Le pauvre homme couchait dans la soue.</td>\n",
       "    </tr>\n",
       "    <tr>\n",
       "      <th>3</th>\n",
       "      <td>186971</td>\n",
       "      <td>jpn</td>\n",
       "      <td>家々はお互いに近付いてたっている。</td>\n",
       "    </tr>\n",
       "    <tr>\n",
       "      <th>4</th>\n",
       "      <td>4579970</td>\n",
       "      <td>ind</td>\n",
       "      <td>Kau tinggal di rumah yang mana?</td>\n",
       "    </tr>\n",
       "    <tr>\n",
       "      <th>...</th>\n",
       "      <td>...</td>\n",
       "      <td>...</td>\n",
       "      <td>...</td>\n",
       "    </tr>\n",
       "    <tr>\n",
       "      <th>840528</th>\n",
       "      <td>11004301</td>\n",
       "      <td>swc</td>\n",
       "      <td>Hauiwazie kweli, si vile?</td>\n",
       "    </tr>\n",
       "    <tr>\n",
       "      <th>840529</th>\n",
       "      <td>1740977</td>\n",
       "      <td>swe</td>\n",
       "      <td>Visst är det möjligt om man vill.</td>\n",
       "    </tr>\n",
       "    <tr>\n",
       "      <th>840530</th>\n",
       "      <td>867500</td>\n",
       "      <td>pol</td>\n",
       "      <td>Nie umiem rysować, za to moja siostra jest wsp...</td>\n",
       "    </tr>\n",
       "    <tr>\n",
       "      <th>840531</th>\n",
       "      <td>4050922</td>\n",
       "      <td>mkd</td>\n",
       "      <td>Она што не ме убива ме прави посилен.</td>\n",
       "    </tr>\n",
       "    <tr>\n",
       "      <th>840532</th>\n",
       "      <td>8916858</td>\n",
       "      <td>ukr</td>\n",
       "      <td>Собака загарчав на продавця.</td>\n",
       "    </tr>\n",
       "  </tbody>\n",
       "</table>\n",
       "<p>840533 rows × 3 columns</p>\n",
       "</div>"
      ],
      "text/plain": [
       "               0    1                                                  2\n",
       "0       11003835  swc      Awataki kulinda haki yenu. Wanataka wa atcha.\n",
       "1       10938219  fra  Merci mais je suis conscient de tout ce que vo...\n",
       "2       10324498  fra             Le pauvre homme couchait dans la soue.\n",
       "3         186971  jpn                                  家々はお互いに近付いてたっている。\n",
       "4        4579970  ind                    Kau tinggal di rumah yang mana?\n",
       "...          ...  ...                                                ...\n",
       "840528  11004301  swc                          Hauiwazie kweli, si vile?\n",
       "840529   1740977  swe                  Visst är det möjligt om man vill.\n",
       "840530    867500  pol  Nie umiem rysować, za to moja siostra jest wsp...\n",
       "840531   4050922  mkd              Она што не ме убива ме прави посилен.\n",
       "840532   8916858  ukr                       Собака загарчав на продавця.\n",
       "\n",
       "[840533 rows x 3 columns]"
      ]
     },
     "execution_count": 20,
     "metadata": {},
     "output_type": "execute_result"
    }
   ],
   "source": [
    "dp"
   ]
  },
  {
   "cell_type": "code",
   "execution_count": 21,
   "metadata": {},
   "outputs": [
    {
     "data": {
      "text/plain": [
       "[672426, 84053, 84053]"
      ]
     },
     "execution_count": 21,
     "metadata": {},
     "output_type": "execute_result"
    }
   ],
   "source": [
    "split_sizes = list(map(lambda x: int(len(working_corpus) * x),\n",
    "                   (TRAIN_PERCENT, VAL_PERCENT, TEST_PERCENT)))\n",
    "split_sizes"
   ]
  },
  {
   "cell_type": "code",
   "execution_count": 22,
   "metadata": {},
   "outputs": [
    {
     "data": {
      "text/plain": [
       "[0, 672426, 756479]"
      ]
     },
     "execution_count": 22,
     "metadata": {},
     "output_type": "execute_result"
    }
   ],
   "source": [
    "offsets = [sum(split_sizes[:i])\n",
    "           for i in range(len(split_sizes))]\n",
    "offsets"
   ]
  },
  {
   "cell_type": "code",
   "execution_count": 23,
   "metadata": {},
   "outputs": [],
   "source": [
    "training_set = working_corpus[:offsets[1]]\n",
    "val_set = working_corpus[offsets[1]:offsets[2]]\n",
    "test_set = working_corpus[offsets[2]:]"
   ]
  },
  {
   "cell_type": "code",
   "execution_count": 24,
   "metadata": {},
   "outputs": [],
   "source": [
    "dp_train = pd.DataFrame(training_set)\n",
    "dp_val = pd.DataFrame(val_set)\n",
    "dp_test = pd.DataFrame(test_set)"
   ]
  },
  {
   "cell_type": "code",
   "execution_count": 25,
   "metadata": {},
   "outputs": [
    {
     "data": {
      "text/html": [
       "<div>\n",
       "<style scoped>\n",
       "    .dataframe tbody tr th:only-of-type {\n",
       "        vertical-align: middle;\n",
       "    }\n",
       "\n",
       "    .dataframe tbody tr th {\n",
       "        vertical-align: top;\n",
       "    }\n",
       "\n",
       "    .dataframe thead th {\n",
       "        text-align: right;\n",
       "    }\n",
       "</style>\n",
       "<table border=\"1\" class=\"dataframe\">\n",
       "  <thead>\n",
       "    <tr style=\"text-align: right;\">\n",
       "      <th></th>\n",
       "      <th>0</th>\n",
       "      <th>1</th>\n",
       "      <th>2</th>\n",
       "    </tr>\n",
       "  </thead>\n",
       "  <tbody>\n",
       "    <tr>\n",
       "      <th>0</th>\n",
       "      <td>11003835</td>\n",
       "      <td>swc</td>\n",
       "      <td>Awataki kulinda haki yenu. Wanataka wa atcha.</td>\n",
       "    </tr>\n",
       "    <tr>\n",
       "      <th>1</th>\n",
       "      <td>10938219</td>\n",
       "      <td>fra</td>\n",
       "      <td>Merci mais je suis conscient de tout ce que vo...</td>\n",
       "    </tr>\n",
       "    <tr>\n",
       "      <th>2</th>\n",
       "      <td>10324498</td>\n",
       "      <td>fra</td>\n",
       "      <td>Le pauvre homme couchait dans la soue.</td>\n",
       "    </tr>\n",
       "    <tr>\n",
       "      <th>3</th>\n",
       "      <td>186971</td>\n",
       "      <td>jpn</td>\n",
       "      <td>家々はお互いに近付いてたっている。</td>\n",
       "    </tr>\n",
       "    <tr>\n",
       "      <th>4</th>\n",
       "      <td>4579970</td>\n",
       "      <td>ind</td>\n",
       "      <td>Kau tinggal di rumah yang mana?</td>\n",
       "    </tr>\n",
       "    <tr>\n",
       "      <th>...</th>\n",
       "      <td>...</td>\n",
       "      <td>...</td>\n",
       "      <td>...</td>\n",
       "    </tr>\n",
       "    <tr>\n",
       "      <th>672421</th>\n",
       "      <td>7997987</td>\n",
       "      <td>fin</td>\n",
       "      <td>Laitan sen korvani taakse.</td>\n",
       "    </tr>\n",
       "    <tr>\n",
       "      <th>672422</th>\n",
       "      <td>783527</td>\n",
       "      <td>epo</td>\n",
       "      <td>Ĉu vi povus vortigi tion per pli simplaj vortoj?</td>\n",
       "    </tr>\n",
       "    <tr>\n",
       "      <th>672423</th>\n",
       "      <td>1339384</td>\n",
       "      <td>fra</td>\n",
       "      <td>Combien de temps dois-je patienter ?</td>\n",
       "    </tr>\n",
       "    <tr>\n",
       "      <th>672424</th>\n",
       "      <td>7947159</td>\n",
       "      <td>fin</td>\n",
       "      <td>Tom ei pidä Marin asenteesta.</td>\n",
       "    </tr>\n",
       "    <tr>\n",
       "      <th>672425</th>\n",
       "      <td>10662856</td>\n",
       "      <td>swe</td>\n",
       "      <td>Sami svettades.</td>\n",
       "    </tr>\n",
       "  </tbody>\n",
       "</table>\n",
       "<p>672426 rows × 3 columns</p>\n",
       "</div>"
      ],
      "text/plain": [
       "               0    1                                                  2\n",
       "0       11003835  swc      Awataki kulinda haki yenu. Wanataka wa atcha.\n",
       "1       10938219  fra  Merci mais je suis conscient de tout ce que vo...\n",
       "2       10324498  fra             Le pauvre homme couchait dans la soue.\n",
       "3         186971  jpn                                  家々はお互いに近付いてたっている。\n",
       "4        4579970  ind                    Kau tinggal di rumah yang mana?\n",
       "...          ...  ...                                                ...\n",
       "672421   7997987  fin                         Laitan sen korvani taakse.\n",
       "672422    783527  epo   Ĉu vi povus vortigi tion per pli simplaj vortoj?\n",
       "672423   1339384  fra               Combien de temps dois-je patienter ?\n",
       "672424   7947159  fin                      Tom ei pidä Marin asenteesta.\n",
       "672425  10662856  swe                                    Sami svettades.\n",
       "\n",
       "[672426 rows x 3 columns]"
      ]
     },
     "execution_count": 25,
     "metadata": {},
     "output_type": "execute_result"
    }
   ],
   "source": [
    "dp_train"
   ]
  },
  {
   "cell_type": "code",
   "execution_count": 26,
   "metadata": {},
   "outputs": [
    {
     "data": {
      "text/html": [
       "<div>\n",
       "<style scoped>\n",
       "    .dataframe tbody tr th:only-of-type {\n",
       "        vertical-align: middle;\n",
       "    }\n",
       "\n",
       "    .dataframe tbody tr th {\n",
       "        vertical-align: top;\n",
       "    }\n",
       "\n",
       "    .dataframe thead th {\n",
       "        text-align: right;\n",
       "    }\n",
       "</style>\n",
       "<table border=\"1\" class=\"dataframe\">\n",
       "  <thead>\n",
       "    <tr style=\"text-align: right;\">\n",
       "      <th></th>\n",
       "      <th>0</th>\n",
       "      <th>1</th>\n",
       "      <th>2</th>\n",
       "    </tr>\n",
       "  </thead>\n",
       "  <tbody>\n",
       "    <tr>\n",
       "      <th>0</th>\n",
       "      <td>10455637</td>\n",
       "      <td>hun</td>\n",
       "      <td>Összemérték az erejüket.</td>\n",
       "    </tr>\n",
       "    <tr>\n",
       "      <th>1</th>\n",
       "      <td>11983416</td>\n",
       "      <td>yid</td>\n",
       "      <td>איך האָב תּמיד געוואָלט זען דעם מילכוועג.</td>\n",
       "    </tr>\n",
       "    <tr>\n",
       "      <th>2</th>\n",
       "      <td>4672756</td>\n",
       "      <td>lit</td>\n",
       "      <td>Tomas buvo areštuotas praėjusį mėnesį.</td>\n",
       "    </tr>\n",
       "    <tr>\n",
       "      <th>3</th>\n",
       "      <td>655581</td>\n",
       "      <td>pes</td>\n",
       "      <td>دارم با تام حرف می زنم.</td>\n",
       "    </tr>\n",
       "    <tr>\n",
       "      <th>4</th>\n",
       "      <td>1705682</td>\n",
       "      <td>lat</td>\n",
       "      <td>Didymus lavatur.</td>\n",
       "    </tr>\n",
       "    <tr>\n",
       "      <th>...</th>\n",
       "      <td>...</td>\n",
       "      <td>...</td>\n",
       "      <td>...</td>\n",
       "    </tr>\n",
       "    <tr>\n",
       "      <th>84048</th>\n",
       "      <td>9431633</td>\n",
       "      <td>kab</td>\n",
       "      <td>Kra n wass ad tendemmeḍ.</td>\n",
       "    </tr>\n",
       "    <tr>\n",
       "      <th>84049</th>\n",
       "      <td>10743810</td>\n",
       "      <td>tok</td>\n",
       "      <td>sina wan taso lon ni anu seme?</td>\n",
       "    </tr>\n",
       "    <tr>\n",
       "      <th>84050</th>\n",
       "      <td>6733874</td>\n",
       "      <td>rus</td>\n",
       "      <td>Чем оно тебе не нравится?</td>\n",
       "    </tr>\n",
       "    <tr>\n",
       "      <th>84051</th>\n",
       "      <td>1924310</td>\n",
       "      <td>fra</td>\n",
       "      <td>Il l'a fait par curiosité.</td>\n",
       "    </tr>\n",
       "    <tr>\n",
       "      <th>84052</th>\n",
       "      <td>8595857</td>\n",
       "      <td>ukr</td>\n",
       "      <td>Я хотів познайомитися з Томом.</td>\n",
       "    </tr>\n",
       "  </tbody>\n",
       "</table>\n",
       "<p>84053 rows × 3 columns</p>\n",
       "</div>"
      ],
      "text/plain": [
       "              0    1                                          2\n",
       "0      10455637  hun                   Összemérték az erejüket.\n",
       "1      11983416  yid  איך האָב תּמיד געוואָלט זען דעם מילכוועג.\n",
       "2       4672756  lit     Tomas buvo areštuotas praėjusį mėnesį.\n",
       "3        655581  pes                    دارم با تام حرف می زنم.\n",
       "4       1705682  lat                           Didymus lavatur.\n",
       "...         ...  ...                                        ...\n",
       "84048   9431633  kab                   Kra n wass ad tendemmeḍ.\n",
       "84049  10743810  tok             sina wan taso lon ni anu seme?\n",
       "84050   6733874  rus                  Чем оно тебе не нравится?\n",
       "84051   1924310  fra                 Il l'a fait par curiosité.\n",
       "84052   8595857  ukr             Я хотів познайомитися з Томом.\n",
       "\n",
       "[84053 rows x 3 columns]"
      ]
     },
     "execution_count": 26,
     "metadata": {},
     "output_type": "execute_result"
    }
   ],
   "source": [
    "dp_val"
   ]
  },
  {
   "cell_type": "code",
   "execution_count": 27,
   "metadata": {},
   "outputs": [
    {
     "data": {
      "text/html": [
       "<div>\n",
       "<style scoped>\n",
       "    .dataframe tbody tr th:only-of-type {\n",
       "        vertical-align: middle;\n",
       "    }\n",
       "\n",
       "    .dataframe tbody tr th {\n",
       "        vertical-align: top;\n",
       "    }\n",
       "\n",
       "    .dataframe thead th {\n",
       "        text-align: right;\n",
       "    }\n",
       "</style>\n",
       "<table border=\"1\" class=\"dataframe\">\n",
       "  <thead>\n",
       "    <tr style=\"text-align: right;\">\n",
       "      <th></th>\n",
       "      <th>0</th>\n",
       "      <th>1</th>\n",
       "      <th>2</th>\n",
       "    </tr>\n",
       "  </thead>\n",
       "  <tbody>\n",
       "    <tr>\n",
       "      <th>0</th>\n",
       "      <td>11946256</td>\n",
       "      <td>ara</td>\n",
       "      <td>لقد وافقت على تلك الفكرة.</td>\n",
       "    </tr>\n",
       "    <tr>\n",
       "      <th>1</th>\n",
       "      <td>5765789</td>\n",
       "      <td>ukr</td>\n",
       "      <td>Значення за замовчуванням — нуль.</td>\n",
       "    </tr>\n",
       "    <tr>\n",
       "      <th>2</th>\n",
       "      <td>8419848</td>\n",
       "      <td>lit</td>\n",
       "      <td>Tomas daug kartų buvo Bostone.</td>\n",
       "    </tr>\n",
       "    <tr>\n",
       "      <th>3</th>\n",
       "      <td>4385838</td>\n",
       "      <td>hun</td>\n",
       "      <td>Milyen volt az utazásod?</td>\n",
       "    </tr>\n",
       "    <tr>\n",
       "      <th>4</th>\n",
       "      <td>10907050</td>\n",
       "      <td>swc</td>\n",
       "      <td>Mwipwa yake alivutiwa na feu d'artifice.</td>\n",
       "    </tr>\n",
       "    <tr>\n",
       "      <th>...</th>\n",
       "      <td>...</td>\n",
       "      <td>...</td>\n",
       "      <td>...</td>\n",
       "    </tr>\n",
       "    <tr>\n",
       "      <th>84049</th>\n",
       "      <td>11004301</td>\n",
       "      <td>swc</td>\n",
       "      <td>Hauiwazie kweli, si vile?</td>\n",
       "    </tr>\n",
       "    <tr>\n",
       "      <th>84050</th>\n",
       "      <td>1740977</td>\n",
       "      <td>swe</td>\n",
       "      <td>Visst är det möjligt om man vill.</td>\n",
       "    </tr>\n",
       "    <tr>\n",
       "      <th>84051</th>\n",
       "      <td>867500</td>\n",
       "      <td>pol</td>\n",
       "      <td>Nie umiem rysować, za to moja siostra jest wsp...</td>\n",
       "    </tr>\n",
       "    <tr>\n",
       "      <th>84052</th>\n",
       "      <td>4050922</td>\n",
       "      <td>mkd</td>\n",
       "      <td>Она што не ме убива ме прави посилен.</td>\n",
       "    </tr>\n",
       "    <tr>\n",
       "      <th>84053</th>\n",
       "      <td>8916858</td>\n",
       "      <td>ukr</td>\n",
       "      <td>Собака загарчав на продавця.</td>\n",
       "    </tr>\n",
       "  </tbody>\n",
       "</table>\n",
       "<p>84054 rows × 3 columns</p>\n",
       "</div>"
      ],
      "text/plain": [
       "              0    1                                                  2\n",
       "0      11946256  ara                          لقد وافقت على تلك الفكرة.\n",
       "1       5765789  ukr                  Значення за замовчуванням — нуль.\n",
       "2       8419848  lit                     Tomas daug kartų buvo Bostone.\n",
       "3       4385838  hun                           Milyen volt az utazásod?\n",
       "4      10907050  swc           Mwipwa yake alivutiwa na feu d'artifice.\n",
       "...         ...  ...                                                ...\n",
       "84049  11004301  swc                          Hauiwazie kweli, si vile?\n",
       "84050   1740977  swe                  Visst är det möjligt om man vill.\n",
       "84051    867500  pol  Nie umiem rysować, za to moja siostra jest wsp...\n",
       "84052   4050922  mkd              Она што не ме убива ме прави посилен.\n",
       "84053   8916858  ukr                       Собака загарчав на продавця.\n",
       "\n",
       "[84054 rows x 3 columns]"
      ]
     },
     "execution_count": 27,
     "metadata": {},
     "output_type": "execute_result"
    }
   ],
   "source": [
    "dp_test"
   ]
  },
  {
   "cell_type": "code",
   "execution_count": 28,
   "metadata": {},
   "outputs": [],
   "source": [
    "dp_train.to_csv(PATH + 'tatoeba.train', sep='\\t',\n",
    "                header=False, index=False)"
   ]
  },
  {
   "cell_type": "markdown",
   "metadata": {},
   "source": [
    "## Character $N$-grams"
   ]
  },
  {
   "cell_type": "code",
   "execution_count": 29,
   "metadata": {},
   "outputs": [],
   "source": [
    "def ngrams(sentence: str,\n",
    "           n: int = 1) -> list[str]:\n",
    "    ngram_l = []\n",
    "    for i in range(len(sentence) - n + 1):\n",
    "        ngram_l += [sentence[i:i+n]]\n",
    "    return ngram_l"
   ]
  },
  {
   "cell_type": "code",
   "execution_count": 30,
   "metadata": {},
   "outputs": [],
   "source": [
    "def all_ngrams(sentence: str,\n",
    "               max_ngram: int = 3,\n",
    "               lc=True) -> list[list[str]]:\n",
    "    if lc:\n",
    "        sentence = sentence.lower()\n",
    "    all_ngram_list = []\n",
    "    for i in range(1, max_ngram + 1):\n",
    "        all_ngram_list += [ngrams(sentence, n=i)]\n",
    "    return all_ngram_list"
   ]
  },
  {
   "cell_type": "code",
   "execution_count": 31,
   "metadata": {},
   "outputs": [
    {
     "data": {
      "text/plain": [
       "[['b', 'a', 'n', 'a', 'n', 'a'],\n",
       " ['ba', 'an', 'na', 'an', 'na'],\n",
       " ['ban', 'ana', 'nan', 'ana']]"
      ]
     },
     "execution_count": 31,
     "metadata": {},
     "output_type": "execute_result"
    }
   ],
   "source": [
    "all_ngrams('banana')"
   ]
  },
  {
   "cell_type": "code",
   "execution_count": 32,
   "metadata": {},
   "outputs": [],
   "source": [
    "charsets = [set() for i in range(N_MAX)]\n",
    "for lang_tuple in training_set:\n",
    "    ngrams_l = all_ngrams(lang_tuple[2],\n",
    "                          max_ngram=N_MAX)\n",
    "    for ngram_l, charset in zip(ngrams_l, charsets):\n",
    "        charset.update(ngram_l)"
   ]
  },
  {
   "cell_type": "code",
   "execution_count": 33,
   "metadata": {},
   "outputs": [
    {
     "data": {
      "text/plain": [
       "[5128, 103037, 347640]"
      ]
     },
     "execution_count": 33,
     "metadata": {},
     "output_type": "execute_result"
    }
   ],
   "source": [
    "list(map(len, charsets))"
   ]
  },
  {
   "cell_type": "markdown",
   "metadata": {},
   "source": [
    "## Encoding the $N$-grams"
   ]
  },
  {
   "cell_type": "markdown",
   "metadata": {},
   "source": [
    "### Hashing"
   ]
  },
  {
   "cell_type": "code",
   "execution_count": 34,
   "metadata": {},
   "outputs": [
    {
     "data": {
      "text/plain": [
       "3343378650118523443"
      ]
     },
     "execution_count": 34,
     "metadata": {},
     "output_type": "execute_result"
    }
   ],
   "source": [
    "hash('a')"
   ]
  },
  {
   "cell_type": "code",
   "execution_count": 35,
   "metadata": {},
   "outputs": [
    {
     "data": {
      "text/plain": [
       "-3359459818933296038"
      ]
     },
     "execution_count": 35,
     "metadata": {},
     "output_type": "execute_result"
    }
   ],
   "source": [
    "hash('ab')"
   ]
  },
  {
   "cell_type": "code",
   "execution_count": 36,
   "metadata": {},
   "outputs": [
    {
     "data": {
      "text/plain": [
       "8018964178423155579"
      ]
     },
     "execution_count": 36,
     "metadata": {},
     "output_type": "execute_result"
    }
   ],
   "source": [
    "hash('abc')"
   ]
  },
  {
   "cell_type": "code",
   "execution_count": 37,
   "metadata": {},
   "outputs": [
    {
     "data": {
      "text/plain": [
       "<md5 _hashlib.HASH object @ 0x344063ef0>"
      ]
     },
     "execution_count": 37,
     "metadata": {},
     "output_type": "execute_result"
    }
   ],
   "source": [
    "hashlib.md5('a'.encode(\"utf-8\"), usedforsecurity=False)"
   ]
  },
  {
   "cell_type": "code",
   "execution_count": 38,
   "metadata": {},
   "outputs": [
    {
     "data": {
      "text/plain": [
       "b'\\x0c\\xc1u\\xb9\\xc0\\xf1\\xb6\\xa81\\xc3\\x99\\xe2iw&a'"
      ]
     },
     "execution_count": 38,
     "metadata": {},
     "output_type": "execute_result"
    }
   ],
   "source": [
    "hashlib.md5('a'.encode(\"utf-8\"), usedforsecurity=False).digest()"
   ]
  },
  {
   "cell_type": "code",
   "execution_count": 39,
   "metadata": {},
   "outputs": [],
   "source": [
    "def reproducible_hash(string: str) -> int:\n",
    "    \"\"\"\n",
    "    reproducible hash on any string\n",
    "\n",
    "    Arguments:\n",
    "       string: python string object\n",
    "\n",
    "    Returns:\n",
    "       signed int64\n",
    "   Author: Marcus Klang\n",
    "    \"\"\"\n",
    "\n",
    "    # We are using MD5 for speed not security.\n",
    "    h = hashlib.md5(string.encode('utf-8'),\n",
    "                    usedforsecurity=False)\n",
    "    return int.from_bytes(h.digest()[0:8], 'big', signed=True)"
   ]
  },
  {
   "cell_type": "code",
   "execution_count": 40,
   "metadata": {},
   "outputs": [],
   "source": [
    "def hash_str_list(text: list[str],\n",
    "                  char_mod: int) -> list[int]:\n",
    "    values = map(lambda x: x % char_mod,\n",
    "                 map(reproducible_hash, text))\n",
    "    return list(values)"
   ]
  },
  {
   "cell_type": "markdown",
   "metadata": {},
   "source": [
    "## Building $X$ and $\\mathbf{y}$"
   ]
  },
  {
   "cell_type": "code",
   "execution_count": 41,
   "metadata": {},
   "outputs": [],
   "source": [
    "idx2lang = dict(enumerate(sorted(selected_langs)))\n",
    "lang2idx = {v: k for k, v in idx2lang.items()}"
   ]
  },
  {
   "cell_type": "code",
   "execution_count": 42,
   "metadata": {},
   "outputs": [],
   "source": [
    "y_train = torch.LongTensor(\n",
    "    [lang2idx[tuple_lang[1]]\n",
    "     for tuple_lang in training_set])\n",
    "y_val = torch.LongTensor(\n",
    "    [lang2idx[tuple_lang[1]]\n",
    "     for tuple_lang in val_set])\n",
    "y_test = torch.LongTensor(\n",
    "    [lang2idx[tuple_lang[1]]\n",
    "     for tuple_lang in test_set])"
   ]
  },
  {
   "cell_type": "code",
   "execution_count": 43,
   "metadata": {},
   "outputs": [],
   "source": [
    "def hash_all_ngrams(text: str,\n",
    "                    max_ngram=N_MAX,\n",
    "                    mod_list=MODS):\n",
    "    all_ngrams_l = all_ngrams(text, max_ngram)\n",
    "    x = []\n",
    "    for ngram_l, mod in zip(all_ngrams_l, mod_list):\n",
    "        x += [torch.LongTensor(hash_str_list(ngram_l, mod))]\n",
    "    return x"
   ]
  },
  {
   "cell_type": "code",
   "execution_count": 44,
   "metadata": {},
   "outputs": [],
   "source": [
    "def build_X(dataset):\n",
    "    X = []\n",
    "    for lang_tuple in tqdm(dataset):\n",
    "        x = hash_all_ngrams(lang_tuple[2])\n",
    "        X += [x]\n",
    "    return X"
   ]
  },
  {
   "cell_type": "code",
   "execution_count": 45,
   "metadata": {},
   "outputs": [
    {
     "name": "stderr",
     "output_type": "stream",
     "text": [
      "100%|██████████| 672426/672426 [01:00<00:00, 11043.90it/s]\n",
      "100%|██████████| 84053/84053 [00:08<00:00, 9913.89it/s] \n",
      "100%|██████████| 84054/84054 [00:07<00:00, 11032.13it/s]\n"
     ]
    }
   ],
   "source": [
    "X_train = build_X(training_set)\n",
    "X_val = build_X(val_set)\n",
    "X_test = build_X(test_set)"
   ]
  },
  {
   "cell_type": "code",
   "execution_count": 46,
   "metadata": {},
   "outputs": [
    {
     "data": {
      "text/plain": [
       "[[tensor([1917, 1022, 1917, 1810, 1917,  185,   90, 1446,  185, 1304,   76,   90,\n",
       "          1195,  584, 1917, 1446,  832, 1917,  185,   90, 1446,  289,  989, 1195,\n",
       "          1304,  406, 1446, 1022, 1917, 1195, 1917, 1810, 1917,  185, 1917, 1446,\n",
       "          1022, 1917, 1446, 1917, 1810,  944,  832, 1917,  406]),\n",
       "  tensor([  74, 1979, 2210, 1288,  272,  242, 1681, 3868, 1182, 1912,  585,  161,\n",
       "          2258, 3266, 2559, 1242, 2264,  272,  242, 1681, 3725,  545,  309, 3957,\n",
       "          1777, 2766, 1673, 1979, 3906, 2726, 2210, 1288,  272, 3476, 2559, 1673,\n",
       "          1979, 2559, 2716, 2210, 1994, 1100, 2264,  699]),\n",
       "  tensor([2069, 3491, 2929, 2961, 3823,  600, 1410,  193, 1053,  609, 1100, 1573,\n",
       "          1870, 2844,  872, 3998, 3602, 3823,  600, 2204,  352,  111, 1887, 1750,\n",
       "          2917, 4024,  943, 3087, 3321, 2117, 2929, 2961, 1775, 3095, 2397,  943,\n",
       "          2369, 2518, 1646, 1062, 3403, 2865, 1914])]]"
      ]
     },
     "execution_count": 46,
     "metadata": {},
     "output_type": "execute_result"
    }
   ],
   "source": [
    "X_train[:1]"
   ]
  },
  {
   "cell_type": "markdown",
   "metadata": {},
   "source": [
    "## Embedding Bags"
   ]
  },
  {
   "cell_type": "code",
   "execution_count": 47,
   "metadata": {},
   "outputs": [],
   "source": [
    "embs = nn.EmbeddingBag(3, 5)"
   ]
  },
  {
   "cell_type": "code",
   "execution_count": 48,
   "metadata": {},
   "outputs": [
    {
     "data": {
      "text/plain": [
       "tensor([[-0.2384,  0.4318,  0.1966, -0.3318, -0.5874],\n",
       "        [-0.2384,  0.4318,  0.1966, -0.3318, -0.5874]],\n",
       "       grad_fn=<EmbeddingBagBackward0>)"
      ]
     },
     "execution_count": 48,
     "metadata": {},
     "output_type": "execute_result"
    }
   ],
   "source": [
    "embs(torch.LongTensor([[0, 1, 2], [2, 1, 0]]))"
   ]
  },
  {
   "cell_type": "code",
   "execution_count": 49,
   "metadata": {},
   "outputs": [
    {
     "data": {
      "text/plain": [
       "tensor([[-0.2384,  0.4318,  0.1966, -0.3318, -0.5874],\n",
       "        [-0.2384,  0.4318,  0.1966, -0.3318, -0.5874]],\n",
       "       grad_fn=<EmbeddingBagBackward0>)"
      ]
     },
     "execution_count": 49,
     "metadata": {},
     "output_type": "execute_result"
    }
   ],
   "source": [
    "embs(torch.LongTensor([0, 1, 2, 2, 1, 0]),\n",
    "     torch.LongTensor([0, 3]))"
   ]
  },
  {
   "cell_type": "code",
   "execution_count": 50,
   "metadata": {},
   "outputs": [],
   "source": [
    "# Creates a vector (1D tensor) from one list corresponding to a batch\n",
    "def bag_generator(X_idx_l: list):\n",
    "    X_idx = torch.cat(X_idx_l, dim=-1)\n",
    "    # We shift the offsets\n",
    "    bag_lengths = [X_idx_l[i].size(dim=0)\n",
    "                   for i in range(len(X_idx_l))]\n",
    "    X_offsets = [sum(bag_lengths[:i])\n",
    "                 for i in range(len(bag_lengths))]\n",
    "    return X_idx, torch.LongTensor(X_offsets)"
   ]
  },
  {
   "cell_type": "code",
   "execution_count": 51,
   "metadata": {},
   "outputs": [],
   "source": [
    "bags_idx, bags_offsets = zip(\n",
    "    *map(bag_generator, zip(*X_train[0:5])))"
   ]
  },
  {
   "cell_type": "markdown",
   "metadata": {},
   "source": [
    "We obtain three bags and three offsets"
   ]
  },
  {
   "cell_type": "code",
   "execution_count": 52,
   "metadata": {},
   "outputs": [
    {
     "data": {
      "text/plain": [
       "((tensor([1917, 1022, 1917, 1810, 1917,  185,   90, 1446,  185, 1304,   76,   90,\n",
       "          1195,  584, 1917, 1446,  832, 1917,  185,   90, 1446,  289,  989, 1195,\n",
       "          1304,  406, 1446, 1022, 1917, 1195, 1917, 1810, 1917,  185, 1917, 1446,\n",
       "          1022, 1917, 1446, 1917, 1810,  944,  832, 1917,  406, 1079,  989,   46,\n",
       "           944,   90, 1446, 1079, 1917,   90, 2005, 1446, 1645,  989, 1446, 2005,\n",
       "          1304,   90, 2005, 1446,  944,  856, 1195, 2005,  944,   90,  989, 1195,\n",
       "          1810, 1446,  584,  989, 1446, 1810,  856, 1304, 1810, 1446,  944,  989,\n",
       "          1446, 1431, 1304,  989, 1446,  349,  856, 1304, 2005, 1446, 1917,  349,\n",
       "           989, 1418, 1446, 2005, 1304,  676,  676,  789,   46,  789,  406,   76,\n",
       "           989, 1446, 1657, 1917, 1304,  349,   46,  989, 1446,  832,  856, 1079,\n",
       "          1079,  989, 1446,  944,  856, 1304,  944,  832, 1917,   90, 1810, 1446,\n",
       "           584, 1917, 1195, 2005, 1446,   76, 1917, 1446, 2005,  856, 1304,  989,\n",
       "           406, 1309, 1592, 2011,  841,  742,  700,  229,  873,  855,  700,  508,\n",
       "          1634, 1238,  508,  700, 1813,  429,  185, 1917, 1304, 1446, 1810,   90,\n",
       "          1195,  676,  676, 1917,   76, 1446,  584,   90, 1446,   46, 1304, 1079,\n",
       "          1917,  832, 1446,  289, 1917, 1195,  676, 1446, 1079, 1917, 1195, 1917,\n",
       "           634]),\n",
       "  tensor([  74, 1979, 2210, 1288,  272,  242, 1681, 3868, 1182, 1912,  585,  161,\n",
       "          2258, 3266, 2559, 1242, 2264,  272,  242, 1681, 3725,  545,  309, 3957,\n",
       "          1777, 2766, 1673, 1979, 3906, 2726, 2210, 1288,  272, 3476, 2559, 1673,\n",
       "          1979, 2559, 2716, 2210, 1994, 1100, 2264,  699, 1449,  739, 3343,  978,\n",
       "          1681,  743, 3160, 1398, 3691, 2414, 2181, 2118,  577, 3955,   15, 2957,\n",
       "          3691, 2414, 3064, 3058, 3462, 1255, 1196,  978, 1866,  309, 1635, 1281,\n",
       "          3294, 3759,  577,  409,  196, 3835, 3999, 1281, 3064, 1157,  577, 2246,\n",
       "          1606, 1941,  577, 2384, 2962, 3835, 3353, 2414, 2716, 3720, 2814, 3272,\n",
       "          1606, 3955,   15,  760, 3696, 4013, 1229, 2420, 1375, 2487,  577, 1434,\n",
       "           663, 3978,  449, 1924, 1603,  577, 1242,  313,  337, 3361, 1449,  577,\n",
       "          3064, 3058, 3835, 1841, 1100, 2264, 1398, 3128, 1281, 3294, 3266, 3906,\n",
       "          1255, 2414, 3497, 2757, 2559, 3955, 1752, 3835, 1941, 1282, 1094, 2858,\n",
       "          1255,  522, 3798,  373,  898, 2367, 3907, 2194,  141, 1405, 1696, 1953,\n",
       "          2278, 1171, 3476, 3978, 3083,  409, 1728,  161,  195, 3696, 4013, 1315,\n",
       "          1782, 3294, 3176, 1681, 3133, 3040, 4066, 3160, 2147, 3578, 3725, 2947,\n",
       "          3906,  195, 2179,  743, 3160, 3906, 2726,  420]),\n",
       "  tensor([2069, 3491, 2929, 2961, 3823,  600, 1410,  193, 1053,  609, 1100, 1573,\n",
       "          1870, 2844,  872, 3998, 3602, 3823,  600, 2204,  352,  111, 1887, 1750,\n",
       "          2917, 4024,  943, 3087, 3321, 2117, 2929, 2961, 1775, 3095, 2397,  943,\n",
       "          2369, 2518, 1646, 1062, 3403, 2865, 1914,   63, 3710, 2370, 1298, 3801,\n",
       "           866, 4065, 1958, 2009, 2495, 1354, 2783, 1390,  415,  200, 2525, 2009,\n",
       "           255, 2126, 1649, 2444,  543,  638, 1893, 4054, 1425,  433,  727,  524,\n",
       "          1366, 2006, 2355, 2169, 1552, 3907, 2016,  708,  999, 4055, 3869, 3909,\n",
       "          1358, 1862,  585, 1788, 3470, 1575, 2448, 1523,  318, 1431, 4019, 2095,\n",
       "           415, 3779, 3424,  421, 3371, 2263, 1120, 3641, 1472, 2361, 1643, 3982,\n",
       "          1716, 2797,  105, 3913, 1220,  697, 2136,  975, 3534, 2974, 2126, 2164,\n",
       "          1973, 1411, 2865, 3217, 1384,  354,  727,  184, 1911, 3575, 2952, 2929,\n",
       "           708, 1078,  610, 2998, 2752, 1993, 1289, 2986, 4042, 3677, 3886, 2777,\n",
       "          2723,  948, 3987,  311, 1448, 1893, 1328, 3973, 2619, 4081, 3663, 3022,\n",
       "          2265, 1299, 1244, 1439, 4011, 1427, 1719, 1174, 2840, 2928, 2574, 3589,\n",
       "          1416, 2549, 1243,   73,  641,  268, 2301,  293, 3437, 3267, 3119,  866,\n",
       "           311, 3321, 3500])),\n",
       " (tensor([  0,  45, 107, 145, 162]),\n",
       "  tensor([  0,  44, 105, 142, 158]),\n",
       "  tensor([  0,  43, 103, 139, 154])))"
      ]
     },
     "execution_count": 52,
     "metadata": {},
     "output_type": "execute_result"
    }
   ],
   "source": [
    "bags_idx, bags_offsets"
   ]
  },
  {
   "cell_type": "markdown",
   "metadata": {},
   "source": [
    "## Model"
   ]
  },
  {
   "cell_type": "code",
   "execution_count": 53,
   "metadata": {},
   "outputs": [],
   "source": [
    "class LangDetector(nn.Module):\n",
    "    def __init__(self, MODS, EMBEDDING_DIM, n_lang):\n",
    "        super().__init__()\n",
    "        (MAX_CHARS, MAX_BIGRAMS, MAX_TRIGRAMS) = MODS\n",
    "        self.emb_chars = nn.EmbeddingBag(MAX_CHARS,\n",
    "                                         EMBEDDING_DIM)\n",
    "        self.emb_bigr = nn.EmbeddingBag(MAX_BIGRAMS,\n",
    "                                        EMBEDDING_DIM)\n",
    "        self.emb_trig = nn.EmbeddingBag(MAX_TRIGRAMS,\n",
    "                                        EMBEDDING_DIM)\n",
    "        self.fc = nn.Linear(3 * EMBEDDING_DIM, n_lang)\n",
    "\n",
    "    def forward(self, bags, offsets):\n",
    "        (bags1, bags2, bags3) = bags\n",
    "        (offsets1, offsets2, offsets3) = offsets\n",
    "        x1 = self.emb_chars(bags1, offsets1)\n",
    "        x2 = self.emb_bigr(bags2, offsets2)\n",
    "        x3 = self.emb_trig(bags3, offsets3)\n",
    "        x = torch.hstack((x1, x2, x3))\n",
    "        x = self.fc(x)\n",
    "        return x"
   ]
  },
  {
   "cell_type": "code",
   "execution_count": 54,
   "metadata": {},
   "outputs": [],
   "source": [
    "model = LangDetector(MODS, EMBEDDING_DIM, len(lang2idx))"
   ]
  },
  {
   "cell_type": "markdown",
   "metadata": {},
   "source": [
    "## Training Loop"
   ]
  },
  {
   "cell_type": "code",
   "execution_count": 55,
   "metadata": {},
   "outputs": [],
   "source": [
    "loss_fn = nn.CrossEntropyLoss()    # cross entropy loss\n",
    "optimizer = torch.optim.NAdam(model.parameters(), lr=0.01)"
   ]
  },
  {
   "cell_type": "code",
   "execution_count": 56,
   "metadata": {},
   "outputs": [],
   "source": [
    "def predict_batched(model, X, batch_size=1024):\n",
    "    y_pred = []\n",
    "    for i in range(0, len(X), batch_size):\n",
    "        X_bags_idx, X_bags_offsets = zip(\n",
    "            *map(bag_generator, zip(*X[i:i+batch_size])))\n",
    "        Y_pred_batch = model(X_bags_idx, X_bags_offsets)\n",
    "        y_pred_batch = torch.argmax(Y_pred_batch, dim=-1)\n",
    "        y_pred += [y_pred_batch]\n",
    "    return torch.cat(y_pred, dim=-1)"
   ]
  },
  {
   "cell_type": "code",
   "execution_count": 57,
   "metadata": {},
   "outputs": [],
   "source": [
    "def eval_batched(model, X, y, batch_size=1024):\n",
    "    acc = []\n",
    "    loss = []\n",
    "    for i in range(0, len(y), batch_size):\n",
    "        X_bags_idx, X_bags_offsets = zip(\n",
    "            *map(bag_generator, zip(*X[i:i+batch_size])))\n",
    "        Y_pred_batch = model(X_bags_idx, X_bags_offsets)\n",
    "        y_batch = y[i:i + batch_size]\n",
    "        loss_batch = loss_fn(Y_pred_batch, y_batch)\n",
    "        loss += [loss_batch.item()]\n",
    "        y_pred_batch = torch.argmax(Y_pred_batch, dim=-1)\n",
    "        acc_batch = torch.sum(y_batch == y_pred_batch)/y_batch.size(dim=0)\n",
    "        acc += [acc_batch.item()]\n",
    "    return sum(loss)/len(loss), sum(acc)/len(acc)"
   ]
  },
  {
   "cell_type": "code",
   "execution_count": 58,
   "metadata": {},
   "outputs": [],
   "source": [
    "BATCH_SIZE = 512"
   ]
  },
  {
   "cell_type": "code",
   "execution_count": 59,
   "metadata": {},
   "outputs": [
    {
     "name": "stderr",
     "output_type": "stream",
     "text": [
      "100%|██████████| 2/2 [00:23<00:00, 11.82s/it]\n"
     ]
    }
   ],
   "source": [
    "loss_train_history = []\n",
    "acc_train_history = []\n",
    "loss_val_history = []\n",
    "acc_val_history = []\n",
    "\n",
    "for epoch in tqdm(range(2)):\n",
    "    loss_train = 0\n",
    "    acc_train = 0\n",
    "    cnt = 0\n",
    "    model.train()\n",
    "    n_indices = list(range(0, len(X_train), BATCH_SIZE))\n",
    "    random.shuffle(n_indices)  # Check if there is a PyTorch equivalent\n",
    "    for i in n_indices:\n",
    "        X_train_bags_idx, X_train_bags_offsets = zip(\n",
    "            *map(bag_generator,\n",
    "                 zip(*X_train[i:i + BATCH_SIZE])))\n",
    "        y_batch = y_train[i:i + BATCH_SIZE]\n",
    "        y_pred_batch = model(X_train_bags_idx,\n",
    "                             X_train_bags_offsets)\n",
    "        loss_batch = loss_fn(y_pred_batch, y_batch)\n",
    "        optimizer.zero_grad()\n",
    "        loss_batch.backward()\n",
    "        optimizer.step()\n",
    "        loss_train += loss_batch.item()\n",
    "        acc_train += torch.sum(\n",
    "            y_batch == torch.argmax(y_pred_batch,\n",
    "                                    dim=-1))/BATCH_SIZE\n",
    "    acc_train /= len(n_indices)\n",
    "    acc_train_history += [acc_train.item()]\n",
    "    loss_train /= len(n_indices)\n",
    "    loss_train_history += [loss_train]\n",
    "\n",
    "    model.eval()\n",
    "    with torch.no_grad():\n",
    "        loss_val, acc_val = eval_batched(model, X_val, y_val)\n",
    "        loss_val_history += [loss_val]\n",
    "        acc_val_history += [acc_val]"
   ]
  },
  {
   "cell_type": "code",
   "execution_count": 60,
   "metadata": {},
   "outputs": [
    {
     "data": {
      "text/plain": [
       "[0.9474871158599854, 0.9760779142379761]"
      ]
     },
     "execution_count": 60,
     "metadata": {},
     "output_type": "execute_result"
    }
   ],
   "source": [
    "acc_train_history"
   ]
  },
  {
   "cell_type": "code",
   "execution_count": 61,
   "metadata": {},
   "outputs": [
    {
     "data": {
      "text/plain": [
       "[0.9702207266566265, 0.9727974397590361]"
      ]
     },
     "execution_count": 61,
     "metadata": {},
     "output_type": "execute_result"
    }
   ],
   "source": [
    "acc_val_history"
   ]
  },
  {
   "cell_type": "code",
   "execution_count": 62,
   "metadata": {},
   "outputs": [
    {
     "data": {
      "image/png": "[encoded data removed]",
      "text/plain": [
       "<Figure size 640x480 with 1 Axes>"
      ]
     },
     "metadata": {},
     "output_type": "display_data"
    }
   ],
   "source": [
    "epochs = range(1, len(acc_val_history) + 1)\n",
    "plt.plot(epochs, acc_val_history, 'rx', label='Validation accuracy')\n",
    "plt.plot(epochs, acc_train_history, 'bo', label='Training accuracy')\n",
    "plt.title('Training and validation accuracies')\n",
    "plt.legend()\n",
    "plt.show()"
   ]
  },
  {
   "cell_type": "code",
   "execution_count": 63,
   "metadata": {},
   "outputs": [
    {
     "data": {
      "image/png": "[encoded data removed]",
      "text/plain": [
       "<Figure size 640x480 with 1 Axes>"
      ]
     },
     "metadata": {},
     "output_type": "display_data"
    }
   ],
   "source": [
    "epochs = range(1, len(loss_val_history) + 1)\n",
    "plt.plot(epochs, loss_val_history, 'rx', label='Validation loss')\n",
    "plt.plot(epochs, loss_train_history, 'bo', label='Training loss')\n",
    "plt.title('Training and validation losses')\n",
    "plt.legend()\n",
    "plt.show()"
   ]
  },
  {
   "cell_type": "code",
   "execution_count": 64,
   "metadata": {},
   "outputs": [],
   "source": [
    "def predict_batched(model, X, batch_size=1024):\n",
    "    y_pred = []\n",
    "    for i in range(0, len(X), batch_size):\n",
    "        X_bags_idx, X_bags_offsets = zip(\n",
    "            *map(bag_generator, zip(*X[i:i+batch_size])))\n",
    "        Y_pred_batch = model(X_bags_idx, X_bags_offsets)\n",
    "        y_pred_batch = torch.argmax(Y_pred_batch, dim=-1)\n",
    "        y_pred += [y_pred_batch]\n",
    "    return torch.cat(y_pred, dim=-1)"
   ]
  },
  {
   "cell_type": "code",
   "execution_count": 65,
   "metadata": {},
   "outputs": [],
   "source": [
    "y_val_pred = predict_batched(model, X_val, batch_size=1024)"
   ]
  },
  {
   "cell_type": "code",
   "execution_count": 66,
   "metadata": {},
   "outputs": [
    {
     "name": "stdout",
     "output_type": "stream",
     "text": [
      "              precision    recall  f1-score   support\n",
      "\n",
      "         ara     0.9969    0.9949    0.9959      1949\n",
      "         ber     0.8082    0.7725    0.7899      2013\n",
      "         bul     0.9263    0.9521    0.9390      2006\n",
      "         ces     0.9948    0.9787    0.9867      1968\n",
      "         cmn     1.0000    0.9954    0.9977      1972\n",
      "         dan     0.9588    0.9726    0.9657      2010\n",
      "         deu     0.9903    0.9917    0.9910      2053\n",
      "         ell     1.0000    1.0000    1.0000      1952\n",
      "         eng     0.9908    0.9845    0.9876      2070\n",
      "         epo     0.9848    0.9892    0.9870      2031\n",
      "         fin     0.9890    0.9935    0.9913      1999\n",
      "         fra     0.9868    0.9798    0.9833      1982\n",
      "         hau     0.9882    0.9916    0.9899      2027\n",
      "         heb     0.9980    0.9965    0.9973      2010\n",
      "         hun     0.9915    0.9895    0.9905      2007\n",
      "         ina     0.9493    0.9474    0.9484      2017\n",
      "         ind     0.9881    0.9814    0.9847      2038\n",
      "         ita     0.9718    0.9607    0.9662      2011\n",
      "         jpn     0.9995    1.0000    0.9997      1960\n",
      "         kab     0.7838    0.8110    0.7972      2011\n",
      "         lat     0.9746    0.9781    0.9764      1963\n",
      "         lfn     0.9340    0.9639    0.9487      1996\n",
      "         lit     0.9910    0.9905    0.9908      2007\n",
      "         mar     1.0000    1.0000    1.0000      2007\n",
      "         mkd     0.9186    0.9433    0.9308      1975\n",
      "         nld     0.9783    0.9861    0.9822      2014\n",
      "         pes     0.9948    0.9969    0.9958      1907\n",
      "         pol     0.9927    0.9956    0.9941      2046\n",
      "         por     0.9716    0.9764    0.9740      2033\n",
      "         ron     0.9837    0.9837    0.9837      1961\n",
      "         rus     0.9908    0.9581    0.9742      2029\n",
      "         spa     0.9697    0.9597    0.9646      2033\n",
      "         srp     0.9477    0.9416    0.9447      2022\n",
      "         swc     0.9904    0.9805    0.9854      2002\n",
      "         swe     0.9771    0.9571    0.9670      2004\n",
      "         tgl     0.9872    0.9940    0.9906      2010\n",
      "         tlh     0.9894    0.9974    0.9934      1960\n",
      "         tok     0.9960    0.9995    0.9977      1992\n",
      "         tur     0.9956    0.9912    0.9934      2049\n",
      "         ukr     0.9781    0.9781    0.9781      2056\n",
      "         vie     0.9985    0.9964    0.9975      1965\n",
      "         yid     0.9964    0.9985    0.9974      1936\n",
      "\n",
      "    accuracy                         0.9725     84053\n",
      "   macro avg     0.9727    0.9726    0.9726     84053\n",
      "weighted avg     0.9726    0.9725    0.9725     84053\n",
      "\n"
     ]
    }
   ],
   "source": [
    "print(classification_report(y_val, y_val_pred,\n",
    "                            target_names=sorted(selected_langs), digits=4))"
   ]
  },
  {
   "cell_type": "code",
   "execution_count": 67,
   "metadata": {},
   "outputs": [],
   "source": [
    "y_test_pred = predict_batched(model, X_test, batch_size=1024)"
   ]
  },
  {
   "cell_type": "code",
   "execution_count": 68,
   "metadata": {},
   "outputs": [
    {
     "name": "stdout",
     "output_type": "stream",
     "text": [
      "              precision    recall  f1-score   support\n",
      "\n",
      "         ara     0.9946    0.9975    0.9961      2040\n",
      "         ber     0.8057    0.7775    0.7913      2000\n",
      "         bul     0.9365    0.9543    0.9453      1993\n",
      "         ces     0.9954    0.9828    0.9891      1980\n",
      "         cmn     0.9995    0.9985    0.9990      2038\n",
      "         dan     0.9743    0.9734    0.9738      2064\n",
      "         deu     0.9890    0.9910    0.9900      1993\n",
      "         ell     1.0000    1.0000    1.0000      1971\n",
      "         eng     0.9908    0.9837    0.9873      1968\n",
      "         epo     0.9836    0.9918    0.9877      1941\n",
      "         fin     0.9925    0.9875    0.9900      2005\n",
      "         fra     0.9861    0.9917    0.9889      1936\n",
      "         hau     0.9955    0.9875    0.9915      1999\n",
      "         heb     0.9975    0.9929    0.9952      1971\n",
      "         hun     0.9935    0.9916    0.9926      2017\n",
      "         ina     0.9519    0.9421    0.9470      1952\n",
      "         ind     0.9850    0.9841    0.9845      2007\n",
      "         ita     0.9719    0.9686    0.9702      2036\n",
      "         jpn     1.0000    0.9995    0.9998      2016\n",
      "         kab     0.7857    0.8104    0.7979      1973\n",
      "         lat     0.9650    0.9727    0.9688      2014\n",
      "         lfn     0.9320    0.9663    0.9489      1987\n",
      "         lit     0.9950    0.9877    0.9914      2034\n",
      "         mar     1.0000    1.0000    1.0000      2071\n",
      "         mkd     0.9268    0.9525    0.9395      2020\n",
      "         nld     0.9753    0.9887    0.9819      2035\n",
      "         pes     0.9980    0.9939    0.9959      1960\n",
      "         pol     0.9915    0.9896    0.9905      2011\n",
      "         por     0.9798    0.9813    0.9806      1979\n",
      "         ron     0.9837    0.9837    0.9837      1967\n",
      "         rus     0.9861    0.9519    0.9687      2018\n",
      "         spa     0.9673    0.9564    0.9618      1950\n",
      "         srp     0.9423    0.9320    0.9371      2015\n",
      "         swc     0.9851    0.9841    0.9846      1944\n",
      "         swe     0.9812    0.9716    0.9763      2039\n",
      "         tgl     0.9946    0.9956    0.9951      2040\n",
      "         tlh     0.9883    0.9964    0.9924      1953\n",
      "         tok     0.9965    0.9975    0.9970      1978\n",
      "         tur     0.9965    0.9895    0.9930      1997\n",
      "         ukr     0.9700    0.9801    0.9750      2108\n",
      "         vie     0.9990    0.9985    0.9988      2026\n",
      "         yid     0.9940    0.9965    0.9953      2008\n",
      "\n",
      "    accuracy                         0.9732     84054\n",
      "   macro avg     0.9733    0.9732    0.9732     84054\n",
      "weighted avg     0.9733    0.9732    0.9732     84054\n",
      "\n"
     ]
    }
   ],
   "source": [
    "print(classification_report(y_test, y_test_pred,\n",
    "                            target_names=sorted(selected_langs), digits=4))"
   ]
  },
  {
   "cell_type": "code",
   "execution_count": 69,
   "metadata": {},
   "outputs": [],
   "source": [
    "test_sents = ['Groovin\\' on a Sunday afternoon',\n",
    "              'La Folle Complainte',\n",
    "              'Vent\\'anni o poco più',\n",
    "              'Tous les garçons et les filles',\n",
    "              'Mambo italiano']"
   ]
  },
  {
   "cell_type": "code",
   "execution_count": 70,
   "metadata": {},
   "outputs": [],
   "source": [
    "X_sent = []\n",
    "for sent in test_sents:\n",
    "    x = hash_all_ngrams(sent)\n",
    "    X_sent += [x]"
   ]
  },
  {
   "cell_type": "code",
   "execution_count": 71,
   "metadata": {},
   "outputs": [
    {
     "data": {
      "text/plain": [
       "['eng', 'fra', 'ita', 'fra', 'tgl']"
      ]
     },
     "execution_count": 71,
     "metadata": {},
     "output_type": "execute_result"
    }
   ],
   "source": [
    "list(map(idx2lang.get, predict_batched(model, X_sent, batch_size=1024).tolist()))"
   ]
  }
 ],
 "metadata": {
  "kernelspec": {
   "display_name": "Python 3.9.12 ('base')",
   "language": "python",
   "name": "python3"
  },
  "language_info": {
   "codemirror_mode": {
    "name": "ipython",
    "version": 3
   },
   "file_extension": ".py",
   "mimetype": "text/x-python",
   "name": "python",
   "nbconvert_exporter": "python",
   "pygments_lexer": "ipython3",
   "version": "3.1.-1"
  },
  "vscode": {
   "interpreter": {
    "hash": "b97b11a820675205aae8f1d7f2a3f22bbd3a2c30189f44042310baf5b4cd1987"
   }
  }
 },
 "nbformat": 4,
 "nbformat_minor": 4
}
