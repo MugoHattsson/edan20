{
 "cells": [
  {
   "cell_type": "markdown",
   "metadata": {},
   "source": [
    "# Chapter 14: Part-of-Speech and Sequence Annotation\n",
    "## Part-of-Speech Tagging with Feed-Forward Networks "
   ]
  },
  {
   "cell_type": "markdown",
   "metadata": {},
   "source": [
    "Programs from the book: [_Python for Natural Language Processing_](https://link.springer.com/book/9783031575488)\n",
    "\n",
    "__Author__: Pierre Nugues"
   ]
  },
  {
   "cell_type": "markdown",
   "metadata": {},
   "source": [
    "## Modules"
   ]
  },
  {
   "cell_type": "markdown",
   "metadata": {},
   "source": [
    "We import modules and a CoNLL reader."
   ]
  },
  {
   "cell_type": "code",
   "execution_count": 1,
   "metadata": {},
   "outputs": [],
   "source": [
    "import numpy as np"
   ]
  },
  {
   "cell_type": "code",
   "execution_count": 2,
   "metadata": {},
   "outputs": [],
   "source": [
    "import torch\n",
    "from torch import nn"
   ]
  },
  {
   "cell_type": "code",
   "execution_count": 3,
   "metadata": {},
   "outputs": [],
   "source": [
    "from sklearn.feature_extraction import DictVectorizer\n",
    "from torch.utils.data import TensorDataset, DataLoader\n",
    "from sklearn.metrics import confusion_matrix\n",
    "from sklearn.metrics import classification_report\n",
    "import ud_datasets\n",
    "from conll_dictorizer import CoNLLDictorizer\n",
    "\n",
    "from tqdm import tqdm\n",
    "import matplotlib.pyplot as plt"
   ]
  },
  {
   "cell_type": "code",
   "execution_count": 4,
   "metadata": {},
   "outputs": [],
   "source": [
    "EPOCHS = 16\n",
    "LR = 0.005\n",
    "LOWERCASE = True"
   ]
  },
  {
   "cell_type": "code",
   "execution_count": 5,
   "metadata": {},
   "outputs": [
    {
     "data": {
      "text/plain": [
       "<torch._C.Generator at 0x110b4f210>"
      ]
     },
     "execution_count": 5,
     "metadata": {},
     "output_type": "execute_result"
    }
   ],
   "source": [
    "torch.manual_seed(4321)"
   ]
  },
  {
   "cell_type": "markdown",
   "metadata": {},
   "source": [
    "## Loading the corpus"
   ]
  },
  {
   "cell_type": "markdown",
   "metadata": {},
   "source": [
    "We load a corpus from Universal Dependencies: https://universaldependencies.org/ hosted by GitHub"
   ]
  },
  {
   "cell_type": "code",
   "execution_count": 6,
   "metadata": {},
   "outputs": [],
   "source": [
    "CORPUS = 'EWT'"
   ]
  },
  {
   "cell_type": "code",
   "execution_count": 7,
   "metadata": {},
   "outputs": [],
   "source": [
    "if CORPUS == 'EWT':\n",
    "    train_sentences, val_sentences, test_sentences, column_names = ud_datasets.load_ud_en_ewt()\n",
    "elif CORPUS == 'Talbanken':\n",
    "    train_sentences, val_sentences, test_sentences, column_names = ud_datasets.load_ud_sv_talbanken()\n",
    "elif CORPUS == 'GSD':\n",
    "    train_sentences, val_sentences, test_sentences, column_names = ud_datasets.load_ud_fr_gsd()"
   ]
  },
  {
   "cell_type": "code",
   "execution_count": 8,
   "metadata": {},
   "outputs": [
    {
     "data": {
      "text/plain": [
       "['ID',\n",
       " 'FORM',\n",
       " 'LEMMA',\n",
       " 'UPOS',\n",
       " 'XPOS',\n",
       " 'FEATS',\n",
       " 'HEAD',\n",
       " 'DEPREL',\n",
       " 'HEAD',\n",
       " 'DEPS',\n",
       " 'MISC']"
      ]
     },
     "execution_count": 8,
     "metadata": {},
     "output_type": "execute_result"
    }
   ],
   "source": [
    "column_names"
   ]
  },
  {
   "cell_type": "code",
   "execution_count": 9,
   "metadata": {},
   "outputs": [
    {
     "data": {
      "text/plain": [
       "'# newdoc id = weblog-juancole.com_juancole_20051126063000_ENG_20051126_063000\\n# sent_id = weblog-juancole.com_juancole_20051126063000_ENG_20051126_063000-0001\\n# newpar id = weblog-juancole.com_juancole_20051126063000_ENG_20051126_063000-p0001\\n# text = Al-Zaman : American forces killed Shaikh Abdullah al-Ani, the preacher at the mosque in the town of Qaim, near the Syrian border.\\n1\\tAl\\tAl\\tPROPN\\tNNP\\tNumber=Sing\\t0\\troot\\t0:root\\tSpaceAfter=No\\n2\\t-\\t-\\tPUNCT\\tHYPH\\t_\\t3\\tpunct\\t3:punct\\tSpaceAfter=No\\n3\\tZaman\\tZam'"
      ]
     },
     "execution_count": 9,
     "metadata": {},
     "output_type": "execute_result"
    }
   ],
   "source": [
    "train_sentences[:500]"
   ]
  },
  {
   "cell_type": "markdown",
   "metadata": {},
   "source": [
    "## Dictorizing the corpus"
   ]
  },
  {
   "cell_type": "markdown",
   "metadata": {},
   "source": [
    "We store the corpus word in a dictionary, where the keys are the CoNLL-U columns"
   ]
  },
  {
   "cell_type": "code",
   "execution_count": 10,
   "metadata": {},
   "outputs": [],
   "source": [
    "conll_dict = CoNLLDictorizer(column_names)"
   ]
  },
  {
   "cell_type": "code",
   "execution_count": 11,
   "metadata": {},
   "outputs": [],
   "source": [
    "train_dict = conll_dict.transform(train_sentences)\n",
    "val_dict = conll_dict.transform(val_sentences)\n",
    "test_dict = conll_dict.transform(test_sentences)"
   ]
  },
  {
   "cell_type": "code",
   "execution_count": 12,
   "metadata": {},
   "outputs": [
    {
     "data": {
      "text/plain": [
       "[{'ID': '1',\n",
       "  'FORM': 'Al',\n",
       "  'LEMMA': 'Al',\n",
       "  'UPOS': 'PROPN',\n",
       "  'XPOS': 'NNP',\n",
       "  'FEATS': 'Number=Sing',\n",
       "  'HEAD': '0:root',\n",
       "  'DEPREL': 'root',\n",
       "  'DEPS': 'SpaceAfter=No'},\n",
       " {'ID': '2',\n",
       "  'FORM': '-',\n",
       "  'LEMMA': '-',\n",
       "  'UPOS': 'PUNCT',\n",
       "  'XPOS': 'HYPH',\n",
       "  'FEATS': '_',\n",
       "  'HEAD': '3:punct',\n",
       "  'DEPREL': 'punct',\n",
       "  'DEPS': 'SpaceAfter=No'},\n",
       " {'ID': '3',\n",
       "  'FORM': 'Zaman',\n",
       "  'LEMMA': 'Zaman',\n",
       "  'UPOS': 'PROPN',\n",
       "  'XPOS': 'NNP',\n",
       "  'FEATS': 'Number=Sing',\n",
       "  'HEAD': '1:flat',\n",
       "  'DEPREL': 'flat',\n",
       "  'DEPS': '_'},\n",
       " {'ID': '4',\n",
       "  'FORM': ':',\n",
       "  'LEMMA': ':',\n",
       "  'UPOS': 'PUNCT',\n",
       "  'XPOS': ':',\n",
       "  'FEATS': '_',\n",
       "  'HEAD': '7:punct',\n",
       "  'DEPREL': 'punct',\n",
       "  'DEPS': '_'},\n",
       " {'ID': '5',\n",
       "  'FORM': 'American',\n",
       "  'LEMMA': 'American',\n",
       "  'UPOS': 'ADJ',\n",
       "  'XPOS': 'JJ',\n",
       "  'FEATS': 'Degree=Pos',\n",
       "  'HEAD': '6:amod',\n",
       "  'DEPREL': 'amod',\n",
       "  'DEPS': '_'},\n",
       " {'ID': '6',\n",
       "  'FORM': 'forces',\n",
       "  'LEMMA': 'force',\n",
       "  'UPOS': 'NOUN',\n",
       "  'XPOS': 'NNS',\n",
       "  'FEATS': 'Number=Plur',\n",
       "  'HEAD': '7:nsubj',\n",
       "  'DEPREL': 'nsubj',\n",
       "  'DEPS': '_'},\n",
       " {'ID': '7',\n",
       "  'FORM': 'killed',\n",
       "  'LEMMA': 'kill',\n",
       "  'UPOS': 'VERB',\n",
       "  'XPOS': 'VBD',\n",
       "  'FEATS': 'Mood=Ind|Number=Plur|Person=3|Tense=Past|VerbForm=Fin',\n",
       "  'HEAD': '1:parataxis',\n",
       "  'DEPREL': 'parataxis',\n",
       "  'DEPS': '_'},\n",
       " {'ID': '8',\n",
       "  'FORM': 'Shaikh',\n",
       "  'LEMMA': 'Shaikh',\n",
       "  'UPOS': 'PROPN',\n",
       "  'XPOS': 'NNP',\n",
       "  'FEATS': 'Number=Sing',\n",
       "  'HEAD': '7:obj',\n",
       "  'DEPREL': 'obj',\n",
       "  'DEPS': '_'},\n",
       " {'ID': '9',\n",
       "  'FORM': 'Abdullah',\n",
       "  'LEMMA': 'Abdullah',\n",
       "  'UPOS': 'PROPN',\n",
       "  'XPOS': 'NNP',\n",
       "  'FEATS': 'Number=Sing',\n",
       "  'HEAD': '8:flat',\n",
       "  'DEPREL': 'flat',\n",
       "  'DEPS': '_'},\n",
       " {'ID': '10',\n",
       "  'FORM': 'al',\n",
       "  'LEMMA': 'al',\n",
       "  'UPOS': 'PROPN',\n",
       "  'XPOS': 'NNP',\n",
       "  'FEATS': 'Number=Sing',\n",
       "  'HEAD': '8:flat',\n",
       "  'DEPREL': 'flat',\n",
       "  'DEPS': 'SpaceAfter=No'}]"
      ]
     },
     "execution_count": 12,
     "metadata": {},
     "output_type": "execute_result"
    }
   ],
   "source": [
    "train_dict[0][:10]"
   ]
  },
  {
   "cell_type": "markdown",
   "metadata": {},
   "source": [
    "## Feature extraction"
   ]
  },
  {
   "cell_type": "markdown",
   "metadata": {},
   "source": [
    "We extract the features and we store them in a dictionary. This $y$ output is extracted from the `UPOS` column for the Universal dependencies."
   ]
  },
  {
   "cell_type": "code",
   "execution_count": 13,
   "metadata": {},
   "outputs": [],
   "source": [
    "def extract_cols(sent_dict, x='FORM', y='UPOS'):\n",
    "    (input, target) = ([], [])\n",
    "    for word in sent_dict:\n",
    "        input += [word[x]]\n",
    "        target += [word.get(y, None)]\n",
    "    return input, target"
   ]
  },
  {
   "cell_type": "code",
   "execution_count": 14,
   "metadata": {},
   "outputs": [],
   "source": [
    "train_cols = [extract_cols(sent_dict)\n",
    "              for sent_dict in train_dict]\n",
    "val_cols = [extract_cols(sent_dict)\n",
    "            for sent_dict in val_dict]\n",
    "test_cols = [extract_cols(sent_dict)\n",
    "             for sent_dict in test_dict]"
   ]
  },
  {
   "cell_type": "code",
   "execution_count": 15,
   "metadata": {},
   "outputs": [],
   "source": [
    "train_sent_words, train_sent_pos = zip(*train_cols)\n",
    "val_sent_words, val_sent_pos = zip(*val_cols)\n",
    "test_sent_words, test_sent_pos = zip(*test_cols)"
   ]
  },
  {
   "cell_type": "markdown",
   "metadata": {},
   "source": [
    "We set the words in lowercase"
   ]
  },
  {
   "cell_type": "code",
   "execution_count": 16,
   "metadata": {},
   "outputs": [],
   "source": [
    "if LOWERCASE:\n",
    "    train_sent_words = [list(map(str.lower, sent_words))\n",
    "                        for sent_words in train_sent_words]\n",
    "    val_sent_words = [list(map(str.lower, sent_words))\n",
    "                      for sent_words in val_sent_words]\n",
    "    test_sent_words = [list(map(str.lower, sent_words))\n",
    "                       for sent_words in test_sent_words]"
   ]
  },
  {
   "cell_type": "code",
   "execution_count": 17,
   "metadata": {},
   "outputs": [
    {
     "data": {
      "text/plain": [
       "['or', 'you', 'can', 'visit', 'temples', 'or', 'shrines', 'in', 'okinawa', '.']"
      ]
     },
     "execution_count": 17,
     "metadata": {},
     "output_type": "execute_result"
    }
   ],
   "source": [
    "train_sent_words[8131]"
   ]
  },
  {
   "cell_type": "code",
   "execution_count": 18,
   "metadata": {},
   "outputs": [
    {
     "data": {
      "text/plain": [
       "['CCONJ',\n",
       " 'PRON',\n",
       " 'AUX',\n",
       " 'VERB',\n",
       " 'NOUN',\n",
       " 'CCONJ',\n",
       " 'NOUN',\n",
       " 'ADP',\n",
       " 'PROPN',\n",
       " 'PUNCT']"
      ]
     },
     "execution_count": 18,
     "metadata": {},
     "output_type": "execute_result"
    }
   ],
   "source": [
    "train_sent_pos[8131]"
   ]
  },
  {
   "cell_type": "markdown",
   "metadata": {},
   "source": [
    "## The `X` Matrix"
   ]
  },
  {
   "cell_type": "code",
   "execution_count": 19,
   "metadata": {},
   "outputs": [],
   "source": [
    "def create_X_cat(sentence: list[str],\n",
    "                 w_size: int = 2) -> list[dict[int: str]]:\n",
    "    start_pads = ['__BOS__'] * w_size\n",
    "    end_pads = ['__EOS__'] * w_size\n",
    "    sentence = start_pads + sentence + end_pads\n",
    "    # We extract the features\n",
    "    X = []\n",
    "    for i in range(len(sentence) - 2 * w_size):\n",
    "        x = []\n",
    "        for j in range(2 * w_size + 1):\n",
    "            x += [sentence[i + j]]\n",
    "        X += [x]\n",
    "    X = [dict(enumerate(x)) for x in X]\n",
    "    return X"
   ]
  },
  {
   "cell_type": "code",
   "execution_count": 20,
   "metadata": {},
   "outputs": [
    {
     "data": {
      "text/plain": [
       "['al',\n",
       " '-',\n",
       " 'zaman',\n",
       " ':',\n",
       " 'american',\n",
       " 'forces',\n",
       " 'killed',\n",
       " 'shaikh',\n",
       " 'abdullah',\n",
       " 'al',\n",
       " '-',\n",
       " 'ani',\n",
       " ',',\n",
       " 'the',\n",
       " 'preacher',\n",
       " 'at',\n",
       " 'the',\n",
       " 'mosque',\n",
       " 'in',\n",
       " 'the',\n",
       " 'town',\n",
       " 'of',\n",
       " 'qaim',\n",
       " ',',\n",
       " 'near',\n",
       " 'the',\n",
       " 'syrian',\n",
       " 'border',\n",
       " '.']"
      ]
     },
     "execution_count": 20,
     "metadata": {},
     "output_type": "execute_result"
    }
   ],
   "source": [
    "train_sent_words[0]"
   ]
  },
  {
   "cell_type": "code",
   "execution_count": 21,
   "metadata": {},
   "outputs": [
    {
     "data": {
      "text/plain": [
       "[{0: '__BOS__', 1: '__BOS__', 2: 'or', 3: 'you', 4: 'can'},\n",
       " {0: '__BOS__', 1: 'or', 2: 'you', 3: 'can', 4: 'visit'},\n",
       " {0: 'or', 1: 'you', 2: 'can', 3: 'visit', 4: 'temples'},\n",
       " {0: 'you', 1: 'can', 2: 'visit', 3: 'temples', 4: 'or'},\n",
       " {0: 'can', 1: 'visit', 2: 'temples', 3: 'or', 4: 'shrines'},\n",
       " {0: 'visit', 1: 'temples', 2: 'or', 3: 'shrines', 4: 'in'},\n",
       " {0: 'temples', 1: 'or', 2: 'shrines', 3: 'in', 4: 'okinawa'},\n",
       " {0: 'or', 1: 'shrines', 2: 'in', 3: 'okinawa', 4: '.'},\n",
       " {0: 'shrines', 1: 'in', 2: 'okinawa', 3: '.', 4: '__EOS__'},\n",
       " {0: 'in', 1: 'okinawa', 2: '.', 3: '__EOS__', 4: '__EOS__'}]"
      ]
     },
     "execution_count": 21,
     "metadata": {},
     "output_type": "execute_result"
    }
   ],
   "source": [
    "create_X_cat(train_sent_words[8131])"
   ]
  },
  {
   "cell_type": "code",
   "execution_count": 22,
   "metadata": {},
   "outputs": [
    {
     "data": {
      "text/plain": [
       "['CCONJ',\n",
       " 'PRON',\n",
       " 'AUX',\n",
       " 'VERB',\n",
       " 'NOUN',\n",
       " 'CCONJ',\n",
       " 'NOUN',\n",
       " 'ADP',\n",
       " 'PROPN',\n",
       " 'PUNCT']"
      ]
     },
     "execution_count": 22,
     "metadata": {},
     "output_type": "execute_result"
    }
   ],
   "source": [
    "train_sent_pos[8131]"
   ]
  },
  {
   "cell_type": "code",
   "execution_count": 23,
   "metadata": {},
   "outputs": [],
   "source": [
    "X_train_cat = [row for sent in train_sent_words\n",
    "               for row in create_X_cat(sent)]\n",
    "X_val_cat = [row for sent in val_sent_words\n",
    "             for row in create_X_cat(sent)]\n",
    "X_test_cat = [row for sent in test_sent_words\n",
    "              for row in create_X_cat(sent)]"
   ]
  },
  {
   "cell_type": "code",
   "execution_count": 24,
   "metadata": {},
   "outputs": [],
   "source": [
    "y_train_cat = [pos for sent in train_sent_pos\n",
    "               for pos in sent]\n",
    "y_val_cat = [pos for sent in val_sent_pos\n",
    "             for pos in sent]\n",
    "y_test_cat = [pos for sent in test_sent_pos\n",
    "              for pos in sent]"
   ]
  },
  {
   "cell_type": "code",
   "execution_count": 25,
   "metadata": {},
   "outputs": [
    {
     "data": {
      "text/plain": [
       "207229"
      ]
     },
     "execution_count": 25,
     "metadata": {},
     "output_type": "execute_result"
    }
   ],
   "source": [
    "len(y_train_cat)"
   ]
  },
  {
   "cell_type": "code",
   "execution_count": 26,
   "metadata": {},
   "outputs": [
    {
     "data": {
      "text/plain": [
       "[{0: '__BOS__', 1: '__BOS__', 2: 'al', 3: '-', 4: 'zaman'},\n",
       " {0: '__BOS__', 1: 'al', 2: '-', 3: 'zaman', 4: ':'},\n",
       " {0: 'al', 1: '-', 2: 'zaman', 3: ':', 4: 'american'},\n",
       " {0: '-', 1: 'zaman', 2: ':', 3: 'american', 4: 'forces'},\n",
       " {0: 'zaman', 1: ':', 2: 'american', 3: 'forces', 4: 'killed'},\n",
       " {0: ':', 1: 'american', 2: 'forces', 3: 'killed', 4: 'shaikh'},\n",
       " {0: 'american', 1: 'forces', 2: 'killed', 3: 'shaikh', 4: 'abdullah'},\n",
       " {0: 'forces', 1: 'killed', 2: 'shaikh', 3: 'abdullah', 4: 'al'},\n",
       " {0: 'killed', 1: 'shaikh', 2: 'abdullah', 3: 'al', 4: '-'},\n",
       " {0: 'shaikh', 1: 'abdullah', 2: 'al', 3: '-', 4: 'ani'}]"
      ]
     },
     "execution_count": 26,
     "metadata": {},
     "output_type": "execute_result"
    }
   ],
   "source": [
    "X_train_cat[:10]"
   ]
  },
  {
   "cell_type": "markdown",
   "metadata": {},
   "source": [
    "## Vectorizing the Matrix"
   ]
  },
  {
   "cell_type": "code",
   "execution_count": 27,
   "metadata": {},
   "outputs": [],
   "source": [
    "dict_vectorizer = DictVectorizer(sparse=False, dtype=np.float32)"
   ]
  },
  {
   "cell_type": "code",
   "execution_count": 28,
   "metadata": {},
   "outputs": [],
   "source": [
    "X_train = dict_vectorizer.fit_transform(X_train_cat)\n",
    "X_val = dict_vectorizer.transform(X_val_cat)\n",
    "X_test = dict_vectorizer.transform(X_test_cat)"
   ]
  },
  {
   "cell_type": "markdown",
   "metadata": {},
   "source": [
    "## Training the model"
   ]
  },
  {
   "cell_type": "code",
   "execution_count": 29,
   "metadata": {},
   "outputs": [
    {
     "data": {
      "text/plain": [
       "['PROPN',\n",
       " 'PUNCT',\n",
       " 'PROPN',\n",
       " 'PUNCT',\n",
       " 'ADJ',\n",
       " 'NOUN',\n",
       " 'VERB',\n",
       " 'PROPN',\n",
       " 'PROPN',\n",
       " 'PROPN']"
      ]
     },
     "execution_count": 29,
     "metadata": {},
     "output_type": "execute_result"
    }
   ],
   "source": [
    "y_train_cat[:10]"
   ]
  },
  {
   "cell_type": "code",
   "execution_count": 30,
   "metadata": {},
   "outputs": [],
   "source": [
    "idx2pos = dict(enumerate(sorted(set(y_train_cat))))"
   ]
  },
  {
   "cell_type": "code",
   "execution_count": 31,
   "metadata": {},
   "outputs": [],
   "source": [
    "pos2idx = {v: k for k, v in idx2pos.items()}"
   ]
  },
  {
   "cell_type": "code",
   "execution_count": 32,
   "metadata": {},
   "outputs": [],
   "source": [
    "X_train = torch.from_numpy(X_train)\n",
    "X_val = torch.from_numpy(X_val)\n",
    "X_test = torch.from_numpy(X_test)"
   ]
  },
  {
   "cell_type": "code",
   "execution_count": 33,
   "metadata": {},
   "outputs": [],
   "source": [
    "y_train = torch.LongTensor(\n",
    "    list(map(lambda x: pos2idx.get(x), y_train_cat)))\n",
    "y_val = torch.LongTensor(\n",
    "    list(map(lambda x: pos2idx.get(x), y_val_cat)))\n",
    "y_test = torch.LongTensor(\n",
    "    list(map(lambda x: pos2idx.get(x), y_test_cat)))"
   ]
  },
  {
   "cell_type": "code",
   "execution_count": 34,
   "metadata": {},
   "outputs": [],
   "source": [
    "train_dataset = TensorDataset(X_train, y_train)\n",
    "train_dataloader = DataLoader(\n",
    "    train_dataset, batch_size=512, shuffle=True)\n",
    "\n",
    "val_dataset = TensorDataset(X_val, y_val)\n",
    "val_dataloader = DataLoader(\n",
    "    val_dataset, batch_size=2048, shuffle=False)\n",
    "\n",
    "test_dataset = TensorDataset(X_test, y_test)\n",
    "test_dataloader = DataLoader(\n",
    "    test_dataset, batch_size=2048, shuffle=False)"
   ]
  },
  {
   "cell_type": "code",
   "execution_count": 35,
   "metadata": {},
   "outputs": [],
   "source": [
    "SIMPLE = True"
   ]
  },
  {
   "cell_type": "code",
   "execution_count": 36,
   "metadata": {},
   "outputs": [],
   "source": [
    "if SIMPLE:\n",
    "    model = nn.Sequential(\n",
    "        nn.Linear(X_train.size(dim=1), len(pos2idx))\n",
    "    )\n",
    "else:\n",
    "    model = nn.Sequential(\n",
    "        nn.Linear(X_train.size(dim=1), 2 * len(pos2idx)),\n",
    "        nn.ReLU(),\n",
    "        nn.Linear(2 * len(pos2idx), len(pos2idx)),\n",
    "    )"
   ]
  },
  {
   "cell_type": "code",
   "execution_count": 37,
   "metadata": {},
   "outputs": [],
   "source": [
    "loss_fn = nn.CrossEntropyLoss()    # cross entropy loss\n",
    "optimizer = torch.optim.NAdam(model.parameters(), lr=LR)"
   ]
  },
  {
   "cell_type": "code",
   "execution_count": 38,
   "metadata": {},
   "outputs": [],
   "source": [
    "def evaluate(model,\n",
    "             loss_fn,\n",
    "             dataloader) -> tuple[float, float]:\n",
    "    model.eval()\n",
    "    with torch.no_grad():\n",
    "        loss = 0\n",
    "        acc = 0\n",
    "        batch_cnt = 0\n",
    "        for X_batch, y_batch in dataloader:\n",
    "            batch_cnt += 1\n",
    "            y_batch_pred = model(X_batch)\n",
    "            loss += loss_fn(y_batch_pred, y_batch).item()\n",
    "            acc += (sum(torch.argmax(y_batch_pred, dim=-1)\n",
    "                    == y_batch)/y_batch.size(dim=0)).item()\n",
    "        return loss/batch_cnt, acc/batch_cnt"
   ]
  },
  {
   "cell_type": "code",
   "execution_count": 39,
   "metadata": {},
   "outputs": [],
   "source": [
    "history = {}\n",
    "history['accuracy'] = []\n",
    "history['loss'] = []\n",
    "history['val_accuracy'] = []\n",
    "history['val_loss'] = []"
   ]
  },
  {
   "cell_type": "code",
   "execution_count": 40,
   "metadata": {},
   "outputs": [
    {
     "name": "stderr",
     "output_type": "stream",
     "text": [
      "100%|██████████| 405/405 [00:31<00:00, 13.01it/s]\n",
      "100%|██████████| 405/405 [00:30<00:00, 13.46it/s]\n",
      "100%|██████████| 405/405 [00:30<00:00, 13.37it/s]\n",
      "100%|██████████| 405/405 [00:31<00:00, 12.84it/s]\n",
      "100%|██████████| 405/405 [00:32<00:00, 12.62it/s]\n",
      "100%|██████████| 405/405 [00:28<00:00, 14.05it/s]\n",
      "100%|██████████| 405/405 [00:29<00:00, 13.51it/s]\n",
      "100%|██████████| 405/405 [00:30<00:00, 13.11it/s]\n",
      "100%|██████████| 405/405 [00:30<00:00, 13.20it/s]\n",
      "100%|██████████| 405/405 [00:30<00:00, 13.17it/s]\n",
      "100%|██████████| 405/405 [00:31<00:00, 13.01it/s]\n",
      "100%|██████████| 405/405 [00:32<00:00, 12.34it/s]\n",
      "100%|██████████| 405/405 [00:32<00:00, 12.43it/s]\n",
      "100%|██████████| 405/405 [00:30<00:00, 13.36it/s]\n",
      "100%|██████████| 405/405 [00:28<00:00, 13.99it/s]\n",
      "100%|██████████| 405/405 [00:32<00:00, 12.44it/s]\n"
     ]
    }
   ],
   "source": [
    "for epoch in range(EPOCHS):\n",
    "    train_loss = 0\n",
    "    train_acc = 0\n",
    "    batch_cnt = 0\n",
    "    model.train()\n",
    "    for X_batch, y_batch in tqdm(train_dataloader):\n",
    "        batch_cnt += 1\n",
    "        y_batch_pred = model(X_batch)\n",
    "        loss = loss_fn(y_batch_pred, y_batch)\n",
    "        optimizer.zero_grad()\n",
    "        loss.backward()\n",
    "        optimizer.step()\n",
    "        train_acc += (sum(\n",
    "            torch.argmax(y_batch_pred, dim=-1)\n",
    "            == y_batch)/y_batch.size(dim=0)).item()\n",
    "        train_loss += loss.item()\n",
    "    model.eval()\n",
    "    with torch.no_grad():\n",
    "        history['accuracy'] += [train_acc/batch_cnt]\n",
    "        history['loss'] += [train_loss/batch_cnt]\n",
    "        val_loss, val_acc = evaluate(model, loss_fn, val_dataloader)\n",
    "        history['val_loss'] += [val_loss]\n",
    "        history['val_accuracy'] += [val_acc]"
   ]
  },
  {
   "cell_type": "code",
   "execution_count": 41,
   "metadata": {},
   "outputs": [
    {
     "data": {
      "text/plain": [
       "[0.8398976830335764,\n",
       " 0.8832779893508325,\n",
       " 0.899243597800915,\n",
       " 0.9059575429329505,\n",
       " 0.9102137134625361,\n",
       " 0.9131129017243018,\n",
       " 0.9148079248575064,\n",
       " 0.9162422693692721,\n",
       " 0.9174512533041147,\n",
       " 0.9182024552271917,\n",
       " 0.9180522148425763,\n",
       " 0.9181039012395419,\n",
       " 0.9184207549461951,\n",
       " 0.9178127325498141,\n",
       " 0.9179019744579608,\n",
       " 0.9172939520615798]"
      ]
     },
     "execution_count": 41,
     "metadata": {},
     "output_type": "execute_result"
    }
   ],
   "source": [
    "history['val_accuracy']"
   ]
  },
  {
   "cell_type": "code",
   "execution_count": 42,
   "metadata": {},
   "outputs": [
    {
     "data": {
      "image/png": "[encoded data removed]",
      "text/plain": [
       "<Figure size 640x480 with 1 Axes>"
      ]
     },
     "metadata": {},
     "output_type": "display_data"
    },
    {
     "data": {
      "image/png": "[encoded data removed]",
      "text/plain": [
       "<Figure size 640x480 with 1 Axes>"
      ]
     },
     "metadata": {},
     "output_type": "display_data"
    }
   ],
   "source": [
    "acc = history['accuracy']\n",
    "loss = history['loss']\n",
    "val_acc = history['val_accuracy']\n",
    "val_loss = history['val_loss']\n",
    "\n",
    "epochs = range(1, len(acc) + 1)\n",
    "plt.plot(epochs, acc, 'bo', label='Training accuracy')\n",
    "plt.plot(epochs, val_acc, 'b', label='Validation accuracy')\n",
    "plt.title('Training and validation accuracies')\n",
    "plt.legend()\n",
    "\n",
    "plt.figure()\n",
    "plt.plot(epochs, loss, 'bo', label='Training loss')\n",
    "plt.plot(epochs, val_loss, 'b', label='Validation loss')\n",
    "plt.title('Training and validation losses')\n",
    "plt.legend()\n",
    "\n",
    "plt.show()"
   ]
  },
  {
   "cell_type": "code",
   "execution_count": 43,
   "metadata": {},
   "outputs": [
    {
     "data": {
      "text/plain": [
       "Sequential(\n",
       "  (0): Linear(in_features=81629, out_features=18, bias=True)\n",
       ")"
      ]
     },
     "execution_count": 43,
     "metadata": {},
     "output_type": "execute_result"
    }
   ],
   "source": [
    "model.eval()"
   ]
  },
  {
   "cell_type": "code",
   "execution_count": 44,
   "metadata": {},
   "outputs": [
    {
     "data": {
      "text/plain": [
       "tensor([[0., 0., 0.,  ..., 0., 0., 0.],\n",
       "        [0., 0., 0.,  ..., 0., 0., 0.],\n",
       "        [0., 0., 0.,  ..., 0., 0., 0.],\n",
       "        ...,\n",
       "        [0., 0., 0.,  ..., 0., 0., 0.],\n",
       "        [0., 0., 0.,  ..., 0., 0., 0.],\n",
       "        [0., 0., 0.,  ..., 0., 0., 0.]])"
      ]
     },
     "execution_count": 44,
     "metadata": {},
     "output_type": "execute_result"
    }
   ],
   "source": [
    "X_test[:10]"
   ]
  },
  {
   "cell_type": "code",
   "execution_count": 45,
   "metadata": {},
   "outputs": [
    {
     "data": {
      "text/plain": [
       "(0.25462001676742846, 0.9209007574961736)"
      ]
     },
     "execution_count": 45,
     "metadata": {},
     "output_type": "execute_result"
    }
   ],
   "source": [
    "acc_loss, acc_test = evaluate(model, loss_fn, test_dataloader)\n",
    "acc_loss, acc_test"
   ]
  },
  {
   "cell_type": "markdown",
   "metadata": {},
   "source": [
    "### Predict the sentences"
   ]
  },
  {
   "cell_type": "code",
   "execution_count": 46,
   "metadata": {},
   "outputs": [],
   "source": [
    "def predict_sentence(sentence,\n",
    "                     model,\n",
    "                     idx2pos,\n",
    "                     dict_vectorizer,\n",
    "                     ppos_key='PPOS', lc=True):\n",
    "    sent_words, _ = extract_cols(sentence)\n",
    "    if lc:\n",
    "        sent_words = list(map(str.lower, sent_words))\n",
    "    X_cat = create_X_cat(sent_words)\n",
    "    X = dict_vectorizer.transform(X_cat)\n",
    "    y_pred_vec = torch.argmax(model(torch.from_numpy(X)),\n",
    "                              dim=-1)\n",
    "    # We add the predictions in the PPOS column\n",
    "    for row, y_pred in zip(sentence, y_pred_vec):\n",
    "        row[ppos_key] = idx2pos[y_pred.item()]\n",
    "    return sentence"
   ]
  },
  {
   "cell_type": "code",
   "execution_count": 47,
   "metadata": {},
   "outputs": [],
   "source": [
    "for sent in test_dict:\n",
    "    predict_sentence(sent, model, idx2pos, dict_vectorizer, lc=LOWERCASE)"
   ]
  },
  {
   "cell_type": "markdown",
   "metadata": {},
   "source": [
    "## Evaluate the prediction"
   ]
  },
  {
   "cell_type": "code",
   "execution_count": 48,
   "metadata": {},
   "outputs": [
    {
     "data": {
      "text/plain": [
       "[[{'ID': '1',\n",
       "   'FORM': 'What',\n",
       "   'LEMMA': 'what',\n",
       "   'UPOS': 'PRON',\n",
       "   'XPOS': 'WP',\n",
       "   'FEATS': 'PronType=Int',\n",
       "   'HEAD': '0:root',\n",
       "   'DEPREL': 'root',\n",
       "   'DEPS': '_',\n",
       "   'PPOS': 'PRON'},\n",
       "  {'ID': '2',\n",
       "   'FORM': 'if',\n",
       "   'LEMMA': 'if',\n",
       "   'UPOS': 'SCONJ',\n",
       "   'XPOS': 'IN',\n",
       "   'FEATS': '_',\n",
       "   'HEAD': '4:mark',\n",
       "   'DEPREL': 'mark',\n",
       "   'DEPS': '_',\n",
       "   'PPOS': 'SCONJ'},\n",
       "  {'ID': '3',\n",
       "   'FORM': 'Google',\n",
       "   'LEMMA': 'Google',\n",
       "   'UPOS': 'PROPN',\n",
       "   'XPOS': 'NNP',\n",
       "   'FEATS': 'Number=Sing',\n",
       "   'HEAD': '4:nsubj',\n",
       "   'DEPREL': 'nsubj',\n",
       "   'DEPS': '_',\n",
       "   'PPOS': 'PROPN'},\n",
       "  {'ID': '4',\n",
       "   'FORM': 'Morphed',\n",
       "   'LEMMA': 'morph',\n",
       "   'UPOS': 'VERB',\n",
       "   'XPOS': 'VBD',\n",
       "   'FEATS': 'Mood=Ind|Number=Sing|Person=3|Tense=Past|VerbForm=Fin',\n",
       "   'HEAD': '1:advcl:if',\n",
       "   'DEPREL': 'advcl',\n",
       "   'DEPS': '_',\n",
       "   'PPOS': 'NOUN'},\n",
       "  {'ID': '5',\n",
       "   'FORM': 'Into',\n",
       "   'LEMMA': 'into',\n",
       "   'UPOS': 'ADP',\n",
       "   'XPOS': 'IN',\n",
       "   'FEATS': '_',\n",
       "   'HEAD': '6:case',\n",
       "   'DEPREL': 'case',\n",
       "   'DEPS': '_',\n",
       "   'PPOS': 'ADP'},\n",
       "  {'ID': '6',\n",
       "   'FORM': 'GoogleOS',\n",
       "   'LEMMA': 'GoogleOS',\n",
       "   'UPOS': 'PROPN',\n",
       "   'XPOS': 'NNP',\n",
       "   'FEATS': 'Number=Sing',\n",
       "   'HEAD': '4:obl:into',\n",
       "   'DEPREL': 'obl',\n",
       "   'DEPS': 'SpaceAfter=No',\n",
       "   'PPOS': 'NOUN'},\n",
       "  {'ID': '7',\n",
       "   'FORM': '?',\n",
       "   'LEMMA': '?',\n",
       "   'UPOS': 'PUNCT',\n",
       "   'XPOS': '.',\n",
       "   'FEATS': '_',\n",
       "   'HEAD': '4:punct',\n",
       "   'DEPREL': 'punct',\n",
       "   'DEPS': '_',\n",
       "   'PPOS': 'PUNCT'}],\n",
       " [{'ID': '1',\n",
       "   'FORM': 'What',\n",
       "   'LEMMA': 'what',\n",
       "   'UPOS': 'PRON',\n",
       "   'XPOS': 'WP',\n",
       "   'FEATS': 'PronType=Int',\n",
       "   'HEAD': '0:root',\n",
       "   'DEPREL': 'root',\n",
       "   'DEPS': '_',\n",
       "   'PPOS': 'PRON'},\n",
       "  {'ID': '2',\n",
       "   'FORM': 'if',\n",
       "   'LEMMA': 'if',\n",
       "   'UPOS': 'SCONJ',\n",
       "   'XPOS': 'IN',\n",
       "   'FEATS': '_',\n",
       "   'HEAD': '4:mark',\n",
       "   'DEPREL': 'mark',\n",
       "   'DEPS': '_',\n",
       "   'PPOS': 'SCONJ'},\n",
       "  {'ID': '3',\n",
       "   'FORM': 'Google',\n",
       "   'LEMMA': 'Google',\n",
       "   'UPOS': 'PROPN',\n",
       "   'XPOS': 'NNP',\n",
       "   'FEATS': 'Number=Sing',\n",
       "   'HEAD': '4:nsubj',\n",
       "   'DEPREL': 'nsubj',\n",
       "   'DEPS': '_',\n",
       "   'PPOS': 'PROPN'},\n",
       "  {'ID': '4',\n",
       "   'FORM': 'expanded',\n",
       "   'LEMMA': 'expand',\n",
       "   'UPOS': 'VERB',\n",
       "   'XPOS': 'VBD',\n",
       "   'FEATS': 'Mood=Ind|Number=Sing|Person=3|Tense=Past|VerbForm=Fin',\n",
       "   'HEAD': '1:advcl:if',\n",
       "   'DEPREL': 'advcl',\n",
       "   'DEPS': '_',\n",
       "   'PPOS': 'VERB'},\n",
       "  {'ID': '5',\n",
       "   'FORM': 'on',\n",
       "   'LEMMA': 'on',\n",
       "   'UPOS': 'ADP',\n",
       "   'XPOS': 'IN',\n",
       "   'FEATS': '_',\n",
       "   'HEAD': '15:case',\n",
       "   'DEPREL': 'case',\n",
       "   'DEPS': '_',\n",
       "   'PPOS': 'ADP'},\n",
       "  {'ID': '6',\n",
       "   'FORM': 'its',\n",
       "   'LEMMA': 'its',\n",
       "   'UPOS': 'PRON',\n",
       "   'XPOS': 'PRP$',\n",
       "   'FEATS': 'Case=Gen|Gender=Neut|Number=Sing|Person=3|Poss=Yes|PronType=Prs',\n",
       "   'HEAD': '15:nmod:poss',\n",
       "   'DEPREL': 'nmod:poss',\n",
       "   'DEPS': '_',\n",
       "   'PPOS': 'PRON'},\n",
       "  {'ID': '7',\n",
       "   'FORM': 'search',\n",
       "   'LEMMA': 'search',\n",
       "   'UPOS': 'NOUN',\n",
       "   'XPOS': 'NN',\n",
       "   'FEATS': 'Number=Sing',\n",
       "   'HEAD': '9:compound',\n",
       "   'DEPREL': 'compound',\n",
       "   'DEPS': 'SpaceAfter=No',\n",
       "   'PPOS': 'NOUN'},\n",
       "  {'ID': '8',\n",
       "   'FORM': '-',\n",
       "   'LEMMA': '-',\n",
       "   'UPOS': 'PUNCT',\n",
       "   'XPOS': 'HYPH',\n",
       "   'FEATS': '_',\n",
       "   'HEAD': '7:punct',\n",
       "   'DEPREL': 'punct',\n",
       "   'DEPS': 'SpaceAfter=No',\n",
       "   'PPOS': 'PUNCT'},\n",
       "  {'ID': '9',\n",
       "   'FORM': 'engine',\n",
       "   'LEMMA': 'engine',\n",
       "   'UPOS': 'NOUN',\n",
       "   'XPOS': 'NN',\n",
       "   'FEATS': 'Number=Sing',\n",
       "   'HEAD': '15:compound',\n",
       "   'DEPREL': 'compound',\n",
       "   'DEPS': '_',\n",
       "   'PPOS': 'NOUN'},\n",
       "  {'ID': '10',\n",
       "   'FORM': '(',\n",
       "   'LEMMA': '(',\n",
       "   'UPOS': 'PUNCT',\n",
       "   'XPOS': '-LRB-',\n",
       "   'FEATS': '_',\n",
       "   'HEAD': '13:punct',\n",
       "   'DEPREL': 'punct',\n",
       "   'DEPS': 'SpaceAfter=No',\n",
       "   'PPOS': 'PUNCT'},\n",
       "  {'ID': '11',\n",
       "   'FORM': 'and',\n",
       "   'LEMMA': 'and',\n",
       "   'UPOS': 'CCONJ',\n",
       "   'XPOS': 'CC',\n",
       "   'FEATS': '_',\n",
       "   'HEAD': '13:cc',\n",
       "   'DEPREL': 'cc',\n",
       "   'DEPS': '_',\n",
       "   'PPOS': 'CCONJ'},\n",
       "  {'ID': '12',\n",
       "   'FORM': 'now',\n",
       "   'LEMMA': 'now',\n",
       "   'UPOS': 'ADV',\n",
       "   'XPOS': 'RB',\n",
       "   'FEATS': '_',\n",
       "   'HEAD': '13:advmod',\n",
       "   'DEPREL': 'advmod',\n",
       "   'DEPS': '_',\n",
       "   'PPOS': 'ADV'},\n",
       "  {'ID': '13',\n",
       "   'FORM': 'e-mail',\n",
       "   'LEMMA': 'e-mail',\n",
       "   'UPOS': 'NOUN',\n",
       "   'XPOS': 'NN',\n",
       "   'FEATS': 'Number=Sing',\n",
       "   'HEAD': '9:conj:and|15:compound',\n",
       "   'DEPREL': 'conj',\n",
       "   'DEPS': 'SpaceAfter=No',\n",
       "   'PPOS': 'NOUN'},\n",
       "  {'ID': '14',\n",
       "   'FORM': ')',\n",
       "   'LEMMA': ')',\n",
       "   'UPOS': 'PUNCT',\n",
       "   'XPOS': '-RRB-',\n",
       "   'FEATS': '_',\n",
       "   'HEAD': '13:punct',\n",
       "   'DEPREL': 'punct',\n",
       "   'DEPS': '_',\n",
       "   'PPOS': 'PUNCT'},\n",
       "  {'ID': '15',\n",
       "   'FORM': 'wares',\n",
       "   'LEMMA': 'wares',\n",
       "   'UPOS': 'NOUN',\n",
       "   'XPOS': 'NNS',\n",
       "   'FEATS': 'Number=Ptan',\n",
       "   'HEAD': '4:obl:on',\n",
       "   'DEPREL': 'obl',\n",
       "   'DEPS': '_',\n",
       "   'PPOS': 'VERB'},\n",
       "  {'ID': '16',\n",
       "   'FORM': 'into',\n",
       "   'LEMMA': 'into',\n",
       "   'UPOS': 'ADP',\n",
       "   'XPOS': 'IN',\n",
       "   'FEATS': '_',\n",
       "   'HEAD': '22:case',\n",
       "   'DEPREL': 'case',\n",
       "   'DEPS': '_',\n",
       "   'PPOS': 'ADP'},\n",
       "  {'ID': '17',\n",
       "   'FORM': 'a',\n",
       "   'LEMMA': 'a',\n",
       "   'UPOS': 'DET',\n",
       "   'XPOS': 'DT',\n",
       "   'FEATS': 'Definite=Ind|PronType=Art',\n",
       "   'HEAD': '22:det',\n",
       "   'DEPREL': 'det',\n",
       "   'DEPS': '_',\n",
       "   'PPOS': 'DET'},\n",
       "  {'ID': '18',\n",
       "   'FORM': 'full',\n",
       "   'LEMMA': 'full',\n",
       "   'UPOS': 'ADV',\n",
       "   'XPOS': 'RB',\n",
       "   'FEATS': '_',\n",
       "   'HEAD': '20:advmod',\n",
       "   'DEPREL': 'advmod',\n",
       "   'DEPS': 'SpaceAfter=No',\n",
       "   'PPOS': 'ADJ'},\n",
       "  {'ID': '19',\n",
       "   'FORM': '-',\n",
       "   'LEMMA': '-',\n",
       "   'UPOS': 'PUNCT',\n",
       "   'XPOS': 'HYPH',\n",
       "   'FEATS': '_',\n",
       "   'HEAD': '18:punct',\n",
       "   'DEPREL': 'punct',\n",
       "   'DEPS': 'SpaceAfter=No',\n",
       "   'PPOS': 'PUNCT'},\n",
       "  {'ID': '20',\n",
       "   'FORM': 'fledged',\n",
       "   'LEMMA': 'fledged',\n",
       "   'UPOS': 'ADJ',\n",
       "   'XPOS': 'JJ',\n",
       "   'FEATS': 'Degree=Pos',\n",
       "   'HEAD': '22:amod',\n",
       "   'DEPREL': 'amod',\n",
       "   'DEPS': '_',\n",
       "   'PPOS': 'NOUN'},\n",
       "  {'ID': '21',\n",
       "   'FORM': 'operating',\n",
       "   'LEMMA': 'operating',\n",
       "   'UPOS': 'NOUN',\n",
       "   'XPOS': 'NN',\n",
       "   'FEATS': 'Number=Sing',\n",
       "   'HEAD': '22:compound',\n",
       "   'DEPREL': 'compound',\n",
       "   'DEPS': '_',\n",
       "   'PPOS': 'NOUN'},\n",
       "  {'ID': '22',\n",
       "   'FORM': 'system',\n",
       "   'LEMMA': 'system',\n",
       "   'UPOS': 'NOUN',\n",
       "   'XPOS': 'NN',\n",
       "   'FEATS': 'Number=Sing',\n",
       "   'HEAD': '4:obl:into',\n",
       "   'DEPREL': 'obl',\n",
       "   'DEPS': 'SpaceAfter=No',\n",
       "   'PPOS': 'NOUN'},\n",
       "  {'ID': '23',\n",
       "   'FORM': '?',\n",
       "   'LEMMA': '?',\n",
       "   'UPOS': 'PUNCT',\n",
       "   'XPOS': '.',\n",
       "   'FEATS': '_',\n",
       "   'HEAD': '4:punct',\n",
       "   'DEPREL': 'punct',\n",
       "   'DEPS': '_',\n",
       "   'PPOS': 'PUNCT'}]]"
      ]
     },
     "execution_count": 48,
     "metadata": {},
     "output_type": "execute_result"
    }
   ],
   "source": [
    "test_dict[:2]"
   ]
  },
  {
   "cell_type": "code",
   "execution_count": 49,
   "metadata": {},
   "outputs": [],
   "source": [
    "(y_true, y_pred) = ([], [])\n",
    "for sent in test_dict:\n",
    "    a, b = extract_cols(sent, x='UPOS', y='PPOS')\n",
    "    y_true += a\n",
    "    y_pred += b"
   ]
  },
  {
   "cell_type": "code",
   "execution_count": 50,
   "metadata": {},
   "outputs": [
    {
     "data": {
      "text/plain": [
       "['ADJ',\n",
       " 'ADP',\n",
       " 'ADV',\n",
       " 'AUX',\n",
       " 'CCONJ',\n",
       " 'DET',\n",
       " 'INTJ',\n",
       " 'NOUN',\n",
       " 'NUM',\n",
       " 'PART',\n",
       " 'PRON',\n",
       " 'PROPN',\n",
       " 'PUNCT',\n",
       " 'SCONJ',\n",
       " 'SYM',\n",
       " 'VERB',\n",
       " 'X',\n",
       " '_']"
      ]
     },
     "execution_count": 50,
     "metadata": {},
     "output_type": "execute_result"
    }
   ],
   "source": [
    "target_names = sorted(pos2idx.keys(), key=lambda x: pos2idx[x])\n",
    "target_names"
   ]
  },
  {
   "cell_type": "code",
   "execution_count": 51,
   "metadata": {},
   "outputs": [
    {
     "name": "stdout",
     "output_type": "stream",
     "text": [
      "              precision    recall  f1-score   support\n",
      "\n",
      "         ADJ     0.8831    0.8747    0.8789      1788\n",
      "         ADP     0.9379    0.9503    0.9441      2034\n",
      "         ADV     0.8856    0.8622    0.8738      1176\n",
      "         AUX     0.9825    0.9819    0.9822      1543\n",
      "       CCONJ     0.9932    0.9891    0.9912       737\n",
      "         DET     0.9873    0.9842    0.9857      1897\n",
      "        INTJ     0.9802    0.8250    0.8959       120\n",
      "        NOUN     0.8384    0.9202    0.8774      4137\n",
      "         NUM     0.9095    0.7601    0.8281       542\n",
      "        PART     0.9652    0.9831    0.9740       649\n",
      "        PRON     0.9757    0.9847    0.9802      2162\n",
      "       PROPN     0.8227    0.7106    0.7626      2077\n",
      "       PUNCT     0.9900    0.9877    0.9888      3096\n",
      "       SCONJ     0.8442    0.7760    0.8087       384\n",
      "         SYM     0.8511    0.7339    0.7882       109\n",
      "        VERB     0.9151    0.9424    0.9285      2606\n",
      "           X     0.2500    0.0256    0.0465        39\n",
      "           _     1.0000    0.9887    0.9943       354\n",
      "\n",
      "    accuracy                         0.9205     25450\n",
      "   macro avg     0.8895    0.8489    0.8627     25450\n",
      "weighted avg     0.9196    0.9205    0.9190     25450\n",
      "\n"
     ]
    }
   ],
   "source": [
    "print(classification_report(y_true, y_pred, digits=4, target_names=target_names))"
   ]
  },
  {
   "cell_type": "markdown",
   "metadata": {},
   "source": [
    "## Applying the model to sentences"
   ]
  },
  {
   "cell_type": "markdown",
   "metadata": {},
   "source": [
    "A few sentences:"
   ]
  },
  {
   "cell_type": "code",
   "execution_count": 52,
   "metadata": {},
   "outputs": [],
   "source": [
    "sentences = ['That round table might collapse .',\n",
    "             'That man can learn well .',\n",
    "             'This man can swim well .',\n",
    "             'The man can simwo .',\n",
    "             'That round table might collapsex .']"
   ]
  },
  {
   "cell_type": "markdown",
   "metadata": {},
   "source": [
    "We convert them into CoNLL-like tables"
   ]
  },
  {
   "cell_type": "code",
   "execution_count": 53,
   "metadata": {},
   "outputs": [],
   "source": [
    "def sentence_to_conll(sentence: str):\n",
    "    sent_dict = [{'ID': x, 'FORM': y} for (x, y) in\n",
    "                 enumerate(sentence.split(), start=1)]\n",
    "    return sent_dict"
   ]
  },
  {
   "cell_type": "markdown",
   "metadata": {},
   "source": [
    "And we tag them"
   ]
  },
  {
   "cell_type": "code",
   "execution_count": 54,
   "metadata": {},
   "outputs": [
    {
     "name": "stdout",
     "output_type": "stream",
     "text": [
      "['That', 'round', 'table', 'might', 'collapse', '.']\n",
      "['DET', 'ADJ', 'NOUN', 'AUX', 'VERB', 'PUNCT']\n",
      "['That', 'man', 'can', 'learn', 'well', '.']\n",
      "['DET', 'NOUN', 'AUX', 'VERB', 'INTJ', 'PUNCT']\n",
      "['This', 'man', 'can', 'swim', 'well', '.']\n",
      "['DET', 'NOUN', 'AUX', 'VERB', 'INTJ', 'PUNCT']\n",
      "['The', 'man', 'can', 'simwo', '.']\n",
      "['DET', 'NOUN', 'AUX', 'VERB', 'PUNCT']\n",
      "['That', 'round', 'table', 'might', 'collapsex', '.']\n",
      "['DET', 'ADJ', 'NOUN', 'AUX', 'VERB', 'PUNCT']\n"
     ]
    }
   ],
   "source": [
    "for sentence in sentences:\n",
    "    sentence = sentence_to_conll(sentence)\n",
    "    y_test_pred_cat = predict_sentence(sentence,\n",
    "                                       model,\n",
    "                                       idx2pos,\n",
    "                                       dict_vectorizer,\n",
    "                                       lc=LOWERCASE)\n",
    "    print([y['FORM'] for y in y_test_pred_cat])\n",
    "    print([y['PPOS'] for y in y_test_pred_cat])"
   ]
  },
  {
   "cell_type": "code",
   "execution_count": 55,
   "metadata": {},
   "outputs": [
    {
     "ename": "",
     "evalue": "",
     "output_type": "error",
     "traceback": [
      "\u001b[1;31mLe noyau s’est bloqué lors de l’exécution du code dans une cellule active ou une cellule précédente. \n",
      "\u001b[1;31mVeuillez vérifier le code dans la ou les cellules pour identifier une cause possible de l’échec. \n",
      "\u001b[1;31mCliquez <a href='https://aka.ms/vscodeJupyterKernelCrash'>ici</a> pour plus d’informations. \n",
      "\u001b[1;31mPour plus d’informations, consultez Jupyter <a href='command:jupyter.viewOutput'>log</a>."
     ]
    }
   ],
   "source": [
    "torch.save(model.state_dict(), 'pos_pytorch')"
   ]
  }
 ],
 "metadata": {
  "kernelspec": {
   "display_name": "Python 3 (ipykernel)",
   "language": "python",
   "name": "python3"
  },
  "language_info": {
   "codemirror_mode": {
    "name": "ipython",
    "version": 3
   },
   "file_extension": ".py",
   "mimetype": "text/x-python",
   "name": "python",
   "nbconvert_exporter": "python",
   "pygments_lexer": "ipython3",
   "version": "3.11.7"
  }
 },
 "nbformat": 4,
 "nbformat_minor": 4
}
