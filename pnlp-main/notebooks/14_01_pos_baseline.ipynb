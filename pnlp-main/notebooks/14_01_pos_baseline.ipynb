{
 "cells": [
  {
   "cell_type": "markdown",
   "metadata": {},
   "source": [
    "# Chapter 14: Part-of-Speech and Sequence Annotation\n",
    "A baseline POS tagger that uses the most frequent part of speech to annotate the words"
   ]
  },
  {
   "cell_type": "markdown",
   "metadata": {},
   "source": [
    "Programs from the book: [Python for Natural Language Processing](https://link.springer.com/book/9783031575488)\n",
    "\n",
    "__Author__: Pierre Nugues"
   ]
  },
  {
   "cell_type": "markdown",
   "metadata": {},
   "source": [
    "## Modules"
   ]
  },
  {
   "cell_type": "markdown",
   "metadata": {},
   "source": [
    "We import a CoNLL reader"
   ]
  },
  {
   "cell_type": "code",
   "execution_count": 23,
   "metadata": {},
   "outputs": [],
   "source": [
    "\n",
    "from urllib.request import urlopen\n",
    "import regex as re\n",
    "from collections import Counter\n",
    "from sklearn.metrics import confusion_matrix\n",
    "import ud_datasets\n",
    "from conll_dictorizer import CoNLLDictorizer"
   ]
  },
  {
   "cell_type": "markdown",
   "metadata": {},
   "source": [
    "## Loading the corpus"
   ]
  },
  {
   "cell_type": "markdown",
   "metadata": {},
   "source": [
    "We load a corpus from Universal Dependencies: https://universaldependencies.org/"
   ]
  },
  {
   "cell_type": "code",
   "execution_count": 24,
   "metadata": {},
   "outputs": [],
   "source": [
    "CORPUS = 'EWT'"
   ]
  },
  {
   "cell_type": "code",
   "execution_count": 25,
   "metadata": {},
   "outputs": [],
   "source": [
    "if CORPUS == 'EWT':\n",
    "    train_sentences, val_sentences, test_sentences, column_names = ud_datasets.load_ud_en_ewt()\n",
    "elif CORPUS == 'Talbanken':\n",
    "    train_sentences, val_sentences, test_sentences, column_names = ud_datasets.load_ud_sv_talbanken()\n",
    "elif CORPUS == 'GSD':\n",
    "    train_sentences, val_sentences, test_sentences, column_names = ud_datasets.load_ud_fr_gsd()"
   ]
  },
  {
   "cell_type": "code",
   "execution_count": 26,
   "metadata": {},
   "outputs": [],
   "source": [
    "conll_dict = CoNLLDictorizer(column_names)"
   ]
  },
  {
   "cell_type": "code",
   "execution_count": 27,
   "metadata": {},
   "outputs": [],
   "source": [
    "train_dict = conll_dict.transform(train_sentences)\n",
    "val_dict = conll_dict.transform(val_sentences)\n",
    "test_dict = conll_dict.transform(test_sentences)"
   ]
  },
  {
   "cell_type": "markdown",
   "metadata": {},
   "source": [
    "### Looking at the corpus"
   ]
  },
  {
   "cell_type": "markdown",
   "metadata": {},
   "source": [
    "Printing some sentences"
   ]
  },
  {
   "cell_type": "code",
   "execution_count": 28,
   "metadata": {},
   "outputs": [
    {
     "name": "stdout",
     "output_type": "stream",
     "text": [
      "First sentence: [{'ID': '1', 'FORM': 'Al', 'LEMMA': 'Al', 'UPOS': 'PROPN', 'XPOS': 'NNP', 'FEATS': 'Number=Sing', 'HEAD': '0:root', 'DEPREL': 'root', 'DEPS': 'SpaceAfter=No'}, {'ID': '2', 'FORM': '-', 'LEMMA': '-', 'UPOS': 'PUNCT', 'XPOS': 'HYPH', 'FEATS': '_', 'HEAD': '3:punct', 'DEPREL': 'punct', 'DEPS': 'SpaceAfter=No'}, {'ID': '3', 'FORM': 'Zaman', 'LEMMA': 'Zaman', 'UPOS': 'PROPN', 'XPOS': 'NNP', 'FEATS': 'Number=Sing', 'HEAD': '1:flat', 'DEPREL': 'flat', 'DEPS': '_'}, {'ID': '4', 'FORM': ':', 'LEMMA': ':', 'UPOS': 'PUNCT', 'XPOS': ':', 'FEATS': '_', 'HEAD': '7:punct', 'DEPREL': 'punct', 'DEPS': '_'}, {'ID': '5', 'FORM': 'American', 'LEMMA': 'American', 'UPOS': 'ADJ', 'XPOS': 'JJ', 'FEATS': 'Degree=Pos', 'HEAD': '6:amod', 'DEPREL': 'amod', 'DEPS': '_'}, {'ID': '6', 'FORM': 'forces', 'LEMMA': 'force', 'UPOS': 'NOUN', 'XPOS': 'NNS', 'FEATS': 'Number=Plur', 'HEAD': '7:nsubj', 'DEPREL': 'nsubj', 'DEPS': '_'}, {'ID': '7', 'FORM': 'killed', 'LEMMA': 'kill', 'UPOS': 'VERB', 'XPOS': 'VBD', 'FEATS': 'Mood=Ind|Number=Plur|Person=3|Tense=Past|VerbForm=Fin', 'HEAD': '1:parataxis', 'DEPREL': 'parataxis', 'DEPS': '_'}, {'ID': '8', 'FORM': 'Shaikh', 'LEMMA': 'Shaikh', 'UPOS': 'PROPN', 'XPOS': 'NNP', 'FEATS': 'Number=Sing', 'HEAD': '7:obj', 'DEPREL': 'obj', 'DEPS': '_'}, {'ID': '9', 'FORM': 'Abdullah', 'LEMMA': 'Abdullah', 'UPOS': 'PROPN', 'XPOS': 'NNP', 'FEATS': 'Number=Sing', 'HEAD': '8:flat', 'DEPREL': 'flat', 'DEPS': '_'}, {'ID': '10', 'FORM': 'al', 'LEMMA': 'al', 'UPOS': 'PROPN', 'XPOS': 'NNP', 'FEATS': 'Number=Sing', 'HEAD': '8:flat', 'DEPREL': 'flat', 'DEPS': 'SpaceAfter=No'}, {'ID': '11', 'FORM': '-', 'LEMMA': '-', 'UPOS': 'PUNCT', 'XPOS': 'HYPH', 'FEATS': '_', 'HEAD': '12:punct', 'DEPREL': 'punct', 'DEPS': 'SpaceAfter=No'}, {'ID': '12', 'FORM': 'Ani', 'LEMMA': 'Ani', 'UPOS': 'PROPN', 'XPOS': 'NNP', 'FEATS': 'Number=Sing', 'HEAD': '8:flat', 'DEPREL': 'flat', 'DEPS': 'SpaceAfter=No'}, {'ID': '13', 'FORM': ',', 'LEMMA': ',', 'UPOS': 'PUNCT', 'XPOS': ',', 'FEATS': '_', 'HEAD': '15:punct', 'DEPREL': 'punct', 'DEPS': '_'}, {'ID': '14', 'FORM': 'the', 'LEMMA': 'the', 'UPOS': 'DET', 'XPOS': 'DT', 'FEATS': 'Definite=Def|PronType=Art', 'HEAD': '15:det', 'DEPREL': 'det', 'DEPS': '_'}, {'ID': '15', 'FORM': 'preacher', 'LEMMA': 'preacher', 'UPOS': 'NOUN', 'XPOS': 'NN', 'FEATS': 'Number=Sing', 'HEAD': '8:appos', 'DEPREL': 'appos', 'DEPS': '_'}, {'ID': '16', 'FORM': 'at', 'LEMMA': 'at', 'UPOS': 'ADP', 'XPOS': 'IN', 'FEATS': '_', 'HEAD': '18:case', 'DEPREL': 'case', 'DEPS': '_'}, {'ID': '17', 'FORM': 'the', 'LEMMA': 'the', 'UPOS': 'DET', 'XPOS': 'DT', 'FEATS': 'Definite=Def|PronType=Art', 'HEAD': '18:det', 'DEPREL': 'det', 'DEPS': '_'}, {'ID': '18', 'FORM': 'mosque', 'LEMMA': 'mosque', 'UPOS': 'NOUN', 'XPOS': 'NN', 'FEATS': 'Number=Sing', 'HEAD': '15:nmod:at', 'DEPREL': 'nmod', 'DEPS': '_'}, {'ID': '19', 'FORM': 'in', 'LEMMA': 'in', 'UPOS': 'ADP', 'XPOS': 'IN', 'FEATS': '_', 'HEAD': '21:case', 'DEPREL': 'case', 'DEPS': '_'}, {'ID': '20', 'FORM': 'the', 'LEMMA': 'the', 'UPOS': 'DET', 'XPOS': 'DT', 'FEATS': 'Definite=Def|PronType=Art', 'HEAD': '21:det', 'DEPREL': 'det', 'DEPS': '_'}, {'ID': '21', 'FORM': 'town', 'LEMMA': 'town', 'UPOS': 'NOUN', 'XPOS': 'NN', 'FEATS': 'Number=Sing', 'HEAD': '18:nmod:in', 'DEPREL': 'nmod', 'DEPS': '_'}, {'ID': '22', 'FORM': 'of', 'LEMMA': 'of', 'UPOS': 'ADP', 'XPOS': 'IN', 'FEATS': '_', 'HEAD': '23:case', 'DEPREL': 'case', 'DEPS': '_'}, {'ID': '23', 'FORM': 'Qaim', 'LEMMA': 'Qaim', 'UPOS': 'PROPN', 'XPOS': 'NNP', 'FEATS': 'Number=Sing', 'HEAD': '21:nmod:of', 'DEPREL': 'nmod', 'DEPS': 'SpaceAfter=No'}, {'ID': '24', 'FORM': ',', 'LEMMA': ',', 'UPOS': 'PUNCT', 'XPOS': ',', 'FEATS': '_', 'HEAD': '28:punct', 'DEPREL': 'punct', 'DEPS': '_'}, {'ID': '25', 'FORM': 'near', 'LEMMA': 'near', 'UPOS': 'ADP', 'XPOS': 'IN', 'FEATS': '_', 'HEAD': '28:case', 'DEPREL': 'case', 'DEPS': '_'}, {'ID': '26', 'FORM': 'the', 'LEMMA': 'the', 'UPOS': 'DET', 'XPOS': 'DT', 'FEATS': 'Definite=Def|PronType=Art', 'HEAD': '28:det', 'DEPREL': 'det', 'DEPS': '_'}, {'ID': '27', 'FORM': 'Syrian', 'LEMMA': 'Syrian', 'UPOS': 'ADJ', 'XPOS': 'JJ', 'FEATS': 'Degree=Pos', 'HEAD': '28:amod', 'DEPREL': 'amod', 'DEPS': '_'}, {'ID': '28', 'FORM': 'border', 'LEMMA': 'border', 'UPOS': 'NOUN', 'XPOS': 'NN', 'FEATS': 'Number=Sing', 'HEAD': '21:nmod:near', 'DEPREL': 'nmod', 'DEPS': 'SpaceAfter=No'}, {'ID': '29', 'FORM': '.', 'LEMMA': '.', 'UPOS': 'PUNCT', 'XPOS': '.', 'FEATS': '_', 'HEAD': '1:punct', 'DEPREL': 'punct', 'DEPS': '_'}]\n",
      "First word: {'ID': '1', 'FORM': 'Al', 'LEMMA': 'Al', 'UPOS': 'PROPN', 'XPOS': 'NNP', 'FEATS': 'Number=Sing', 'HEAD': '0:root', 'DEPREL': 'root', 'DEPS': 'SpaceAfter=No'}\n",
      "Type of the first word <class 'conll_dictorizer.Token'>\n",
      "Form of the first word Al\n",
      "Second sentence: [{'ID': '1', 'FORM': '[', 'LEMMA': '[', 'UPOS': 'PUNCT', 'XPOS': '-LRB-', 'FEATS': '_', 'HEAD': '10:punct', 'DEPREL': 'punct', 'DEPS': 'SpaceAfter=No'}, {'ID': '2', 'FORM': 'This', 'LEMMA': 'this', 'UPOS': 'DET', 'XPOS': 'DT', 'FEATS': 'Number=Sing|PronType=Dem', 'HEAD': '3:det', 'DEPREL': 'det', 'DEPS': '_'}, {'ID': '3', 'FORM': 'killing', 'LEMMA': 'killing', 'UPOS': 'NOUN', 'XPOS': 'NN', 'FEATS': 'Number=Sing', 'HEAD': '10:nsubj', 'DEPREL': 'nsubj', 'DEPS': '_'}, {'ID': '4', 'FORM': 'of', 'LEMMA': 'of', 'UPOS': 'ADP', 'XPOS': 'IN', 'FEATS': '_', 'HEAD': '7:case', 'DEPREL': 'case', 'DEPS': '_'}, {'ID': '5', 'FORM': 'a', 'LEMMA': 'a', 'UPOS': 'DET', 'XPOS': 'DT', 'FEATS': 'Definite=Ind|PronType=Art', 'HEAD': '7:det', 'DEPREL': 'det', 'DEPS': '_'}, {'ID': '6', 'FORM': 'respected', 'LEMMA': 'respected', 'UPOS': 'ADJ', 'XPOS': 'JJ', 'FEATS': 'Degree=Pos', 'HEAD': '7:amod', 'DEPREL': 'amod', 'DEPS': '_'}, {'ID': '7', 'FORM': 'cleric', 'LEMMA': 'cleric', 'UPOS': 'NOUN', 'XPOS': 'NN', 'FEATS': 'Number=Sing', 'HEAD': '3:nmod:of', 'DEPREL': 'nmod', 'DEPS': '_'}, {'ID': '8', 'FORM': 'will', 'LEMMA': 'will', 'UPOS': 'AUX', 'XPOS': 'MD', 'FEATS': 'VerbForm=Fin', 'HEAD': '10:aux', 'DEPREL': 'aux', 'DEPS': '_'}, {'ID': '9', 'FORM': 'be', 'LEMMA': 'be', 'UPOS': 'AUX', 'XPOS': 'VB', 'FEATS': 'VerbForm=Inf', 'HEAD': '10:aux', 'DEPREL': 'aux', 'DEPS': '_'}, {'ID': '10', 'FORM': 'causing', 'LEMMA': 'cause', 'UPOS': 'VERB', 'XPOS': 'VBG', 'FEATS': 'Tense=Pres|VerbForm=Part', 'HEAD': '0:root', 'DEPREL': 'root', 'DEPS': '_'}, {'ID': '11', 'FORM': 'us', 'LEMMA': 'we', 'UPOS': 'PRON', 'XPOS': 'PRP', 'FEATS': 'Case=Acc|Number=Plur|Person=1|PronType=Prs', 'HEAD': '10:iobj', 'DEPREL': 'iobj', 'DEPS': '_'}, {'ID': '12', 'FORM': 'trouble', 'LEMMA': 'trouble', 'UPOS': 'NOUN', 'XPOS': 'NN', 'FEATS': 'Number=Sing', 'HEAD': '10:obj', 'DEPREL': 'obj', 'DEPS': '_'}, {'ID': '13', 'FORM': 'for', 'LEMMA': 'for', 'UPOS': 'ADP', 'XPOS': 'IN', 'FEATS': '_', 'HEAD': '14:case', 'DEPREL': 'case', 'DEPS': '_'}, {'ID': '14', 'FORM': 'years', 'LEMMA': 'year', 'UPOS': 'NOUN', 'XPOS': 'NNS', 'FEATS': 'Number=Plur', 'HEAD': '10:obl:for', 'DEPREL': 'obl', 'DEPS': '_'}, {'ID': '15', 'FORM': 'to', 'LEMMA': 'to', 'UPOS': 'PART', 'XPOS': 'TO', 'FEATS': '_', 'HEAD': '16:mark', 'DEPREL': 'mark', 'DEPS': '_'}, {'ID': '16', 'FORM': 'come', 'LEMMA': 'come', 'UPOS': 'VERB', 'XPOS': 'VB', 'FEATS': 'VerbForm=Inf', 'HEAD': '14:acl:to', 'DEPREL': 'acl', 'DEPS': 'SpaceAfter=No'}, {'ID': '17', 'FORM': '.', 'LEMMA': '.', 'UPOS': 'PUNCT', 'XPOS': '.', 'FEATS': '_', 'HEAD': '10:punct', 'DEPREL': 'punct', 'DEPS': 'SpaceAfter=No'}, {'ID': '18', 'FORM': ']', 'LEMMA': ']', 'UPOS': 'PUNCT', 'XPOS': '-RRB-', 'FEATS': '_', 'HEAD': '10:punct', 'DEPREL': 'punct', 'DEPS': '_'}]\n"
     ]
    }
   ],
   "source": [
    "print('First sentence:', train_dict[0])\n",
    "print('First word:', train_dict[0][0])\n",
    "print('Type of the first word', type(train_dict[0][0]))\n",
    "print('Form of the first word', train_dict[0][0]['FORM'])\n",
    "print('Second sentence:', train_dict[1])"
   ]
  },
  {
   "cell_type": "markdown",
   "metadata": {},
   "source": [
    "## Word/POS distribution functions"
   ]
  },
  {
   "cell_type": "markdown",
   "metadata": {},
   "source": [
    "We extract the word/POS statistics from the corpus. We proceed in two steps:\n",
    "1. We count the words\n",
    "2. We count the POS per word\n",
    "\n",
    "This corresponds to the two functions below"
   ]
  },
  {
   "cell_type": "code",
   "execution_count": 29,
   "metadata": {},
   "outputs": [],
   "source": [
    "def norm_and_clean(corpus, lc=False):\n",
    "    new_corpus = []\n",
    "    for sent in corpus:\n",
    "        new_sent = []\n",
    "        for row in sent:\n",
    "            if re.search(r'-', row['ID']):\n",
    "                continue\n",
    "            if lc:\n",
    "                row['FORM'] = row['FORM'].lower()\n",
    "            new_sent += [row]\n",
    "        new_corpus += [new_sent]\n",
    "    return new_corpus"
   ]
  },
  {
   "cell_type": "code",
   "execution_count": 30,
   "metadata": {},
   "outputs": [
    {
     "data": {
      "text/plain": [
       "[[{'ID': '1',\n",
       "   'FORM': 'What',\n",
       "   'LEMMA': 'what',\n",
       "   'UPOS': 'PRON',\n",
       "   'XPOS': 'WP',\n",
       "   'FEATS': 'PronType=Int',\n",
       "   'HEAD': '0:root',\n",
       "   'DEPREL': 'root',\n",
       "   'DEPS': '_'},\n",
       "  {'ID': '2',\n",
       "   'FORM': 'if',\n",
       "   'LEMMA': 'if',\n",
       "   'UPOS': 'SCONJ',\n",
       "   'XPOS': 'IN',\n",
       "   'FEATS': '_',\n",
       "   'HEAD': '4:mark',\n",
       "   'DEPREL': 'mark',\n",
       "   'DEPS': '_'},\n",
       "  {'ID': '3',\n",
       "   'FORM': 'Google',\n",
       "   'LEMMA': 'Google',\n",
       "   'UPOS': 'PROPN',\n",
       "   'XPOS': 'NNP',\n",
       "   'FEATS': 'Number=Sing',\n",
       "   'HEAD': '4:nsubj',\n",
       "   'DEPREL': 'nsubj',\n",
       "   'DEPS': '_'},\n",
       "  {'ID': '4',\n",
       "   'FORM': 'Morphed',\n",
       "   'LEMMA': 'morph',\n",
       "   'UPOS': 'VERB',\n",
       "   'XPOS': 'VBD',\n",
       "   'FEATS': 'Mood=Ind|Number=Sing|Person=3|Tense=Past|VerbForm=Fin',\n",
       "   'HEAD': '1:advcl:if',\n",
       "   'DEPREL': 'advcl',\n",
       "   'DEPS': '_'},\n",
       "  {'ID': '5',\n",
       "   'FORM': 'Into',\n",
       "   'LEMMA': 'into',\n",
       "   'UPOS': 'ADP',\n",
       "   'XPOS': 'IN',\n",
       "   'FEATS': '_',\n",
       "   'HEAD': '6:case',\n",
       "   'DEPREL': 'case',\n",
       "   'DEPS': '_'},\n",
       "  {'ID': '6',\n",
       "   'FORM': 'GoogleOS',\n",
       "   'LEMMA': 'GoogleOS',\n",
       "   'UPOS': 'PROPN',\n",
       "   'XPOS': 'NNP',\n",
       "   'FEATS': 'Number=Sing',\n",
       "   'HEAD': '4:obl:into',\n",
       "   'DEPREL': 'obl',\n",
       "   'DEPS': 'SpaceAfter=No'},\n",
       "  {'ID': '7',\n",
       "   'FORM': '?',\n",
       "   'LEMMA': '?',\n",
       "   'UPOS': 'PUNCT',\n",
       "   'XPOS': '.',\n",
       "   'FEATS': '_',\n",
       "   'HEAD': '4:punct',\n",
       "   'DEPREL': 'punct',\n",
       "   'DEPS': '_'}],\n",
       " [{'ID': '1',\n",
       "   'FORM': 'What',\n",
       "   'LEMMA': 'what',\n",
       "   'UPOS': 'PRON',\n",
       "   'XPOS': 'WP',\n",
       "   'FEATS': 'PronType=Int',\n",
       "   'HEAD': '0:root',\n",
       "   'DEPREL': 'root',\n",
       "   'DEPS': '_'},\n",
       "  {'ID': '2',\n",
       "   'FORM': 'if',\n",
       "   'LEMMA': 'if',\n",
       "   'UPOS': 'SCONJ',\n",
       "   'XPOS': 'IN',\n",
       "   'FEATS': '_',\n",
       "   'HEAD': '4:mark',\n",
       "   'DEPREL': 'mark',\n",
       "   'DEPS': '_'},\n",
       "  {'ID': '3',\n",
       "   'FORM': 'Google',\n",
       "   'LEMMA': 'Google',\n",
       "   'UPOS': 'PROPN',\n",
       "   'XPOS': 'NNP',\n",
       "   'FEATS': 'Number=Sing',\n",
       "   'HEAD': '4:nsubj',\n",
       "   'DEPREL': 'nsubj',\n",
       "   'DEPS': '_'},\n",
       "  {'ID': '4',\n",
       "   'FORM': 'expanded',\n",
       "   'LEMMA': 'expand',\n",
       "   'UPOS': 'VERB',\n",
       "   'XPOS': 'VBD',\n",
       "   'FEATS': 'Mood=Ind|Number=Sing|Person=3|Tense=Past|VerbForm=Fin',\n",
       "   'HEAD': '1:advcl:if',\n",
       "   'DEPREL': 'advcl',\n",
       "   'DEPS': '_'},\n",
       "  {'ID': '5',\n",
       "   'FORM': 'on',\n",
       "   'LEMMA': 'on',\n",
       "   'UPOS': 'ADP',\n",
       "   'XPOS': 'IN',\n",
       "   'FEATS': '_',\n",
       "   'HEAD': '15:case',\n",
       "   'DEPREL': 'case',\n",
       "   'DEPS': '_'},\n",
       "  {'ID': '6',\n",
       "   'FORM': 'its',\n",
       "   'LEMMA': 'its',\n",
       "   'UPOS': 'PRON',\n",
       "   'XPOS': 'PRP$',\n",
       "   'FEATS': 'Case=Gen|Gender=Neut|Number=Sing|Person=3|Poss=Yes|PronType=Prs',\n",
       "   'HEAD': '15:nmod:poss',\n",
       "   'DEPREL': 'nmod:poss',\n",
       "   'DEPS': '_'},\n",
       "  {'ID': '7',\n",
       "   'FORM': 'search',\n",
       "   'LEMMA': 'search',\n",
       "   'UPOS': 'NOUN',\n",
       "   'XPOS': 'NN',\n",
       "   'FEATS': 'Number=Sing',\n",
       "   'HEAD': '9:compound',\n",
       "   'DEPREL': 'compound',\n",
       "   'DEPS': 'SpaceAfter=No'},\n",
       "  {'ID': '8',\n",
       "   'FORM': '-',\n",
       "   'LEMMA': '-',\n",
       "   'UPOS': 'PUNCT',\n",
       "   'XPOS': 'HYPH',\n",
       "   'FEATS': '_',\n",
       "   'HEAD': '7:punct',\n",
       "   'DEPREL': 'punct',\n",
       "   'DEPS': 'SpaceAfter=No'},\n",
       "  {'ID': '9',\n",
       "   'FORM': 'engine',\n",
       "   'LEMMA': 'engine',\n",
       "   'UPOS': 'NOUN',\n",
       "   'XPOS': 'NN',\n",
       "   'FEATS': 'Number=Sing',\n",
       "   'HEAD': '15:compound',\n",
       "   'DEPREL': 'compound',\n",
       "   'DEPS': '_'},\n",
       "  {'ID': '10',\n",
       "   'FORM': '(',\n",
       "   'LEMMA': '(',\n",
       "   'UPOS': 'PUNCT',\n",
       "   'XPOS': '-LRB-',\n",
       "   'FEATS': '_',\n",
       "   'HEAD': '13:punct',\n",
       "   'DEPREL': 'punct',\n",
       "   'DEPS': 'SpaceAfter=No'},\n",
       "  {'ID': '11',\n",
       "   'FORM': 'and',\n",
       "   'LEMMA': 'and',\n",
       "   'UPOS': 'CCONJ',\n",
       "   'XPOS': 'CC',\n",
       "   'FEATS': '_',\n",
       "   'HEAD': '13:cc',\n",
       "   'DEPREL': 'cc',\n",
       "   'DEPS': '_'},\n",
       "  {'ID': '12',\n",
       "   'FORM': 'now',\n",
       "   'LEMMA': 'now',\n",
       "   'UPOS': 'ADV',\n",
       "   'XPOS': 'RB',\n",
       "   'FEATS': '_',\n",
       "   'HEAD': '13:advmod',\n",
       "   'DEPREL': 'advmod',\n",
       "   'DEPS': '_'},\n",
       "  {'ID': '13',\n",
       "   'FORM': 'e-mail',\n",
       "   'LEMMA': 'e-mail',\n",
       "   'UPOS': 'NOUN',\n",
       "   'XPOS': 'NN',\n",
       "   'FEATS': 'Number=Sing',\n",
       "   'HEAD': '9:conj:and|15:compound',\n",
       "   'DEPREL': 'conj',\n",
       "   'DEPS': 'SpaceAfter=No'},\n",
       "  {'ID': '14',\n",
       "   'FORM': ')',\n",
       "   'LEMMA': ')',\n",
       "   'UPOS': 'PUNCT',\n",
       "   'XPOS': '-RRB-',\n",
       "   'FEATS': '_',\n",
       "   'HEAD': '13:punct',\n",
       "   'DEPREL': 'punct',\n",
       "   'DEPS': '_'},\n",
       "  {'ID': '15',\n",
       "   'FORM': 'wares',\n",
       "   'LEMMA': 'wares',\n",
       "   'UPOS': 'NOUN',\n",
       "   'XPOS': 'NNS',\n",
       "   'FEATS': 'Number=Ptan',\n",
       "   'HEAD': '4:obl:on',\n",
       "   'DEPREL': 'obl',\n",
       "   'DEPS': '_'},\n",
       "  {'ID': '16',\n",
       "   'FORM': 'into',\n",
       "   'LEMMA': 'into',\n",
       "   'UPOS': 'ADP',\n",
       "   'XPOS': 'IN',\n",
       "   'FEATS': '_',\n",
       "   'HEAD': '22:case',\n",
       "   'DEPREL': 'case',\n",
       "   'DEPS': '_'},\n",
       "  {'ID': '17',\n",
       "   'FORM': 'a',\n",
       "   'LEMMA': 'a',\n",
       "   'UPOS': 'DET',\n",
       "   'XPOS': 'DT',\n",
       "   'FEATS': 'Definite=Ind|PronType=Art',\n",
       "   'HEAD': '22:det',\n",
       "   'DEPREL': 'det',\n",
       "   'DEPS': '_'},\n",
       "  {'ID': '18',\n",
       "   'FORM': 'full',\n",
       "   'LEMMA': 'full',\n",
       "   'UPOS': 'ADV',\n",
       "   'XPOS': 'RB',\n",
       "   'FEATS': '_',\n",
       "   'HEAD': '20:advmod',\n",
       "   'DEPREL': 'advmod',\n",
       "   'DEPS': 'SpaceAfter=No'},\n",
       "  {'ID': '19',\n",
       "   'FORM': '-',\n",
       "   'LEMMA': '-',\n",
       "   'UPOS': 'PUNCT',\n",
       "   'XPOS': 'HYPH',\n",
       "   'FEATS': '_',\n",
       "   'HEAD': '18:punct',\n",
       "   'DEPREL': 'punct',\n",
       "   'DEPS': 'SpaceAfter=No'},\n",
       "  {'ID': '20',\n",
       "   'FORM': 'fledged',\n",
       "   'LEMMA': 'fledged',\n",
       "   'UPOS': 'ADJ',\n",
       "   'XPOS': 'JJ',\n",
       "   'FEATS': 'Degree=Pos',\n",
       "   'HEAD': '22:amod',\n",
       "   'DEPREL': 'amod',\n",
       "   'DEPS': '_'},\n",
       "  {'ID': '21',\n",
       "   'FORM': 'operating',\n",
       "   'LEMMA': 'operating',\n",
       "   'UPOS': 'NOUN',\n",
       "   'XPOS': 'NN',\n",
       "   'FEATS': 'Number=Sing',\n",
       "   'HEAD': '22:compound',\n",
       "   'DEPREL': 'compound',\n",
       "   'DEPS': '_'},\n",
       "  {'ID': '22',\n",
       "   'FORM': 'system',\n",
       "   'LEMMA': 'system',\n",
       "   'UPOS': 'NOUN',\n",
       "   'XPOS': 'NN',\n",
       "   'FEATS': 'Number=Sing',\n",
       "   'HEAD': '4:obl:into',\n",
       "   'DEPREL': 'obl',\n",
       "   'DEPS': 'SpaceAfter=No'},\n",
       "  {'ID': '23',\n",
       "   'FORM': '?',\n",
       "   'LEMMA': '?',\n",
       "   'UPOS': 'PUNCT',\n",
       "   'XPOS': '.',\n",
       "   'FEATS': '_',\n",
       "   'HEAD': '4:punct',\n",
       "   'DEPREL': 'punct',\n",
       "   'DEPS': '_'}]]"
      ]
     },
     "execution_count": 30,
     "metadata": {},
     "output_type": "execute_result"
    }
   ],
   "source": [
    "test_dict[0:2]"
   ]
  },
  {
   "cell_type": "code",
   "execution_count": 31,
   "metadata": {},
   "outputs": [],
   "source": [
    "NORM = False"
   ]
  },
  {
   "cell_type": "code",
   "execution_count": 32,
   "metadata": {},
   "outputs": [],
   "source": [
    "if NORM:\n",
    "    train_dict = norm_and_clean(train_dict)\n",
    "    val_dict = norm_and_clean(val_dict)\n",
    "    test_dict = norm_and_clean(test_dict)"
   ]
  },
  {
   "cell_type": "code",
   "execution_count": 33,
   "metadata": {},
   "outputs": [],
   "source": [
    "def count_word(corpus, word_key='FORM'):\n",
    "    \"\"\"\n",
    "    Computes the word distribution\n",
    "    in a CoNLL file\n",
    "    :param corpus:\n",
    "    :return:\n",
    "    \"\"\"\n",
    "    word_cnt = Counter()\n",
    "    for sentence in corpus:\n",
    "        for row in sentence:\n",
    "            word_cnt[row[word_key]] += 1\n",
    "    return word_cnt"
   ]
  },
  {
   "cell_type": "code",
   "execution_count": 34,
   "metadata": {},
   "outputs": [],
   "source": [
    "def distribution(corpus,\n",
    "                 word_key='FORM',\n",
    "                 pos_key='UPOS'):\n",
    "    \"\"\"\n",
    "    Computes the pos distribution by word\n",
    "    The result is stored in a dictionary\n",
    "    :param corpus:\n",
    "    :return:\n",
    "    \"\"\"\n",
    "\n",
    "    word_cnt = count_word(corpus, word_key)\n",
    "\n",
    "    # We compute the POS distribution by word\n",
    "    pos_dist = {key: Counter() for key in word_cnt.keys()}\n",
    "    for sentence in corpus:\n",
    "        for row in sentence:\n",
    "            distribution = pos_dist[row[word_key]]\n",
    "            distribution[row[pos_key]] += 1\n",
    "    return pos_dist"
   ]
  },
  {
   "cell_type": "markdown",
   "metadata": {},
   "source": [
    "## The word/POS association"
   ]
  },
  {
   "cell_type": "markdown",
   "metadata": {},
   "source": [
    "Now we compute the word/POS association"
   ]
  },
  {
   "cell_type": "code",
   "execution_count": 35,
   "metadata": {},
   "outputs": [],
   "source": [
    "pos_dist = distribution(train_dict)"
   ]
  },
  {
   "cell_type": "code",
   "execution_count": 36,
   "metadata": {},
   "outputs": [
    {
     "data": {
      "text/plain": [
       "Counter({'PRON': 58, 'DET': 15, 'SCONJ': 6})"
      ]
     },
     "execution_count": 36,
     "metadata": {},
     "output_type": "execute_result"
    }
   ],
   "source": [
    "pos_dist['That']"
   ]
  },
  {
   "cell_type": "code",
   "execution_count": 37,
   "metadata": {},
   "outputs": [
    {
     "data": {
      "text/plain": [
       "Counter({'NOUN': 4, 'ADV': 3, 'ADJ': 2, 'ADP': 2})"
      ]
     },
     "execution_count": 37,
     "metadata": {},
     "output_type": "execute_result"
    }
   ],
   "source": [
    "pos_dist['round']"
   ]
  },
  {
   "cell_type": "code",
   "execution_count": 38,
   "metadata": {},
   "outputs": [
    {
     "data": {
      "text/plain": [
       "Counter({'NOUN': 14})"
      ]
     },
     "execution_count": 38,
     "metadata": {},
     "output_type": "execute_result"
    }
   ],
   "source": [
    "pos_dist['table']"
   ]
  },
  {
   "cell_type": "code",
   "execution_count": 39,
   "metadata": {},
   "outputs": [
    {
     "data": {
      "text/plain": [
       "Counter({'AUX': 77})"
      ]
     },
     "execution_count": 39,
     "metadata": {},
     "output_type": "execute_result"
    }
   ],
   "source": [
    "pos_dist['might']"
   ]
  },
  {
   "cell_type": "code",
   "execution_count": 40,
   "metadata": {},
   "outputs": [
    {
     "data": {
      "text/plain": [
       "Counter({'NOUN': 2, 'VERB': 1})"
      ]
     },
     "execution_count": 40,
     "metadata": {},
     "output_type": "execute_result"
    }
   ],
   "source": [
    "pos_dist['collapse']"
   ]
  },
  {
   "cell_type": "code",
   "execution_count": 41,
   "metadata": {},
   "outputs": [
    {
     "name": "stdout",
     "output_type": "stream",
     "text": [
      "Counter({'VERB': 26, 'NOUN': 9})\n"
     ]
    }
   ],
   "source": [
    "if CORPUS == 'EWT':\n",
    "    print(pos_dist['move'])\n",
    "elif CORPUS == 'Talbanken':\n",
    "    print(pos_dist.get('den'))\n",
    "elif CORPUS == 'GSD':\n",
    "    print(pos_dist.get('le'))"
   ]
  },
  {
   "cell_type": "code",
   "execution_count": 42,
   "metadata": {},
   "outputs": [],
   "source": [
    "# We determine the best association\n",
    "word_pos = {}\n",
    "for word in pos_dist:\n",
    "    word_pos[word] = max(pos_dist[word],\n",
    "                         key=pos_dist[word].get)"
   ]
  },
  {
   "cell_type": "code",
   "execution_count": 43,
   "metadata": {},
   "outputs": [
    {
     "name": "stdout",
     "output_type": "stream",
     "text": [
      "VERB\n"
     ]
    }
   ],
   "source": [
    "if CORPUS == 'EWT':\n",
    "    print(word_pos.get('move'))\n",
    "elif CORPUS == 'Talbanken':\n",
    "    print(word_pos.get('den'))\n",
    "elif CORPUS == 'GSD':\n",
    "    print(word_pos.get('le'))"
   ]
  },
  {
   "cell_type": "markdown",
   "metadata": {},
   "source": [
    "## Unknown words"
   ]
  },
  {
   "cell_type": "markdown",
   "metadata": {},
   "source": [
    "In a text, we will certainly encounter unseen words. What is their most frequent part of speech? We use the validation set to determine the POS distribution of these unseen words."
   ]
  },
  {
   "cell_type": "code",
   "execution_count": 44,
   "metadata": {},
   "outputs": [],
   "source": [
    "def unseen_words_pos_dist(corpus,\n",
    "                          word_pos,\n",
    "                          word_key='FORM',\n",
    "                          pos_key='UPOS'):\n",
    "    unseen_words = Counter()\n",
    "    for sentence in corpus:\n",
    "        for word in sentence:\n",
    "            if not word[word_key] in word_pos:\n",
    "                unseen_words[word[pos_key]] += 1\n",
    "    return unseen_words"
   ]
  },
  {
   "cell_type": "code",
   "execution_count": 45,
   "metadata": {},
   "outputs": [
    {
     "data": {
      "text/plain": [
       "[('NOUN', 7317), ('PROPN', 4029), ('VERB', 3412), ('ADJ', 2327), ('NUM', 977)]"
      ]
     },
     "execution_count": 45,
     "metadata": {},
     "output_type": "execute_result"
    }
   ],
   "source": [
    "Counter(word_pos.values()).most_common(5)"
   ]
  },
  {
   "cell_type": "code",
   "execution_count": 46,
   "metadata": {},
   "outputs": [
    {
     "data": {
      "text/plain": [
       "[('PROPN', 818), ('NOUN', 622), ('VERB', 206), ('ADJ', 189), ('NUM', 109)]"
      ]
     },
     "execution_count": 46,
     "metadata": {},
     "output_type": "execute_result"
    }
   ],
   "source": [
    "unseen_dist = unseen_words_pos_dist(val_dict, word_pos)\n",
    "unseen_dist.most_common(5)"
   ]
  },
  {
   "cell_type": "code",
   "execution_count": 47,
   "metadata": {},
   "outputs": [
    {
     "data": {
      "text/plain": [
       "'PROPN'"
      ]
     },
     "execution_count": 47,
     "metadata": {},
     "output_type": "execute_result"
    }
   ],
   "source": [
    "default_pos = max(unseen_dist, key=unseen_dist.get)\n",
    "default_pos"
   ]
  },
  {
   "cell_type": "markdown",
   "metadata": {},
   "source": [
    "## The prediction"
   ]
  },
  {
   "cell_type": "markdown",
   "metadata": {},
   "source": [
    "We use the best association to predict the part of speech. If the word is unseen, we assign a predefined POS. We add a key to the dictionaries for the predicted part of speech."
   ]
  },
  {
   "cell_type": "code",
   "execution_count": 48,
   "metadata": {},
   "outputs": [],
   "source": [
    "def predict(sentences, word_pos, word_key='FORM', ppos_key='PPOS', default_pos='PROPN'):\n",
    "    for sentence in sentences:\n",
    "        for word in sentence:\n",
    "            if word[word_key] in word_pos:\n",
    "                word[ppos_key] = word_pos[word[word_key]]\n",
    "            else:\n",
    "                word[ppos_key] = default_pos\n",
    "    return sentences"
   ]
  },
  {
   "cell_type": "code",
   "execution_count": 49,
   "metadata": {},
   "outputs": [],
   "source": [
    "word_key = 'FORM'\n",
    "ppos_key = 'PPOS'"
   ]
  },
  {
   "cell_type": "code",
   "execution_count": 50,
   "metadata": {},
   "outputs": [
    {
     "data": {
      "text/plain": [
       "[{'ID': '1',\n",
       "  'FORM': 'What',\n",
       "  'LEMMA': 'what',\n",
       "  'UPOS': 'PRON',\n",
       "  'XPOS': 'WP',\n",
       "  'FEATS': 'PronType=Int',\n",
       "  'HEAD': '0:root',\n",
       "  'DEPREL': 'root',\n",
       "  'DEPS': '_',\n",
       "  'PPOS': 'PRON'},\n",
       " {'ID': '2',\n",
       "  'FORM': 'if',\n",
       "  'LEMMA': 'if',\n",
       "  'UPOS': 'SCONJ',\n",
       "  'XPOS': 'IN',\n",
       "  'FEATS': '_',\n",
       "  'HEAD': '4:mark',\n",
       "  'DEPREL': 'mark',\n",
       "  'DEPS': '_',\n",
       "  'PPOS': 'SCONJ'},\n",
       " {'ID': '3',\n",
       "  'FORM': 'Google',\n",
       "  'LEMMA': 'Google',\n",
       "  'UPOS': 'PROPN',\n",
       "  'XPOS': 'NNP',\n",
       "  'FEATS': 'Number=Sing',\n",
       "  'HEAD': '4:nsubj',\n",
       "  'DEPREL': 'nsubj',\n",
       "  'DEPS': '_',\n",
       "  'PPOS': 'PROPN'},\n",
       " {'ID': '4',\n",
       "  'FORM': 'Morphed',\n",
       "  'LEMMA': 'morph',\n",
       "  'UPOS': 'VERB',\n",
       "  'XPOS': 'VBD',\n",
       "  'FEATS': 'Mood=Ind|Number=Sing|Person=3|Tense=Past|VerbForm=Fin',\n",
       "  'HEAD': '1:advcl:if',\n",
       "  'DEPREL': 'advcl',\n",
       "  'DEPS': '_',\n",
       "  'PPOS': 'PROPN'},\n",
       " {'ID': '5',\n",
       "  'FORM': 'Into',\n",
       "  'LEMMA': 'into',\n",
       "  'UPOS': 'ADP',\n",
       "  'XPOS': 'IN',\n",
       "  'FEATS': '_',\n",
       "  'HEAD': '6:case',\n",
       "  'DEPREL': 'case',\n",
       "  'DEPS': '_',\n",
       "  'PPOS': 'ADP'},\n",
       " {'ID': '6',\n",
       "  'FORM': 'GoogleOS',\n",
       "  'LEMMA': 'GoogleOS',\n",
       "  'UPOS': 'PROPN',\n",
       "  'XPOS': 'NNP',\n",
       "  'FEATS': 'Number=Sing',\n",
       "  'HEAD': '4:obl:into',\n",
       "  'DEPREL': 'obl',\n",
       "  'DEPS': 'SpaceAfter=No',\n",
       "  'PPOS': 'PROPN'},\n",
       " {'ID': '7',\n",
       "  'FORM': '?',\n",
       "  'LEMMA': '?',\n",
       "  'UPOS': 'PUNCT',\n",
       "  'XPOS': '.',\n",
       "  'FEATS': '_',\n",
       "  'HEAD': '4:punct',\n",
       "  'DEPREL': 'punct',\n",
       "  'DEPS': '_',\n",
       "  'PPOS': 'PUNCT'}]"
      ]
     },
     "execution_count": 50,
     "metadata": {},
     "output_type": "execute_result"
    }
   ],
   "source": [
    "test_annotated = predict(test_dict, word_pos, word_key=word_key,\n",
    "                         ppos_key=ppos_key, default_pos=default_pos)\n",
    "test_annotated[0]"
   ]
  },
  {
   "cell_type": "markdown",
   "metadata": {},
   "source": [
    "## Evaluation"
   ]
  },
  {
   "cell_type": "markdown",
   "metadata": {},
   "source": [
    "We carry out the evaluation by comparing the value of two keys: the truth and the prediction"
   ]
  },
  {
   "cell_type": "code",
   "execution_count": 51,
   "metadata": {},
   "outputs": [],
   "source": [
    "def evaluate(sentences, truth_key='UPOS', pred_key='PPOS'):\n",
    "    \"\"\"\n",
    "    Computes the accuracy\n",
    "    :param sentences:\n",
    "    :param gold:\n",
    "    :param system:\n",
    "    :return:\n",
    "    \"\"\"\n",
    "    bad = 0\n",
    "    good = 0\n",
    "    for sentence in sentences:\n",
    "        for word in sentence:\n",
    "            if word[truth_key] == word[pred_key]:\n",
    "                good += 1\n",
    "            else:\n",
    "                bad += 1\n",
    "    return good, bad"
   ]
  },
  {
   "cell_type": "code",
   "execution_count": 52,
   "metadata": {},
   "outputs": [],
   "source": [
    "truth_key = 'UPOS'\n",
    "pred_key = ppos_key"
   ]
  },
  {
   "cell_type": "code",
   "execution_count": 53,
   "metadata": {},
   "outputs": [
    {
     "name": "stdout",
     "output_type": "stream",
     "text": [
      "Accuracy: 0.8682121807465619\n"
     ]
    }
   ],
   "source": [
    "good, bad = evaluate(test_annotated, truth_key=truth_key, pred_key=pred_key)\n",
    "print('Accuracy:', good / (good + bad))"
   ]
  },
  {
   "cell_type": "code",
   "execution_count": 54,
   "metadata": {},
   "outputs": [
    {
     "data": {
      "text/plain": [
       "12544"
      ]
     },
     "execution_count": 54,
     "metadata": {},
     "output_type": "execute_result"
    }
   ],
   "source": [
    "len(train_dict)"
   ]
  },
  {
   "cell_type": "markdown",
   "metadata": {},
   "source": [
    "Finding the sentences with contracted forms"
   ]
  },
  {
   "cell_type": "code",
   "execution_count": 55,
   "metadata": {},
   "outputs": [],
   "source": [
    "def has_contractions(sent):\n",
    "    for word in sent:\n",
    "        if '-' in word['ID']:\n",
    "            return True\n",
    "    return False"
   ]
  },
  {
   "cell_type": "code",
   "execution_count": 56,
   "metadata": {},
   "outputs": [
    {
     "data": {
      "text/plain": [
       "2192"
      ]
     },
     "execution_count": 56,
     "metadata": {},
     "output_type": "execute_result"
    }
   ],
   "source": [
    "len([(len(sent), i)\n",
    "    for i, sent in enumerate(train_dict) if has_contractions(sent)])"
   ]
  },
  {
   "cell_type": "markdown",
   "metadata": {},
   "source": [
    "`UPOS` is the true tag and `PPOS` is the prediction"
   ]
  },
  {
   "cell_type": "code",
   "execution_count": 57,
   "metadata": {},
   "outputs": [],
   "source": [
    "tag_pairs_test = [(word['UPOS'], word['PPOS'])\n",
    "                  for sent in test_annotated for word in sent]"
   ]
  },
  {
   "cell_type": "code",
   "execution_count": 58,
   "metadata": {},
   "outputs": [],
   "source": [
    "y_true_test, y_pred_test = zip(*tag_pairs_test)"
   ]
  },
  {
   "cell_type": "code",
   "execution_count": 59,
   "metadata": {},
   "outputs": [],
   "source": [
    "labels = sorted(list(set(y_true_test)))"
   ]
  },
  {
   "cell_type": "code",
   "execution_count": 60,
   "metadata": {},
   "outputs": [
    {
     "name": "stdout",
     "output_type": "stream",
     "text": [
      "['ADJ', 'ADP', 'ADV', 'AUX', 'CCONJ', 'DET', 'INTJ', 'NOUN', 'NUM', 'PART', 'PRON', 'PROPN', 'PUNCT', 'SCONJ', 'SYM', 'VERB', 'X', '_']\n"
     ]
    }
   ],
   "source": [
    "print(labels)"
   ]
  },
  {
   "cell_type": "code",
   "execution_count": 61,
   "metadata": {},
   "outputs": [],
   "source": [
    "import numpy as np\n",
    "np.set_printoptions(precision=1, suppress=True)"
   ]
  },
  {
   "cell_type": "code",
   "execution_count": 62,
   "metadata": {},
   "outputs": [
    {
     "data": {
      "text/plain": [
       "array([[82.8,  0.6,  1.5,  0. ,  0. ,  0.1,  0. ,  1.9,  0. ,  0. ,  0. ,\n",
       "        11.5,  0. ,  0. ,  0. ,  1.6,  0. ,  0. ],\n",
       "       [ 0. , 88.2,  0.5,  0. ,  0. ,  0. ,  0. ,  0. ,  0. , 10.3,  0. ,\n",
       "         0.3,  0. ,  0.6,  0. ,  0. ,  0. ,  0. ],\n",
       "       [ 5.4,  7.1, 78.6,  0.1,  0.2,  1.3,  0.2,  0.8,  0. ,  0.3,  2.6,\n",
       "         2.1,  0. ,  1.4,  0. ,  0.1,  0.1,  0. ],\n",
       "       [ 0. ,  0. ,  0. , 88.9,  0. ,  0. ,  0. ,  0.1,  0.1,  4.1,  0.1,\n",
       "         0.3,  0. ,  0. ,  0. ,  6.5,  0. ,  0. ],\n",
       "       [ 0. ,  0.1,  0. ,  0. , 99.7,  0. ,  0. ,  0. ,  0. ,  0. ,  0. ,\n",
       "         0.1,  0. ,  0. ,  0. ,  0. ,  0. ,  0. ],\n",
       "       [ 0.2,  0. ,  0.1,  0. ,  0.2, 96.8,  0. ,  0.1,  0. ,  0. ,  1.7,\n",
       "         0.1,  0. ,  0.9,  0. ,  0. ,  0. ,  0. ],\n",
       "       [ 4.2,  3.3,  2.5,  0. ,  0. ,  7.5, 69.2,  0. ,  0. ,  0. ,  1.7,\n",
       "        11.7,  0. ,  0. ,  0. ,  0. ,  0. ,  0. ],\n",
       "       [ 0.8,  0.1,  0.2,  0.1,  0. ,  0. ,  0. , 76.2,  0.4,  0. ,  0. ,\n",
       "        19. ,  0. ,  0.1,  0. ,  3.1,  0. ,  0. ],\n",
       "       [ 0. ,  0. ,  0. ,  0. ,  0. ,  0.2,  0. ,  0.6, 60.7,  0. ,  0.7,\n",
       "        37.6,  0. ,  0. ,  0. ,  0. ,  0. ,  0.2],\n",
       "       [ 0. ,  0. ,  0. ,  0.2,  0. ,  0. ,  0. ,  0. ,  0. , 99.2,  0. ,\n",
       "         0.2,  0.5,  0. ,  0. ,  0. ,  0. ,  0. ],\n",
       "       [ 0. ,  0. ,  0. ,  0. ,  0. ,  2.1,  0. ,  0. ,  0.1,  0. , 93. ,\n",
       "         0.1,  0. ,  4.4,  0. ,  0. ,  0. ,  0.3],\n",
       "       [ 1. ,  0.2,  0. ,  0. ,  0. ,  0. ,  0. ,  3.9,  0.3,  0. ,  0. ,\n",
       "        94. ,  0. ,  0. ,  0. ,  0.4,  0. ,  0. ],\n",
       "       [ 0. ,  0. ,  0. ,  0. ,  0. ,  0. ,  0. ,  0. ,  0. ,  0. ,  0. ,\n",
       "         0.7, 98.6,  0. ,  0.6,  0. ,  0. ,  0. ],\n",
       "       [ 0. , 33.3,  1.6,  0. ,  0. ,  0. ,  0. ,  0. ,  0.3,  2.6,  0.3,\n",
       "         1.6,  0. , 60.4,  0. ,  0. ,  0. ,  0. ],\n",
       "       [ 0. ,  0. ,  0. ,  0. ,  0. ,  0. ,  0. ,  0. ,  0. ,  0. ,  0. ,\n",
       "         4.6, 11.9,  0. , 83.5,  0. ,  0. ,  0. ],\n",
       "       [ 0.6,  0.9,  0.2,  3.6,  0. ,  0. ,  0. ,  5.7,  0. ,  0.2,  0. ,\n",
       "         7.2,  0. ,  0. ,  0. , 81.5,  0. ,  0. ],\n",
       "       [ 5.1,  0. ,  2.6,  0. ,  0. ,  0. ,  0. ,  7.7,  2.6,  5.1,  0. ,\n",
       "        69.2,  5.1,  0. ,  0. ,  2.6,  0. ,  0. ],\n",
       "       [ 0. ,  0. ,  0. ,  0. ,  0. ,  0. ,  0. ,  0. ,  0. ,  0. ,  3.1,\n",
       "        15.5,  0. ,  0. ,  0. ,  0. ,  0. , 81.4]])"
      ]
     },
     "execution_count": 62,
     "metadata": {},
     "output_type": "execute_result"
    }
   ],
   "source": [
    "cm = 100 * confusion_matrix(y_true_test, y_pred_test,\n",
    "                            labels=labels, normalize='true')\n",
    "cm"
   ]
  },
  {
   "cell_type": "code",
   "execution_count": 63,
   "metadata": {},
   "outputs": [
    {
     "data": {
      "text/plain": [
       "[(0, 'ADJ'),\n",
       " (1, 'ADP'),\n",
       " (2, 'ADV'),\n",
       " (3, 'AUX'),\n",
       " (4, 'CCONJ'),\n",
       " (5, 'DET'),\n",
       " (6, 'INTJ'),\n",
       " (7, 'NOUN'),\n",
       " (8, 'NUM'),\n",
       " (9, 'PART'),\n",
       " (10, 'PRON'),\n",
       " (11, 'PROPN'),\n",
       " (12, 'PUNCT'),\n",
       " (13, 'SCONJ'),\n",
       " (14, 'SYM'),\n",
       " (15, 'VERB'),\n",
       " (16, 'X'),\n",
       " (17, '_')]"
      ]
     },
     "execution_count": 63,
     "metadata": {},
     "output_type": "execute_result"
    }
   ],
   "source": [
    "list(enumerate(labels))"
   ]
  },
  {
   "cell_type": "markdown",
   "metadata": {},
   "source": [
    "To obtain the reduced confusion matrix in the book"
   ]
  },
  {
   "cell_type": "code",
   "execution_count": 64,
   "metadata": {},
   "outputs": [
    {
     "data": {
      "text/plain": [
       "array([[82.8,  0.6,  1.5,  0. ,  0. ,  0.1,  1.9,  0. , 11.5,  0. ,  1.6],\n",
       "       [ 0. , 88.2,  0.5,  0. ,  0. ,  0. ,  0. ,  0. ,  0.3,  0.6,  0. ],\n",
       "       [ 5.4,  7.1, 78.6,  0.1,  0.2,  1.3,  0.8,  2.6,  2.1,  1.4,  0.1],\n",
       "       [ 0. ,  0. ,  0. , 88.9,  0. ,  0. ,  0.1,  0.1,  0.3,  0. ,  6.5],\n",
       "       [ 0. ,  0.1,  0. ,  0. , 99.7,  0. ,  0. ,  0. ,  0.1,  0. ,  0. ],\n",
       "       [ 0.2,  0. ,  0.1,  0. ,  0.2, 96.8,  0.1,  1.7,  0.1,  0.9,  0. ],\n",
       "       [ 0.8,  0.1,  0.2,  0.1,  0. ,  0. , 76.2,  0. , 19. ,  0.1,  3.1],\n",
       "       [ 0. ,  0. ,  0. ,  0. ,  0. ,  2.1,  0. , 93. ,  0.1,  4.4,  0. ],\n",
       "       [ 1. ,  0.2,  0. ,  0. ,  0. ,  0. ,  3.9,  0. , 94. ,  0. ,  0.4],\n",
       "       [ 0. , 33.3,  1.6,  0. ,  0. ,  0. ,  0. ,  0.3,  1.6, 60.4,  0. ],\n",
       "       [ 0.6,  0.9,  0.2,  3.6,  0. ,  0. ,  5.7,  0. ,  7.2,  0. , 81.5]])"
      ]
     },
     "execution_count": 64,
     "metadata": {},
     "output_type": "execute_result"
    }
   ],
   "source": [
    "cm[[0, 1, 2, 3, 4, 5, 7, 10, 11, 13, 15],\n",
    "   :][:, [0, 1, 2, 3, 4, 5, 7, 10, 11, 13, 15]]"
   ]
  }
 ],
 "metadata": {
  "kernelspec": {
   "display_name": "Python 3 (ipykernel)",
   "language": "python",
   "name": "python3"
  },
  "language_info": {
   "codemirror_mode": {
    "name": "ipython",
    "version": 3
   },
   "file_extension": ".py",
   "mimetype": "text/x-python",
   "name": "python",
   "nbconvert_exporter": "python",
   "pygments_lexer": "ipython3",
   "version": "3.1.-1"
  }
 },
 "nbformat": 4,
 "nbformat_minor": 4
}
