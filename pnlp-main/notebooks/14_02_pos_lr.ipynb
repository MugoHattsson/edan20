{
 "cells": [
  {
   "cell_type": "markdown",
   "metadata": {},
   "source": [
    "# Chapter 14: Part-of-Speech and Sequence Annotation\n",
    "A POS tagger using logistic regression"
   ]
  },
  {
   "cell_type": "markdown",
   "metadata": {},
   "source": [
    "Programs from the book: [_Python for Natural Language Processing_](https://link.springer.com/book/9783031575488)\n",
    "\n",
    "__Author__: Pierre Nugues"
   ]
  },
  {
   "cell_type": "markdown",
   "metadata": {},
   "source": [
    "## Modules"
   ]
  },
  {
   "cell_type": "markdown",
   "metadata": {},
   "source": [
    "We import a CoNLL reader"
   ]
  },
  {
   "cell_type": "code",
   "execution_count": 1,
   "metadata": {},
   "outputs": [],
   "source": [
    "from sklearn.feature_extraction import DictVectorizer\n",
    "from sklearn import linear_model\n",
    "from sklearn.metrics import confusion_matrix\n",
    "from sklearn.metrics import classification_report\n",
    "import ud_datasets\n",
    "from conll_dictorizer import CoNLLDictorizer"
   ]
  },
  {
   "cell_type": "markdown",
   "metadata": {},
   "source": [
    "## Loading the corpus"
   ]
  },
  {
   "cell_type": "markdown",
   "metadata": {},
   "source": [
    "We load a corpus from Universal Dependencies: https://universaldependencies.org/ hosted by GitHub"
   ]
  },
  {
   "cell_type": "code",
   "execution_count": 2,
   "metadata": {},
   "outputs": [],
   "source": [
    "CORPUS = 'EWT'"
   ]
  },
  {
   "cell_type": "code",
   "execution_count": 3,
   "metadata": {},
   "outputs": [],
   "source": [
    "if CORPUS == 'EWT':\n",
    "    train_sentences, val_sentences, test_sentences, column_names = ud_datasets.load_ud_en_ewt()\n",
    "elif CORPUS == 'Talbanken':\n",
    "    train_sentences, val_sentences, test_sentences, column_names = ud_datasets.load_ud_sv_talbanken()\n",
    "elif CORPUS == 'GSD':\n",
    "    train_sentences, val_sentences, test_sentences, column_names = ud_datasets.load_ud_fr_gsd()"
   ]
  },
  {
   "cell_type": "code",
   "execution_count": 4,
   "metadata": {},
   "outputs": [
    {
     "data": {
      "text/plain": [
       "['ID',\n",
       " 'FORM',\n",
       " 'LEMMA',\n",
       " 'UPOS',\n",
       " 'XPOS',\n",
       " 'FEATS',\n",
       " 'HEAD',\n",
       " 'DEPREL',\n",
       " 'HEAD',\n",
       " 'DEPS',\n",
       " 'MISC']"
      ]
     },
     "execution_count": 4,
     "metadata": {},
     "output_type": "execute_result"
    }
   ],
   "source": [
    "column_names"
   ]
  },
  {
   "cell_type": "code",
   "execution_count": 5,
   "metadata": {},
   "outputs": [
    {
     "data": {
      "text/plain": [
       "'# newdoc id = weblog-juancole.com_juancole_20051126063000_ENG_20051126_063000\\n# sent_id = weblog-juancole.com_juancole_20051126063000_ENG_20051126_063000-0001\\n# newpar id = weblog-juancole.com_juancole_20051126063000_ENG_20051126_063000-p0001\\n# text = Al-Zaman : American forces killed Shaikh Abdullah al-Ani, the preacher at the mosque in the town of Qaim, near the Syrian border.\\n1\\tAl\\tAl\\tPROPN\\tNNP\\tNumber=Sing\\t0\\troot\\t0:root\\tSpaceAfter=No\\n2\\t-\\t-\\tPUNCT\\tHYPH\\t_\\t3\\tpunct\\t3:punct\\tSpaceAfter=No\\n3\\tZaman\\tZam'"
      ]
     },
     "execution_count": 5,
     "metadata": {},
     "output_type": "execute_result"
    }
   ],
   "source": [
    "train_sentences[:500]"
   ]
  },
  {
   "cell_type": "markdown",
   "metadata": {},
   "source": [
    "## Dictorizing the corpus"
   ]
  },
  {
   "cell_type": "markdown",
   "metadata": {},
   "source": [
    "We store the corpus word in a dictionary, where the keys are the CoNLL-U columns"
   ]
  },
  {
   "cell_type": "code",
   "execution_count": 6,
   "metadata": {},
   "outputs": [],
   "source": [
    "conll_dict = CoNLLDictorizer(column_names)"
   ]
  },
  {
   "cell_type": "code",
   "execution_count": 7,
   "metadata": {},
   "outputs": [],
   "source": [
    "train_dict = conll_dict.transform(train_sentences)\n",
    "val_dict = conll_dict.transform(val_sentences)\n",
    "test_dict = conll_dict.transform(test_sentences)"
   ]
  },
  {
   "cell_type": "code",
   "execution_count": 8,
   "metadata": {},
   "outputs": [
    {
     "data": {
      "text/plain": [
       "[{'ID': '1',\n",
       "  'FORM': 'Al',\n",
       "  'LEMMA': 'Al',\n",
       "  'UPOS': 'PROPN',\n",
       "  'XPOS': 'NNP',\n",
       "  'FEATS': 'Number=Sing',\n",
       "  'HEAD': '0:root',\n",
       "  'DEPREL': 'root',\n",
       "  'DEPS': 'SpaceAfter=No'},\n",
       " {'ID': '2',\n",
       "  'FORM': '-',\n",
       "  'LEMMA': '-',\n",
       "  'UPOS': 'PUNCT',\n",
       "  'XPOS': 'HYPH',\n",
       "  'FEATS': '_',\n",
       "  'HEAD': '3:punct',\n",
       "  'DEPREL': 'punct',\n",
       "  'DEPS': 'SpaceAfter=No'},\n",
       " {'ID': '3',\n",
       "  'FORM': 'Zaman',\n",
       "  'LEMMA': 'Zaman',\n",
       "  'UPOS': 'PROPN',\n",
       "  'XPOS': 'NNP',\n",
       "  'FEATS': 'Number=Sing',\n",
       "  'HEAD': '1:flat',\n",
       "  'DEPREL': 'flat',\n",
       "  'DEPS': '_'},\n",
       " {'ID': '4',\n",
       "  'FORM': ':',\n",
       "  'LEMMA': ':',\n",
       "  'UPOS': 'PUNCT',\n",
       "  'XPOS': ':',\n",
       "  'FEATS': '_',\n",
       "  'HEAD': '7:punct',\n",
       "  'DEPREL': 'punct',\n",
       "  'DEPS': '_'},\n",
       " {'ID': '5',\n",
       "  'FORM': 'American',\n",
       "  'LEMMA': 'American',\n",
       "  'UPOS': 'ADJ',\n",
       "  'XPOS': 'JJ',\n",
       "  'FEATS': 'Degree=Pos',\n",
       "  'HEAD': '6:amod',\n",
       "  'DEPREL': 'amod',\n",
       "  'DEPS': '_'},\n",
       " {'ID': '6',\n",
       "  'FORM': 'forces',\n",
       "  'LEMMA': 'force',\n",
       "  'UPOS': 'NOUN',\n",
       "  'XPOS': 'NNS',\n",
       "  'FEATS': 'Number=Plur',\n",
       "  'HEAD': '7:nsubj',\n",
       "  'DEPREL': 'nsubj',\n",
       "  'DEPS': '_'},\n",
       " {'ID': '7',\n",
       "  'FORM': 'killed',\n",
       "  'LEMMA': 'kill',\n",
       "  'UPOS': 'VERB',\n",
       "  'XPOS': 'VBD',\n",
       "  'FEATS': 'Mood=Ind|Number=Plur|Person=3|Tense=Past|VerbForm=Fin',\n",
       "  'HEAD': '1:parataxis',\n",
       "  'DEPREL': 'parataxis',\n",
       "  'DEPS': '_'},\n",
       " {'ID': '8',\n",
       "  'FORM': 'Shaikh',\n",
       "  'LEMMA': 'Shaikh',\n",
       "  'UPOS': 'PROPN',\n",
       "  'XPOS': 'NNP',\n",
       "  'FEATS': 'Number=Sing',\n",
       "  'HEAD': '7:obj',\n",
       "  'DEPREL': 'obj',\n",
       "  'DEPS': '_'},\n",
       " {'ID': '9',\n",
       "  'FORM': 'Abdullah',\n",
       "  'LEMMA': 'Abdullah',\n",
       "  'UPOS': 'PROPN',\n",
       "  'XPOS': 'NNP',\n",
       "  'FEATS': 'Number=Sing',\n",
       "  'HEAD': '8:flat',\n",
       "  'DEPREL': 'flat',\n",
       "  'DEPS': '_'},\n",
       " {'ID': '10',\n",
       "  'FORM': 'al',\n",
       "  'LEMMA': 'al',\n",
       "  'UPOS': 'PROPN',\n",
       "  'XPOS': 'NNP',\n",
       "  'FEATS': 'Number=Sing',\n",
       "  'HEAD': '8:flat',\n",
       "  'DEPREL': 'flat',\n",
       "  'DEPS': 'SpaceAfter=No'}]"
      ]
     },
     "execution_count": 8,
     "metadata": {},
     "output_type": "execute_result"
    }
   ],
   "source": [
    "train_dict[0][:10]"
   ]
  },
  {
   "cell_type": "markdown",
   "metadata": {},
   "source": [
    "## Feature extraction"
   ]
  },
  {
   "cell_type": "markdown",
   "metadata": {},
   "source": [
    "We extract the features and we store them in a dictionary. This $y$ output is extracted from the `UPOS` column for the Universal dependencies."
   ]
  },
  {
   "cell_type": "code",
   "execution_count": 9,
   "metadata": {},
   "outputs": [],
   "source": [
    "def extract_cols(sent_dict, x='FORM', y='UPOS'):\n",
    "    (input, target) = ([], [])\n",
    "    for word in sent_dict:\n",
    "        input += [word[x]]\n",
    "        target += [word.get(y, None)]\n",
    "    return input, target"
   ]
  },
  {
   "cell_type": "code",
   "execution_count": 10,
   "metadata": {},
   "outputs": [],
   "source": [
    "train_cols = [extract_cols(sent_dict)\n",
    "              for sent_dict in train_dict]"
   ]
  },
  {
   "cell_type": "code",
   "execution_count": 11,
   "metadata": {},
   "outputs": [],
   "source": [
    "train_sent_words, train_sent_pos = zip(*train_cols)"
   ]
  },
  {
   "cell_type": "code",
   "execution_count": 12,
   "metadata": {},
   "outputs": [
    {
     "data": {
      "text/plain": [
       "['Or', 'you', 'can', 'visit', 'temples', 'or', 'shrines', 'in', 'Okinawa', '.']"
      ]
     },
     "execution_count": 12,
     "metadata": {},
     "output_type": "execute_result"
    }
   ],
   "source": [
    "train_sent_words[8131]"
   ]
  },
  {
   "cell_type": "code",
   "execution_count": 13,
   "metadata": {},
   "outputs": [
    {
     "data": {
      "text/plain": [
       "['CCONJ',\n",
       " 'PRON',\n",
       " 'AUX',\n",
       " 'VERB',\n",
       " 'NOUN',\n",
       " 'CCONJ',\n",
       " 'NOUN',\n",
       " 'ADP',\n",
       " 'PROPN',\n",
       " 'PUNCT']"
      ]
     },
     "execution_count": 13,
     "metadata": {},
     "output_type": "execute_result"
    }
   ],
   "source": [
    "train_sent_pos[8131]"
   ]
  },
  {
   "cell_type": "markdown",
   "metadata": {},
   "source": [
    "## The `X` Matrix"
   ]
  },
  {
   "cell_type": "code",
   "execution_count": 14,
   "metadata": {},
   "outputs": [],
   "source": [
    "def create_X_cat(sentence: list[str],\n",
    "                 w_size: int = 2) -> list[dict[int: str]]:\n",
    "    start_pads = ['__BOS__'] * w_size\n",
    "    end_pads = ['__EOS__'] * w_size\n",
    "    sentence = start_pads + sentence + end_pads\n",
    "    # We extract the features\n",
    "    X = []\n",
    "    for i in range(len(sentence) - 2 * w_size):\n",
    "        x = []\n",
    "        for j in range(2 * w_size + 1):\n",
    "            x += [sentence[i + j]]\n",
    "        X += [x]\n",
    "    X = [dict(enumerate(x)) for x in X]\n",
    "    return X"
   ]
  },
  {
   "cell_type": "code",
   "execution_count": 15,
   "metadata": {},
   "outputs": [
    {
     "data": {
      "text/plain": [
       "['Al',\n",
       " '-',\n",
       " 'Zaman',\n",
       " ':',\n",
       " 'American',\n",
       " 'forces',\n",
       " 'killed',\n",
       " 'Shaikh',\n",
       " 'Abdullah',\n",
       " 'al',\n",
       " '-',\n",
       " 'Ani',\n",
       " ',',\n",
       " 'the',\n",
       " 'preacher',\n",
       " 'at',\n",
       " 'the',\n",
       " 'mosque',\n",
       " 'in',\n",
       " 'the',\n",
       " 'town',\n",
       " 'of',\n",
       " 'Qaim',\n",
       " ',',\n",
       " 'near',\n",
       " 'the',\n",
       " 'Syrian',\n",
       " 'border',\n",
       " '.']"
      ]
     },
     "execution_count": 15,
     "metadata": {},
     "output_type": "execute_result"
    }
   ],
   "source": [
    "train_sent_words[0]"
   ]
  },
  {
   "cell_type": "code",
   "execution_count": 16,
   "metadata": {},
   "outputs": [
    {
     "data": {
      "text/plain": [
       "[{0: '__BOS__', 1: '__BOS__', 2: 'Or', 3: 'you', 4: 'can'},\n",
       " {0: '__BOS__', 1: 'Or', 2: 'you', 3: 'can', 4: 'visit'},\n",
       " {0: 'Or', 1: 'you', 2: 'can', 3: 'visit', 4: 'temples'},\n",
       " {0: 'you', 1: 'can', 2: 'visit', 3: 'temples', 4: 'or'},\n",
       " {0: 'can', 1: 'visit', 2: 'temples', 3: 'or', 4: 'shrines'},\n",
       " {0: 'visit', 1: 'temples', 2: 'or', 3: 'shrines', 4: 'in'},\n",
       " {0: 'temples', 1: 'or', 2: 'shrines', 3: 'in', 4: 'Okinawa'},\n",
       " {0: 'or', 1: 'shrines', 2: 'in', 3: 'Okinawa', 4: '.'},\n",
       " {0: 'shrines', 1: 'in', 2: 'Okinawa', 3: '.', 4: '__EOS__'},\n",
       " {0: 'in', 1: 'Okinawa', 2: '.', 3: '__EOS__', 4: '__EOS__'}]"
      ]
     },
     "execution_count": 16,
     "metadata": {},
     "output_type": "execute_result"
    }
   ],
   "source": [
    "create_X_cat(train_sent_words[8131])"
   ]
  },
  {
   "cell_type": "code",
   "execution_count": 17,
   "metadata": {},
   "outputs": [
    {
     "data": {
      "text/plain": [
       "['CCONJ',\n",
       " 'PRON',\n",
       " 'AUX',\n",
       " 'VERB',\n",
       " 'NOUN',\n",
       " 'CCONJ',\n",
       " 'NOUN',\n",
       " 'ADP',\n",
       " 'PROPN',\n",
       " 'PUNCT']"
      ]
     },
     "execution_count": 17,
     "metadata": {},
     "output_type": "execute_result"
    }
   ],
   "source": [
    "train_sent_pos[8131]"
   ]
  },
  {
   "cell_type": "code",
   "execution_count": 18,
   "metadata": {},
   "outputs": [],
   "source": [
    "X_train_cat = [row for sent in train_sent_words\n",
    "               for row in create_X_cat(sent)]"
   ]
  },
  {
   "cell_type": "code",
   "execution_count": 19,
   "metadata": {},
   "outputs": [],
   "source": [
    "y_train_cat = [pos for sent in train_sent_pos\n",
    "               for pos in sent]"
   ]
  },
  {
   "cell_type": "code",
   "execution_count": 20,
   "metadata": {},
   "outputs": [
    {
     "data": {
      "text/plain": [
       "207229"
      ]
     },
     "execution_count": 20,
     "metadata": {},
     "output_type": "execute_result"
    }
   ],
   "source": [
    "len(y_train_cat)"
   ]
  },
  {
   "cell_type": "code",
   "execution_count": 21,
   "metadata": {},
   "outputs": [
    {
     "data": {
      "text/plain": [
       "[{0: '__BOS__', 1: '__BOS__', 2: 'Al', 3: '-', 4: 'Zaman'},\n",
       " {0: '__BOS__', 1: 'Al', 2: '-', 3: 'Zaman', 4: ':'},\n",
       " {0: 'Al', 1: '-', 2: 'Zaman', 3: ':', 4: 'American'},\n",
       " {0: '-', 1: 'Zaman', 2: ':', 3: 'American', 4: 'forces'},\n",
       " {0: 'Zaman', 1: ':', 2: 'American', 3: 'forces', 4: 'killed'},\n",
       " {0: ':', 1: 'American', 2: 'forces', 3: 'killed', 4: 'Shaikh'},\n",
       " {0: 'American', 1: 'forces', 2: 'killed', 3: 'Shaikh', 4: 'Abdullah'},\n",
       " {0: 'forces', 1: 'killed', 2: 'Shaikh', 3: 'Abdullah', 4: 'al'},\n",
       " {0: 'killed', 1: 'Shaikh', 2: 'Abdullah', 3: 'al', 4: '-'},\n",
       " {0: 'Shaikh', 1: 'Abdullah', 2: 'al', 3: '-', 4: 'Ani'}]"
      ]
     },
     "execution_count": 21,
     "metadata": {},
     "output_type": "execute_result"
    }
   ],
   "source": [
    "X_train_cat[:10]"
   ]
  },
  {
   "cell_type": "markdown",
   "metadata": {},
   "source": [
    "## Vectorizing the Matrix"
   ]
  },
  {
   "cell_type": "code",
   "execution_count": 22,
   "metadata": {},
   "outputs": [],
   "source": [
    "dict_vectorizer = DictVectorizer()"
   ]
  },
  {
   "cell_type": "code",
   "execution_count": 23,
   "metadata": {},
   "outputs": [],
   "source": [
    "X_train = dict_vectorizer.fit_transform(X_train_cat)"
   ]
  },
  {
   "cell_type": "markdown",
   "metadata": {},
   "source": [
    "## Training the model"
   ]
  },
  {
   "cell_type": "code",
   "execution_count": 24,
   "metadata": {},
   "outputs": [
    {
     "name": "stderr",
     "output_type": "stream",
     "text": [
      "/opt/anaconda3/lib/python3.11/site-packages/sklearn/linear_model/_logistic.py:469: ConvergenceWarning: lbfgs failed to converge (status=1):\n",
      "STOP: TOTAL NO. of ITERATIONS REACHED LIMIT.\n",
      "\n",
      "Increase the number of iterations (max_iter) or scale the data as shown in:\n",
      "    https://scikit-learn.org/stable/modules/preprocessing.html\n",
      "Please also refer to the documentation for alternative solver options:\n",
      "    https://scikit-learn.org/stable/modules/linear_model.html#logistic-regression\n",
      "  n_iter_i = _check_optimize_result(\n"
     ]
    }
   ],
   "source": [
    "classifier = linear_model.LogisticRegression()\n",
    "model = classifier.fit(X_train, y_train_cat)"
   ]
  },
  {
   "cell_type": "code",
   "execution_count": 25,
   "metadata": {},
   "outputs": [
    {
     "data": {
      "text/html": [
       "<style>#sk-container-id-1 {\n",
       "  /* Definition of color scheme common for light and dark mode */\n",
       "  --sklearn-color-text: black;\n",
       "  --sklearn-color-line: gray;\n",
       "  /* Definition of color scheme for unfitted estimators */\n",
       "  --sklearn-color-unfitted-level-0: #fff5e6;\n",
       "  --sklearn-color-unfitted-level-1: #f6e4d2;\n",
       "  --sklearn-color-unfitted-level-2: #ffe0b3;\n",
       "  --sklearn-color-unfitted-level-3: chocolate;\n",
       "  /* Definition of color scheme for fitted estimators */\n",
       "  --sklearn-color-fitted-level-0: #f0f8ff;\n",
       "  --sklearn-color-fitted-level-1: #d4ebff;\n",
       "  --sklearn-color-fitted-level-2: #b3dbfd;\n",
       "  --sklearn-color-fitted-level-3: cornflowerblue;\n",
       "\n",
       "  /* Specific color for light theme */\n",
       "  --sklearn-color-text-on-default-background: var(--sg-text-color, var(--theme-code-foreground, var(--jp-content-font-color1, black)));\n",
       "  --sklearn-color-background: var(--sg-background-color, var(--theme-background, var(--jp-layout-color0, white)));\n",
       "  --sklearn-color-border-box: var(--sg-text-color, var(--theme-code-foreground, var(--jp-content-font-color1, black)));\n",
       "  --sklearn-color-icon: #696969;\n",
       "\n",
       "  @media (prefers-color-scheme: dark) {\n",
       "    /* Redefinition of color scheme for dark theme */\n",
       "    --sklearn-color-text-on-default-background: var(--sg-text-color, var(--theme-code-foreground, var(--jp-content-font-color1, white)));\n",
       "    --sklearn-color-background: var(--sg-background-color, var(--theme-background, var(--jp-layout-color0, #111)));\n",
       "    --sklearn-color-border-box: var(--sg-text-color, var(--theme-code-foreground, var(--jp-content-font-color1, white)));\n",
       "    --sklearn-color-icon: #878787;\n",
       "  }\n",
       "}\n",
       "\n",
       "#sk-container-id-1 {\n",
       "  color: var(--sklearn-color-text);\n",
       "}\n",
       "\n",
       "#sk-container-id-1 pre {\n",
       "  padding: 0;\n",
       "}\n",
       "\n",
       "#sk-container-id-1 input.sk-hidden--visually {\n",
       "  border: 0;\n",
       "  clip: rect(1px 1px 1px 1px);\n",
       "  clip: rect(1px, 1px, 1px, 1px);\n",
       "  height: 1px;\n",
       "  margin: -1px;\n",
       "  overflow: hidden;\n",
       "  padding: 0;\n",
       "  position: absolute;\n",
       "  width: 1px;\n",
       "}\n",
       "\n",
       "#sk-container-id-1 div.sk-dashed-wrapped {\n",
       "  border: 1px dashed var(--sklearn-color-line);\n",
       "  margin: 0 0.4em 0.5em 0.4em;\n",
       "  box-sizing: border-box;\n",
       "  padding-bottom: 0.4em;\n",
       "  background-color: var(--sklearn-color-background);\n",
       "}\n",
       "\n",
       "#sk-container-id-1 div.sk-container {\n",
       "  /* jupyter's `normalize.less` sets `[hidden] { display: none; }`\n",
       "     but bootstrap.min.css set `[hidden] { display: none !important; }`\n",
       "     so we also need the `!important` here to be able to override the\n",
       "     default hidden behavior on the sphinx rendered scikit-learn.org.\n",
       "     See: https://github.com/scikit-learn/scikit-learn/issues/21755 */\n",
       "  display: inline-block !important;\n",
       "  position: relative;\n",
       "}\n",
       "\n",
       "#sk-container-id-1 div.sk-text-repr-fallback {\n",
       "  display: none;\n",
       "}\n",
       "\n",
       "div.sk-parallel-item,\n",
       "div.sk-serial,\n",
       "div.sk-item {\n",
       "  /* draw centered vertical line to link estimators */\n",
       "  background-image: linear-gradient(var(--sklearn-color-text-on-default-background), var(--sklearn-color-text-on-default-background));\n",
       "  background-size: 2px 100%;\n",
       "  background-repeat: no-repeat;\n",
       "  background-position: center center;\n",
       "}\n",
       "\n",
       "/* Parallel-specific style estimator block */\n",
       "\n",
       "#sk-container-id-1 div.sk-parallel-item::after {\n",
       "  content: \"\";\n",
       "  width: 100%;\n",
       "  border-bottom: 2px solid var(--sklearn-color-text-on-default-background);\n",
       "  flex-grow: 1;\n",
       "}\n",
       "\n",
       "#sk-container-id-1 div.sk-parallel {\n",
       "  display: flex;\n",
       "  align-items: stretch;\n",
       "  justify-content: center;\n",
       "  background-color: var(--sklearn-color-background);\n",
       "  position: relative;\n",
       "}\n",
       "\n",
       "#sk-container-id-1 div.sk-parallel-item {\n",
       "  display: flex;\n",
       "  flex-direction: column;\n",
       "}\n",
       "\n",
       "#sk-container-id-1 div.sk-parallel-item:first-child::after {\n",
       "  align-self: flex-end;\n",
       "  width: 50%;\n",
       "}\n",
       "\n",
       "#sk-container-id-1 div.sk-parallel-item:last-child::after {\n",
       "  align-self: flex-start;\n",
       "  width: 50%;\n",
       "}\n",
       "\n",
       "#sk-container-id-1 div.sk-parallel-item:only-child::after {\n",
       "  width: 0;\n",
       "}\n",
       "\n",
       "/* Serial-specific style estimator block */\n",
       "\n",
       "#sk-container-id-1 div.sk-serial {\n",
       "  display: flex;\n",
       "  flex-direction: column;\n",
       "  align-items: center;\n",
       "  background-color: var(--sklearn-color-background);\n",
       "  padding-right: 1em;\n",
       "  padding-left: 1em;\n",
       "}\n",
       "\n",
       "\n",
       "/* Toggleable style: style used for estimator/Pipeline/ColumnTransformer box that is\n",
       "clickable and can be expanded/collapsed.\n",
       "- Pipeline and ColumnTransformer use this feature and define the default style\n",
       "- Estimators will overwrite some part of the style using the `sk-estimator` class\n",
       "*/\n",
       "\n",
       "/* Pipeline and ColumnTransformer style (default) */\n",
       "\n",
       "#sk-container-id-1 div.sk-toggleable {\n",
       "  /* Default theme specific background. It is overwritten whether we have a\n",
       "  specific estimator or a Pipeline/ColumnTransformer */\n",
       "  background-color: var(--sklearn-color-background);\n",
       "}\n",
       "\n",
       "/* Toggleable label */\n",
       "#sk-container-id-1 label.sk-toggleable__label {\n",
       "  cursor: pointer;\n",
       "  display: block;\n",
       "  width: 100%;\n",
       "  margin-bottom: 0;\n",
       "  padding: 0.5em;\n",
       "  box-sizing: border-box;\n",
       "  text-align: center;\n",
       "}\n",
       "\n",
       "#sk-container-id-1 label.sk-toggleable__label-arrow:before {\n",
       "  /* Arrow on the left of the label */\n",
       "  content: \"▸\";\n",
       "  float: left;\n",
       "  margin-right: 0.25em;\n",
       "  color: var(--sklearn-color-icon);\n",
       "}\n",
       "\n",
       "#sk-container-id-1 label.sk-toggleable__label-arrow:hover:before {\n",
       "  color: var(--sklearn-color-text);\n",
       "}\n",
       "\n",
       "/* Toggleable content - dropdown */\n",
       "\n",
       "#sk-container-id-1 div.sk-toggleable__content {\n",
       "  max-height: 0;\n",
       "  max-width: 0;\n",
       "  overflow: hidden;\n",
       "  text-align: left;\n",
       "  /* unfitted */\n",
       "  background-color: var(--sklearn-color-unfitted-level-0);\n",
       "}\n",
       "\n",
       "#sk-container-id-1 div.sk-toggleable__content.fitted {\n",
       "  /* fitted */\n",
       "  background-color: var(--sklearn-color-fitted-level-0);\n",
       "}\n",
       "\n",
       "#sk-container-id-1 div.sk-toggleable__content pre {\n",
       "  margin: 0.2em;\n",
       "  border-radius: 0.25em;\n",
       "  color: var(--sklearn-color-text);\n",
       "  /* unfitted */\n",
       "  background-color: var(--sklearn-color-unfitted-level-0);\n",
       "}\n",
       "\n",
       "#sk-container-id-1 div.sk-toggleable__content.fitted pre {\n",
       "  /* unfitted */\n",
       "  background-color: var(--sklearn-color-fitted-level-0);\n",
       "}\n",
       "\n",
       "#sk-container-id-1 input.sk-toggleable__control:checked~div.sk-toggleable__content {\n",
       "  /* Expand drop-down */\n",
       "  max-height: 200px;\n",
       "  max-width: 100%;\n",
       "  overflow: auto;\n",
       "}\n",
       "\n",
       "#sk-container-id-1 input.sk-toggleable__control:checked~label.sk-toggleable__label-arrow:before {\n",
       "  content: \"▾\";\n",
       "}\n",
       "\n",
       "/* Pipeline/ColumnTransformer-specific style */\n",
       "\n",
       "#sk-container-id-1 div.sk-label input.sk-toggleable__control:checked~label.sk-toggleable__label {\n",
       "  color: var(--sklearn-color-text);\n",
       "  background-color: var(--sklearn-color-unfitted-level-2);\n",
       "}\n",
       "\n",
       "#sk-container-id-1 div.sk-label.fitted input.sk-toggleable__control:checked~label.sk-toggleable__label {\n",
       "  background-color: var(--sklearn-color-fitted-level-2);\n",
       "}\n",
       "\n",
       "/* Estimator-specific style */\n",
       "\n",
       "/* Colorize estimator box */\n",
       "#sk-container-id-1 div.sk-estimator input.sk-toggleable__control:checked~label.sk-toggleable__label {\n",
       "  /* unfitted */\n",
       "  background-color: var(--sklearn-color-unfitted-level-2);\n",
       "}\n",
       "\n",
       "#sk-container-id-1 div.sk-estimator.fitted input.sk-toggleable__control:checked~label.sk-toggleable__label {\n",
       "  /* fitted */\n",
       "  background-color: var(--sklearn-color-fitted-level-2);\n",
       "}\n",
       "\n",
       "#sk-container-id-1 div.sk-label label.sk-toggleable__label,\n",
       "#sk-container-id-1 div.sk-label label {\n",
       "  /* The background is the default theme color */\n",
       "  color: var(--sklearn-color-text-on-default-background);\n",
       "}\n",
       "\n",
       "/* On hover, darken the color of the background */\n",
       "#sk-container-id-1 div.sk-label:hover label.sk-toggleable__label {\n",
       "  color: var(--sklearn-color-text);\n",
       "  background-color: var(--sklearn-color-unfitted-level-2);\n",
       "}\n",
       "\n",
       "/* Label box, darken color on hover, fitted */\n",
       "#sk-container-id-1 div.sk-label.fitted:hover label.sk-toggleable__label.fitted {\n",
       "  color: var(--sklearn-color-text);\n",
       "  background-color: var(--sklearn-color-fitted-level-2);\n",
       "}\n",
       "\n",
       "/* Estimator label */\n",
       "\n",
       "#sk-container-id-1 div.sk-label label {\n",
       "  font-family: monospace;\n",
       "  font-weight: bold;\n",
       "  display: inline-block;\n",
       "  line-height: 1.2em;\n",
       "}\n",
       "\n",
       "#sk-container-id-1 div.sk-label-container {\n",
       "  text-align: center;\n",
       "}\n",
       "\n",
       "/* Estimator-specific */\n",
       "#sk-container-id-1 div.sk-estimator {\n",
       "  font-family: monospace;\n",
       "  border: 1px dotted var(--sklearn-color-border-box);\n",
       "  border-radius: 0.25em;\n",
       "  box-sizing: border-box;\n",
       "  margin-bottom: 0.5em;\n",
       "  /* unfitted */\n",
       "  background-color: var(--sklearn-color-unfitted-level-0);\n",
       "}\n",
       "\n",
       "#sk-container-id-1 div.sk-estimator.fitted {\n",
       "  /* fitted */\n",
       "  background-color: var(--sklearn-color-fitted-level-0);\n",
       "}\n",
       "\n",
       "/* on hover */\n",
       "#sk-container-id-1 div.sk-estimator:hover {\n",
       "  /* unfitted */\n",
       "  background-color: var(--sklearn-color-unfitted-level-2);\n",
       "}\n",
       "\n",
       "#sk-container-id-1 div.sk-estimator.fitted:hover {\n",
       "  /* fitted */\n",
       "  background-color: var(--sklearn-color-fitted-level-2);\n",
       "}\n",
       "\n",
       "/* Specification for estimator info (e.g. \"i\" and \"?\") */\n",
       "\n",
       "/* Common style for \"i\" and \"?\" */\n",
       "\n",
       ".sk-estimator-doc-link,\n",
       "a:link.sk-estimator-doc-link,\n",
       "a:visited.sk-estimator-doc-link {\n",
       "  float: right;\n",
       "  font-size: smaller;\n",
       "  line-height: 1em;\n",
       "  font-family: monospace;\n",
       "  background-color: var(--sklearn-color-background);\n",
       "  border-radius: 1em;\n",
       "  height: 1em;\n",
       "  width: 1em;\n",
       "  text-decoration: none !important;\n",
       "  margin-left: 1ex;\n",
       "  /* unfitted */\n",
       "  border: var(--sklearn-color-unfitted-level-1) 1pt solid;\n",
       "  color: var(--sklearn-color-unfitted-level-1);\n",
       "}\n",
       "\n",
       ".sk-estimator-doc-link.fitted,\n",
       "a:link.sk-estimator-doc-link.fitted,\n",
       "a:visited.sk-estimator-doc-link.fitted {\n",
       "  /* fitted */\n",
       "  border: var(--sklearn-color-fitted-level-1) 1pt solid;\n",
       "  color: var(--sklearn-color-fitted-level-1);\n",
       "}\n",
       "\n",
       "/* On hover */\n",
       "div.sk-estimator:hover .sk-estimator-doc-link:hover,\n",
       ".sk-estimator-doc-link:hover,\n",
       "div.sk-label-container:hover .sk-estimator-doc-link:hover,\n",
       ".sk-estimator-doc-link:hover {\n",
       "  /* unfitted */\n",
       "  background-color: var(--sklearn-color-unfitted-level-3);\n",
       "  color: var(--sklearn-color-background);\n",
       "  text-decoration: none;\n",
       "}\n",
       "\n",
       "div.sk-estimator.fitted:hover .sk-estimator-doc-link.fitted:hover,\n",
       ".sk-estimator-doc-link.fitted:hover,\n",
       "div.sk-label-container:hover .sk-estimator-doc-link.fitted:hover,\n",
       ".sk-estimator-doc-link.fitted:hover {\n",
       "  /* fitted */\n",
       "  background-color: var(--sklearn-color-fitted-level-3);\n",
       "  color: var(--sklearn-color-background);\n",
       "  text-decoration: none;\n",
       "}\n",
       "\n",
       "/* Span, style for the box shown on hovering the info icon */\n",
       ".sk-estimator-doc-link span {\n",
       "  display: none;\n",
       "  z-index: 9999;\n",
       "  position: relative;\n",
       "  font-weight: normal;\n",
       "  right: .2ex;\n",
       "  padding: .5ex;\n",
       "  margin: .5ex;\n",
       "  width: min-content;\n",
       "  min-width: 20ex;\n",
       "  max-width: 50ex;\n",
       "  color: var(--sklearn-color-text);\n",
       "  box-shadow: 2pt 2pt 4pt #999;\n",
       "  /* unfitted */\n",
       "  background: var(--sklearn-color-unfitted-level-0);\n",
       "  border: .5pt solid var(--sklearn-color-unfitted-level-3);\n",
       "}\n",
       "\n",
       ".sk-estimator-doc-link.fitted span {\n",
       "  /* fitted */\n",
       "  background: var(--sklearn-color-fitted-level-0);\n",
       "  border: var(--sklearn-color-fitted-level-3);\n",
       "}\n",
       "\n",
       ".sk-estimator-doc-link:hover span {\n",
       "  display: block;\n",
       "}\n",
       "\n",
       "/* \"?\"-specific style due to the `<a>` HTML tag */\n",
       "\n",
       "#sk-container-id-1 a.estimator_doc_link {\n",
       "  float: right;\n",
       "  font-size: 1rem;\n",
       "  line-height: 1em;\n",
       "  font-family: monospace;\n",
       "  background-color: var(--sklearn-color-background);\n",
       "  border-radius: 1rem;\n",
       "  height: 1rem;\n",
       "  width: 1rem;\n",
       "  text-decoration: none;\n",
       "  /* unfitted */\n",
       "  color: var(--sklearn-color-unfitted-level-1);\n",
       "  border: var(--sklearn-color-unfitted-level-1) 1pt solid;\n",
       "}\n",
       "\n",
       "#sk-container-id-1 a.estimator_doc_link.fitted {\n",
       "  /* fitted */\n",
       "  border: var(--sklearn-color-fitted-level-1) 1pt solid;\n",
       "  color: var(--sklearn-color-fitted-level-1);\n",
       "}\n",
       "\n",
       "/* On hover */\n",
       "#sk-container-id-1 a.estimator_doc_link:hover {\n",
       "  /* unfitted */\n",
       "  background-color: var(--sklearn-color-unfitted-level-3);\n",
       "  color: var(--sklearn-color-background);\n",
       "  text-decoration: none;\n",
       "}\n",
       "\n",
       "#sk-container-id-1 a.estimator_doc_link.fitted:hover {\n",
       "  /* fitted */\n",
       "  background-color: var(--sklearn-color-fitted-level-3);\n",
       "}\n",
       "</style><div id=\"sk-container-id-1\" class=\"sk-top-container\"><div class=\"sk-text-repr-fallback\"><pre>LogisticRegression()</pre><b>In a Jupyter environment, please rerun this cell to show the HTML representation or trust the notebook. <br />On GitHub, the HTML representation is unable to render, please try loading this page with nbviewer.org.</b></div><div class=\"sk-container\" hidden><div class=\"sk-item\"><div class=\"sk-estimator fitted sk-toggleable\"><input class=\"sk-toggleable__control sk-hidden--visually\" id=\"sk-estimator-id-1\" type=\"checkbox\" checked><label for=\"sk-estimator-id-1\" class=\"sk-toggleable__label fitted sk-toggleable__label-arrow fitted\">&nbsp;&nbsp;LogisticRegression<a class=\"sk-estimator-doc-link fitted\" rel=\"noreferrer\" target=\"_blank\" href=\"https://scikit-learn.org/1.4/modules/generated/sklearn.linear_model.LogisticRegression.html\">?<span>Documentation for LogisticRegression</span></a><span class=\"sk-estimator-doc-link fitted\">i<span>Fitted</span></span></label><div class=\"sk-toggleable__content fitted\"><pre>LogisticRegression()</pre></div> </div></div></div></div>"
      ],
      "text/plain": [
       "LogisticRegression()"
      ]
     },
     "execution_count": 25,
     "metadata": {},
     "output_type": "execute_result"
    }
   ],
   "source": [
    "model"
   ]
  },
  {
   "cell_type": "markdown",
   "metadata": {},
   "source": [
    "## Prediction"
   ]
  },
  {
   "cell_type": "markdown",
   "metadata": {},
   "source": [
    "### Process the test corpus"
   ]
  },
  {
   "cell_type": "markdown",
   "metadata": {},
   "source": [
    "We first dictorize the test corpus"
   ]
  },
  {
   "cell_type": "code",
   "execution_count": 26,
   "metadata": {},
   "outputs": [
    {
     "data": {
      "text/plain": [
       "[{'ID': '1',\n",
       "  'FORM': 'What',\n",
       "  'LEMMA': 'what',\n",
       "  'UPOS': 'PRON',\n",
       "  'XPOS': 'WP',\n",
       "  'FEATS': 'PronType=Int',\n",
       "  'HEAD': '0:root',\n",
       "  'DEPREL': 'root',\n",
       "  'DEPS': '_'},\n",
       " {'ID': '2',\n",
       "  'FORM': 'if',\n",
       "  'LEMMA': 'if',\n",
       "  'UPOS': 'SCONJ',\n",
       "  'XPOS': 'IN',\n",
       "  'FEATS': '_',\n",
       "  'HEAD': '4:mark',\n",
       "  'DEPREL': 'mark',\n",
       "  'DEPS': '_'},\n",
       " {'ID': '3',\n",
       "  'FORM': 'Google',\n",
       "  'LEMMA': 'Google',\n",
       "  'UPOS': 'PROPN',\n",
       "  'XPOS': 'NNP',\n",
       "  'FEATS': 'Number=Sing',\n",
       "  'HEAD': '4:nsubj',\n",
       "  'DEPREL': 'nsubj',\n",
       "  'DEPS': '_'},\n",
       " {'ID': '4',\n",
       "  'FORM': 'Morphed',\n",
       "  'LEMMA': 'morph',\n",
       "  'UPOS': 'VERB',\n",
       "  'XPOS': 'VBD',\n",
       "  'FEATS': 'Mood=Ind|Number=Sing|Person=3|Tense=Past|VerbForm=Fin',\n",
       "  'HEAD': '1:advcl:if',\n",
       "  'DEPREL': 'advcl',\n",
       "  'DEPS': '_'},\n",
       " {'ID': '5',\n",
       "  'FORM': 'Into',\n",
       "  'LEMMA': 'into',\n",
       "  'UPOS': 'ADP',\n",
       "  'XPOS': 'IN',\n",
       "  'FEATS': '_',\n",
       "  'HEAD': '6:case',\n",
       "  'DEPREL': 'case',\n",
       "  'DEPS': '_'},\n",
       " {'ID': '6',\n",
       "  'FORM': 'GoogleOS',\n",
       "  'LEMMA': 'GoogleOS',\n",
       "  'UPOS': 'PROPN',\n",
       "  'XPOS': 'NNP',\n",
       "  'FEATS': 'Number=Sing',\n",
       "  'HEAD': '4:obl:into',\n",
       "  'DEPREL': 'obl',\n",
       "  'DEPS': 'SpaceAfter=No'},\n",
       " {'ID': '7',\n",
       "  'FORM': '?',\n",
       "  'LEMMA': '?',\n",
       "  'UPOS': 'PUNCT',\n",
       "  'XPOS': '.',\n",
       "  'FEATS': '_',\n",
       "  'HEAD': '4:punct',\n",
       "  'DEPREL': 'punct',\n",
       "  'DEPS': '_'}]"
      ]
     },
     "execution_count": 26,
     "metadata": {},
     "output_type": "execute_result"
    }
   ],
   "source": [
    "test_dict = conll_dict.transform(test_sentences)\n",
    "test_dict[0]"
   ]
  },
  {
   "cell_type": "code",
   "execution_count": 27,
   "metadata": {},
   "outputs": [],
   "source": [
    "test_cols = [extract_cols(sent_dict) for sent_dict in test_dict]"
   ]
  },
  {
   "cell_type": "code",
   "execution_count": 28,
   "metadata": {},
   "outputs": [],
   "source": [
    "test_sent_words, test_sent_pos = zip(*test_cols)"
   ]
  },
  {
   "cell_type": "markdown",
   "metadata": {},
   "source": [
    "### Predict the sentences"
   ]
  },
  {
   "cell_type": "code",
   "execution_count": 29,
   "metadata": {},
   "outputs": [],
   "source": [
    "def predict_sentence(sentence,\n",
    "                     model,\n",
    "                     dict_vectorizer,\n",
    "                     ppos_key='PPOS'):\n",
    "    sent_words, _ = extract_cols(sentence)\n",
    "    X_cat = create_X_cat(sent_words)\n",
    "    X = dict_vectorizer.transform(X_cat)\n",
    "    y_pred_vec = model.predict(X)\n",
    "    # We add the predictions in the PPOS column\n",
    "    for row, y_pred in zip(sentence, y_pred_vec):\n",
    "        row[ppos_key] = y_pred\n",
    "    return sentence"
   ]
  },
  {
   "cell_type": "code",
   "execution_count": 30,
   "metadata": {},
   "outputs": [
    {
     "data": {
      "text/plain": [
       "[{'ID': '1',\n",
       "  'FORM': 'What',\n",
       "  'LEMMA': 'what',\n",
       "  'UPOS': 'PRON',\n",
       "  'XPOS': 'WP',\n",
       "  'FEATS': 'PronType=Int',\n",
       "  'HEAD': '0:root',\n",
       "  'DEPREL': 'root',\n",
       "  'DEPS': '_',\n",
       "  'PPOS': 'PRON'},\n",
       " {'ID': '2',\n",
       "  'FORM': 'if',\n",
       "  'LEMMA': 'if',\n",
       "  'UPOS': 'SCONJ',\n",
       "  'XPOS': 'IN',\n",
       "  'FEATS': '_',\n",
       "  'HEAD': '4:mark',\n",
       "  'DEPREL': 'mark',\n",
       "  'DEPS': '_',\n",
       "  'PPOS': 'SCONJ'},\n",
       " {'ID': '3',\n",
       "  'FORM': 'Google',\n",
       "  'LEMMA': 'Google',\n",
       "  'UPOS': 'PROPN',\n",
       "  'XPOS': 'NNP',\n",
       "  'FEATS': 'Number=Sing',\n",
       "  'HEAD': '4:nsubj',\n",
       "  'DEPREL': 'nsubj',\n",
       "  'DEPS': '_',\n",
       "  'PPOS': 'PROPN'},\n",
       " {'ID': '4',\n",
       "  'FORM': 'Morphed',\n",
       "  'LEMMA': 'morph',\n",
       "  'UPOS': 'VERB',\n",
       "  'XPOS': 'VBD',\n",
       "  'FEATS': 'Mood=Ind|Number=Sing|Person=3|Tense=Past|VerbForm=Fin',\n",
       "  'HEAD': '1:advcl:if',\n",
       "  'DEPREL': 'advcl',\n",
       "  'DEPS': '_',\n",
       "  'PPOS': 'VERB'},\n",
       " {'ID': '5',\n",
       "  'FORM': 'Into',\n",
       "  'LEMMA': 'into',\n",
       "  'UPOS': 'ADP',\n",
       "  'XPOS': 'IN',\n",
       "  'FEATS': '_',\n",
       "  'HEAD': '6:case',\n",
       "  'DEPREL': 'case',\n",
       "  'DEPS': '_',\n",
       "  'PPOS': 'NOUN'},\n",
       " {'ID': '6',\n",
       "  'FORM': 'GoogleOS',\n",
       "  'LEMMA': 'GoogleOS',\n",
       "  'UPOS': 'PROPN',\n",
       "  'XPOS': 'NNP',\n",
       "  'FEATS': 'Number=Sing',\n",
       "  'HEAD': '4:obl:into',\n",
       "  'DEPREL': 'obl',\n",
       "  'DEPS': 'SpaceAfter=No',\n",
       "  'PPOS': 'NOUN'},\n",
       " {'ID': '7',\n",
       "  'FORM': '?',\n",
       "  'LEMMA': '?',\n",
       "  'UPOS': 'PUNCT',\n",
       "  'XPOS': '.',\n",
       "  'FEATS': '_',\n",
       "  'HEAD': '4:punct',\n",
       "  'DEPREL': 'punct',\n",
       "  'DEPS': '_',\n",
       "  'PPOS': 'PUNCT'}]"
      ]
     },
     "execution_count": 30,
     "metadata": {},
     "output_type": "execute_result"
    }
   ],
   "source": [
    "predict_sentence(test_dict[0], model, dict_vectorizer)"
   ]
  },
  {
   "cell_type": "code",
   "execution_count": 31,
   "metadata": {},
   "outputs": [],
   "source": [
    "for sentence in test_dict:\n",
    "    sentence = predict_sentence(sentence,\n",
    "                                model,\n",
    "                                dict_vectorizer)"
   ]
  },
  {
   "cell_type": "markdown",
   "metadata": {},
   "source": [
    "## Evaluate the prediction"
   ]
  },
  {
   "cell_type": "code",
   "execution_count": 32,
   "metadata": {},
   "outputs": [
    {
     "data": {
      "text/plain": [
       "[[{'ID': '1',\n",
       "   'FORM': 'What',\n",
       "   'LEMMA': 'what',\n",
       "   'UPOS': 'PRON',\n",
       "   'XPOS': 'WP',\n",
       "   'FEATS': 'PronType=Int',\n",
       "   'HEAD': '0:root',\n",
       "   'DEPREL': 'root',\n",
       "   'DEPS': '_',\n",
       "   'PPOS': 'PRON'},\n",
       "  {'ID': '2',\n",
       "   'FORM': 'if',\n",
       "   'LEMMA': 'if',\n",
       "   'UPOS': 'SCONJ',\n",
       "   'XPOS': 'IN',\n",
       "   'FEATS': '_',\n",
       "   'HEAD': '4:mark',\n",
       "   'DEPREL': 'mark',\n",
       "   'DEPS': '_',\n",
       "   'PPOS': 'SCONJ'},\n",
       "  {'ID': '3',\n",
       "   'FORM': 'Google',\n",
       "   'LEMMA': 'Google',\n",
       "   'UPOS': 'PROPN',\n",
       "   'XPOS': 'NNP',\n",
       "   'FEATS': 'Number=Sing',\n",
       "   'HEAD': '4:nsubj',\n",
       "   'DEPREL': 'nsubj',\n",
       "   'DEPS': '_',\n",
       "   'PPOS': 'PROPN'},\n",
       "  {'ID': '4',\n",
       "   'FORM': 'Morphed',\n",
       "   'LEMMA': 'morph',\n",
       "   'UPOS': 'VERB',\n",
       "   'XPOS': 'VBD',\n",
       "   'FEATS': 'Mood=Ind|Number=Sing|Person=3|Tense=Past|VerbForm=Fin',\n",
       "   'HEAD': '1:advcl:if',\n",
       "   'DEPREL': 'advcl',\n",
       "   'DEPS': '_',\n",
       "   'PPOS': 'VERB'},\n",
       "  {'ID': '5',\n",
       "   'FORM': 'Into',\n",
       "   'LEMMA': 'into',\n",
       "   'UPOS': 'ADP',\n",
       "   'XPOS': 'IN',\n",
       "   'FEATS': '_',\n",
       "   'HEAD': '6:case',\n",
       "   'DEPREL': 'case',\n",
       "   'DEPS': '_',\n",
       "   'PPOS': 'NOUN'},\n",
       "  {'ID': '6',\n",
       "   'FORM': 'GoogleOS',\n",
       "   'LEMMA': 'GoogleOS',\n",
       "   'UPOS': 'PROPN',\n",
       "   'XPOS': 'NNP',\n",
       "   'FEATS': 'Number=Sing',\n",
       "   'HEAD': '4:obl:into',\n",
       "   'DEPREL': 'obl',\n",
       "   'DEPS': 'SpaceAfter=No',\n",
       "   'PPOS': 'NOUN'},\n",
       "  {'ID': '7',\n",
       "   'FORM': '?',\n",
       "   'LEMMA': '?',\n",
       "   'UPOS': 'PUNCT',\n",
       "   'XPOS': '.',\n",
       "   'FEATS': '_',\n",
       "   'HEAD': '4:punct',\n",
       "   'DEPREL': 'punct',\n",
       "   'DEPS': '_',\n",
       "   'PPOS': 'PUNCT'}],\n",
       " [{'ID': '1',\n",
       "   'FORM': 'What',\n",
       "   'LEMMA': 'what',\n",
       "   'UPOS': 'PRON',\n",
       "   'XPOS': 'WP',\n",
       "   'FEATS': 'PronType=Int',\n",
       "   'HEAD': '0:root',\n",
       "   'DEPREL': 'root',\n",
       "   'DEPS': '_',\n",
       "   'PPOS': 'PRON'},\n",
       "  {'ID': '2',\n",
       "   'FORM': 'if',\n",
       "   'LEMMA': 'if',\n",
       "   'UPOS': 'SCONJ',\n",
       "   'XPOS': 'IN',\n",
       "   'FEATS': '_',\n",
       "   'HEAD': '4:mark',\n",
       "   'DEPREL': 'mark',\n",
       "   'DEPS': '_',\n",
       "   'PPOS': 'SCONJ'},\n",
       "  {'ID': '3',\n",
       "   'FORM': 'Google',\n",
       "   'LEMMA': 'Google',\n",
       "   'UPOS': 'PROPN',\n",
       "   'XPOS': 'NNP',\n",
       "   'FEATS': 'Number=Sing',\n",
       "   'HEAD': '4:nsubj',\n",
       "   'DEPREL': 'nsubj',\n",
       "   'DEPS': '_',\n",
       "   'PPOS': 'PROPN'},\n",
       "  {'ID': '4',\n",
       "   'FORM': 'expanded',\n",
       "   'LEMMA': 'expand',\n",
       "   'UPOS': 'VERB',\n",
       "   'XPOS': 'VBD',\n",
       "   'FEATS': 'Mood=Ind|Number=Sing|Person=3|Tense=Past|VerbForm=Fin',\n",
       "   'HEAD': '1:advcl:if',\n",
       "   'DEPREL': 'advcl',\n",
       "   'DEPS': '_',\n",
       "   'PPOS': 'VERB'},\n",
       "  {'ID': '5',\n",
       "   'FORM': 'on',\n",
       "   'LEMMA': 'on',\n",
       "   'UPOS': 'ADP',\n",
       "   'XPOS': 'IN',\n",
       "   'FEATS': '_',\n",
       "   'HEAD': '15:case',\n",
       "   'DEPREL': 'case',\n",
       "   'DEPS': '_',\n",
       "   'PPOS': 'ADP'},\n",
       "  {'ID': '6',\n",
       "   'FORM': 'its',\n",
       "   'LEMMA': 'its',\n",
       "   'UPOS': 'PRON',\n",
       "   'XPOS': 'PRP$',\n",
       "   'FEATS': 'Case=Gen|Gender=Neut|Number=Sing|Person=3|Poss=Yes|PronType=Prs',\n",
       "   'HEAD': '15:nmod:poss',\n",
       "   'DEPREL': 'nmod:poss',\n",
       "   'DEPS': '_',\n",
       "   'PPOS': 'PRON'},\n",
       "  {'ID': '7',\n",
       "   'FORM': 'search',\n",
       "   'LEMMA': 'search',\n",
       "   'UPOS': 'NOUN',\n",
       "   'XPOS': 'NN',\n",
       "   'FEATS': 'Number=Sing',\n",
       "   'HEAD': '9:compound',\n",
       "   'DEPREL': 'compound',\n",
       "   'DEPS': 'SpaceAfter=No',\n",
       "   'PPOS': 'NOUN'},\n",
       "  {'ID': '8',\n",
       "   'FORM': '-',\n",
       "   'LEMMA': '-',\n",
       "   'UPOS': 'PUNCT',\n",
       "   'XPOS': 'HYPH',\n",
       "   'FEATS': '_',\n",
       "   'HEAD': '7:punct',\n",
       "   'DEPREL': 'punct',\n",
       "   'DEPS': 'SpaceAfter=No',\n",
       "   'PPOS': 'PUNCT'},\n",
       "  {'ID': '9',\n",
       "   'FORM': 'engine',\n",
       "   'LEMMA': 'engine',\n",
       "   'UPOS': 'NOUN',\n",
       "   'XPOS': 'NN',\n",
       "   'FEATS': 'Number=Sing',\n",
       "   'HEAD': '15:compound',\n",
       "   'DEPREL': 'compound',\n",
       "   'DEPS': '_',\n",
       "   'PPOS': 'NOUN'},\n",
       "  {'ID': '10',\n",
       "   'FORM': '(',\n",
       "   'LEMMA': '(',\n",
       "   'UPOS': 'PUNCT',\n",
       "   'XPOS': '-LRB-',\n",
       "   'FEATS': '_',\n",
       "   'HEAD': '13:punct',\n",
       "   'DEPREL': 'punct',\n",
       "   'DEPS': 'SpaceAfter=No',\n",
       "   'PPOS': 'PUNCT'},\n",
       "  {'ID': '11',\n",
       "   'FORM': 'and',\n",
       "   'LEMMA': 'and',\n",
       "   'UPOS': 'CCONJ',\n",
       "   'XPOS': 'CC',\n",
       "   'FEATS': '_',\n",
       "   'HEAD': '13:cc',\n",
       "   'DEPREL': 'cc',\n",
       "   'DEPS': '_',\n",
       "   'PPOS': 'CCONJ'},\n",
       "  {'ID': '12',\n",
       "   'FORM': 'now',\n",
       "   'LEMMA': 'now',\n",
       "   'UPOS': 'ADV',\n",
       "   'XPOS': 'RB',\n",
       "   'FEATS': '_',\n",
       "   'HEAD': '13:advmod',\n",
       "   'DEPREL': 'advmod',\n",
       "   'DEPS': '_',\n",
       "   'PPOS': 'ADV'},\n",
       "  {'ID': '13',\n",
       "   'FORM': 'e-mail',\n",
       "   'LEMMA': 'e-mail',\n",
       "   'UPOS': 'NOUN',\n",
       "   'XPOS': 'NN',\n",
       "   'FEATS': 'Number=Sing',\n",
       "   'HEAD': '9:conj:and|15:compound',\n",
       "   'DEPREL': 'conj',\n",
       "   'DEPS': 'SpaceAfter=No',\n",
       "   'PPOS': 'NOUN'},\n",
       "  {'ID': '14',\n",
       "   'FORM': ')',\n",
       "   'LEMMA': ')',\n",
       "   'UPOS': 'PUNCT',\n",
       "   'XPOS': '-RRB-',\n",
       "   'FEATS': '_',\n",
       "   'HEAD': '13:punct',\n",
       "   'DEPREL': 'punct',\n",
       "   'DEPS': '_',\n",
       "   'PPOS': 'PUNCT'},\n",
       "  {'ID': '15',\n",
       "   'FORM': 'wares',\n",
       "   'LEMMA': 'wares',\n",
       "   'UPOS': 'NOUN',\n",
       "   'XPOS': 'NNS',\n",
       "   'FEATS': 'Number=Ptan',\n",
       "   'HEAD': '4:obl:on',\n",
       "   'DEPREL': 'obl',\n",
       "   'DEPS': '_',\n",
       "   'PPOS': 'VERB'},\n",
       "  {'ID': '16',\n",
       "   'FORM': 'into',\n",
       "   'LEMMA': 'into',\n",
       "   'UPOS': 'ADP',\n",
       "   'XPOS': 'IN',\n",
       "   'FEATS': '_',\n",
       "   'HEAD': '22:case',\n",
       "   'DEPREL': 'case',\n",
       "   'DEPS': '_',\n",
       "   'PPOS': 'ADP'},\n",
       "  {'ID': '17',\n",
       "   'FORM': 'a',\n",
       "   'LEMMA': 'a',\n",
       "   'UPOS': 'DET',\n",
       "   'XPOS': 'DT',\n",
       "   'FEATS': 'Definite=Ind|PronType=Art',\n",
       "   'HEAD': '22:det',\n",
       "   'DEPREL': 'det',\n",
       "   'DEPS': '_',\n",
       "   'PPOS': 'DET'},\n",
       "  {'ID': '18',\n",
       "   'FORM': 'full',\n",
       "   'LEMMA': 'full',\n",
       "   'UPOS': 'ADV',\n",
       "   'XPOS': 'RB',\n",
       "   'FEATS': '_',\n",
       "   'HEAD': '20:advmod',\n",
       "   'DEPREL': 'advmod',\n",
       "   'DEPS': 'SpaceAfter=No',\n",
       "   'PPOS': 'ADJ'},\n",
       "  {'ID': '19',\n",
       "   'FORM': '-',\n",
       "   'LEMMA': '-',\n",
       "   'UPOS': 'PUNCT',\n",
       "   'XPOS': 'HYPH',\n",
       "   'FEATS': '_',\n",
       "   'HEAD': '18:punct',\n",
       "   'DEPREL': 'punct',\n",
       "   'DEPS': 'SpaceAfter=No',\n",
       "   'PPOS': 'PUNCT'},\n",
       "  {'ID': '20',\n",
       "   'FORM': 'fledged',\n",
       "   'LEMMA': 'fledged',\n",
       "   'UPOS': 'ADJ',\n",
       "   'XPOS': 'JJ',\n",
       "   'FEATS': 'Degree=Pos',\n",
       "   'HEAD': '22:amod',\n",
       "   'DEPREL': 'amod',\n",
       "   'DEPS': '_',\n",
       "   'PPOS': 'NOUN'},\n",
       "  {'ID': '21',\n",
       "   'FORM': 'operating',\n",
       "   'LEMMA': 'operating',\n",
       "   'UPOS': 'NOUN',\n",
       "   'XPOS': 'NN',\n",
       "   'FEATS': 'Number=Sing',\n",
       "   'HEAD': '22:compound',\n",
       "   'DEPREL': 'compound',\n",
       "   'DEPS': '_',\n",
       "   'PPOS': 'NOUN'},\n",
       "  {'ID': '22',\n",
       "   'FORM': 'system',\n",
       "   'LEMMA': 'system',\n",
       "   'UPOS': 'NOUN',\n",
       "   'XPOS': 'NN',\n",
       "   'FEATS': 'Number=Sing',\n",
       "   'HEAD': '4:obl:into',\n",
       "   'DEPREL': 'obl',\n",
       "   'DEPS': 'SpaceAfter=No',\n",
       "   'PPOS': 'NOUN'},\n",
       "  {'ID': '23',\n",
       "   'FORM': '?',\n",
       "   'LEMMA': '?',\n",
       "   'UPOS': 'PUNCT',\n",
       "   'XPOS': '.',\n",
       "   'FEATS': '_',\n",
       "   'HEAD': '4:punct',\n",
       "   'DEPREL': 'punct',\n",
       "   'DEPS': '_',\n",
       "   'PPOS': 'PUNCT'}]]"
      ]
     },
     "execution_count": 32,
     "metadata": {},
     "output_type": "execute_result"
    }
   ],
   "source": [
    "test_dict[:2]"
   ]
  },
  {
   "cell_type": "code",
   "execution_count": 33,
   "metadata": {},
   "outputs": [],
   "source": [
    "(y_true, y_pred) = ([], [])\n",
    "for sent in test_dict:\n",
    "    a, b = extract_cols(sent, x='UPOS', y='PPOS')\n",
    "    y_true += a\n",
    "    y_pred += b"
   ]
  },
  {
   "cell_type": "code",
   "execution_count": 34,
   "metadata": {},
   "outputs": [
    {
     "name": "stdout",
     "output_type": "stream",
     "text": [
      "              precision    recall  f1-score   support\n",
      "\n",
      "         ADJ     0.8878    0.7964    0.8396      1788\n",
      "         ADP     0.9364    0.9553    0.9457      2034\n",
      "         ADV     0.9155    0.8384    0.8753      1176\n",
      "         AUX     0.9792    0.9773    0.9783      1543\n",
      "       CCONJ     0.9973    0.9864    0.9918       737\n",
      "         DET     0.9873    0.9821    0.9847      1897\n",
      "        INTJ     0.9775    0.7250    0.8325       120\n",
      "        NOUN     0.7709    0.9248    0.8409      4137\n",
      "         NUM     0.9196    0.6753    0.7787       542\n",
      "        PART     0.9407    0.9784    0.9592       649\n",
      "        PRON     0.9782    0.9773    0.9778      2162\n",
      "       PROPN     0.7842    0.6683    0.7216      2077\n",
      "       PUNCT     0.9938    0.9829    0.9883      3096\n",
      "       SCONJ     0.8902    0.7604    0.8202       384\n",
      "         SYM     0.8155    0.7706    0.7925       109\n",
      "        VERB     0.8949    0.9079    0.9013      2606\n",
      "           X     0.0000    0.0000    0.0000        39\n",
      "           _     1.0000    0.9774    0.9886       354\n",
      "\n",
      "    accuracy                         0.9036     25450\n",
      "   macro avg     0.8705    0.8269    0.8454     25450\n",
      "weighted avg     0.9053    0.9036    0.9021     25450\n",
      "\n"
     ]
    },
    {
     "name": "stderr",
     "output_type": "stream",
     "text": [
      "/opt/anaconda3/lib/python3.11/site-packages/sklearn/metrics/_classification.py:1509: UndefinedMetricWarning: Precision is ill-defined and being set to 0.0 in labels with no predicted samples. Use `zero_division` parameter to control this behavior.\n",
      "  _warn_prf(average, modifier, f\"{metric.capitalize()} is\", len(result))\n",
      "/opt/anaconda3/lib/python3.11/site-packages/sklearn/metrics/_classification.py:1509: UndefinedMetricWarning: Precision is ill-defined and being set to 0.0 in labels with no predicted samples. Use `zero_division` parameter to control this behavior.\n",
      "  _warn_prf(average, modifier, f\"{metric.capitalize()} is\", len(result))\n",
      "/opt/anaconda3/lib/python3.11/site-packages/sklearn/metrics/_classification.py:1509: UndefinedMetricWarning: Precision is ill-defined and being set to 0.0 in labels with no predicted samples. Use `zero_division` parameter to control this behavior.\n",
      "  _warn_prf(average, modifier, f\"{metric.capitalize()} is\", len(result))\n"
     ]
    }
   ],
   "source": [
    "print(classification_report(y_true, y_pred, digits=4))"
   ]
  },
  {
   "cell_type": "markdown",
   "metadata": {},
   "source": [
    "## Applying the model to sentences"
   ]
  },
  {
   "cell_type": "markdown",
   "metadata": {},
   "source": [
    "A few sentences:"
   ]
  },
  {
   "cell_type": "code",
   "execution_count": 35,
   "metadata": {},
   "outputs": [],
   "source": [
    "sentences = ['That round table might collapse .',\n",
    "             'That man can learn well .',\n",
    "             'This man can swim well .',\n",
    "             'The man can simwo .',\n",
    "             'That round table might collapsex .']"
   ]
  },
  {
   "cell_type": "markdown",
   "metadata": {},
   "source": [
    "We convert them into CoNLL-like tables"
   ]
  },
  {
   "cell_type": "code",
   "execution_count": 36,
   "metadata": {},
   "outputs": [],
   "source": [
    "def sentence_to_conll(sentence: str):\n",
    "    sent_dict = [{'ID': x, 'FORM': y} for (x, y) in\n",
    "                 enumerate(sentence.split(), start=1)]\n",
    "    return sent_dict"
   ]
  },
  {
   "cell_type": "markdown",
   "metadata": {},
   "source": [
    "And we tag them"
   ]
  },
  {
   "cell_type": "code",
   "execution_count": 37,
   "metadata": {},
   "outputs": [
    {
     "name": "stdout",
     "output_type": "stream",
     "text": [
      "['That', 'round', 'table', 'might', 'collapse', '.']\n",
      "['PRON', 'NOUN', 'NOUN', 'AUX', 'VERB', 'PUNCT']\n",
      "['That', 'man', 'can', 'learn', 'well', '.']\n",
      "['DET', 'NOUN', 'AUX', 'VERB', 'ADV', 'PUNCT']\n",
      "['This', 'man', 'can', 'swim', 'well', '.']\n",
      "['DET', 'NOUN', 'AUX', 'VERB', 'ADV', 'PUNCT']\n",
      "['The', 'man', 'can', 'simwo', '.']\n",
      "['DET', 'NOUN', 'AUX', 'VERB', 'PUNCT']\n",
      "['That', 'round', 'table', 'might', 'collapsex', '.']\n",
      "['PRON', 'NOUN', 'NOUN', 'AUX', 'VERB', 'PUNCT']\n"
     ]
    }
   ],
   "source": [
    "for sentence in sentences:\n",
    "    sentence = sentence_to_conll(sentence)\n",
    "    y_test_pred_cat = predict_sentence(sentence,\n",
    "                                       model,\n",
    "                                       dict_vectorizer)\n",
    "    print([y['FORM'] for y in y_test_pred_cat])\n",
    "    print([y['PPOS'] for y in y_test_pred_cat])"
   ]
  }
 ],
 "metadata": {
  "kernelspec": {
   "display_name": "Python 3 (ipykernel)",
   "language": "python",
   "name": "python3"
  },
  "language_info": {
   "codemirror_mode": {
    "name": "ipython",
    "version": 3
   },
   "file_extension": ".py",
   "mimetype": "text/x-python",
   "name": "python",
   "nbconvert_exporter": "python",
   "pygments_lexer": "ipython3",
   "version": "3.1.-1"
  }
 },
 "nbformat": 4,
 "nbformat_minor": 4
}
