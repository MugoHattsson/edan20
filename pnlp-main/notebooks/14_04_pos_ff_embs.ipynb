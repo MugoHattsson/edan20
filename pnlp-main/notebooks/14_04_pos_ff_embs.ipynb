{
 "cells": [
  {
   "attachments": {},
   "cell_type": "markdown",
   "metadata": {},
   "source": [
    "# Chapter 14: Part-of-Speech and Sequence Annotation\n",
    "## Part-of-Speech Tagging using Feedforward Networks and Embeddings\n",
    "\n",
    "A part-of-speech tagger using feed-forward networks and trained on a corpus following the Universal Dependencies format. Here we use the English Web Treebank:\n",
    "https://github.com/UniversalDependencies/UD_English-EWT/tree/master."
   ]
  },
  {
   "cell_type": "markdown",
   "metadata": {},
   "source": [
    "Programs from the book: [_Python for Natural Language Processing_](https://link.springer.com/book/9783031575488)\n",
    "\n",
    "__Author__: Pierre Nugues"
   ]
  },
  {
   "cell_type": "markdown",
   "metadata": {},
   "source": [
    "## Python Headers"
   ]
  },
  {
   "cell_type": "markdown",
   "metadata": {},
   "source": [
    "### The Modules"
   ]
  },
  {
   "cell_type": "code",
   "execution_count": 1,
   "metadata": {},
   "outputs": [],
   "source": [
    "import matplotlib.pyplot as plt\n",
    "from tqdm import tqdm\n",
    "import random\n",
    "\n",
    "import numpy as np\n",
    "import statistics\n",
    "\n",
    "import torch\n",
    "import torch.nn as nn\n",
    "from torch.utils.data import TensorDataset, DataLoader\n",
    "\n",
    "from sklearn.feature_extraction import DictVectorizer\n",
    "from sklearn.metrics import classification_report\n",
    "import ud_datasets\n",
    "from conll_dictorizer import CoNLLDictorizer"
   ]
  },
  {
   "cell_type": "markdown",
   "metadata": {},
   "source": [
    "### Some Parameters"
   ]
  },
  {
   "cell_type": "code",
   "execution_count": 2,
   "metadata": {},
   "outputs": [],
   "source": [
    "EPOCHS = 2  # 10\n",
    "MINI_CORPUS = False\n",
    "EMB_LARGE = True\n",
    "LR = 0.005\n",
    "LOWERCASE = True"
   ]
  },
  {
   "cell_type": "code",
   "execution_count": 3,
   "metadata": {},
   "outputs": [
    {
     "data": {
      "text/plain": [
       "<torch._C.Generator at 0x168ff8030>"
      ]
     },
     "execution_count": 3,
     "metadata": {},
     "output_type": "execute_result"
    }
   ],
   "source": [
    "random.seed(1234)\n",
    "torch.manual_seed(1234)"
   ]
  },
  {
   "cell_type": "markdown",
   "metadata": {},
   "source": [
    "## Preprocessing\n",
    "We will use the GloVe pretrained embeddings (_Global Vectors for Word Representation_) from https://nlp.stanford.edu/projects/glove/ by Pennington et al. (2014).\n",
    "\n",
    "Download the `glove.6B.zip` archive and extract its content. We will use either the 100d or 50d vectors. Move the corresponding files to your datasets folder."
   ]
  },
  {
   "cell_type": "code",
   "execution_count": 4,
   "metadata": {},
   "outputs": [],
   "source": [
    "PATH = '../datasets/embeddings/'"
   ]
  },
  {
   "cell_type": "markdown",
   "metadata": {},
   "source": [
    "### GloVe"
   ]
  },
  {
   "cell_type": "code",
   "execution_count": 5,
   "metadata": {},
   "outputs": [],
   "source": [
    "if EMB_LARGE:\n",
    "    embedding_file = PATH + 'glove.6B.100d.txt'\n",
    "    EMBEDDING_DIM = 100\n",
    "else:\n",
    "    embedding_file = PATH + 'glove.6B.50d.txt'\n",
    "    EMBEDDING_DIM = 50"
   ]
  },
  {
   "cell_type": "code",
   "execution_count": 6,
   "metadata": {},
   "outputs": [],
   "source": [
    "def read_embeddings(file: str) -> dict[str, torch.FloatTensor]:\n",
    "    \"\"\"\n",
    "    Return the embeddings in the from of a dictionary\n",
    "    :param file:\n",
    "    :return:\n",
    "    \"\"\"\n",
    "    embeddings = {}\n",
    "    with open(file) as glove:\n",
    "        for line in glove:\n",
    "            values = line.strip().split()\n",
    "            word = values[0]\n",
    "            vector = torch.FloatTensor(\n",
    "                list(map(float, values[1:])))\n",
    "            embeddings[word] = vector\n",
    "    return embeddings"
   ]
  },
  {
   "cell_type": "code",
   "execution_count": 7,
   "metadata": {},
   "outputs": [],
   "source": [
    "embeddings_dict = read_embeddings(embedding_file)\n",
    "embedded_words = sorted(list(embeddings_dict.keys()))"
   ]
  },
  {
   "cell_type": "markdown",
   "metadata": {},
   "source": [
    "### Loading the Corpus"
   ]
  },
  {
   "cell_type": "code",
   "execution_count": 8,
   "metadata": {},
   "outputs": [],
   "source": [
    "CORPUS = 'EWT'"
   ]
  },
  {
   "cell_type": "code",
   "execution_count": 9,
   "metadata": {},
   "outputs": [],
   "source": [
    "if CORPUS == 'EWT':\n",
    "    train_sentences, val_sentences, test_sentences, column_names = ud_datasets.load_ud_en_ewt()\n",
    "elif CORPUS == 'Talbanken':\n",
    "    train_sentences, val_sentences, test_sentences, column_names = ud_datasets.load_ud_sv_talbanken()\n",
    "elif CORPUS == 'GSD':\n",
    "    train_sentences, val_sentences, test_sentences, column_names = ud_datasets.load_ud_fr_gsd()"
   ]
  },
  {
   "cell_type": "markdown",
   "metadata": {},
   "source": [
    "## Dictorizing the corpus"
   ]
  },
  {
   "cell_type": "markdown",
   "metadata": {},
   "source": [
    "We store the corpus word in a dictionary, where the keys are the CoNLL-U columns"
   ]
  },
  {
   "cell_type": "code",
   "execution_count": 10,
   "metadata": {},
   "outputs": [],
   "source": [
    "conll_dict = CoNLLDictorizer(column_names)"
   ]
  },
  {
   "cell_type": "code",
   "execution_count": 11,
   "metadata": {},
   "outputs": [],
   "source": [
    "train_dict = conll_dict.transform(train_sentences)\n",
    "val_dict = conll_dict.transform(val_sentences)\n",
    "test_dict = conll_dict.transform(test_sentences)"
   ]
  },
  {
   "cell_type": "code",
   "execution_count": 12,
   "metadata": {},
   "outputs": [
    {
     "data": {
      "text/plain": [
       "[{'ID': '1',\n",
       "  'FORM': 'Al',\n",
       "  'LEMMA': 'Al',\n",
       "  'UPOS': 'PROPN',\n",
       "  'XPOS': 'NNP',\n",
       "  'FEATS': 'Number=Sing',\n",
       "  'HEAD': '0:root',\n",
       "  'DEPREL': 'root',\n",
       "  'DEPS': 'SpaceAfter=No'},\n",
       " {'ID': '2',\n",
       "  'FORM': '-',\n",
       "  'LEMMA': '-',\n",
       "  'UPOS': 'PUNCT',\n",
       "  'XPOS': 'HYPH',\n",
       "  'FEATS': '_',\n",
       "  'HEAD': '3:punct',\n",
       "  'DEPREL': 'punct',\n",
       "  'DEPS': 'SpaceAfter=No'},\n",
       " {'ID': '3',\n",
       "  'FORM': 'Zaman',\n",
       "  'LEMMA': 'Zaman',\n",
       "  'UPOS': 'PROPN',\n",
       "  'XPOS': 'NNP',\n",
       "  'FEATS': 'Number=Sing',\n",
       "  'HEAD': '1:flat',\n",
       "  'DEPREL': 'flat',\n",
       "  'DEPS': '_'},\n",
       " {'ID': '4',\n",
       "  'FORM': ':',\n",
       "  'LEMMA': ':',\n",
       "  'UPOS': 'PUNCT',\n",
       "  'XPOS': ':',\n",
       "  'FEATS': '_',\n",
       "  'HEAD': '7:punct',\n",
       "  'DEPREL': 'punct',\n",
       "  'DEPS': '_'},\n",
       " {'ID': '5',\n",
       "  'FORM': 'American',\n",
       "  'LEMMA': 'American',\n",
       "  'UPOS': 'ADJ',\n",
       "  'XPOS': 'JJ',\n",
       "  'FEATS': 'Degree=Pos',\n",
       "  'HEAD': '6:amod',\n",
       "  'DEPREL': 'amod',\n",
       "  'DEPS': '_'},\n",
       " {'ID': '6',\n",
       "  'FORM': 'forces',\n",
       "  'LEMMA': 'force',\n",
       "  'UPOS': 'NOUN',\n",
       "  'XPOS': 'NNS',\n",
       "  'FEATS': 'Number=Plur',\n",
       "  'HEAD': '7:nsubj',\n",
       "  'DEPREL': 'nsubj',\n",
       "  'DEPS': '_'},\n",
       " {'ID': '7',\n",
       "  'FORM': 'killed',\n",
       "  'LEMMA': 'kill',\n",
       "  'UPOS': 'VERB',\n",
       "  'XPOS': 'VBD',\n",
       "  'FEATS': 'Mood=Ind|Number=Plur|Person=3|Tense=Past|VerbForm=Fin',\n",
       "  'HEAD': '1:parataxis',\n",
       "  'DEPREL': 'parataxis',\n",
       "  'DEPS': '_'},\n",
       " {'ID': '8',\n",
       "  'FORM': 'Shaikh',\n",
       "  'LEMMA': 'Shaikh',\n",
       "  'UPOS': 'PROPN',\n",
       "  'XPOS': 'NNP',\n",
       "  'FEATS': 'Number=Sing',\n",
       "  'HEAD': '7:obj',\n",
       "  'DEPREL': 'obj',\n",
       "  'DEPS': '_'},\n",
       " {'ID': '9',\n",
       "  'FORM': 'Abdullah',\n",
       "  'LEMMA': 'Abdullah',\n",
       "  'UPOS': 'PROPN',\n",
       "  'XPOS': 'NNP',\n",
       "  'FEATS': 'Number=Sing',\n",
       "  'HEAD': '8:flat',\n",
       "  'DEPREL': 'flat',\n",
       "  'DEPS': '_'},\n",
       " {'ID': '10',\n",
       "  'FORM': 'al',\n",
       "  'LEMMA': 'al',\n",
       "  'UPOS': 'PROPN',\n",
       "  'XPOS': 'NNP',\n",
       "  'FEATS': 'Number=Sing',\n",
       "  'HEAD': '8:flat',\n",
       "  'DEPREL': 'flat',\n",
       "  'DEPS': 'SpaceAfter=No'}]"
      ]
     },
     "execution_count": 12,
     "metadata": {},
     "output_type": "execute_result"
    }
   ],
   "source": [
    "train_dict[0][:10]"
   ]
  },
  {
   "cell_type": "code",
   "execution_count": 13,
   "metadata": {},
   "outputs": [
    {
     "name": "stdout",
     "output_type": "stream",
     "text": [
      "First sentence, train: [{'ID': '1', 'FORM': 'Al', 'LEMMA': 'Al', 'UPOS': 'PROPN', 'XPOS': 'NNP', 'FEATS': 'Number=Sing', 'HEAD': '0:root', 'DEPREL': 'root', 'DEPS': 'SpaceAfter=No'}, {'ID': '2', 'FORM': '-', 'LEMMA': '-', 'UPOS': 'PUNCT', 'XPOS': 'HYPH', 'FEATS': '_', 'HEAD': '3:punct', 'DEPREL': 'punct', 'DEPS': 'SpaceAfter=No'}, {'ID': '3', 'FORM': 'Zaman', 'LEMMA': 'Zaman', 'UPOS': 'PROPN', 'XPOS': 'NNP', 'FEATS': 'Number=Sing', 'HEAD': '1:flat', 'DEPREL': 'flat', 'DEPS': '_'}, {'ID': '4', 'FORM': ':', 'LEMMA': ':', 'UPOS': 'PUNCT', 'XPOS': ':', 'FEATS': '_', 'HEAD': '7:punct', 'DEPREL': 'punct', 'DEPS': '_'}, {'ID': '5', 'FORM': 'American', 'LEMMA': 'American', 'UPOS': 'ADJ', 'XPOS': 'JJ', 'FEATS': 'Degree=Pos', 'HEAD': '6:amod', 'DEPREL': 'amod', 'DEPS': '_'}, {'ID': '6', 'FORM': 'forces', 'LEMMA': 'force', 'UPOS': 'NOUN', 'XPOS': 'NNS', 'FEATS': 'Number=Plur', 'HEAD': '7:nsubj', 'DEPREL': 'nsubj', 'DEPS': '_'}, {'ID': '7', 'FORM': 'killed', 'LEMMA': 'kill', 'UPOS': 'VERB', 'XPOS': 'VBD', 'FEATS': 'Mood=Ind|Number=Plur|Person=3|Tense=Past|VerbForm=Fin', 'HEAD': '1:parataxis', 'DEPREL': 'parataxis', 'DEPS': '_'}, {'ID': '8', 'FORM': 'Shaikh', 'LEMMA': 'Shaikh', 'UPOS': 'PROPN', 'XPOS': 'NNP', 'FEATS': 'Number=Sing', 'HEAD': '7:obj', 'DEPREL': 'obj', 'DEPS': '_'}, {'ID': '9', 'FORM': 'Abdullah', 'LEMMA': 'Abdullah', 'UPOS': 'PROPN', 'XPOS': 'NNP', 'FEATS': 'Number=Sing', 'HEAD': '8:flat', 'DEPREL': 'flat', 'DEPS': '_'}, {'ID': '10', 'FORM': 'al', 'LEMMA': 'al', 'UPOS': 'PROPN', 'XPOS': 'NNP', 'FEATS': 'Number=Sing', 'HEAD': '8:flat', 'DEPREL': 'flat', 'DEPS': 'SpaceAfter=No'}, {'ID': '11', 'FORM': '-', 'LEMMA': '-', 'UPOS': 'PUNCT', 'XPOS': 'HYPH', 'FEATS': '_', 'HEAD': '12:punct', 'DEPREL': 'punct', 'DEPS': 'SpaceAfter=No'}, {'ID': '12', 'FORM': 'Ani', 'LEMMA': 'Ani', 'UPOS': 'PROPN', 'XPOS': 'NNP', 'FEATS': 'Number=Sing', 'HEAD': '8:flat', 'DEPREL': 'flat', 'DEPS': 'SpaceAfter=No'}, {'ID': '13', 'FORM': ',', 'LEMMA': ',', 'UPOS': 'PUNCT', 'XPOS': ',', 'FEATS': '_', 'HEAD': '15:punct', 'DEPREL': 'punct', 'DEPS': '_'}, {'ID': '14', 'FORM': 'the', 'LEMMA': 'the', 'UPOS': 'DET', 'XPOS': 'DT', 'FEATS': 'Definite=Def|PronType=Art', 'HEAD': '15:det', 'DEPREL': 'det', 'DEPS': '_'}, {'ID': '15', 'FORM': 'preacher', 'LEMMA': 'preacher', 'UPOS': 'NOUN', 'XPOS': 'NN', 'FEATS': 'Number=Sing', 'HEAD': '8:appos', 'DEPREL': 'appos', 'DEPS': '_'}, {'ID': '16', 'FORM': 'at', 'LEMMA': 'at', 'UPOS': 'ADP', 'XPOS': 'IN', 'FEATS': '_', 'HEAD': '18:case', 'DEPREL': 'case', 'DEPS': '_'}, {'ID': '17', 'FORM': 'the', 'LEMMA': 'the', 'UPOS': 'DET', 'XPOS': 'DT', 'FEATS': 'Definite=Def|PronType=Art', 'HEAD': '18:det', 'DEPREL': 'det', 'DEPS': '_'}, {'ID': '18', 'FORM': 'mosque', 'LEMMA': 'mosque', 'UPOS': 'NOUN', 'XPOS': 'NN', 'FEATS': 'Number=Sing', 'HEAD': '15:nmod:at', 'DEPREL': 'nmod', 'DEPS': '_'}, {'ID': '19', 'FORM': 'in', 'LEMMA': 'in', 'UPOS': 'ADP', 'XPOS': 'IN', 'FEATS': '_', 'HEAD': '21:case', 'DEPREL': 'case', 'DEPS': '_'}, {'ID': '20', 'FORM': 'the', 'LEMMA': 'the', 'UPOS': 'DET', 'XPOS': 'DT', 'FEATS': 'Definite=Def|PronType=Art', 'HEAD': '21:det', 'DEPREL': 'det', 'DEPS': '_'}, {'ID': '21', 'FORM': 'town', 'LEMMA': 'town', 'UPOS': 'NOUN', 'XPOS': 'NN', 'FEATS': 'Number=Sing', 'HEAD': '18:nmod:in', 'DEPREL': 'nmod', 'DEPS': '_'}, {'ID': '22', 'FORM': 'of', 'LEMMA': 'of', 'UPOS': 'ADP', 'XPOS': 'IN', 'FEATS': '_', 'HEAD': '23:case', 'DEPREL': 'case', 'DEPS': '_'}, {'ID': '23', 'FORM': 'Qaim', 'LEMMA': 'Qaim', 'UPOS': 'PROPN', 'XPOS': 'NNP', 'FEATS': 'Number=Sing', 'HEAD': '21:nmod:of', 'DEPREL': 'nmod', 'DEPS': 'SpaceAfter=No'}, {'ID': '24', 'FORM': ',', 'LEMMA': ',', 'UPOS': 'PUNCT', 'XPOS': ',', 'FEATS': '_', 'HEAD': '28:punct', 'DEPREL': 'punct', 'DEPS': '_'}, {'ID': '25', 'FORM': 'near', 'LEMMA': 'near', 'UPOS': 'ADP', 'XPOS': 'IN', 'FEATS': '_', 'HEAD': '28:case', 'DEPREL': 'case', 'DEPS': '_'}, {'ID': '26', 'FORM': 'the', 'LEMMA': 'the', 'UPOS': 'DET', 'XPOS': 'DT', 'FEATS': 'Definite=Def|PronType=Art', 'HEAD': '28:det', 'DEPREL': 'det', 'DEPS': '_'}, {'ID': '27', 'FORM': 'Syrian', 'LEMMA': 'Syrian', 'UPOS': 'ADJ', 'XPOS': 'JJ', 'FEATS': 'Degree=Pos', 'HEAD': '28:amod', 'DEPREL': 'amod', 'DEPS': '_'}, {'ID': '28', 'FORM': 'border', 'LEMMA': 'border', 'UPOS': 'NOUN', 'XPOS': 'NN', 'FEATS': 'Number=Sing', 'HEAD': '21:nmod:near', 'DEPREL': 'nmod', 'DEPS': 'SpaceAfter=No'}, {'ID': '29', 'FORM': '.', 'LEMMA': '.', 'UPOS': 'PUNCT', 'XPOS': '.', 'FEATS': '_', 'HEAD': '1:punct', 'DEPREL': 'punct', 'DEPS': '_'}]\n"
     ]
    }
   ],
   "source": [
    "if MINI_CORPUS:\n",
    "    train_dict = train_dict[:len(train_dict) // 5]\n",
    "print('First sentence, train:', train_dict[0])"
   ]
  },
  {
   "cell_type": "markdown",
   "metadata": {
    "tags": []
   },
   "source": [
    "### Extracting the Context and Dictorizing it\n",
    "We extract windows of five words surrounding the word"
   ]
  },
  {
   "cell_type": "code",
   "execution_count": 14,
   "metadata": {},
   "outputs": [],
   "source": [
    "def extract_cols(sent_dict, x='FORM', y='UPOS'):\n",
    "    (input, target) = ([], [])\n",
    "    for word in sent_dict:\n",
    "        input += [word[x]]\n",
    "        target += [word.get(y, None)]\n",
    "    return input, target"
   ]
  },
  {
   "cell_type": "code",
   "execution_count": 15,
   "metadata": {},
   "outputs": [],
   "source": [
    "train_cols = [extract_cols(sent_dict)\n",
    "              for sent_dict in train_dict]\n",
    "val_cols = [extract_cols(sent_dict)\n",
    "            for sent_dict in val_dict]\n",
    "test_cols = [extract_cols(sent_dict)\n",
    "             for sent_dict in test_dict]"
   ]
  },
  {
   "cell_type": "code",
   "execution_count": 16,
   "metadata": {},
   "outputs": [],
   "source": [
    "train_sent_words, train_sent_pos = zip(*train_cols)\n",
    "val_sent_words, val_sent_pos = zip(*val_cols)\n",
    "test_sent_words, test_sent_pos = zip(*test_cols)"
   ]
  },
  {
   "cell_type": "markdown",
   "metadata": {},
   "source": [
    "We set the words in lowercase"
   ]
  },
  {
   "cell_type": "code",
   "execution_count": 17,
   "metadata": {},
   "outputs": [],
   "source": [
    "if LOWERCASE:\n",
    "    train_sent_words = [list(map(str.lower, sent_words))\n",
    "                        for sent_words in train_sent_words]\n",
    "    val_sent_words = [list(map(str.lower, sent_words))\n",
    "                      for sent_words in val_sent_words]\n",
    "    test_sent_words = [list(map(str.lower, sent_words))\n",
    "                       for sent_words in test_sent_words]"
   ]
  },
  {
   "cell_type": "code",
   "execution_count": 18,
   "metadata": {},
   "outputs": [
    {
     "data": {
      "text/plain": [
       "['or', 'you', 'can', 'visit', 'temples', 'or', 'shrines', 'in', 'okinawa', '.']"
      ]
     },
     "execution_count": 18,
     "metadata": {},
     "output_type": "execute_result"
    }
   ],
   "source": [
    "train_sent_words[8131]"
   ]
  },
  {
   "cell_type": "code",
   "execution_count": 19,
   "metadata": {},
   "outputs": [],
   "source": [
    "def create_X_cat(sentence: list[str],\n",
    "                 w_size: int = 2) -> list[dict[int: str]]:\n",
    "    start_pads = ['__BOS__'] * w_size\n",
    "    end_pads = ['__EOS__'] * w_size\n",
    "    sentence = start_pads + sentence + end_pads\n",
    "    # We extract the features\n",
    "    X = []\n",
    "    for i in range(len(sentence) - 2 * w_size):\n",
    "        x = []\n",
    "        for j in range(2 * w_size + 1):\n",
    "            x += [sentence[i + j]]\n",
    "        X += [x]\n",
    "    X = [dict(enumerate(x)) for x in X]\n",
    "    return X"
   ]
  },
  {
   "cell_type": "code",
   "execution_count": 20,
   "metadata": {},
   "outputs": [
    {
     "data": {
      "text/plain": [
       "[{0: '__BOS__', 1: '__BOS__', 2: 'or', 3: 'you', 4: 'can'},\n",
       " {0: '__BOS__', 1: 'or', 2: 'you', 3: 'can', 4: 'visit'},\n",
       " {0: 'or', 1: 'you', 2: 'can', 3: 'visit', 4: 'temples'},\n",
       " {0: 'you', 1: 'can', 2: 'visit', 3: 'temples', 4: 'or'},\n",
       " {0: 'can', 1: 'visit', 2: 'temples', 3: 'or', 4: 'shrines'},\n",
       " {0: 'visit', 1: 'temples', 2: 'or', 3: 'shrines', 4: 'in'},\n",
       " {0: 'temples', 1: 'or', 2: 'shrines', 3: 'in', 4: 'okinawa'},\n",
       " {0: 'or', 1: 'shrines', 2: 'in', 3: 'okinawa', 4: '.'},\n",
       " {0: 'shrines', 1: 'in', 2: 'okinawa', 3: '.', 4: '__EOS__'},\n",
       " {0: 'in', 1: 'okinawa', 2: '.', 3: '__EOS__', 4: '__EOS__'}]"
      ]
     },
     "execution_count": 20,
     "metadata": {},
     "output_type": "execute_result"
    }
   ],
   "source": [
    "create_X_cat(train_sent_words[8131])"
   ]
  },
  {
   "cell_type": "code",
   "execution_count": 21,
   "metadata": {},
   "outputs": [],
   "source": [
    "X_train_cat = [row for sent in train_sent_words\n",
    "               for row in create_X_cat(sent)]\n",
    "X_val_cat = [row for sent in val_sent_words\n",
    "             for row in create_X_cat(sent)]\n",
    "X_test_cat = [row for sent in test_sent_words\n",
    "              for row in create_X_cat(sent)]"
   ]
  },
  {
   "cell_type": "code",
   "execution_count": 22,
   "metadata": {},
   "outputs": [],
   "source": [
    "y_train_cat = [pos for sent in train_sent_pos\n",
    "               for pos in sent]\n",
    "y_val_cat = [pos for sent in val_sent_pos\n",
    "             for pos in sent]\n",
    "y_test_cat = [pos for sent in test_sent_pos\n",
    "              for pos in sent]"
   ]
  },
  {
   "cell_type": "markdown",
   "metadata": {},
   "source": [
    "### Running the Feature Extraction"
   ]
  },
  {
   "cell_type": "markdown",
   "metadata": {},
   "source": [
    "We extract all the words"
   ]
  },
  {
   "cell_type": "code",
   "execution_count": 23,
   "metadata": {},
   "outputs": [
    {
     "name": "stdout",
     "output_type": "stream",
     "text": [
      "# unique words seen in training corpus: 17115\n"
     ]
    }
   ],
   "source": [
    "corpus_words = [value.lower() for x in X_train_cat\n",
    "                for value in x.values()]\n",
    "corpus_words = sorted(set(corpus_words))\n",
    "\n",
    "print('# unique words seen in training corpus:', len(corpus_words))"
   ]
  },
  {
   "cell_type": "code",
   "execution_count": 24,
   "metadata": {},
   "outputs": [
    {
     "name": "stdout",
     "output_type": "stream",
     "text": [
      "Words in GloVe: 400000\n"
     ]
    }
   ],
   "source": [
    "embeddings_words = embeddings_dict.keys()\n",
    "print('Words in GloVe:',  len(embeddings_dict.keys()))\n",
    "vocabulary = set(corpus_words + list(embeddings_words))"
   ]
  },
  {
   "cell_type": "code",
   "execution_count": 25,
   "metadata": {},
   "outputs": [
    {
     "name": "stdout",
     "output_type": "stream",
     "text": [
      "# unique words in the vocabulary: embeddings and corpus: 402012\n"
     ]
    }
   ],
   "source": [
    "print('# unique words in the vocabulary: embeddings and corpus:',\n",
    "      len(vocabulary) + 1)"
   ]
  },
  {
   "cell_type": "code",
   "execution_count": 26,
   "metadata": {},
   "outputs": [],
   "source": [
    "idx2word = dict(enumerate(sorted(vocabulary), start=1))\n",
    "word2idx = {v: k for k, v in idx2word.items()}"
   ]
  },
  {
   "cell_type": "markdown",
   "metadata": {},
   "source": [
    "We set the words in lowercase as GloVe is lowercase and we replace them with their index."
   ]
  },
  {
   "cell_type": "code",
   "execution_count": 27,
   "metadata": {},
   "outputs": [],
   "source": [
    "for x_train_cat in X_train_cat:\n",
    "    for word in x_train_cat:\n",
    "        x_train_cat[word] = word2idx[\n",
    "            x_train_cat[word].lower()]\n",
    "\n",
    "for x_val_cat in X_val_cat:\n",
    "    for word in x_val_cat:\n",
    "        x_val_cat[word] = word2idx.get(\n",
    "            x_val_cat[word].lower(), 0)\n",
    "\n",
    "for x_test_cat in X_test_cat:\n",
    "    for word in x_test_cat:\n",
    "        x_test_cat[word] = word2idx.get(\n",
    "            x_test_cat[word].lower(), 0)"
   ]
  },
  {
   "cell_type": "markdown",
   "metadata": {},
   "source": [
    "### Vectorizing the ${X}$ Matrix"
   ]
  },
  {
   "cell_type": "code",
   "execution_count": 30,
   "metadata": {},
   "outputs": [],
   "source": [
    "dict_vectorizer = DictVectorizer(dtype=np.int64, sparse=False)\n",
    "X_train = dict_vectorizer.fit_transform(X_train_cat)\n",
    "X_val = dict_vectorizer.transform(X_val_cat)\n",
    "X_test = dict_vectorizer.transform(X_test_cat)"
   ]
  },
  {
   "cell_type": "code",
   "execution_count": 31,
   "metadata": {},
   "outputs": [
    {
     "data": {
      "text/plain": [
       "(207229, 5)"
      ]
     },
     "execution_count": 31,
     "metadata": {},
     "output_type": "execute_result"
    }
   ],
   "source": [
    "X_train.shape"
   ]
  },
  {
   "cell_type": "code",
   "execution_count": 32,
   "metadata": {},
   "outputs": [
    {
     "data": {
      "text/plain": [
       "array([ 43517,  43517,  50471,    654, 397777])"
      ]
     },
     "execution_count": 32,
     "metadata": {},
     "output_type": "execute_result"
    }
   ],
   "source": [
    "X_train[0]"
   ]
  },
  {
   "cell_type": "markdown",
   "metadata": {
    "tags": []
   },
   "source": [
    "### Vectorizing $\\mathbf{y}$"
   ]
  },
  {
   "cell_type": "markdown",
   "metadata": {},
   "source": [
    "We create a torch matrix of size $(M, N)$, where $M$ will be the size of the vocabulary: The unique words in the training set and the words in GloVe, and $N$, the dimension of the embeddings.\n",
    "The padding symbol and the unknown word symbol will be part of the vocabulary at respectively index 0 and 1. \n",
    "\n",
    "We initialize the matrix with random values with the `torch.rand()`"
   ]
  },
  {
   "cell_type": "code",
   "execution_count": 33,
   "metadata": {},
   "outputs": [],
   "source": [
    "# embedding_matrix = nn.Embedding(len(vocabulary) + 2, EMBEDDING_DIM).weight.requires_grad_(False)"
   ]
  },
  {
   "cell_type": "code",
   "execution_count": 34,
   "metadata": {},
   "outputs": [],
   "source": [
    "# We add two dimensions for the  unknown words at index 0\n",
    "# embedding_table = torch.rand(\n",
    "#    (len(vocabulary) + 1, EMBEDDING_DIM))/10 - 0.05  # range: -0.05, 0.05,\n",
    "# embedding_table = torch.rand((len(vocabulary) + 1, EMBEDDING_DIM)) - 0.5\n",
    "# embedding_table = torch.zeros((len(vocabulary) + 1, EMBEDDING_DIM))\n",
    "embedding_table = torch.randn(\n",
    "    (len(vocabulary) + 1, EMBEDDING_DIM))/10"
   ]
  },
  {
   "cell_type": "markdown",
   "metadata": {},
   "source": [
    "The size of the matrix is: (411326, 100) or (411326, 50)"
   ]
  },
  {
   "cell_type": "code",
   "execution_count": 35,
   "metadata": {},
   "outputs": [
    {
     "data": {
      "text/plain": [
       "torch.Size([402012, 100])"
      ]
     },
     "execution_count": 35,
     "metadata": {},
     "output_type": "execute_result"
    }
   ],
   "source": [
    "embedding_table.size()"
   ]
  },
  {
   "cell_type": "markdown",
   "metadata": {},
   "source": [
    "We fill the matrix with the GloVe embeddings when available. This means: We replace the random vector with an embedding when available. We will use the indices from the previous section. We call `out_of_embeddings` the list of words in CoNLL, but not in the embedding list."
   ]
  },
  {
   "cell_type": "code",
   "execution_count": 36,
   "metadata": {},
   "outputs": [],
   "source": [
    "out_of_embeddings = []\n",
    "for word in vocabulary:\n",
    "    if word in embeddings_dict:\n",
    "        # If the words are in the embeddings, we fill them with a value\n",
    "        embedding_table[word2idx[word]] = embeddings_dict[word]\n",
    "    else:\n",
    "        # Otherwise, it keeps a random value in the matrix\n",
    "        # We store the out of vocabulary words\n",
    "        out_of_embeddings += [word]"
   ]
  },
  {
   "cell_type": "code",
   "execution_count": 37,
   "metadata": {},
   "outputs": [
    {
     "data": {
      "text/plain": [
       "2011"
      ]
     },
     "execution_count": 37,
     "metadata": {},
     "output_type": "execute_result"
    }
   ],
   "source": [
    "len(out_of_embeddings)"
   ]
  },
  {
   "cell_type": "code",
   "execution_count": 38,
   "metadata": {},
   "outputs": [
    {
     "data": {
      "text/plain": [
       "['gstrathmann@mediaone.net',\n",
       " \"ain't\",\n",
       " 'president’s',\n",
       " \"global's\",\n",
       " 'brianp@aiglincoln.com',\n",
       " 'omfg',\n",
       " 'palces',\n",
       " '11/22/2000',\n",
       " 'ymsgr:sendim?mayursha&__hi+mayur...',\n",
       " 'kalkat']"
      ]
     },
     "execution_count": 38,
     "metadata": {},
     "output_type": "execute_result"
    }
   ],
   "source": [
    "out_of_embeddings[-10:]"
   ]
  },
  {
   "cell_type": "markdown",
   "metadata": {},
   "source": [
    "Embeddings of the padding symbol, idx 0, random numbers"
   ]
  },
  {
   "cell_type": "code",
   "execution_count": 39,
   "metadata": {},
   "outputs": [
    {
     "data": {
      "text/plain": [
       "tensor([-0.0112, -0.0497,  0.0163, -0.0882,  0.0054,  0.0668, -0.0060, -0.0467,\n",
       "        -0.0215,  0.0884])"
      ]
     },
     "execution_count": 39,
     "metadata": {},
     "output_type": "execute_result"
    }
   ],
   "source": [
    "embedding_table[0][:10]"
   ]
  },
  {
   "cell_type": "markdown",
   "metadata": {},
   "source": [
    "Embeddings of the word _table_, the GloVe values"
   ]
  },
  {
   "cell_type": "code",
   "execution_count": 40,
   "metadata": {},
   "outputs": [
    {
     "data": {
      "text/plain": [
       "tensor([-0.6145,  0.8969,  0.5677,  0.3910, -0.2244,  0.4904,  0.1087,  0.2741,\n",
       "        -0.2383, -0.5215])"
      ]
     },
     "execution_count": 40,
     "metadata": {},
     "output_type": "execute_result"
    }
   ],
   "source": [
    "embedding_table[word2idx['table']][:10]"
   ]
  },
  {
   "cell_type": "markdown",
   "metadata": {},
   "source": [
    "Embeddings of _äänekoski_, a word in IMDB, but not in GloVe, random numbers"
   ]
  },
  {
   "cell_type": "code",
   "execution_count": 41,
   "metadata": {},
   "outputs": [
    {
     "data": {
      "text/plain": [
       "tensor([ 0.0505, -0.1034,  0.1383, -0.0746, -0.0614, -0.0361,  0.1039, -0.1105,\n",
       "         0.0637,  0.1705])"
      ]
     },
     "execution_count": 41,
     "metadata": {},
     "output_type": "execute_result"
    }
   ],
   "source": [
    "embedding_table[word2idx['saucey']][:10]"
   ]
  },
  {
   "cell_type": "markdown",
   "metadata": {},
   "source": [
    "The POS and the number of different POS"
   ]
  },
  {
   "cell_type": "code",
   "execution_count": 42,
   "metadata": {},
   "outputs": [
    {
     "data": {
      "text/plain": [
       "['ADJ',\n",
       " 'ADP',\n",
       " 'ADV',\n",
       " 'AUX',\n",
       " 'CCONJ',\n",
       " 'DET',\n",
       " 'INTJ',\n",
       " 'NOUN',\n",
       " 'NUM',\n",
       " 'PART',\n",
       " 'PRON',\n",
       " 'PROPN',\n",
       " 'PUNCT',\n",
       " 'SCONJ',\n",
       " 'SYM',\n",
       " 'VERB',\n",
       " 'X',\n",
       " '_']"
      ]
     },
     "execution_count": 42,
     "metadata": {},
     "output_type": "execute_result"
    }
   ],
   "source": [
    "pos_list = sorted(set(y_train_cat))\n",
    "NB_CLASSES = len(pos_list)\n",
    "pos_list"
   ]
  },
  {
   "cell_type": "markdown",
   "metadata": {},
   "source": [
    "We build a part-of-speech index. We keep 0 for unknown symbols in the test set"
   ]
  },
  {
   "cell_type": "code",
   "execution_count": 43,
   "metadata": {},
   "outputs": [
    {
     "name": "stdout",
     "output_type": "stream",
     "text": [
      "{0: 'ADJ', 1: 'ADP', 2: 'ADV', 3: 'AUX', 4: 'CCONJ', 5: 'DET', 6: 'INTJ', 7: 'NOUN', 8: 'NUM', 9: 'PART', 10: 'PRON', 11: 'PROPN', 12: 'PUNCT', 13: 'SCONJ', 14: 'SYM', 15: 'VERB', 16: 'X', 17: '_'}\n"
     ]
    },
    {
     "data": {
      "text/plain": [
       "{'ADJ': 0,\n",
       " 'ADP': 1,\n",
       " 'ADV': 2,\n",
       " 'AUX': 3,\n",
       " 'CCONJ': 4,\n",
       " 'DET': 5,\n",
       " 'INTJ': 6,\n",
       " 'NOUN': 7,\n",
       " 'NUM': 8,\n",
       " 'PART': 9,\n",
       " 'PRON': 10,\n",
       " 'PROPN': 11,\n",
       " 'PUNCT': 12,\n",
       " 'SCONJ': 13,\n",
       " 'SYM': 14,\n",
       " 'VERB': 15,\n",
       " 'X': 16,\n",
       " '_': 17}"
      ]
     },
     "execution_count": 43,
     "metadata": {},
     "output_type": "execute_result"
    }
   ],
   "source": [
    "idx2pos = dict(enumerate(pos_list))\n",
    "pos2idx = {v: k for k, v in idx2pos.items()}\n",
    "print(idx2pos)\n",
    "pos2idx"
   ]
  },
  {
   "cell_type": "markdown",
   "metadata": {},
   "source": [
    "We encode $\\mathbf{y}$. We use one symbol for unknown parts of speech in the test set"
   ]
  },
  {
   "cell_type": "code",
   "execution_count": 44,
   "metadata": {},
   "outputs": [],
   "source": [
    "y_train = torch.LongTensor([pos2idx[i] for i in y_train_cat])\n",
    "y_val = torch.LongTensor([pos2idx[i] for i in y_val_cat])\n",
    "y_test = torch.LongTensor([pos2idx[i] for i in y_test_cat])"
   ]
  },
  {
   "cell_type": "code",
   "execution_count": 45,
   "metadata": {},
   "outputs": [
    {
     "data": {
      "text/plain": [
       "['PROPN',\n",
       " 'PUNCT',\n",
       " 'PROPN',\n",
       " 'PUNCT',\n",
       " 'ADJ',\n",
       " 'NOUN',\n",
       " 'VERB',\n",
       " 'PROPN',\n",
       " 'PROPN',\n",
       " 'PROPN']"
      ]
     },
     "execution_count": 45,
     "metadata": {},
     "output_type": "execute_result"
    }
   ],
   "source": [
    "y_train_cat[:10]"
   ]
  },
  {
   "cell_type": "code",
   "execution_count": 46,
   "metadata": {},
   "outputs": [
    {
     "data": {
      "text/plain": [
       "tensor([11, 12, 11, 12,  0,  7, 15, 11, 11, 11])"
      ]
     },
     "execution_count": 46,
     "metadata": {},
     "output_type": "execute_result"
    }
   ],
   "source": [
    "y_train[:10]"
   ]
  },
  {
   "cell_type": "markdown",
   "metadata": {
    "tags": []
   },
   "source": [
    "## The Tagger\n",
    "Our models"
   ]
  },
  {
   "cell_type": "code",
   "execution_count": 47,
   "metadata": {},
   "outputs": [],
   "source": [
    "X_train = torch.from_numpy(X_train)\n",
    "X_val = torch.from_numpy(X_val)\n",
    "X_test = torch.from_numpy(X_test)"
   ]
  },
  {
   "cell_type": "code",
   "execution_count": 48,
   "metadata": {},
   "outputs": [
    {
     "data": {
      "text/plain": [
       "5"
      ]
     },
     "execution_count": 48,
     "metadata": {},
     "output_type": "execute_result"
    }
   ],
   "source": [
    "X_train.size(dim=1)"
   ]
  },
  {
   "cell_type": "code",
   "execution_count": 49,
   "metadata": {},
   "outputs": [],
   "source": [
    "model = nn.Sequential(\n",
    "    nn.Embedding.from_pretrained(\n",
    "        embedding_table, freeze=False),\n",
    "    nn.Flatten(),\n",
    "    nn.Linear(5 * embedding_table.size(dim=1),\n",
    "              len(pos2idx))\n",
    ")"
   ]
  },
  {
   "cell_type": "code",
   "execution_count": 50,
   "metadata": {},
   "outputs": [],
   "source": [
    "loss_fn = nn.CrossEntropyLoss()    # cross entropy loss\n",
    "optimizer = torch.optim.NAdam(model.parameters(), lr=LR)"
   ]
  },
  {
   "cell_type": "code",
   "execution_count": 51,
   "metadata": {},
   "outputs": [],
   "source": [
    "train_dataset = TensorDataset(X_train, y_train)\n",
    "train_dataloader = DataLoader(\n",
    "    train_dataset, batch_size=512, shuffle=True)\n",
    "\n",
    "val_dataset = TensorDataset(X_val, y_val)\n",
    "val_dataloader = DataLoader(\n",
    "    val_dataset, batch_size=2048, shuffle=False)\n",
    "\n",
    "test_dataset = TensorDataset(X_test, y_test)\n",
    "test_dataloader = DataLoader(\n",
    "    test_dataset, batch_size=2048, shuffle=False)"
   ]
  },
  {
   "cell_type": "code",
   "execution_count": 52,
   "metadata": {},
   "outputs": [],
   "source": [
    "def evaluate(model,\n",
    "             loss_fn,\n",
    "             dataloader) -> tuple[float, float]:\n",
    "    model.eval()\n",
    "    with torch.no_grad():\n",
    "        loss = 0\n",
    "        acc = 0\n",
    "        batch_cnt = 0\n",
    "        for X_batch, y_batch in dataloader:\n",
    "            batch_cnt += 1\n",
    "            y_batch_pred = model(X_batch)\n",
    "            loss += loss_fn(y_batch_pred, y_batch).item()\n",
    "            acc += (sum(torch.argmax(y_batch_pred, dim=-1)\n",
    "                    == y_batch)/y_batch.size(dim=0)).item()\n",
    "        return loss/batch_cnt, acc/batch_cnt"
   ]
  },
  {
   "cell_type": "code",
   "execution_count": 53,
   "metadata": {},
   "outputs": [],
   "source": [
    "history = {}\n",
    "history['accuracy'] = []\n",
    "history['loss'] = []\n",
    "history['val_accuracy'] = []\n",
    "history['val_loss'] = []"
   ]
  },
  {
   "cell_type": "code",
   "execution_count": 54,
   "metadata": {},
   "outputs": [
    {
     "name": "stderr",
     "output_type": "stream",
     "text": [
      "100%|██████████| 405/405 [00:28<00:00, 14.41it/s]\n",
      "100%|██████████| 405/405 [00:28<00:00, 14.06it/s]\n"
     ]
    }
   ],
   "source": [
    "for epoch in range(EPOCHS):\n",
    "    train_loss = 0\n",
    "    train_acc = 0\n",
    "    batch_cnt = 0\n",
    "    model.train()\n",
    "    for X_batch, y_batch in tqdm(train_dataloader):\n",
    "        batch_cnt += 1\n",
    "        y_batch_pred = model(X_batch)\n",
    "        loss = loss_fn(y_batch_pred, y_batch)\n",
    "        optimizer.zero_grad()\n",
    "        loss.backward()\n",
    "        optimizer.step()\n",
    "        train_acc += (sum(\n",
    "            torch.argmax(y_batch_pred, dim=-1)\n",
    "            == y_batch)/y_batch.size(dim=0)).item()\n",
    "        train_loss += loss.item()\n",
    "    model.eval()\n",
    "    with torch.no_grad():\n",
    "        history['accuracy'] += [train_acc/batch_cnt]\n",
    "        history['loss'] += [train_loss/batch_cnt]\n",
    "        val_loss, val_acc = evaluate(model, loss_fn, val_dataloader)\n",
    "        history['val_loss'] += [val_loss]\n",
    "        history['val_accuracy'] += [val_acc]"
   ]
  },
  {
   "cell_type": "code",
   "execution_count": 55,
   "metadata": {},
   "outputs": [
    {
     "data": {
      "text/plain": [
       "[0.9308907068692721, 0.9354168589298542]"
      ]
     },
     "execution_count": 55,
     "metadata": {},
     "output_type": "execute_result"
    }
   ],
   "source": [
    "history['val_accuracy']"
   ]
  },
  {
   "cell_type": "code",
   "execution_count": 56,
   "metadata": {},
   "outputs": [
    {
     "data": {
      "image/png": "[encoded data removed]",
      "text/plain": [
       "<Figure size 640x480 with 1 Axes>"
      ]
     },
     "metadata": {},
     "output_type": "display_data"
    },
    {
     "data": {
      "image/png": "[encoded data removed]",
      "text/plain": [
       "<Figure size 640x480 with 1 Axes>"
      ]
     },
     "metadata": {},
     "output_type": "display_data"
    }
   ],
   "source": [
    "acc = history['accuracy']\n",
    "loss = history['loss']\n",
    "val_acc = history['val_accuracy']\n",
    "val_loss = history['val_loss']\n",
    "\n",
    "epochs = range(1, len(acc) + 1)\n",
    "plt.plot(epochs, acc, 'bo', label='Training accuracy')\n",
    "plt.plot(epochs, val_acc, 'b', label='Validation accuracy')\n",
    "plt.title('Training and validation accuracies')\n",
    "plt.legend()\n",
    "\n",
    "plt.figure()\n",
    "plt.plot(epochs, loss, 'bo', label='Training loss')\n",
    "plt.plot(epochs, val_loss, 'b', label='Validation loss')\n",
    "plt.title('Training and validation losses')\n",
    "plt.legend()\n",
    "\n",
    "plt.show()"
   ]
  },
  {
   "cell_type": "markdown",
   "metadata": {
    "tags": []
   },
   "source": [
    "### Predicting a Value"
   ]
  },
  {
   "cell_type": "code",
   "execution_count": 57,
   "metadata": {},
   "outputs": [
    {
     "data": {
      "text/plain": [
       "tensor([[ -2.0572,  -4.1297,   0.3404,  ...,   0.1244,  -3.3643,  -0.6337],\n",
       "        [ -3.8549,   1.5344,  -1.2403,  ...,  -0.5274,   0.9158,  -4.6087],\n",
       "        [ -1.4975,  -2.9834,  -0.0968,  ...,   4.7082,   1.0959,  -1.9606],\n",
       "        ...,\n",
       "        [ -3.2674,   8.2534,   1.1015,  ...,  -2.9229,  -1.5195,  -7.8813],\n",
       "        [  0.3650,  -2.6970,  -0.4175,  ...,   9.4591,  -2.3103,  -7.8934],\n",
       "        [ -1.7998,  -0.5051,  -0.0736,  ...,  -6.7083,  -0.1545, -10.1365]],\n",
       "       grad_fn=<AddmmBackward0>)"
      ]
     },
     "execution_count": 57,
     "metadata": {},
     "output_type": "execute_result"
    }
   ],
   "source": [
    "Y_test_pred = model(X_test)\n",
    "Y_test_pred"
   ]
  },
  {
   "cell_type": "code",
   "execution_count": 58,
   "metadata": {},
   "outputs": [
    {
     "data": {
      "text/plain": [
       "tensor([10, 13, 11,  ...,  9, 15, 12])"
      ]
     },
     "execution_count": 58,
     "metadata": {},
     "output_type": "execute_result"
    }
   ],
   "source": [
    "y_test_pred = torch.argmax(model(X_test), dim=-1)\n",
    "y_test_pred"
   ]
  },
  {
   "cell_type": "code",
   "execution_count": 59,
   "metadata": {},
   "outputs": [
    {
     "data": {
      "text/plain": [
       "['PRON',\n",
       " 'SCONJ',\n",
       " 'PROPN',\n",
       " 'VERB',\n",
       " 'ADP',\n",
       " 'NOUN',\n",
       " 'PUNCT',\n",
       " 'PRON',\n",
       " 'SCONJ',\n",
       " 'PROPN',\n",
       " 'VERB',\n",
       " 'ADP',\n",
       " 'PRON',\n",
       " 'NOUN',\n",
       " 'PUNCT',\n",
       " 'NOUN',\n",
       " 'PUNCT',\n",
       " 'CCONJ',\n",
       " 'ADV',\n",
       " 'NOUN',\n",
       " 'PUNCT',\n",
       " 'VERB',\n",
       " 'ADP',\n",
       " 'DET',\n",
       " 'ADJ',\n",
       " 'PUNCT',\n",
       " 'ADJ',\n",
       " 'NOUN',\n",
       " 'NOUN',\n",
       " 'PUNCT',\n",
       " 'PUNCT',\n",
       " 'ADP',\n",
       " 'PROPN',\n",
       " 'VERB',\n",
       " 'ADP',\n",
       " 'PROPN',\n",
       " 'PROPN',\n",
       " 'PROPN',\n",
       " 'PUNCT',\n",
       " 'PUNCT',\n",
       " 'CCONJ',\n",
       " 'PUNCT',\n",
       " 'ADP',\n",
       " 'DET',\n",
       " 'NOUN',\n",
       " 'PUNCT',\n",
       " 'AUX',\n",
       " 'PRON',\n",
       " 'ADJ',\n",
       " 'ADV',\n",
       " 'DET',\n",
       " 'ADJ',\n",
       " 'ADJ',\n",
       " 'ADP',\n",
       " 'DET',\n",
       " 'NOUN',\n",
       " 'ADV',\n",
       " 'PRON',\n",
       " 'AUX',\n",
       " 'DET',\n",
       " 'ADJ',\n",
       " 'NOUN',\n",
       " 'PUNCT',\n",
       " 'PUNCT',\n",
       " 'DET',\n",
       " 'NOUN',\n",
       " 'NOUN',\n",
       " 'VERB',\n",
       " 'SCONJ',\n",
       " '_',\n",
       " 'PROPN',\n",
       " 'PART',\n",
       " 'VERB',\n",
       " 'ADP',\n",
       " 'NOUN',\n",
       " 'AUX',\n",
       " 'ADV',\n",
       " 'PUNCT',\n",
       " 'PRON',\n",
       " '_',\n",
       " 'PRON',\n",
       " 'AUX',\n",
       " 'DET',\n",
       " 'VERB',\n",
       " 'ADV',\n",
       " 'PUNCT',\n",
       " 'CCONJ',\n",
       " '_',\n",
       " 'PRON',\n",
       " 'AUX',\n",
       " 'ADV',\n",
       " 'ADV',\n",
       " 'PUNCT',\n",
       " 'VERB',\n",
       " 'ADP',\n",
       " 'DET',\n",
       " 'NOUN',\n",
       " 'PUNCT',\n",
       " 'PROPN',\n",
       " 'AUX',\n",
       " 'DET',\n",
       " 'ADJ',\n",
       " 'VERB',\n",
       " 'NOUN',\n",
       " 'PUNCT',\n",
       " 'AUX',\n",
       " 'PRON',\n",
       " 'VERB',\n",
       " 'PRON',\n",
       " 'ADP',\n",
       " 'PRON',\n",
       " 'ADJ',\n",
       " 'PUNCT',\n",
       " 'PRON',\n",
       " 'VERB',\n",
       " 'PROPN',\n",
       " 'PUNCT',\n",
       " 'ADP',\n",
       " 'NOUN',\n",
       " 'PUNCT',\n",
       " 'AUX',\n",
       " 'PRON',\n",
       " 'DET',\n",
       " 'NOUN',\n",
       " 'NOUN',\n",
       " 'PUNCT',\n",
       " '_',\n",
       " 'PRON',\n",
       " 'AUX',\n",
       " 'VERB',\n",
       " 'ADV',\n",
       " 'ADP',\n",
       " 'DET',\n",
       " 'NOUN',\n",
       " 'PUNCT',\n",
       " 'PRON',\n",
       " 'VERB',\n",
       " 'DET',\n",
       " 'ADV',\n",
       " 'ADJ',\n",
       " 'PRON',\n",
       " 'ADV',\n",
       " 'VERB',\n",
       " 'PRON',\n",
       " 'NOUN',\n",
       " 'AUX',\n",
       " 'PART',\n",
       " 'VERB',\n",
       " 'ADP',\n",
       " 'PRON',\n",
       " 'ADV',\n",
       " 'PUNCT',\n",
       " 'CCONJ',\n",
       " 'PRON',\n",
       " 'VERB',\n",
       " 'PRON',\n",
       " 'AUX',\n",
       " 'VERB',\n",
       " 'PRON',\n",
       " 'ADP',\n",
       " 'ADV',\n",
       " 'VERB',\n",
       " 'PUNCT',\n",
       " 'PROPN',\n",
       " 'PROPN',\n",
       " 'ADP',\n",
       " 'PROPN',\n",
       " 'AUX',\n",
       " 'VERB',\n",
       " 'ADP',\n",
       " 'DET',\n",
       " 'ADJ',\n",
       " 'NOUN',\n",
       " 'VERB',\n",
       " 'ADP',\n",
       " 'PRON',\n",
       " 'AUX',\n",
       " 'ADV',\n",
       " 'VERB',\n",
       " 'CCONJ',\n",
       " 'VERB',\n",
       " 'ADP',\n",
       " 'ADP',\n",
       " 'PROPN',\n",
       " 'PUNCT',\n",
       " 'VERB',\n",
       " 'ADV',\n",
       " 'PART',\n",
       " 'VERB',\n",
       " 'PRON',\n",
       " 'PUNCT',\n",
       " 'PRON',\n",
       " 'VERB',\n",
       " 'DET',\n",
       " 'ADJ',\n",
       " 'NOUN',\n",
       " 'ADP',\n",
       " 'DET',\n",
       " 'ADJ',\n",
       " 'ADP',\n",
       " 'DET',\n",
       " 'NOUN',\n",
       " 'PUNCT',\n",
       " 'NUM',\n",
       " 'ADP',\n",
       " 'DET',\n",
       " 'NOUN',\n",
       " 'VERB',\n",
       " 'DET',\n",
       " 'NOUN',\n",
       " 'PRON',\n",
       " 'AUX',\n",
       " 'VERB',\n",
       " 'ADP',\n",
       " 'PROPN',\n",
       " 'PUNCT',\n",
       " 'ADP',\n",
       " 'DET',\n",
       " 'ADJ',\n",
       " 'NUM',\n",
       " 'NOUN',\n",
       " 'PRON',\n",
       " 'VERB',\n",
       " 'NOUN',\n",
       " 'ADP',\n",
       " 'NUM',\n",
       " 'NOUN',\n",
       " 'NOUN',\n",
       " 'PUNCT',\n",
       " 'VERB',\n",
       " 'DET',\n",
       " 'NOUN',\n",
       " 'ADP',\n",
       " 'DET',\n",
       " 'PROPN',\n",
       " 'NUM',\n",
       " 'PUNCT',\n",
       " 'PRON',\n",
       " 'VERB',\n",
       " 'PART',\n",
       " 'VERB',\n",
       " 'DET',\n",
       " 'NOUN',\n",
       " 'PUNCT',\n",
       " 'PRON',\n",
       " 'AUX',\n",
       " 'ADJ',\n",
       " 'PUNCT',\n",
       " 'DET',\n",
       " 'PROPN',\n",
       " 'VERB',\n",
       " 'PRON',\n",
       " 'VERB',\n",
       " 'ADP',\n",
       " 'PART',\n",
       " 'AUX',\n",
       " 'DET',\n",
       " 'ADV',\n",
       " 'ADJ',\n",
       " 'NOUN',\n",
       " 'VERB',\n",
       " 'ADP',\n",
       " 'DET',\n",
       " 'PROPN',\n",
       " 'NOUN',\n",
       " 'ADP',\n",
       " 'DET',\n",
       " 'NOUN',\n",
       " 'ADP',\n",
       " 'DET',\n",
       " 'NOUN',\n",
       " 'PUNCT',\n",
       " 'VERB',\n",
       " 'PRON',\n",
       " 'VERB',\n",
       " 'DET',\n",
       " 'NOUN',\n",
       " 'ADP',\n",
       " 'NOUN',\n",
       " 'ADP',\n",
       " '_',\n",
       " 'PROPN',\n",
       " 'PART',\n",
       " 'ADJ',\n",
       " 'NOUN',\n",
       " 'PUNCT',\n",
       " 'PRON',\n",
       " 'PUNCT',\n",
       " 'SCONJ',\n",
       " 'VERB',\n",
       " 'ADP',\n",
       " 'DET',\n",
       " 'VERB',\n",
       " 'NOUN',\n",
       " 'PUNCT',\n",
       " 'VERB',\n",
       " 'ADV',\n",
       " 'ADP',\n",
       " 'DET',\n",
       " 'PROPN',\n",
       " 'DET',\n",
       " 'ADJ',\n",
       " 'NOUN',\n",
       " 'AUX',\n",
       " 'VERB',\n",
       " 'PUNCT',\n",
       " 'CCONJ',\n",
       " 'VERB',\n",
       " 'ADP',\n",
       " 'DET',\n",
       " 'ADJ',\n",
       " 'ADJ',\n",
       " 'NOUN',\n",
       " 'ADV',\n",
       " 'PUNCT',\n",
       " '_',\n",
       " 'PRON',\n",
       " 'AUX',\n",
       " 'PART',\n",
       " 'ADJ',\n",
       " 'ADP',\n",
       " 'DET',\n",
       " 'PROPN',\n",
       " 'PUNCT',\n",
       " 'VERB',\n",
       " 'PUNCT',\n",
       " 'NOUN',\n",
       " 'NOUN',\n",
       " 'PUNCT',\n",
       " 'PRON',\n",
       " '_',\n",
       " 'AUX',\n",
       " 'PART',\n",
       " 'VERB',\n",
       " 'PART',\n",
       " 'VERB',\n",
       " 'PRON',\n",
       " 'NOUN',\n",
       " 'PUNCT',\n",
       " 'PRON',\n",
       " 'AUX',\n",
       " 'VERB',\n",
       " 'PUNCT',\n",
       " 'ADP',\n",
       " 'SCONJ',\n",
       " 'VERB',\n",
       " 'PRON',\n",
       " 'NOUN',\n",
       " 'PUNCT',\n",
       " 'PRON',\n",
       " '_',\n",
       " 'AUX',\n",
       " 'PART',\n",
       " 'VERB',\n",
       " 'PART',\n",
       " 'VERB',\n",
       " 'NOUN',\n",
       " 'ADP',\n",
       " 'PRON',\n",
       " 'ADP',\n",
       " 'DET',\n",
       " 'PROPN',\n",
       " 'NOUN',\n",
       " 'PUNCT',\n",
       " 'CCONJ',\n",
       " 'SCONJ',\n",
       " 'PUNCT',\n",
       " 'VERB',\n",
       " 'ADP',\n",
       " 'NOUN',\n",
       " 'PUNCT',\n",
       " '_',\n",
       " 'PRON',\n",
       " 'AUX',\n",
       " 'ADJ',\n",
       " 'SCONJ',\n",
       " 'PRON',\n",
       " 'AUX',\n",
       " 'VERB',\n",
       " 'PRON',\n",
       " 'ADP',\n",
       " 'PRON',\n",
       " 'PRON',\n",
       " 'AUX',\n",
       " 'VERB',\n",
       " 'DET',\n",
       " 'NOUN',\n",
       " 'ADP',\n",
       " 'PRON',\n",
       " 'PRON',\n",
       " 'AUX',\n",
       " 'ADV',\n",
       " 'VERB',\n",
       " 'PRON',\n",
       " 'ADP',\n",
       " 'DET',\n",
       " 'NOUN',\n",
       " 'NOUN',\n",
       " 'PUNCT',\n",
       " 'PRON',\n",
       " 'VERB',\n",
       " 'ADV',\n",
       " 'PUNCT',\n",
       " 'ADV',\n",
       " 'ADV',\n",
       " 'ADJ',\n",
       " 'NOUN',\n",
       " 'ADP',\n",
       " 'PRON',\n",
       " 'NOUN',\n",
       " 'PUNCT',\n",
       " 'PUNCT',\n",
       " 'ADV',\n",
       " 'PUNCT',\n",
       " 'DET',\n",
       " 'NOUN',\n",
       " 'AUX',\n",
       " 'ADV',\n",
       " 'ADJ',\n",
       " 'NOUN',\n",
       " 'PUNCT',\n",
       " 'ADP',\n",
       " 'DET',\n",
       " 'ADJ',\n",
       " 'NOUN',\n",
       " 'PUNCT',\n",
       " 'PRON',\n",
       " 'VERB',\n",
       " 'ADV',\n",
       " 'ADJ',\n",
       " 'PUNCT',\n",
       " 'PROPN',\n",
       " 'VERB',\n",
       " 'PRON',\n",
       " 'AUX',\n",
       " 'VERB',\n",
       " 'ADJ',\n",
       " 'NOUN',\n",
       " 'SCONJ',\n",
       " 'VERB',\n",
       " 'ADJ',\n",
       " 'NOUN',\n",
       " 'PUNCT',\n",
       " 'DET',\n",
       " 'ADJ',\n",
       " 'PROPN',\n",
       " '_',\n",
       " 'AUX',\n",
       " 'PART',\n",
       " 'VERB',\n",
       " 'DET',\n",
       " 'ADJ',\n",
       " 'NOUN',\n",
       " 'PUNCT',\n",
       " 'PRON',\n",
       " 'AUX',\n",
       " 'VERB',\n",
       " 'DET',\n",
       " 'ADJ',\n",
       " 'NOUN',\n",
       " 'PUNCT',\n",
       " 'CCONJ',\n",
       " 'PRON',\n",
       " 'VERB',\n",
       " 'DET',\n",
       " 'NOUN',\n",
       " 'PUNCT',\n",
       " 'PRON',\n",
       " 'VERB',\n",
       " 'DET',\n",
       " 'NOUN',\n",
       " 'ADP',\n",
       " 'NOUN',\n",
       " 'NOUN',\n",
       " 'VERB',\n",
       " 'DET',\n",
       " 'ADJ',\n",
       " 'NOUN',\n",
       " 'SCONJ',\n",
       " 'AUX',\n",
       " 'ADJ',\n",
       " 'PART',\n",
       " 'VERB',\n",
       " 'DET',\n",
       " 'ADJ',\n",
       " 'NOUN',\n",
       " 'CCONJ',\n",
       " 'PRON',\n",
       " 'VERB',\n",
       " 'ADP',\n",
       " 'DET',\n",
       " 'NOUN',\n",
       " 'PUNCT',\n",
       " 'PRON',\n",
       " 'AUX',\n",
       " 'ADV',\n",
       " 'AUX',\n",
       " 'ADJ',\n",
       " 'ADP',\n",
       " 'DET',\n",
       " 'ADJ',\n",
       " 'PROPN',\n",
       " 'PROPN',\n",
       " 'PROPN',\n",
       " 'ADP',\n",
       " 'NOUN',\n",
       " 'ADP',\n",
       " 'DET',\n",
       " 'PROPN',\n",
       " 'NOUN',\n",
       " 'PUNCT',\n",
       " 'DET',\n",
       " 'NOUN',\n",
       " 'AUX',\n",
       " 'ADV',\n",
       " 'VERB',\n",
       " 'PRON',\n",
       " 'AUX',\n",
       " 'VERB',\n",
       " 'PART',\n",
       " 'VERB',\n",
       " 'PROPN',\n",
       " 'VERB',\n",
       " 'ADP',\n",
       " 'DET',\n",
       " 'NOUN',\n",
       " 'PRON',\n",
       " 'PRON',\n",
       " '_',\n",
       " 'AUX',\n",
       " 'PART',\n",
       " 'ADV',\n",
       " 'VERB',\n",
       " 'PART',\n",
       " 'VERB',\n",
       " 'ADP',\n",
       " 'ADJ',\n",
       " 'NOUN',\n",
       " 'PUNCT',\n",
       " 'CCONJ',\n",
       " 'PRON',\n",
       " 'AUX',\n",
       " 'VERB',\n",
       " 'SCONJ',\n",
       " 'PRON',\n",
       " 'VERB',\n",
       " 'ADJ',\n",
       " 'NOUN',\n",
       " 'ADP',\n",
       " 'ADJ',\n",
       " 'NOUN',\n",
       " 'PUNCT',\n",
       " 'ADJ',\n",
       " 'NOUN',\n",
       " 'VERB',\n",
       " 'PART',\n",
       " 'VERB',\n",
       " 'NOUN',\n",
       " 'ADP',\n",
       " 'PROPN',\n",
       " 'ADV',\n",
       " 'ADP',\n",
       " 'ADJ',\n",
       " 'NOUN',\n",
       " 'PUNCT',\n",
       " 'CCONJ',\n",
       " 'AUX',\n",
       " 'VERB',\n",
       " 'NOUN',\n",
       " 'PUNCT',\n",
       " 'CCONJ',\n",
       " 'AUX',\n",
       " 'PRON',\n",
       " 'VERB',\n",
       " 'ADJ',\n",
       " 'NOUN',\n",
       " 'ADP',\n",
       " 'NOUN',\n",
       " 'PUNCT',\n",
       " 'NUM',\n",
       " 'NOUN',\n",
       " 'VERB',\n",
       " 'ADP',\n",
       " 'SCONJ',\n",
       " 'DET',\n",
       " 'NOUN',\n",
       " 'VERB',\n",
       " 'DET',\n",
       " 'PROPN',\n",
       " 'ADP',\n",
       " 'DET',\n",
       " 'NOUN',\n",
       " 'ADV',\n",
       " 'PRON',\n",
       " 'VERB',\n",
       " 'PRON',\n",
       " 'VERB',\n",
       " 'PUNCT',\n",
       " 'PRON',\n",
       " 'AUX',\n",
       " 'VERB',\n",
       " 'PRON',\n",
       " 'PUNCT',\n",
       " 'PRON',\n",
       " '_',\n",
       " 'AUX',\n",
       " 'PART',\n",
       " 'VERB',\n",
       " 'PART',\n",
       " 'VERB',\n",
       " 'PRON',\n",
       " 'PUNCT',\n",
       " 'CCONJ',\n",
       " 'PRON',\n",
       " '_',\n",
       " 'AUX',\n",
       " 'PART',\n",
       " 'VERB',\n",
       " 'PRON',\n",
       " 'PUNCT',\n",
       " 'PRON',\n",
       " 'AUX',\n",
       " 'VERB',\n",
       " 'SCONJ',\n",
       " 'PROPN',\n",
       " 'ADV',\n",
       " 'VERB',\n",
       " 'NOUN',\n",
       " 'CCONJ',\n",
       " 'ADV',\n",
       " 'VERB',\n",
       " 'ADP',\n",
       " 'NOUN',\n",
       " 'ADP',\n",
       " 'NOUN',\n",
       " 'PUNCT',\n",
       " 'ADJ',\n",
       " 'NOUN',\n",
       " 'VERB',\n",
       " 'ADJ',\n",
       " 'NOUN',\n",
       " 'ADP',\n",
       " 'DET',\n",
       " 'ADJ',\n",
       " 'NOUN',\n",
       " 'ADP',\n",
       " 'PROPN',\n",
       " 'PUNCT',\n",
       " 'NUM',\n",
       " 'NUM',\n",
       " 'PUNCT',\n",
       " 'ADP',\n",
       " 'DET',\n",
       " 'NOUN',\n",
       " 'NOUN',\n",
       " 'VERB',\n",
       " 'ADP',\n",
       " 'DET',\n",
       " 'ADJ',\n",
       " 'NOUN',\n",
       " 'NOUN',\n",
       " 'ADP',\n",
       " 'PROPN',\n",
       " 'NOUN',\n",
       " 'AUX',\n",
       " 'ADV',\n",
       " 'ADP',\n",
       " 'PROPN',\n",
       " 'PUNCT',\n",
       " 'PROPN',\n",
       " 'VERB',\n",
       " 'SCONJ',\n",
       " 'PUNCT',\n",
       " 'ADJ',\n",
       " 'NOUN',\n",
       " 'ADP',\n",
       " 'DET',\n",
       " 'NOUN',\n",
       " 'VERB',\n",
       " 'DET',\n",
       " 'PUNCT',\n",
       " 'NOUN',\n",
       " 'ADP',\n",
       " 'DET',\n",
       " 'NOUN',\n",
       " 'ADP',\n",
       " 'PROPN',\n",
       " 'PUNCT',\n",
       " 'VERB',\n",
       " 'DET',\n",
       " 'NOUN',\n",
       " 'ADP',\n",
       " 'DET',\n",
       " 'NOUN',\n",
       " 'PROPN',\n",
       " 'CCONJ',\n",
       " 'NOUN',\n",
       " 'PUNCT',\n",
       " 'VERB',\n",
       " 'NUM',\n",
       " 'NOUN',\n",
       " 'ADP',\n",
       " 'VERB',\n",
       " 'PUNCT',\n",
       " 'CCONJ',\n",
       " 'VERB',\n",
       " 'ADP',\n",
       " 'DET',\n",
       " 'ADJ',\n",
       " 'NOUN',\n",
       " 'NOUN',\n",
       " 'PUNCT',\n",
       " 'PUNCT',\n",
       " 'PRON',\n",
       " 'VERB',\n",
       " 'PUNCT',\n",
       " 'PUNCT',\n",
       " 'DET',\n",
       " 'NOUN',\n",
       " 'ADP',\n",
       " 'PROPN',\n",
       " 'VERB',\n",
       " 'DET',\n",
       " 'NOUN',\n",
       " 'PRON',\n",
       " 'AUX',\n",
       " 'ADJ',\n",
       " 'ADP',\n",
       " 'PROPN',\n",
       " 'ADP',\n",
       " 'NOUN',\n",
       " 'ADJ',\n",
       " 'ADP',\n",
       " 'DET',\n",
       " 'NOUN',\n",
       " 'ADP',\n",
       " 'PROPN',\n",
       " 'PUNCT',\n",
       " 'VERB',\n",
       " 'ADJ',\n",
       " 'PUNCT',\n",
       " 'ADJ',\n",
       " 'PUNCT',\n",
       " 'NOUN',\n",
       " 'CCONJ',\n",
       " 'NOUN',\n",
       " 'VERB',\n",
       " 'SCONJ',\n",
       " 'PRON',\n",
       " 'AUX',\n",
       " 'ADJ',\n",
       " 'SCONJ',\n",
       " 'VERB',\n",
       " 'DET',\n",
       " '_',\n",
       " 'PROPN',\n",
       " 'PART',\n",
       " 'NOUN',\n",
       " 'CCONJ',\n",
       " 'NOUN',\n",
       " 'PUNCT',\n",
       " 'CCONJ',\n",
       " 'VERB',\n",
       " 'PRON',\n",
       " 'PART',\n",
       " 'VERB',\n",
       " 'PRON',\n",
       " 'NOUN',\n",
       " 'ADP',\n",
       " 'DET',\n",
       " 'NOUN',\n",
       " 'PUNCT',\n",
       " 'PUNCT',\n",
       " 'DET',\n",
       " 'NOUN',\n",
       " 'VERB',\n",
       " 'NOUN',\n",
       " 'SCONJ',\n",
       " 'ADJ',\n",
       " 'PROPN',\n",
       " 'NOUN',\n",
       " 'PUNCT',\n",
       " 'PROPN',\n",
       " 'AUX',\n",
       " 'ADV',\n",
       " 'AUX',\n",
       " 'VERB',\n",
       " 'ADP',\n",
       " 'ADJ',\n",
       " 'NOUN',\n",
       " 'ADP',\n",
       " 'DET',\n",
       " 'PROPN',\n",
       " 'NOUN',\n",
       " 'ADV',\n",
       " 'PUNCT',\n",
       " 'SCONJ',\n",
       " 'ADJ',\n",
       " 'PROPN',\n",
       " 'CCONJ',\n",
       " 'VERB',\n",
       " 'ADJ',\n",
       " 'ADP',\n",
       " 'ADJ',\n",
       " 'NOUN',\n",
       " 'CCONJ',\n",
       " 'AUX',\n",
       " 'VERB',\n",
       " 'ADJ',\n",
       " 'NOUN',\n",
       " 'CCONJ',\n",
       " 'ADV',\n",
       " 'NOUN',\n",
       " 'PUNCT',\n",
       " 'NOUN',\n",
       " 'ADJ',\n",
       " 'ADP',\n",
       " 'PROPN',\n",
       " 'VERB',\n",
       " 'ADJ',\n",
       " 'NOUN',\n",
       " 'ADP',\n",
       " 'PROPN',\n",
       " 'CCONJ',\n",
       " 'VERB',\n",
       " 'DET',\n",
       " 'ADJ',\n",
       " 'NOUN',\n",
       " 'ADP',\n",
       " 'DET',\n",
       " '_',\n",
       " 'NOUN',\n",
       " 'PART',\n",
       " 'NOUN',\n",
       " 'CCONJ',\n",
       " 'NOUN',\n",
       " 'PUNCT',\n",
       " 'PRON',\n",
       " 'VERB',\n",
       " 'SCONJ',\n",
       " 'DET',\n",
       " 'ADJ',\n",
       " 'NOUN',\n",
       " 'VERB',\n",
       " 'SCONJ',\n",
       " 'PRON',\n",
       " 'DET',\n",
       " 'NOUN',\n",
       " 'PUNCT',\n",
       " 'CCONJ',\n",
       " 'DET',\n",
       " 'NOUN',\n",
       " 'ADP',\n",
       " 'DET',\n",
       " 'PROPN',\n",
       " 'CCONJ',\n",
       " 'PROPN',\n",
       " 'PUNCT',\n",
       " 'CCONJ',\n",
       " 'PRON',\n",
       " 'VERB',\n",
       " 'PART',\n",
       " 'VERB',\n",
       " 'ADV',\n",
       " 'PUNCT',\n",
       " 'VERB',\n",
       " 'PROPN',\n",
       " 'DET',\n",
       " 'ADJ',\n",
       " 'PROPN',\n",
       " 'VERB',\n",
       " 'PRON',\n",
       " 'NOUN',\n",
       " 'NOUN',\n",
       " 'ADP',\n",
       " 'PROPN',\n",
       " 'PROPN',\n",
       " 'PROPN',\n",
       " 'ADV',\n",
       " 'ADP',\n",
       " 'VERB',\n",
       " 'NOUN',\n",
       " 'ADP',\n",
       " 'PROPN',\n",
       " 'PROPN',\n",
       " 'VERB',\n",
       " 'ADP',\n",
       " 'ADP',\n",
       " 'PRON',\n",
       " 'NOUN',\n",
       " 'ADP',\n",
       " 'DET',\n",
       " 'PROPN',\n",
       " 'PROPN',\n",
       " 'NOUN',\n",
       " 'CCONJ',\n",
       " 'PROPN',\n",
       " 'PROPN',\n",
       " 'VERB',\n",
       " 'DET',\n",
       " 'NOUN',\n",
       " 'ADP',\n",
       " 'DET',\n",
       " 'NUM',\n",
       " 'SYM',\n",
       " 'NUM',\n",
       " 'NOUN',\n",
       " 'PRON',\n",
       " 'AUX',\n",
       " 'NUM',\n",
       " 'NOUN',\n",
       " 'ADV',\n",
       " 'PUNCT',\n",
       " 'DET',\n",
       " 'ADJ',\n",
       " 'NOUN',\n",
       " 'AUX',\n",
       " 'DET',\n",
       " 'ADJ',\n",
       " 'ADJ',\n",
       " 'PUNCT',\n",
       " 'VERB',\n",
       " 'ADP',\n",
       " 'PRON',\n",
       " 'ADV',\n",
       " 'PUNCT',\n",
       " 'PROPN',\n",
       " 'PROPN',\n",
       " 'PROPN',\n",
       " 'VERB',\n",
       " 'DET',\n",
       " 'NOUN',\n",
       " 'ADP',\n",
       " 'DET',\n",
       " 'NOUN',\n",
       " 'ADP',\n",
       " 'NOUN',\n",
       " 'ADP',\n",
       " 'NOUN',\n",
       " 'PRON',\n",
       " 'ADP',\n",
       " 'X',\n",
       " 'PUNCT',\n",
       " 'NUM',\n",
       " 'ADP',\n",
       " 'NUM',\n",
       " 'PUNCT',\n",
       " 'PROPN',\n",
       " 'PUNCT',\n",
       " 'NUM',\n",
       " 'PUNCT',\n",
       " 'NUM',\n",
       " 'PUNCT',\n",
       " 'PROPN',\n",
       " 'PUNCT',\n",
       " 'NOUN',\n",
       " 'PUNCT',\n",
       " 'CCONJ',\n",
       " 'PROPN',\n",
       " 'PUNCT',\n",
       " 'ADP',\n",
       " 'PRON',\n",
       " 'PROPN',\n",
       " 'PUNCT',\n",
       " 'PROPN',\n",
       " 'PUNCT',\n",
       " 'PROPN',\n",
       " 'PUNCT',\n",
       " 'CCONJ',\n",
       " 'PROPN',\n",
       " 'VERB',\n",
       " 'PUNCT',\n",
       " 'CCONJ',\n",
       " 'DET',\n",
       " 'NOUN',\n",
       " 'ADP',\n",
       " 'NOUN',\n",
       " 'ADP',\n",
       " 'NOUN',\n",
       " 'NUM',\n",
       " 'CCONJ',\n",
       " 'NUM',\n",
       " 'PUNCT',\n",
       " 'PROPN',\n",
       " 'PUNCT',\n",
       " 'NOUN',\n",
       " 'PUNCT',\n",
       " 'ADP',\n",
       " 'PRON',\n",
       " 'VERB',\n",
       " 'PUNCT',\n",
       " 'PROPN',\n",
       " 'PUNCT',\n",
       " 'CCONJ',\n",
       " 'PROPN',\n",
       " 'VERB',\n",
       " 'PUNCT',\n",
       " 'PROPN',\n",
       " 'VERB',\n",
       " 'DET',\n",
       " ...]"
      ]
     },
     "execution_count": 59,
     "metadata": {},
     "output_type": "execute_result"
    }
   ],
   "source": [
    "list(map(lambda x: idx2pos.get(x, 'UNK'),\n",
    "     torch.argmax(model(X_test), dim=-1).tolist()))"
   ]
  },
  {
   "cell_type": "markdown",
   "metadata": {},
   "source": [
    "### Testing the Model"
   ]
  },
  {
   "cell_type": "code",
   "execution_count": 60,
   "metadata": {},
   "outputs": [
    {
     "data": {
      "text/plain": [
       "(0.2121364141886051, 0.9371945353654715)"
      ]
     },
     "execution_count": 60,
     "metadata": {},
     "output_type": "execute_result"
    }
   ],
   "source": [
    "acc_loss, acc_test = evaluate(model, loss_fn, test_dataloader)\n",
    "acc_loss, acc_test"
   ]
  },
  {
   "cell_type": "code",
   "execution_count": 61,
   "metadata": {},
   "outputs": [],
   "source": [
    "target_names = sorted(pos2idx.keys(), key=lambda x: pos2idx[x])"
   ]
  },
  {
   "cell_type": "code",
   "execution_count": 62,
   "metadata": {},
   "outputs": [
    {
     "name": "stdout",
     "output_type": "stream",
     "text": [
      "              precision    recall  f1-score   support\n",
      "\n",
      "         ADJ     0.9133    0.9143    0.9138      1786\n",
      "         ADP     0.9626    0.9413    0.9519      2080\n",
      "         ADV     0.8827    0.9186    0.9003      1130\n",
      "         AUX     0.9799    0.9863    0.9831      1533\n",
      "       CCONJ     0.9932    0.9919    0.9925       738\n",
      "         DET     0.9895    0.9853    0.9874      1905\n",
      "        INTJ     0.8500    0.8947    0.8718       114\n",
      "        NOUN     0.9115    0.8925    0.9019      4225\n",
      "         NUM     0.8635    0.9159    0.8889       511\n",
      "        PART     0.9831    0.9696    0.9763       658\n",
      "        PRON     0.9875    0.9812    0.9843      2176\n",
      "       PROPN     0.7872    0.8619    0.8228      1897\n",
      "       PUNCT     0.9910    0.9929    0.9919      3090\n",
      "       SCONJ     0.8438    0.8950    0.8686       362\n",
      "         SYM     0.8899    0.7519    0.8151       129\n",
      "        VERB     0.9601    0.9101    0.9345      2749\n",
      "           X     0.0000    0.0000    0.0000        12\n",
      "           _     0.9915    0.9887    0.9901       355\n",
      "\n",
      "    accuracy                         0.9368     25450\n",
      "   macro avg     0.8767    0.8773    0.8764     25450\n",
      "weighted avg     0.9392    0.9368    0.9377     25450\n",
      "\n"
     ]
    }
   ],
   "source": [
    "print(classification_report(y_test_pred, y_test,\n",
    "      digits=4, target_names=target_names))"
   ]
  },
  {
   "cell_type": "markdown",
   "metadata": {},
   "source": [
    "About 93.34 for the large embeddings"
   ]
  },
  {
   "cell_type": "markdown",
   "metadata": {},
   "source": [
    "## Prediction of parts of speech"
   ]
  },
  {
   "cell_type": "code",
   "execution_count": 63,
   "metadata": {},
   "outputs": [],
   "source": [
    "def predict_sentence(sentence,\n",
    "                     model,\n",
    "                     word2idx,\n",
    "                     idx2pos,\n",
    "                     dict_vectorizer,\n",
    "                     ppos_key='PPOS', lc=True):\n",
    "    sent_words, _ = extract_cols(sentence)\n",
    "    if lc:\n",
    "        sent_words = list(map(str.lower, sent_words))\n",
    "    X_cat = create_X_cat(sent_words)\n",
    "    for x_cat in X_cat:\n",
    "        for word in x_cat:\n",
    "            x_cat[word] = word2idx.get(x_cat[word].lower(), 0)\n",
    "    X = dict_vectorizer.transform(X_cat)\n",
    "    y_pred_vec = torch.argmax(model(torch.from_numpy(X).long()),\n",
    "                              dim=-1)\n",
    "    # We add the predictions in the PPOS column\n",
    "    for row, y_pred in zip(sentence, y_pred_vec):\n",
    "        row[ppos_key] = idx2pos[y_pred.item()]\n",
    "    return sentence"
   ]
  },
  {
   "cell_type": "code",
   "execution_count": 64,
   "metadata": {},
   "outputs": [],
   "source": [
    "sentences = [\"That round table might collapse .\",\n",
    "             \"The man can learn well .\",\n",
    "             \"The man can swim .\",\n",
    "             \"The man can simwo .\"]"
   ]
  },
  {
   "cell_type": "code",
   "execution_count": 65,
   "metadata": {},
   "outputs": [],
   "source": [
    "def sentence_to_conll(sentence: str):\n",
    "    sent_dict = [{'ID': x, 'FORM': y} for (x, y) in\n",
    "                 enumerate(sentence.split(), start=1)]\n",
    "    return sent_dict"
   ]
  },
  {
   "cell_type": "code",
   "execution_count": 66,
   "metadata": {},
   "outputs": [
    {
     "name": "stdout",
     "output_type": "stream",
     "text": [
      "['That', 'round', 'table', 'might', 'collapse', '.']\n",
      "['DET', 'DET', 'NOUN', 'AUX', 'VERB', 'PUNCT']\n",
      "['The', 'man', 'can', 'learn', 'well', '.']\n",
      "['DET', 'NOUN', 'AUX', 'VERB', 'ADV', 'PUNCT']\n",
      "['The', 'man', 'can', 'swim', '.']\n",
      "['DET', 'NOUN', 'AUX', 'VERB', 'PUNCT']\n",
      "['The', 'man', 'can', 'simwo', '.']\n",
      "['DET', 'NOUN', 'AUX', 'VERB', 'PUNCT']\n"
     ]
    }
   ],
   "source": [
    "for sentence in sentences:\n",
    "    sentence = sentence_to_conll(sentence)\n",
    "    y_test_pred_cat = predict_sentence(sentence,\n",
    "                                       model,\n",
    "                                       word2idx,\n",
    "                                       idx2pos,\n",
    "                                       dict_vectorizer, lc=LOWERCASE)\n",
    "    print([y['FORM'] for y in y_test_pred_cat])\n",
    "    print([y['PPOS'] for y in y_test_pred_cat])"
   ]
  },
  {
   "cell_type": "code",
   "execution_count": null,
   "metadata": {},
   "outputs": [],
   "source": []
  }
 ],
 "metadata": {
  "kernelspec": {
   "display_name": "Python 3.9.13 ('base')",
   "language": "python",
   "name": "python3"
  },
  "language_info": {
   "codemirror_mode": {
    "name": "ipython",
    "version": 3
   },
   "file_extension": ".py",
   "mimetype": "text/x-python",
   "name": "python",
   "nbconvert_exporter": "python",
   "pygments_lexer": "ipython3",
   "version": "3.1.-1"
  },
  "vscode": {
   "interpreter": {
    "hash": "b97b11a820675205aae8f1d7f2a3f22bbd3a2c30189f44042310baf5b4cd1987"
   }
  }
 },
 "nbformat": 4,
 "nbformat_minor": 4
}
