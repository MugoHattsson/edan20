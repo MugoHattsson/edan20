{
 "cells": [
  {
   "cell_type": "markdown",
   "metadata": {},
   "source": [
    "# Chapter 11: Dense Vector Representations\n",
    "Training embeddings: A Toy Implementation of CBOW\n",
    "\n",
    "Adapted from _Efficient estimation of word representations in vector space_ by Mikolov et al., 2013."
   ]
  },
  {
   "cell_type": "markdown",
   "metadata": {},
   "source": [
    "Programs from the book: [_Python for Natural Language Processing_](https://link.springer.com/book/9783031575488)\n",
    "\n",
    "__Author__: Pierre Nugues"
   ]
  },
  {
   "cell_type": "markdown",
   "metadata": {},
   "source": [
    "## Modules"
   ]
  },
  {
   "cell_type": "code",
   "execution_count": 1,
   "metadata": {},
   "outputs": [],
   "source": [
    "import torch\n",
    "import torch.nn as nn\n",
    "from torch.utils.data import DataLoader, Dataset, TensorDataset\n",
    "import os\n",
    "import regex as re\n",
    "from collections import Counter\n",
    "import collections\n",
    "from math import log\n",
    "import numpy as np\n",
    "from tqdm import tqdm\n",
    "import random\n",
    "import matplotlib.pyplot as plt\n",
    "import pandas as pd\n",
    "from sklearn.model_selection import train_test_split"
   ]
  },
  {
   "cell_type": "markdown",
   "metadata": {},
   "source": [
    "## Parameters"
   ]
  },
  {
   "cell_type": "markdown",
   "metadata": {},
   "source": [
    "The embedding size and context size"
   ]
  },
  {
   "cell_type": "code",
   "execution_count": 2,
   "metadata": {},
   "outputs": [],
   "source": [
    "# embedding_dim = 50\n",
    "w_size = 2\n",
    "c_size = w_size * 2 + 1"
   ]
  },
  {
   "cell_type": "markdown",
   "metadata": {},
   "source": [
    "## Corpus Files"
   ]
  },
  {
   "cell_type": "markdown",
   "metadata": {},
   "source": [
    "We read the files and we store the corpus in a string"
   ]
  },
  {
   "cell_type": "code",
   "execution_count": 3,
   "metadata": {},
   "outputs": [],
   "source": [
    "PATH = '../datasets/'"
   ]
  },
  {
   "cell_type": "code",
   "execution_count": 4,
   "metadata": {},
   "outputs": [],
   "source": [
    "CORPUS = 'HOMER'  # 'DICKENS'"
   ]
  },
  {
   "cell_type": "code",
   "execution_count": 5,
   "metadata": {},
   "outputs": [],
   "source": [
    "if CORPUS == 'DICKENS':\n",
    "    folder = PATH + 'dickens/'\n",
    "elif CORPUS == 'HOMER':\n",
    "    folder = PATH + 'classics/'"
   ]
  },
  {
   "cell_type": "code",
   "execution_count": 6,
   "metadata": {},
   "outputs": [],
   "source": [
    "def get_files(dir, suffix):\n",
    "    \"\"\"\n",
    "    Returns all the files in a folder ending with suffix\n",
    "    :param dir:\n",
    "    :param suffix:\n",
    "    :return: the list of file names\n",
    "    \"\"\"\n",
    "    files = []\n",
    "    for file in os.listdir(dir):\n",
    "        if file.endswith(suffix):\n",
    "            files.append(file)\n",
    "    return files"
   ]
  },
  {
   "cell_type": "code",
   "execution_count": 7,
   "metadata": {},
   "outputs": [
    {
     "data": {
      "text/plain": [
       "['iliad.txt', 'odyssey.txt']"
      ]
     },
     "execution_count": 7,
     "metadata": {},
     "output_type": "execute_result"
    }
   ],
   "source": [
    "if CORPUS == 'DICKENS':\n",
    "    files = get_files(folder, 'txt')\n",
    "elif CORPUS == 'HOMER':\n",
    "    files = ['iliad.txt', 'odyssey.txt']\n",
    "files"
   ]
  },
  {
   "cell_type": "code",
   "execution_count": 8,
   "metadata": {},
   "outputs": [
    {
     "data": {
      "text/plain": [
       "['../datasets/classics/iliad.txt', '../datasets/classics/odyssey.txt']"
      ]
     },
     "execution_count": 8,
     "metadata": {},
     "output_type": "execute_result"
    }
   ],
   "source": [
    "files = [folder + file for file in files]\n",
    "files"
   ]
  },
  {
   "cell_type": "code",
   "execution_count": 9,
   "metadata": {},
   "outputs": [],
   "source": [
    "text = ''\n",
    "for file in files:\n",
    "    with open(file, encoding='utf8') as f:\n",
    "        text += ' ' + f.read().strip()"
   ]
  },
  {
   "cell_type": "code",
   "execution_count": 10,
   "metadata": {},
   "outputs": [
    {
     "data": {
      "text/plain": [
       "' BOOK I\\n\\nSing, O goddess, the anger of Achilles son of Peleus, that brought\\ncountless ills upon the '"
      ]
     },
     "execution_count": 10,
     "metadata": {},
     "output_type": "execute_result"
    }
   ],
   "source": [
    "text[:100]"
   ]
  },
  {
   "cell_type": "markdown",
   "metadata": {},
   "source": [
    "## Processing the Corpus"
   ]
  },
  {
   "cell_type": "markdown",
   "metadata": {},
   "source": [
    "We set all the text in lowercase"
   ]
  },
  {
   "cell_type": "code",
   "execution_count": 11,
   "metadata": {},
   "outputs": [
    {
     "data": {
      "text/plain": [
       "['book', 'i', 'sing', 'o', 'goddess']"
      ]
     },
     "execution_count": 11,
     "metadata": {},
     "output_type": "execute_result"
    }
   ],
   "source": [
    "text = text.lower()\n",
    "words = re.findall('\\p{L}+', text)\n",
    "words[:5]"
   ]
  },
  {
   "cell_type": "code",
   "execution_count": 12,
   "metadata": {},
   "outputs": [
    {
     "data": {
      "text/plain": [
       "['a',\n",
       " 'abantes',\n",
       " 'abarbarea',\n",
       " 'abas',\n",
       " 'abate',\n",
       " 'abated',\n",
       " 'abetting',\n",
       " 'abhorred',\n",
       " 'abians',\n",
       " 'abide']"
      ]
     },
     "execution_count": 12,
     "metadata": {},
     "output_type": "execute_result"
    }
   ],
   "source": [
    "vocab = sorted(list(set(words)))\n",
    "vocab[:10]"
   ]
  },
  {
   "cell_type": "code",
   "execution_count": 13,
   "metadata": {},
   "outputs": [
    {
     "data": {
      "text/plain": [
       "9768"
      ]
     },
     "execution_count": 13,
     "metadata": {},
     "output_type": "execute_result"
    }
   ],
   "source": [
    "vocab_size = len(vocab)\n",
    "vocab_size"
   ]
  },
  {
   "cell_type": "code",
   "execution_count": 14,
   "metadata": {},
   "outputs": [],
   "source": [
    "idx2word = dict(enumerate(vocab))\n",
    "word2idx = {v: k for k, v in idx2word.items()}\n",
    "# word2idx"
   ]
  },
  {
   "cell_type": "code",
   "execution_count": 15,
   "metadata": {},
   "outputs": [],
   "source": [
    "words_idx = [word2idx[word] for word in words]"
   ]
  },
  {
   "cell_type": "code",
   "execution_count": 16,
   "metadata": {},
   "outputs": [],
   "source": [
    "def create_Xy(words):\n",
    "    (X, y) = ([], [])\n",
    "    c_size = 2 * w_size + 1\n",
    "    for i in range(len(words) - c_size + 1):\n",
    "        X.append(words[i: i + w_size] +\n",
    "                 words[i + w_size + 1: i + c_size])\n",
    "        y.append(words[i + w_size])\n",
    "    return X, y"
   ]
  },
  {
   "cell_type": "code",
   "execution_count": 17,
   "metadata": {},
   "outputs": [],
   "source": [
    "X, y = create_Xy(words)"
   ]
  },
  {
   "cell_type": "code",
   "execution_count": 18,
   "metadata": {},
   "outputs": [
    {
     "data": {
      "text/plain": [
       "[['sing', 'o', 'the', 'anger'],\n",
       " ['o', 'goddess', 'anger', 'of'],\n",
       " ['goddess', 'the', 'of', 'achilles']]"
      ]
     },
     "execution_count": 18,
     "metadata": {},
     "output_type": "execute_result"
    }
   ],
   "source": [
    "X[2:5]"
   ]
  },
  {
   "cell_type": "code",
   "execution_count": 19,
   "metadata": {},
   "outputs": [
    {
     "data": {
      "text/plain": [
       "['goddess', 'the', 'anger']"
      ]
     },
     "execution_count": 19,
     "metadata": {},
     "output_type": "execute_result"
    }
   ],
   "source": [
    "y[2:5]"
   ]
  },
  {
   "cell_type": "code",
   "execution_count": 20,
   "metadata": {},
   "outputs": [],
   "source": [
    "X, y = create_Xy(words_idx)"
   ]
  },
  {
   "cell_type": "code",
   "execution_count": 21,
   "metadata": {},
   "outputs": [
    {
     "data": {
      "text/plain": [
       "torch.Size([271502, 4])"
      ]
     },
     "execution_count": 21,
     "metadata": {},
     "output_type": "execute_result"
    }
   ],
   "source": [
    "X = torch.LongTensor(X)\n",
    "X.size()"
   ]
  },
  {
   "cell_type": "code",
   "execution_count": 22,
   "metadata": {},
   "outputs": [
    {
     "data": {
      "text/plain": [
       "tensor([[7663, 5691, 8548,  358],\n",
       "        [5691, 3697,  358, 5735],\n",
       "        [3697, 8548, 5735,   67]])"
      ]
     },
     "execution_count": 22,
     "metadata": {},
     "output_type": "execute_result"
    }
   ],
   "source": [
    "X[2:5]"
   ]
  },
  {
   "cell_type": "code",
   "execution_count": 23,
   "metadata": {},
   "outputs": [],
   "source": [
    "y = torch.LongTensor(y)"
   ]
  },
  {
   "cell_type": "code",
   "execution_count": 24,
   "metadata": {},
   "outputs": [
    {
     "data": {
      "text/plain": [
       "tensor([3697, 8548,  358])"
      ]
     },
     "execution_count": 24,
     "metadata": {},
     "output_type": "execute_result"
    }
   ],
   "source": [
    "y[2:5]"
   ]
  },
  {
   "cell_type": "markdown",
   "metadata": {},
   "source": [
    "## Embeddings"
   ]
  },
  {
   "cell_type": "code",
   "execution_count": 25,
   "metadata": {},
   "outputs": [],
   "source": [
    "embedding_dim = 5"
   ]
  },
  {
   "cell_type": "code",
   "execution_count": 26,
   "metadata": {},
   "outputs": [
    {
     "data": {
      "text/plain": [
       "Embedding(9768, 5)"
      ]
     },
     "execution_count": 26,
     "metadata": {},
     "output_type": "execute_result"
    }
   ],
   "source": [
    "embedding = nn.Embedding(vocab_size, embedding_dim)\n",
    "embedding"
   ]
  },
  {
   "cell_type": "code",
   "execution_count": 27,
   "metadata": {},
   "outputs": [
    {
     "data": {
      "text/plain": [
       "OrderedDict([('weight',\n",
       "              tensor([[ 0.1737,  0.3771,  1.1798,  0.2774,  0.3765],\n",
       "                      [ 1.7672,  0.0765, -0.0130, -1.4449, -0.6143],\n",
       "                      [-0.0624, -1.4087,  0.1338, -1.2423, -0.1470],\n",
       "                      ...,\n",
       "                      [ 1.4250,  0.8897, -0.4126, -0.9992, -0.0307],\n",
       "                      [-0.3522,  2.3213, -0.9081,  1.3450,  1.7535],\n",
       "                      [-1.1921,  0.8879,  1.5717,  0.0358, -1.7487]]))])"
      ]
     },
     "execution_count": 27,
     "metadata": {},
     "output_type": "execute_result"
    }
   ],
   "source": [
    "embedding.state_dict()"
   ]
  },
  {
   "cell_type": "code",
   "execution_count": 28,
   "metadata": {},
   "outputs": [
    {
     "data": {
      "text/plain": [
       "tensor([[ 0.1737,  0.3771,  1.1798,  0.2774,  0.3765],\n",
       "        [ 1.7672,  0.0765, -0.0130, -1.4449, -0.6143],\n",
       "        [-0.0624, -1.4087,  0.1338, -1.2423, -0.1470],\n",
       "        [-0.5666,  1.0878, -0.1373, -1.4274,  1.4166],\n",
       "        [ 0.5608, -0.2141, -0.1571,  1.1176,  1.1655]],\n",
       "       grad_fn=<SliceBackward0>)"
      ]
     },
     "execution_count": 28,
     "metadata": {},
     "output_type": "execute_result"
    }
   ],
   "source": [
    "embedding.weight[:5]"
   ]
  },
  {
   "cell_type": "code",
   "execution_count": 29,
   "metadata": {},
   "outputs": [
    {
     "data": {
      "text/plain": [
       "tensor([[-0.5666,  1.0878, -0.1373, -1.4274,  1.4166],\n",
       "        [-0.0624, -1.4087,  0.1338, -1.2423, -0.1470],\n",
       "        [ 1.7672,  0.0765, -0.0130, -1.4449, -0.6143]],\n",
       "       grad_fn=<EmbeddingBackward0>)"
      ]
     },
     "execution_count": 29,
     "metadata": {},
     "output_type": "execute_result"
    }
   ],
   "source": [
    "embedding(torch.LongTensor([3, 2, 1]))"
   ]
  },
  {
   "cell_type": "code",
   "execution_count": 30,
   "metadata": {},
   "outputs": [
    {
     "data": {
      "text/plain": [
       "tensor([[[ 0.8082,  0.3516,  0.3602,  1.0301, -2.7528],\n",
       "         [ 0.0663,  0.0721,  0.1768, -1.0101, -0.7445],\n",
       "         [ 0.4754,  0.9378,  0.5265, -1.4136,  2.6541],\n",
       "         [ 0.0164, -0.4261, -0.9703,  0.1743,  1.3088]],\n",
       "\n",
       "        [[ 0.0663,  0.0721,  0.1768, -1.0101, -0.7445],\n",
       "         [-0.3477, -0.1779, -0.3432, -0.7665, -0.6078],\n",
       "         [ 0.0164, -0.4261, -0.9703,  0.1743,  1.3088],\n",
       "         [-0.0621,  0.2374, -0.0913,  0.4350, -0.9314]],\n",
       "\n",
       "        [[-0.3477, -0.1779, -0.3432, -0.7665, -0.6078],\n",
       "         [ 0.4754,  0.9378,  0.5265, -1.4136,  2.6541],\n",
       "         [-0.0621,  0.2374, -0.0913,  0.4350, -0.9314],\n",
       "         [-2.3518,  1.5487,  0.3069, -0.1063, -0.3414]]],\n",
       "       grad_fn=<EmbeddingBackward0>)"
      ]
     },
     "execution_count": 30,
     "metadata": {},
     "output_type": "execute_result"
    }
   ],
   "source": [
    "embedding(X[2:5])"
   ]
  },
  {
   "cell_type": "code",
   "execution_count": 31,
   "metadata": {},
   "outputs": [
    {
     "data": {
      "text/plain": [
       "torch.Size([3, 4, 5])"
      ]
     },
     "execution_count": 31,
     "metadata": {},
     "output_type": "execute_result"
    }
   ],
   "source": [
    "embedding(X[2:5]).size()"
   ]
  },
  {
   "cell_type": "code",
   "execution_count": 32,
   "metadata": {},
   "outputs": [
    {
     "data": {
      "text/plain": [
       "tensor([[ 0.3416,  0.2338,  0.0233, -0.3048,  0.1164],\n",
       "        [-0.0818, -0.0736, -0.3070, -0.2918, -0.2437],\n",
       "        [-0.5715,  0.6365,  0.0997, -0.4628,  0.1934]],\n",
       "       grad_fn=<MeanBackward1>)"
      ]
     },
     "execution_count": 32,
     "metadata": {},
     "output_type": "execute_result"
    }
   ],
   "source": [
    "embedding(X[2:5]).mean(dim=1)"
   ]
  },
  {
   "cell_type": "markdown",
   "metadata": {},
   "source": [
    "## Embedding Bags"
   ]
  },
  {
   "cell_type": "code",
   "execution_count": 33,
   "metadata": {},
   "outputs": [],
   "source": [
    "embedding_bag = nn.EmbeddingBag(vocab_size, embedding_dim)"
   ]
  },
  {
   "cell_type": "code",
   "execution_count": 34,
   "metadata": {},
   "outputs": [],
   "source": [
    "embedding_bag = nn.EmbeddingBag.from_pretrained(\n",
    "    embedding.state_dict()['weight'])"
   ]
  },
  {
   "cell_type": "code",
   "execution_count": 35,
   "metadata": {},
   "outputs": [
    {
     "data": {
      "text/plain": [
       "tensor([[ 0.3416,  0.2338,  0.0233, -0.3048,  0.1164],\n",
       "        [-0.0818, -0.0736, -0.3070, -0.2918, -0.2437],\n",
       "        [-0.5715,  0.6365,  0.0997, -0.4628,  0.1934]])"
      ]
     },
     "execution_count": 35,
     "metadata": {},
     "output_type": "execute_result"
    }
   ],
   "source": [
    "embedding_bag(X[2:5])"
   ]
  },
  {
   "cell_type": "markdown",
   "metadata": {},
   "source": [
    "## Cosine similarity"
   ]
  },
  {
   "cell_type": "markdown",
   "metadata": {},
   "source": [
    "A few test words"
   ]
  },
  {
   "cell_type": "code",
   "execution_count": 36,
   "metadata": {},
   "outputs": [],
   "source": [
    "if CORPUS == 'HOMER':\n",
    "    test_words = ['he', 'she', 'ulysses', 'penelope', 'achaeans', 'trojans',\n",
    "                  'achilles', 'sea', 'helen', 'ship', 'her', 'fight']\n",
    "elif CORPUS == 'DICKENS':\n",
    "    test_words = ['he', 'she', 'her', 'sea', 'ship',\n",
    "                  'fight', 'table', 'london', 'monday']"
   ]
  },
  {
   "cell_type": "code",
   "execution_count": 37,
   "metadata": {},
   "outputs": [],
   "source": [
    "def most_sim_vecs(u, E, N=10):\n",
    "    cos = nn.CosineSimilarity()\n",
    "    cos_sim = cos(u.unsqueeze(dim=0), E)\n",
    "    sorted_vectors = sorted(range(len(cos_sim)),\n",
    "                            key=lambda k: -cos_sim[k])\n",
    "    return sorted_vectors[1:N + 1]"
   ]
  },
  {
   "cell_type": "code",
   "execution_count": 38,
   "metadata": {},
   "outputs": [
    {
     "data": {
      "text/plain": [
       "[9319, 44, 1033, 7482, 2116, 8764, 6223, 6021, 4002, 6152]"
      ]
     },
     "execution_count": 38,
     "metadata": {},
     "output_type": "execute_result"
    }
   ],
   "source": [
    "most_sim_vecs(embedding_bag.weight[0], embedding_bag.weight)"
   ]
  },
  {
   "cell_type": "code",
   "execution_count": 39,
   "metadata": {},
   "outputs": [],
   "source": [
    "def sim_test_words(test_words, word2idx, model, N=10):\n",
    "    most_sim_words = {}\n",
    "    with torch.no_grad():\n",
    "        E = model[0].weight\n",
    "        for w in test_words:\n",
    "            most_sim_words[w] = most_sim_vecs(E[word2idx[w]], E, N)\n",
    "            most_sim_words[w] = list(map(idx2word.get, most_sim_words[w]))\n",
    "            print(w, most_sim_words[w])"
   ]
  },
  {
   "cell_type": "markdown",
   "metadata": {},
   "source": [
    "## The Architecture"
   ]
  },
  {
   "cell_type": "code",
   "execution_count": 40,
   "metadata": {},
   "outputs": [],
   "source": [
    "embedding_dim = 50"
   ]
  },
  {
   "cell_type": "code",
   "execution_count": 41,
   "metadata": {},
   "outputs": [
    {
     "data": {
      "text/plain": [
       "Sequential(\n",
       "  (0): EmbeddingBag(9768, 50, mode='mean')\n",
       "  (1): Linear(in_features=50, out_features=9768, bias=True)\n",
       ")"
      ]
     },
     "execution_count": 41,
     "metadata": {},
     "output_type": "execute_result"
    }
   ],
   "source": [
    "model = nn.Sequential(\n",
    "    nn.EmbeddingBag(vocab_size, embedding_dim),\n",
    "    nn.Linear(embedding_dim, vocab_size))\n",
    "model"
   ]
  },
  {
   "cell_type": "code",
   "execution_count": 42,
   "metadata": {},
   "outputs": [
    {
     "data": {
      "text/plain": [
       "tensor([[ 0.0733, -0.0977, -0.2934,  ..., -0.0106, -0.3453, -0.2399],\n",
       "        [ 0.2231, -0.0435,  0.0814,  ..., -0.1339,  0.0553, -0.2110],\n",
       "        [ 0.0069, -0.1303,  0.2014,  ...,  0.2497,  0.0264, -0.1335],\n",
       "        [-0.1215, -0.2165, -0.2204,  ...,  0.1771, -0.2054,  0.0771],\n",
       "        [ 0.0499, -0.1266,  0.1823,  ...,  0.1859,  0.3648, -0.1997]],\n",
       "       grad_fn=<AddmmBackward0>)"
      ]
     },
     "execution_count": 42,
     "metadata": {},
     "output_type": "execute_result"
    }
   ],
   "source": [
    "model(X[2:7])"
   ]
  },
  {
   "cell_type": "code",
   "execution_count": 43,
   "metadata": {},
   "outputs": [
    {
     "data": {
      "text/plain": [
       "OrderedDict([('0.weight',\n",
       "              tensor([[ 1.0041, -0.1654,  1.1613,  ..., -0.6438, -0.2542, -1.3030],\n",
       "                      [ 0.4397, -1.1794, -0.5466,  ...,  0.1927,  0.8846, -0.6694],\n",
       "                      [ 0.1327,  1.7947,  1.2247,  ..., -1.8574,  1.7945,  0.8028],\n",
       "                      ...,\n",
       "                      [-1.0371,  0.4998,  1.6418,  ...,  0.4735, -0.3189,  0.7209],\n",
       "                      [-0.0464,  1.0293,  1.0676,  ...,  0.3349, -1.7740,  1.2176],\n",
       "                      [-1.0461,  0.6328,  1.9822,  ...,  1.4004,  1.0726,  0.4726]])),\n",
       "             ('1.weight',\n",
       "              tensor([[-0.0922, -0.0593,  0.1332,  ...,  0.0762,  0.0387, -0.0130],\n",
       "                      [ 0.0860, -0.0090, -0.0633,  ...,  0.0441, -0.0889, -0.0198],\n",
       "                      [-0.0755,  0.0038,  0.0648,  ...,  0.1200,  0.0509,  0.0166],\n",
       "                      ...,\n",
       "                      [ 0.0738,  0.1004, -0.0985,  ..., -0.0446, -0.1305,  0.0357],\n",
       "                      [-0.0264, -0.1265,  0.0685,  ...,  0.0112, -0.0394,  0.1369],\n",
       "                      [ 0.0957,  0.0564, -0.0922,  ..., -0.1079,  0.0284,  0.1021]])),\n",
       "             ('1.bias',\n",
       "              tensor([ 0.0423, -0.0767,  0.0413,  ...,  0.1123,  0.0125, -0.0418]))])"
      ]
     },
     "execution_count": 43,
     "metadata": {},
     "output_type": "execute_result"
    }
   ],
   "source": [
    "model.state_dict()"
   ]
  },
  {
   "cell_type": "code",
   "execution_count": 44,
   "metadata": {},
   "outputs": [],
   "source": [
    "loss_fn = nn.CrossEntropyLoss()    # cross entropy loss\n",
    "optimizer = torch.optim.NAdam(model.parameters(), lr=0.025)"
   ]
  },
  {
   "cell_type": "code",
   "execution_count": 45,
   "metadata": {},
   "outputs": [],
   "source": [
    "BATCH_SIZE = 1024"
   ]
  },
  {
   "cell_type": "code",
   "execution_count": 46,
   "metadata": {},
   "outputs": [],
   "source": [
    "X_train, X_val, y_train, y_val = train_test_split(\n",
    "    X, y, test_size=0.1)"
   ]
  },
  {
   "cell_type": "code",
   "execution_count": 47,
   "metadata": {},
   "outputs": [],
   "source": [
    "from torch.utils.data import TensorDataset, DataLoader\n",
    "\n",
    "train_dataset = TensorDataset(X_train, y_train)\n",
    "train_dataloader = DataLoader(\n",
    "    train_dataset, batch_size=BATCH_SIZE, shuffle=True)\n",
    "val_dataset = TensorDataset(X_val, y_val)\n",
    "val_dataloader = DataLoader(val_dataset, batch_size=BATCH_SIZE)"
   ]
  },
  {
   "cell_type": "code",
   "execution_count": 48,
   "metadata": {},
   "outputs": [],
   "source": [
    "dataset = TensorDataset(X, y)\n",
    "dataloader = DataLoader(dataset, batch_size=BATCH_SIZE, shuffle=True)"
   ]
  },
  {
   "cell_type": "markdown",
   "metadata": {},
   "source": [
    "## Training the Model"
   ]
  },
  {
   "cell_type": "markdown",
   "metadata": {},
   "source": [
    "Train validation loop to be able to call it"
   ]
  },
  {
   "cell_type": "code",
   "execution_count": 49,
   "metadata": {},
   "outputs": [],
   "source": [
    "def train_val_loop():\n",
    "    train_loss_history = []\n",
    "    train_acc_history = []\n",
    "    val_loss_history = []\n",
    "    val_acc_history = []\n",
    "    model.train()\n",
    "    for epoch in tqdm(range(10)):\n",
    "        train_loss = 0\n",
    "        train_acc = 0\n",
    "        batch_cnt = 0\n",
    "        for X_batch, y_batch in train_dataloader:\n",
    "            y_batch_pred = model(X_batch)\n",
    "            loss = loss_fn(y_batch_pred, y_batch)\n",
    "            train_loss += loss.item()\n",
    "            optimizer.zero_grad()\n",
    "            loss.backward()\n",
    "            optimizer.step()\n",
    "            train_acc += torch.sum(y_batch ==\n",
    "                                   torch.argmax(y_batch_pred, dim=-1))/BATCH_SIZE\n",
    "            batch_cnt += 1\n",
    "        train_acc /= batch_cnt\n",
    "        train_acc_history += [train_acc]\n",
    "        train_loss /= batch_cnt\n",
    "        train_loss_history += [train_loss]\n",
    "\n",
    "        model.eval()\n",
    "        with torch.no_grad():\n",
    "            val_acc = 0\n",
    "            val_loss = 0\n",
    "            val_batch_cnt = 0\n",
    "            for X_batch, y_batch in val_dataloader:\n",
    "                y_batch_pred = model(X_batch)\n",
    "                loss = loss_fn(y_batch_pred, y_batch)\n",
    "                val_loss += loss.item()\n",
    "                val_acc += torch.sum(y_batch ==\n",
    "                                     torch.argmax(y_batch_pred, dim=-1))/BATCH_SIZE\n",
    "                val_batch_cnt += 1\n",
    "            val_acc /= val_batch_cnt\n",
    "            val_acc_history += [val_acc]\n",
    "            val_loss /= val_batch_cnt\n",
    "            val_loss_history += [val_loss]\n",
    "            sim_test_words(test_words, word2idx, model)\n",
    "    return train_loss_history, train_acc_history, val_loss_history, val_acc_history"
   ]
  },
  {
   "cell_type": "markdown",
   "metadata": {},
   "source": [
    "No validation"
   ]
  },
  {
   "cell_type": "code",
   "execution_count": 50,
   "metadata": {},
   "outputs": [],
   "source": [
    "def train_loop():\n",
    "    train_loss_history = []\n",
    "    train_acc_history = []\n",
    "    model.train()\n",
    "    for epoch in tqdm(range(5)):\n",
    "        train_loss = 0\n",
    "        train_acc = 0\n",
    "        batch_cnt = 0\n",
    "        for X_batch, y_batch in dataloader:\n",
    "            y_batch_pred = model(X_batch)\n",
    "            loss = loss_fn(y_batch_pred, y_batch)\n",
    "            train_loss += loss.item()\n",
    "            optimizer.zero_grad()\n",
    "            loss.backward()\n",
    "            optimizer.step()\n",
    "            train_acc += torch.sum(y_batch ==\n",
    "                                   torch.argmax(y_batch_pred, dim=-1))/BATCH_SIZE\n",
    "            batch_cnt += 1\n",
    "        train_acc /= batch_cnt\n",
    "        train_acc_history += [train_acc]\n",
    "        train_loss /= batch_cnt\n",
    "        train_loss_history += [train_loss]\n",
    "\n",
    "        model.eval()\n",
    "        with torch.no_grad():\n",
    "            sim_test_words(test_words, word2idx, model)\n",
    "    return train_loss_history, train_acc_history"
   ]
  },
  {
   "cell_type": "markdown",
   "metadata": {},
   "source": [
    "`VAL` should be set to true. The other choice is to study the influence of having a validation set on a small corpus"
   ]
  },
  {
   "cell_type": "code",
   "execution_count": 51,
   "metadata": {},
   "outputs": [
    {
     "name": "stderr",
     "output_type": "stream",
     "text": [
      "  0%|          | 0/10 [00:00<?, ?it/s]"
     ]
    },
    {
     "name": "stdout",
     "output_type": "stream",
     "text": [
      "he ['she', 'they', 'achilles', 'piraeus', 'penelope', 'enemies', 'orestes', 'ulysses', 'enveloped', 'fatuous']\n",
      "she ['he', 'decline', 'achilles', 'liar', 'they', 'i', 'teucer', 'enemies', 'billet', 'thump']\n",
      "ulysses ['telemachus', 'antinous', 'achilles', 'nestor', 'blazing', 'bitterness', 'diomed', 'hector', 'amphiclus', 'diplomacy']\n",
      "penelope ['fulness', 'despairingly', 'eumaeus', 'achilles', 'danger', 'deiochus', 'assuredly', 'he', 'prison', 'eurylochus']\n",
      "achaeans ['others', 'swineherd', 'sun', 'pouncing', 'argives', 'plain', 'neighbours', 'wrecks', 'trojans', 'onslaught']\n",
      "trojans ['rear', 'mountains', 'breathes', 'finest', 'nipple', 'muscles', 'girl', 'town', 'day', 'tread']\n",
      "achilles ['he', 'ulysses', 'she', 'neptune', 'polydamas', 'neoptolemus', 'uncivil', 'hyrtacus', 'penelope', 'tecton']\n",
      "sea ['health', 'nymph', 'pylos', 'town', 'spying', 'meat', 'asterius', 'world', 'bier', 'rattle']\n",
      "helen ['rage', 'grief', 'neleus', 'thoon', 'rouse', 'judgement', 'enough', 'naughtiness', 'relieved', 'sucking']\n",
      "ship ['parents', 'rocks', 'providence', 'cicons', 'affairs', 'bellows', 'vessel', 'sake', 'scabbard', 'face']\n"
     ]
    },
    {
     "name": "stderr",
     "output_type": "stream",
     "text": [
      " 10%|█         | 1/10 [00:11<01:41, 11.24s/it]"
     ]
    },
    {
     "name": "stdout",
     "output_type": "stream",
     "text": [
      "her ['pylos', 'loitering', 'afford', 'letters', 'his', 'poles', 'sadly', 'pherae', 'rough', 'my']\n",
      "fight ['prevaricate', 'respecting', 'lesbians', 'dangerous', 'wolves', 'facile', 'reckon', 'expected', 'ortilochus', 'apaesus']\n",
      "he ['she', 'achilles', 'they', 'enveloped', 'fatuous', 'tecton', 'we', 'patroclous', 'orestes', 'i']\n",
      "she ['he', 'they', 'juno', 'oeeneus', 'i', 'achilles', 'afford', 'eupeithes', 'euryclea', 'nausicaa']\n",
      "ulysses ['telemachus', 'antinous', 'achilles', 'nestor', 'diomed', 'eurymachus', 'hector', 'amphiclus', 'diplomacy', 'telamon']\n",
      "penelope ['telemachus', 'despairingly', 'arete', 'achilles', 'eurylochus', 'eumaeus', 'ulysses', 'fulness', 'hades', 'prison']\n",
      "achaeans ['argives', 'trojans', 'others', 'swineherd', 'danaans', 'suitors', 'precincts', 'phereclus', 'pair', 'forelands']\n",
      "trojans ['achaeans', 'argives', 'mountains', 'nipple', 'evenings', 'cornice', 'plain', 'finest', 'phereclus', 'ice']\n",
      "achilles ['ulysses', 'pylaemenes', 'patroclus', 'he', 'sarpedon', 'polydamas', 'dione', 'eurylochus', 'meges', 'dolopion']\n",
      "sea ['foe', 'nymph', 'asterius', 'trench', 'spying', 'bier', 'gloriously', 'land', 'pylos', 'muscles']\n",
      "helen ['aesyme', 'hecuba', 'keel', 'buprasium', 'grief', 'euenus', 'neleus', 'gear', 'contests', 'telemachus']\n",
      "ship ['bellows', 'vessel', 'phrygians', 'outward', 'homestead', 'weapon', 'pyre', 'ships', 'parents', 'hyampolis']\n",
      "her ['my', 'his', 'ambrosia', 'loitering', 'opoeis', 'your', 'pherae', 'sick', 'capys', 'charops']\n"
     ]
    },
    {
     "name": "stderr",
     "output_type": "stream",
     "text": [
      " 20%|██        | 2/10 [00:22<01:31, 11.47s/it]"
     ]
    },
    {
     "name": "stdout",
     "output_type": "stream",
     "text": [
      "fight ['prevaricate', 'reckon', 'orchard', 'offices', 'array', 'keener', 'usher', 'athletic', 'doughty', 'quail']\n",
      "he ['she', 'achilles', 'they', 'we', 'violet', 'i', 'erylaus', 'polydamas', 'oeeneus', 'eurylochus']\n",
      "she ['he', 'juno', 'they', 'oeeneus', 'i', 'nausicaa', 'dreamland', 'achilles', 'minerva', 'we']\n",
      "ulysses ['telemachus', 'achilles', 'antinous', 'nestor', 'eurymachus', 'amphinomus', 'hector', 'polybus', 'amphiclus', 'penelope']\n",
      "penelope ['juno', 'arete', 'telemachus', 'helen', 'ulysses', 'prison', 'hades', 'sirs', 'achilles', 'oracle']\n",
      "achaeans ['argives', 'danaans', 'trojans', 'others', 'phereclus', 'swineherd', 'precincts', 'suitors', 'gods', 'pair']\n",
      "trojans ['achaeans', 'argives', 'danaans', 'mountains', 'phereclus', 'nipple', 'test', 'evenings', 'ice', 'myrmidons']\n",
      "achilles ['pylaemenes', 'ulysses', 'he', 'patroclus', 'sarpedon', 'dione', 'polydamas', 'agamemnon', 'amphinomus', 'meges']\n",
      "sea ['trench', 'foe', 'watered', 'rhytium', 'spying', 'gloriously', 'danger', 'nymph', 'seas', 'asterius']\n",
      "helen ['hecuba', 'keel', 'aesyme', 'telemachus', 'penelope', 'soothsayer', 'vulcan', 'buprasium', 'gear', 'domed']\n",
      "ship ['vessel', 'fountain', 'bellows', 'homestead', 'hyampolis', 'ships', 'outward', 'ocalea', 'cadmeians', 'texture']\n",
      "her ['opoeis', 'capys', 'my', 'epicaste', 'his', 'charops', 'your', 'loitering', 'sick', 'noticing']\n"
     ]
    },
    {
     "name": "stderr",
     "output_type": "stream",
     "text": [
      " 30%|███       | 3/10 [00:34<01:19, 11.36s/it]"
     ]
    },
    {
     "name": "stdout",
     "output_type": "stream",
     "text": [
      "fight ['usher', 'orchard', 'array', 'prevaricate', 'offices', 'prosper', 'ajaxes', 'keener', 'doughty', 'foolishly']\n",
      "he ['she', 'they', 'achilles', 'we', 'polydamas', 'megapenthes', 'i', 'unprotected', 'butt', 'hector']\n",
      "she ['he', 'they', 'oeeneus', 'juno', 'i', 'nausicaa', 'privately', 'dreamland', 'minerva', 'we']\n",
      "ulysses ['telemachus', 'achilles', 'antinous', 'eurymachus', 'nestor', 'amphinomus', 'hector', 'amphiclus', 'polybus', 'diomed']\n",
      "penelope ['juno', 'dreamland', 'telemachus', 'circe', 'arete', 'ulysses', 'minerva', 'euryclea', 'hades', 'yes']\n",
      "achaeans ['danaans', 'argives', 'trojans', 'others', 'phereclus', 'precincts', 'swineherd', 'gods', 'suitors', 'lycians']\n",
      "trojans ['achaeans', 'argives', 'danaans', 'mountains', 'hosts', 'phereclus', 'test', 'phoceans', 'hoggets', 'myrmidons']\n",
      "achilles ['ulysses', 'pylaemenes', 'patroclus', 'he', 'hector', 'dolopion', 'polydamas', 'sarpedon', 'agamemnon', 'tlepolemus']\n",
      "sea ['rhytium', 'trench', 'foe', 'watered', 'muscles', 'nymph', 'noontide', 'seas', 'embers', 'ditch']\n",
      "helen ['hecuba', 'domed', 'telemachus', 'aesyme', 'keel', 'soothsayer', 'gear', 'buzz', 'suffice', 'euenus']\n",
      "ship ['vessel', 'fountain', 'homestead', 'cadmeians', 'hyampolis', 'raft', 'ocalea', 'ships', 'texture', 'rope']\n"
     ]
    },
    {
     "name": "stderr",
     "output_type": "stream",
     "text": [
      " 40%|████      | 4/10 [00:45<01:08, 11.39s/it]"
     ]
    },
    {
     "name": "stdout",
     "output_type": "stream",
     "text": [
      "her ['capys', 'his', 'epicaste', 'opoeis', 'your', 'my', 'charops', 'him', 'noticing', 'sparkling']\n",
      "fight ['prosper', 'offices', 'suck', 'orchard', 'baring', 'perish', 'cause', 'doughty', 'foolishly', 'prevaricate']\n",
      "he ['she', 'they', 'achilles', 'we', 'erylaus', 'i', 'unprotected', 'raven', 'prison', 'ulysses']\n",
      "she ['he', 'juno', 'they', 'minerva', 'oeeneus', 'i', 'privately', 'nausicaa', 'complexion', 'dreamland']\n",
      "ulysses ['telemachus', 'achilles', 'antinous', 'eurymachus', 'polybus', 'peleus', 'hector', 'mynes', 'nestor', 'amphinomus']\n",
      "penelope ['juno', 'telemachus', 'dreamland', 'circe', 'arete', 'phoenix', 'minerva', 'euryclea', 'achilles', 'awoke']\n",
      "achaeans ['danaans', 'argives', 'trojans', 'others', 'precincts', 'swineherd', 'phereclus', 'gods', 'suitors', 'phaeacians']\n",
      "trojans ['argives', 'achaeans', 'danaans', 'hosts', 'mountains', 'myrmidons', 'phereclus', 'sintians', 'test', 'hoggets']\n",
      "achilles ['ulysses', 'pylaemenes', 'patroclus', 'sarpedon', 'hector', 'he', 'agamemnon', 'dolopion', 'polydamas', 'tlepolemus']\n",
      "sea ['rhytium', 'trench', 'ditch', 'noontide', 'foe', 'seas', 'muscles', 'watered', 'gloriously', 'seashore']\n",
      "helen ['domed', 'hecuba', 'telemachus', 'briareus', 'lock', 'suffice', 'soothsayer', 'us', 'diana', 'him']\n",
      "ship ['vessel', 'texture', 'fountain', 'possession', 'fountains', 'homestead', 'rope', 'raft', 'ships', 'cadmeians']\n",
      "her ['his', 'epicaste', 'your', 'my', 'capys', 'sparkling', 'charops', 'opoeis', 'swim', 'him']\n"
     ]
    },
    {
     "name": "stderr",
     "output_type": "stream",
     "text": [
      " 50%|█████     | 5/10 [00:56<00:56, 11.36s/it]"
     ]
    },
    {
     "name": "stdout",
     "output_type": "stream",
     "text": [
      "fight ['prosper', 'baring', 'offices', 'suck', 'cause', 'remain', 'mare', 'career', 'ointments', 'sacred']\n",
      "he ['she', 'achilles', 'they', 'we', 'i', 'unprotected', 'erylaus', 'prison', 'polydamas', 'raven']\n",
      "she ['he', 'they', 'juno', 'minerva', 'privately', 'i', 'dreamland', 'we', 'oeeneus', 'nausicaa']\n",
      "ulysses ['telemachus', 'achilles', 'eurymachus', 'antinous', 'peleus', 'polybus', 'mynes', 'alcinous', 'menelaus', 'hector']\n",
      "penelope ['juno', 'circe', 'arete', 'dreamland', 'telemachus', 'phoenix', 'euryclea', 'minerva', 'seer', 'achilles']\n",
      "achaeans ['danaans', 'argives', 'trojans', 'others', 'precincts', 'gods', 'phereclus', 'lycians', 'swineherd', 'captains']\n",
      "trojans ['argives', 'achaeans', 'danaans', 'hosts', 'myrmidons', 'mountains', 'sintians', 'hoggets', 'phereclus', 'phoceans']\n",
      "achilles ['ulysses', 'he', 'hector', 'patroclus', 'pylaemenes', 'agamemnon', 'tlepolemus', 'sarpedon', 'dolopion', 'polydamas']\n",
      "sea ['rhytium', 'trench', 'seas', 'noontide', 'ditch', 'town', 'bearded', 'aulis', 'seashore', 'daintiest']\n",
      "helen ['briareus', 'domed', 'themis', 'suffice', 'hecuba', 'lock', 'dolius', 'joy', 'theano', 'diana']\n",
      "ship ['vessel', 'rope', 'fountains', 'raft', 'texture', 'fountain', 'ships', 'test', 'ocalea', 'homestead']\n"
     ]
    },
    {
     "name": "stderr",
     "output_type": "stream",
     "text": [
      " 60%|██████    | 6/10 [01:08<00:45, 11.36s/it]"
     ]
    },
    {
     "name": "stdout",
     "output_type": "stream",
     "text": [
      "her ['sparkling', 'capys', 'him', 'his', 'charops', 'epicaste', 'opoeis', 'my', 'your', 'pherae']\n",
      "fight ['offices', 'baring', 'prosper', 'overreach', 'suck', 'ointments', 'help', 'consciences', 'vultures', 'congratulate']\n",
      "he ['she', 'they', 'achilles', 'i', 'we', 'erylaus', 'ulysses', 'raven', 'unprotected', 'prison']\n",
      "she ['he', 'they', 'i', 'juno', 'minerva', 'privately', 'ulysses', 'dreamland', 'oeeneus', 'we']\n",
      "ulysses ['telemachus', 'achilles', 'antinous', 'eurymachus', 'mynes', 'polybus', 'mars', 'she', 'diomed', 'juno']\n",
      "penelope ['juno', 'circe', 'seer', 'arete', 'telemachus', 'dreamland', 'attempt', 'euryclea', 'phoenix', 'repay']\n",
      "achaeans ['danaans', 'argives', 'trojans', 'others', 'gods', 'precincts', 'suitors', 'lycians', 'hoggets', 'captains']\n",
      "trojans ['achaeans', 'argives', 'danaans', 'hosts', 'myrmidons', 'sintians', 'hoggets', 'mountains', 'others', 'gods']\n",
      "achilles ['ulysses', 'patroclus', 'he', 'hector', 'sarpedon', 'agamemnon', 'tlepolemus', 'polydamas', 'pylaemenes', 'echeclus']\n",
      "sea ['rhytium', 'trench', 'noontide', 'ditch', 'seas', 'bearded', 'aulis', 'rock', 'daintiest', 'watered']\n",
      "helen ['domed', 'briareus', 'admittance', 'dolius', 'lock', 'joy', 'diana', 'theano', 'themis', 'him']\n",
      "ship ['vessel', 'fountains', 'rope', 'fountain', 'raft', 'ships', 'texture', 'chariot', 'test', 'ocalea']\n",
      "her ['his', 'your', 'my', 'capys', 'sparkling', 'him', 'epicaste', 'charops', 'sick', 'me']\n"
     ]
    },
    {
     "name": "stderr",
     "output_type": "stream",
     "text": [
      " 70%|███████   | 7/10 [01:19<00:34, 11.34s/it]"
     ]
    },
    {
     "name": "stdout",
     "output_type": "stream",
     "text": [
      "fight ['baring', 'prosper', 'overreach', 'offices', 'vultures', 'ointments', 'remain', 'seemly', 'consciences', 'suck']\n",
      "he ['she', 'they', 'achilles', 'we', 'i', 'ulysses', 'erylaus', 'raven', 'harden', 'unprotected']\n",
      "she ['he', 'they', 'juno', 'i', 'minerva', 'privately', 'ulysses', 'dreamland', 'nausicaa', 'we']\n",
      "ulysses ['telemachus', 'achilles', 'antinous', 'eurymachus', 'mynes', 'peleus', 'menelaus', 'polybus', 'hector', 'nestor']\n",
      "penelope ['juno', 'circe', 'phoenix', 'euryclea', 'arete', 'seer', 'neptune', 'dreamland', 'telemachus', 'minerva']\n",
      "achaeans ['danaans', 'argives', 'trojans', 'gods', 'others', 'precincts', 'lycians', 'suitors', 'captains', 'hoggets']\n",
      "trojans ['achaeans', 'argives', 'danaans', 'myrmidons', 'hosts', 'sintians', 'mountains', 'hoggets', 'gods', 'phereclus']\n",
      "achilles ['ulysses', 'hector', 'patroclus', 'tlepolemus', 'he', 'agamemnon', 'coon', 'pylaemenes', 'echeclus', 'nestor']\n",
      "sea ['noontide', 'trench', 'rhytium', 'seas', 'muscles', 'daintiest', 'town', 'seashore', 'ditch', 'bucklers']\n",
      "helen ['dolius', 'themis', 'jove', 'joy', 'suffice', 'minerva', 'briareus', 'marauders', 'admittance', 'amiss']\n",
      "ship ['vessel', 'fountains', 'rope', 'raft', 'fountain', 'ships', 'end', 'homestead', 'ocalea', 'pigsty']\n",
      "her ['his', 'your', 'him', 'sparkling', 'my', 'capys', 'charops', 'epicaste', 'antiope', 'azeus']\n"
     ]
    },
    {
     "name": "stderr",
     "output_type": "stream",
     "text": [
      " 80%|████████  | 8/10 [01:30<00:22, 11.27s/it]"
     ]
    },
    {
     "name": "stdout",
     "output_type": "stream",
     "text": [
      "fight ['shrink', 'baring', 'remain', 'mare', 'offices', 'ointments', 'vultures', 'consciences', 'suck', 'prosper']\n",
      "he ['she', 'they', 'achilles', 'we', 'i', 'erylaus', 'raven', 'harden', 'envoys', 'finer']\n",
      "she ['he', 'they', 'i', 'privately', 'juno', 'minerva', 'dreamland', 'complexion', 'oeeneus', 'we']\n",
      "ulysses ['telemachus', 'achilles', 'eurymachus', 'antinous', 'peleus', 'mynes', 'polybus', 'ochesius', 'hector', 'mars']\n",
      "penelope ['juno', 'seer', 'circe', 'arete', 'neptune', 'telemachus', 'dreamland', 'phoenix', 'attempt', 'achilles']\n",
      "achaeans ['danaans', 'argives', 'trojans', 'others', 'gods', 'precincts', 'lycians', 'suitors', 'captains', 'hoggets']\n",
      "trojans ['argives', 'achaeans', 'danaans', 'myrmidons', 'hosts', 'sintians', 'hoggets', 'gods', 'midriff', 'sobs']\n",
      "achilles ['ulysses', 'hector', 'patroclus', 'he', 'agamemnon', 'pylaemenes', 'tlepolemus', 'polydamas', 'telemachus', 'echeclus']\n",
      "sea ['trench', 'rhytium', 'noontide', 'seashore', 'seas', 'ditch', 'daintiest', 'town', 'rock', 'beard']\n",
      "helen ['themis', 'minerva', 'dolius', 'joy', 'amiss', 'briareus', 'admittance', 'theano', 'jove', 'suffice']\n",
      "ship ['vessel', 'fountains', 'rope', 'raft', 'fountain', 'end', 'ships', 'ocalea', 'house', 'bed']\n",
      "her ['his', 'sparkling', 'your', 'him', 'azeus', 'charops', 'my', 'epicaste', 'antiope', 'sick']\n"
     ]
    },
    {
     "name": "stderr",
     "output_type": "stream",
     "text": [
      " 90%|█████████ | 9/10 [01:42<00:11, 11.35s/it]"
     ]
    },
    {
     "name": "stdout",
     "output_type": "stream",
     "text": [
      "fight ['ointments', 'baring', 'pursue', 'offices', 'singing', 'suck', 'impress', 'consciences', 'remain', 'fastest']\n",
      "he ['she', 'achilles', 'they', 'we', 'i', 'erylaus', 'ulysses', 'raven', 'unprotected', 'ruder']\n",
      "she ['he', 'they', 'minerva', 'juno', 'i', 'we', 'privately', 'complexion', 'ulysses', 'oeeneus']\n",
      "ulysses ['telemachus', 'achilles', 'antinous', 'menelaus', 'mars', 'eurymachus', 'hector', 'juno', 'peleus', 'mynes']\n",
      "penelope ['juno', 'seer', 'arete', 'circe', 'euryclea', 'telemachus', 'phoenix', 'neptune', 'dreamland', 'attempt']\n",
      "achaeans ['danaans', 'argives', 'trojans', 'gods', 'others', 'precincts', 'lycians', 'suitors', 'hoggets', 'sintians']\n",
      "trojans ['argives', 'achaeans', 'danaans', 'hosts', 'myrmidons', 'midriff', 'sintians', 'gods', 'sobs', 'hoggets']\n",
      "achilles ['hector', 'patroclus', 'ulysses', 'he', 'pylaemenes', 'maris', 'agamemnon', 'tlepolemus', 'juno', 'acamas']\n",
      "sea ['trench', 'noontide', 'seas', 'seashore', 'rhytium', 'ditch', 'town', 'table', 'aulis', 'rock']\n",
      "helen ['minerva', 'themis', 'dolius', 'joy', 'jove', 'amiss', 'diana', 'towns', 'ulysses', 'telemachus']\n",
      "ship ['vessel', 'fountains', 'rope', 'raft', 'ships', 'bed', 'pigsty', 'house', 'fountain', 'town']\n"
     ]
    },
    {
     "name": "stderr",
     "output_type": "stream",
     "text": [
      "100%|██████████| 10/10 [01:54<00:00, 11.42s/it]"
     ]
    },
    {
     "name": "stdout",
     "output_type": "stream",
     "text": [
      "her ['his', 'him', 'my', 'your', 'capys', 'azeus', 'sparkling', 'charops', 'me', 'opoeis']\n",
      "fight ['ointments', 'pursue', 'consciences', 'offices', 'vultures', 'remain', 'fastest', 'singing', 'manger', 'shrink']\n"
     ]
    },
    {
     "name": "stderr",
     "output_type": "stream",
     "text": [
      "\n"
     ]
    }
   ],
   "source": [
    "VAL = True\n",
    "if VAL:\n",
    "    train_loss_history, train_acc_history, val_loss_history, val_acc_history = train_val_loop()\n",
    "else:\n",
    "    train_loss_history, train_acc_history = train_loop()"
   ]
  },
  {
   "cell_type": "code",
   "execution_count": 52,
   "metadata": {},
   "outputs": [
    {
     "data": {
      "image/png": "[encoded data removed]",
      "text/plain": [
       "<Figure size 640x480 with 1 Axes>"
      ]
     },
     "metadata": {},
     "output_type": "display_data"
    }
   ],
   "source": [
    "import matplotlib.pyplot as plt\n",
    "\n",
    "epochs = range(1, len(train_acc_history) + 1)\n",
    "plt.plot(epochs, train_acc_history, 'bo', label='Training accuracy')\n",
    "if VAL:\n",
    "    plt.plot(epochs, val_acc_history, 'rx', label='Validation accuracy')\n",
    "plt.title('Training and validation accuracies')\n",
    "plt.legend()\n",
    "plt.show()"
   ]
  },
  {
   "cell_type": "code",
   "execution_count": 53,
   "metadata": {},
   "outputs": [
    {
     "data": {
      "image/png": "[encoded data removed]",
      "text/plain": [
       "<Figure size 640x480 with 1 Axes>"
      ]
     },
     "metadata": {},
     "output_type": "display_data"
    }
   ],
   "source": [
    "epochs = range(1, len(train_loss_history) + 1)\n",
    "plt.plot(epochs, train_loss_history, 'bo', label='Training loss')\n",
    "if VAL:\n",
    "    plt.plot(epochs, val_loss_history, 'rx', label='Validation loss')\n",
    "plt.title('Training and validation losses')\n",
    "plt.legend()\n",
    "plt.show()"
   ]
  },
  {
   "cell_type": "code",
   "execution_count": 54,
   "metadata": {},
   "outputs": [
    {
     "name": "stdout",
     "output_type": "stream",
     "text": [
      "he ['she', 'achilles', 'they']\n",
      "she ['he', 'they', 'minerva']\n",
      "ulysses ['telemachus', 'achilles', 'antinous']\n",
      "penelope ['juno', 'seer', 'arete']\n",
      "achaeans ['danaans', 'argives', 'trojans']\n",
      "trojans ['argives', 'achaeans', 'danaans']\n",
      "achilles ['hector', 'patroclus', 'ulysses']\n",
      "sea ['trench', 'noontide', 'seas']\n",
      "helen ['minerva', 'themis', 'dolius']\n",
      "ship ['vessel', 'fountains', 'rope']\n",
      "her ['his', 'him', 'my']\n",
      "fight ['ointments', 'pursue', 'consciences']\n"
     ]
    }
   ],
   "source": [
    "sim_test_words(test_words, word2idx, model, N=3)"
   ]
  },
  {
   "cell_type": "markdown",
   "metadata": {},
   "source": [
    "## Model Weights"
   ]
  },
  {
   "cell_type": "code",
   "execution_count": 55,
   "metadata": {},
   "outputs": [],
   "source": [
    "# torch.save(model, 'cbow_dickens')"
   ]
  },
  {
   "cell_type": "code",
   "execution_count": 56,
   "metadata": {},
   "outputs": [
    {
     "data": {
      "text/plain": [
       "Parameter containing:\n",
       "tensor([[ 0.5173,  1.2655,  0.7944,  ..., -0.4222,  0.1519, -1.1877],\n",
       "        [-2.8581, -1.6332,  1.0740,  ..., -1.8428,  5.6901, -1.9777],\n",
       "        [ 0.1722, -0.1950, -0.2896,  ..., -1.5331,  0.6784, -0.9865],\n",
       "        ...,\n",
       "        [-0.9434,  0.5549,  2.9032,  ..., -1.7209,  1.0306,  1.3737],\n",
       "        [-1.2239, -1.1893,  1.7747,  ..., -1.3585, -1.5708, -0.4995],\n",
       "        [ 2.4506, -3.1609, -0.3458,  ...,  1.7469,  2.9888, -1.9128]],\n",
       "       requires_grad=True)"
      ]
     },
     "execution_count": 56,
     "metadata": {},
     "output_type": "execute_result"
    }
   ],
   "source": [
    "model[0].weight"
   ]
  },
  {
   "cell_type": "code",
   "execution_count": 57,
   "metadata": {},
   "outputs": [
    {
     "data": {
      "text/plain": [
       "tensor([[ 0.5173,  1.2655,  0.7944,  ..., -0.4222,  0.1519, -1.1877],\n",
       "        [-2.8581, -1.6332,  1.0740,  ..., -1.8428,  5.6901, -1.9777],\n",
       "        [ 0.1722, -0.1950, -0.2896,  ..., -1.5331,  0.6784, -0.9865],\n",
       "        ...,\n",
       "        [-0.9434,  0.5549,  2.9032,  ..., -1.7209,  1.0306,  1.3737],\n",
       "        [-1.2239, -1.1893,  1.7747,  ..., -1.3585, -1.5708, -0.4995],\n",
       "        [ 2.4506, -3.1609, -0.3458,  ...,  1.7469,  2.9888, -1.9128]])"
      ]
     },
     "execution_count": 57,
     "metadata": {},
     "output_type": "execute_result"
    }
   ],
   "source": [
    "model.state_dict()['0.weight']"
   ]
  },
  {
   "cell_type": "code",
   "execution_count": 58,
   "metadata": {},
   "outputs": [
    {
     "data": {
      "text/plain": [
       "torch.Size([9768, 50])"
      ]
     },
     "execution_count": 58,
     "metadata": {},
     "output_type": "execute_result"
    }
   ],
   "source": [
    "model[0].weight.size()"
   ]
  },
  {
   "cell_type": "code",
   "execution_count": 59,
   "metadata": {},
   "outputs": [],
   "source": [
    "import pandas as pd\n",
    "\n",
    "df = pd.DataFrame(\n",
    "    model[0].weight.detach().numpy(),\n",
    "    index=[idx2word[i] for i in range(len(idx2word))])"
   ]
  },
  {
   "cell_type": "code",
   "execution_count": 60,
   "metadata": {},
   "outputs": [
    {
     "data": {
      "text/html": [
       "<div>\n",
       "<style scoped>\n",
       "    .dataframe tbody tr th:only-of-type {\n",
       "        vertical-align: middle;\n",
       "    }\n",
       "\n",
       "    .dataframe tbody tr th {\n",
       "        vertical-align: top;\n",
       "    }\n",
       "\n",
       "    .dataframe thead th {\n",
       "        text-align: right;\n",
       "    }\n",
       "</style>\n",
       "<table border=\"1\" class=\"dataframe\">\n",
       "  <thead>\n",
       "    <tr style=\"text-align: right;\">\n",
       "      <th></th>\n",
       "      <th>0</th>\n",
       "      <th>1</th>\n",
       "      <th>2</th>\n",
       "      <th>3</th>\n",
       "      <th>4</th>\n",
       "      <th>5</th>\n",
       "      <th>6</th>\n",
       "      <th>7</th>\n",
       "      <th>8</th>\n",
       "      <th>9</th>\n",
       "      <th>...</th>\n",
       "      <th>40</th>\n",
       "      <th>41</th>\n",
       "      <th>42</th>\n",
       "      <th>43</th>\n",
       "      <th>44</th>\n",
       "      <th>45</th>\n",
       "      <th>46</th>\n",
       "      <th>47</th>\n",
       "      <th>48</th>\n",
       "      <th>49</th>\n",
       "    </tr>\n",
       "  </thead>\n",
       "  <tbody>\n",
       "    <tr>\n",
       "      <th>a</th>\n",
       "      <td>0.517345</td>\n",
       "      <td>1.265482</td>\n",
       "      <td>0.794385</td>\n",
       "      <td>1.577899</td>\n",
       "      <td>-1.394573</td>\n",
       "      <td>0.317281</td>\n",
       "      <td>-1.182178</td>\n",
       "      <td>-1.193957</td>\n",
       "      <td>-0.982183</td>\n",
       "      <td>-0.685607</td>\n",
       "      <td>...</td>\n",
       "      <td>-1.555079</td>\n",
       "      <td>0.112718</td>\n",
       "      <td>-1.122664</td>\n",
       "      <td>-1.103504</td>\n",
       "      <td>1.114796</td>\n",
       "      <td>0.518942</td>\n",
       "      <td>0.828255</td>\n",
       "      <td>-0.422223</td>\n",
       "      <td>0.151884</td>\n",
       "      <td>-1.187695</td>\n",
       "    </tr>\n",
       "    <tr>\n",
       "      <th>abantes</th>\n",
       "      <td>-2.858094</td>\n",
       "      <td>-1.633240</td>\n",
       "      <td>1.074035</td>\n",
       "      <td>-1.460754</td>\n",
       "      <td>1.037198</td>\n",
       "      <td>0.346289</td>\n",
       "      <td>-1.343567</td>\n",
       "      <td>-0.033231</td>\n",
       "      <td>-0.031642</td>\n",
       "      <td>-0.126830</td>\n",
       "      <td>...</td>\n",
       "      <td>0.058360</td>\n",
       "      <td>2.711225</td>\n",
       "      <td>2.733832</td>\n",
       "      <td>-0.203771</td>\n",
       "      <td>3.902786</td>\n",
       "      <td>-3.544014</td>\n",
       "      <td>0.132149</td>\n",
       "      <td>-1.842802</td>\n",
       "      <td>5.690100</td>\n",
       "      <td>-1.977703</td>\n",
       "    </tr>\n",
       "    <tr>\n",
       "      <th>abarbarea</th>\n",
       "      <td>0.172249</td>\n",
       "      <td>-0.195018</td>\n",
       "      <td>-0.289569</td>\n",
       "      <td>0.574032</td>\n",
       "      <td>0.739325</td>\n",
       "      <td>-1.369421</td>\n",
       "      <td>1.052140</td>\n",
       "      <td>2.317798</td>\n",
       "      <td>2.275649</td>\n",
       "      <td>0.782789</td>\n",
       "      <td>...</td>\n",
       "      <td>-3.251135</td>\n",
       "      <td>-0.926940</td>\n",
       "      <td>-0.671342</td>\n",
       "      <td>-3.150924</td>\n",
       "      <td>1.130388</td>\n",
       "      <td>-1.092152</td>\n",
       "      <td>-1.728019</td>\n",
       "      <td>-1.533120</td>\n",
       "      <td>0.678406</td>\n",
       "      <td>-0.986490</td>\n",
       "    </tr>\n",
       "    <tr>\n",
       "      <th>abas</th>\n",
       "      <td>0.204807</td>\n",
       "      <td>0.526156</td>\n",
       "      <td>-2.186397</td>\n",
       "      <td>0.351892</td>\n",
       "      <td>-2.342386</td>\n",
       "      <td>-2.756754</td>\n",
       "      <td>-0.873891</td>\n",
       "      <td>1.983503</td>\n",
       "      <td>-1.218430</td>\n",
       "      <td>-0.964939</td>\n",
       "      <td>...</td>\n",
       "      <td>1.892505</td>\n",
       "      <td>1.908924</td>\n",
       "      <td>3.236400</td>\n",
       "      <td>-1.485702</td>\n",
       "      <td>-0.855844</td>\n",
       "      <td>0.377560</td>\n",
       "      <td>2.087806</td>\n",
       "      <td>-1.969180</td>\n",
       "      <td>1.141522</td>\n",
       "      <td>-1.564561</td>\n",
       "    </tr>\n",
       "    <tr>\n",
       "      <th>abate</th>\n",
       "      <td>0.827547</td>\n",
       "      <td>3.051754</td>\n",
       "      <td>2.464833</td>\n",
       "      <td>2.899755</td>\n",
       "      <td>3.393968</td>\n",
       "      <td>4.858458</td>\n",
       "      <td>-0.264149</td>\n",
       "      <td>0.592467</td>\n",
       "      <td>-2.726633</td>\n",
       "      <td>-0.883718</td>\n",
       "      <td>...</td>\n",
       "      <td>0.928480</td>\n",
       "      <td>0.618532</td>\n",
       "      <td>-2.142559</td>\n",
       "      <td>2.747660</td>\n",
       "      <td>-2.001208</td>\n",
       "      <td>1.520448</td>\n",
       "      <td>4.820977</td>\n",
       "      <td>-1.002338</td>\n",
       "      <td>-1.113353</td>\n",
       "      <td>-1.253376</td>\n",
       "    </tr>\n",
       "    <tr>\n",
       "      <th>...</th>\n",
       "      <td>...</td>\n",
       "      <td>...</td>\n",
       "      <td>...</td>\n",
       "      <td>...</td>\n",
       "      <td>...</td>\n",
       "      <td>...</td>\n",
       "      <td>...</td>\n",
       "      <td>...</td>\n",
       "      <td>...</td>\n",
       "      <td>...</td>\n",
       "      <td>...</td>\n",
       "      <td>...</td>\n",
       "      <td>...</td>\n",
       "      <td>...</td>\n",
       "      <td>...</td>\n",
       "      <td>...</td>\n",
       "      <td>...</td>\n",
       "      <td>...</td>\n",
       "      <td>...</td>\n",
       "      <td>...</td>\n",
       "      <td>...</td>\n",
       "    </tr>\n",
       "    <tr>\n",
       "      <th>zeal</th>\n",
       "      <td>-0.334891</td>\n",
       "      <td>-2.092076</td>\n",
       "      <td>1.263776</td>\n",
       "      <td>-1.406186</td>\n",
       "      <td>-2.512011</td>\n",
       "      <td>2.574392</td>\n",
       "      <td>-0.241822</td>\n",
       "      <td>2.654207</td>\n",
       "      <td>-0.001024</td>\n",
       "      <td>0.646306</td>\n",
       "      <td>...</td>\n",
       "      <td>-3.445961</td>\n",
       "      <td>1.513561</td>\n",
       "      <td>-1.365037</td>\n",
       "      <td>1.495004</td>\n",
       "      <td>0.141923</td>\n",
       "      <td>-0.813910</td>\n",
       "      <td>-2.369867</td>\n",
       "      <td>0.205204</td>\n",
       "      <td>-0.153230</td>\n",
       "      <td>-1.821516</td>\n",
       "    </tr>\n",
       "    <tr>\n",
       "      <th>zelea</th>\n",
       "      <td>2.622860</td>\n",
       "      <td>0.485892</td>\n",
       "      <td>1.306485</td>\n",
       "      <td>1.526191</td>\n",
       "      <td>-1.056476</td>\n",
       "      <td>0.556012</td>\n",
       "      <td>0.811288</td>\n",
       "      <td>2.989492</td>\n",
       "      <td>-2.122367</td>\n",
       "      <td>0.338635</td>\n",
       "      <td>...</td>\n",
       "      <td>-2.216246</td>\n",
       "      <td>4.083895</td>\n",
       "      <td>1.309890</td>\n",
       "      <td>-1.414538</td>\n",
       "      <td>1.887650</td>\n",
       "      <td>3.349013</td>\n",
       "      <td>6.177699</td>\n",
       "      <td>-4.732276</td>\n",
       "      <td>2.031040</td>\n",
       "      <td>1.774499</td>\n",
       "    </tr>\n",
       "    <tr>\n",
       "      <th>zephyrus</th>\n",
       "      <td>-0.943394</td>\n",
       "      <td>0.554850</td>\n",
       "      <td>2.903152</td>\n",
       "      <td>0.794419</td>\n",
       "      <td>1.106698</td>\n",
       "      <td>3.069611</td>\n",
       "      <td>-0.155719</td>\n",
       "      <td>0.339915</td>\n",
       "      <td>0.334475</td>\n",
       "      <td>0.263891</td>\n",
       "      <td>...</td>\n",
       "      <td>-0.450374</td>\n",
       "      <td>0.063333</td>\n",
       "      <td>-1.054621</td>\n",
       "      <td>1.784918</td>\n",
       "      <td>-1.614628</td>\n",
       "      <td>2.028268</td>\n",
       "      <td>2.777949</td>\n",
       "      <td>-1.720877</td>\n",
       "      <td>1.030588</td>\n",
       "      <td>1.373662</td>\n",
       "    </tr>\n",
       "    <tr>\n",
       "      <th>zethus</th>\n",
       "      <td>-1.223913</td>\n",
       "      <td>-1.189308</td>\n",
       "      <td>1.774669</td>\n",
       "      <td>-4.211194</td>\n",
       "      <td>-1.387379</td>\n",
       "      <td>1.983064</td>\n",
       "      <td>-2.348976</td>\n",
       "      <td>2.773296</td>\n",
       "      <td>0.284069</td>\n",
       "      <td>1.292485</td>\n",
       "      <td>...</td>\n",
       "      <td>-3.189648</td>\n",
       "      <td>0.224948</td>\n",
       "      <td>-2.267931</td>\n",
       "      <td>-1.732429</td>\n",
       "      <td>0.662283</td>\n",
       "      <td>2.859931</td>\n",
       "      <td>2.119157</td>\n",
       "      <td>-1.358515</td>\n",
       "      <td>-1.570779</td>\n",
       "      <td>-0.499521</td>\n",
       "    </tr>\n",
       "    <tr>\n",
       "      <th>zeus</th>\n",
       "      <td>2.450567</td>\n",
       "      <td>-3.160925</td>\n",
       "      <td>-0.345849</td>\n",
       "      <td>3.038075</td>\n",
       "      <td>-0.500589</td>\n",
       "      <td>-0.789077</td>\n",
       "      <td>1.407801</td>\n",
       "      <td>0.077148</td>\n",
       "      <td>0.507138</td>\n",
       "      <td>-0.586553</td>\n",
       "      <td>...</td>\n",
       "      <td>0.493157</td>\n",
       "      <td>-2.336235</td>\n",
       "      <td>-1.031827</td>\n",
       "      <td>-3.539800</td>\n",
       "      <td>4.186050</td>\n",
       "      <td>-2.592523</td>\n",
       "      <td>2.688340</td>\n",
       "      <td>1.746913</td>\n",
       "      <td>2.988775</td>\n",
       "      <td>-1.912789</td>\n",
       "    </tr>\n",
       "  </tbody>\n",
       "</table>\n",
       "<p>9768 rows × 50 columns</p>\n",
       "</div>"
      ],
      "text/plain": [
       "                 0         1         2         3         4         5   \\\n",
       "a          0.517345  1.265482  0.794385  1.577899 -1.394573  0.317281   \n",
       "abantes   -2.858094 -1.633240  1.074035 -1.460754  1.037198  0.346289   \n",
       "abarbarea  0.172249 -0.195018 -0.289569  0.574032  0.739325 -1.369421   \n",
       "abas       0.204807  0.526156 -2.186397  0.351892 -2.342386 -2.756754   \n",
       "abate      0.827547  3.051754  2.464833  2.899755  3.393968  4.858458   \n",
       "...             ...       ...       ...       ...       ...       ...   \n",
       "zeal      -0.334891 -2.092076  1.263776 -1.406186 -2.512011  2.574392   \n",
       "zelea      2.622860  0.485892  1.306485  1.526191 -1.056476  0.556012   \n",
       "zephyrus  -0.943394  0.554850  2.903152  0.794419  1.106698  3.069611   \n",
       "zethus    -1.223913 -1.189308  1.774669 -4.211194 -1.387379  1.983064   \n",
       "zeus       2.450567 -3.160925 -0.345849  3.038075 -0.500589 -0.789077   \n",
       "\n",
       "                 6         7         8         9   ...        40        41  \\\n",
       "a         -1.182178 -1.193957 -0.982183 -0.685607  ... -1.555079  0.112718   \n",
       "abantes   -1.343567 -0.033231 -0.031642 -0.126830  ...  0.058360  2.711225   \n",
       "abarbarea  1.052140  2.317798  2.275649  0.782789  ... -3.251135 -0.926940   \n",
       "abas      -0.873891  1.983503 -1.218430 -0.964939  ...  1.892505  1.908924   \n",
       "abate     -0.264149  0.592467 -2.726633 -0.883718  ...  0.928480  0.618532   \n",
       "...             ...       ...       ...       ...  ...       ...       ...   \n",
       "zeal      -0.241822  2.654207 -0.001024  0.646306  ... -3.445961  1.513561   \n",
       "zelea      0.811288  2.989492 -2.122367  0.338635  ... -2.216246  4.083895   \n",
       "zephyrus  -0.155719  0.339915  0.334475  0.263891  ... -0.450374  0.063333   \n",
       "zethus    -2.348976  2.773296  0.284069  1.292485  ... -3.189648  0.224948   \n",
       "zeus       1.407801  0.077148  0.507138 -0.586553  ...  0.493157 -2.336235   \n",
       "\n",
       "                 42        43        44        45        46        47  \\\n",
       "a         -1.122664 -1.103504  1.114796  0.518942  0.828255 -0.422223   \n",
       "abantes    2.733832 -0.203771  3.902786 -3.544014  0.132149 -1.842802   \n",
       "abarbarea -0.671342 -3.150924  1.130388 -1.092152 -1.728019 -1.533120   \n",
       "abas       3.236400 -1.485702 -0.855844  0.377560  2.087806 -1.969180   \n",
       "abate     -2.142559  2.747660 -2.001208  1.520448  4.820977 -1.002338   \n",
       "...             ...       ...       ...       ...       ...       ...   \n",
       "zeal      -1.365037  1.495004  0.141923 -0.813910 -2.369867  0.205204   \n",
       "zelea      1.309890 -1.414538  1.887650  3.349013  6.177699 -4.732276   \n",
       "zephyrus  -1.054621  1.784918 -1.614628  2.028268  2.777949 -1.720877   \n",
       "zethus    -2.267931 -1.732429  0.662283  2.859931  2.119157 -1.358515   \n",
       "zeus      -1.031827 -3.539800  4.186050 -2.592523  2.688340  1.746913   \n",
       "\n",
       "                 48        49  \n",
       "a          0.151884 -1.187695  \n",
       "abantes    5.690100 -1.977703  \n",
       "abarbarea  0.678406 -0.986490  \n",
       "abas       1.141522 -1.564561  \n",
       "abate     -1.113353 -1.253376  \n",
       "...             ...       ...  \n",
       "zeal      -0.153230 -1.821516  \n",
       "zelea      2.031040  1.774499  \n",
       "zephyrus   1.030588  1.373662  \n",
       "zethus    -1.570779 -0.499521  \n",
       "zeus       2.988775 -1.912789  \n",
       "\n",
       "[9768 rows x 50 columns]"
      ]
     },
     "execution_count": 60,
     "metadata": {},
     "output_type": "execute_result"
    }
   ],
   "source": [
    "df"
   ]
  }
 ],
 "metadata": {
  "kernelspec": {
   "display_name": "Python 3",
   "language": "python",
   "name": "python3"
  },
  "language_info": {
   "codemirror_mode": {
    "name": "ipython",
    "version": 3
   },
   "file_extension": ".py",
   "mimetype": "text/x-python",
   "name": "python",
   "nbconvert_exporter": "python",
   "pygments_lexer": "ipython3",
   "version": "3.11.7"
  }
 },
 "nbformat": 4,
 "nbformat_minor": 4
}
